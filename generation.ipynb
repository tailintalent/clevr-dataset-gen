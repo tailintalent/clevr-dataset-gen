{
 "cells": [
  {
   "cell_type": "markdown",
   "metadata": {},
   "source": [
    "# Image generation"
   ]
  },
  {
   "cell_type": "code",
   "execution_count": 5,
   "metadata": {},
   "outputs": [
    {
     "name": "stdout",
     "output_type": "stream",
     "text": [
      "/home/kevin/clevr-dataset-gen/image_generation\n",
      "found bundled python: /home/kevin/clevr-dataset-gen/blender/2.78/python\n",
      "read blend: data/base_scene.blend\n",
      "convertViewVec: called in an invalid context\n",
      "convertViewVec: called in an invalid context\n",
      "convertViewVec: called in an invalid context\n",
      "0.3408721748853005 0.4 front\n",
      "BROKEN MARGIN!\n",
      "convertViewVec: called in an invalid context\n",
      "0.341003207378054 0.4 right\n",
      "BROKEN MARGIN!\n",
      "0.23837811886526605 0.4 right\n",
      "BROKEN MARGIN!\n",
      "convertViewVec: called in an invalid context\n",
      "0.15744848870422068 0.4 left\n",
      "BROKEN MARGIN!\n",
      "convertViewVec: called in an invalid context\n",
      "Fra:1 Mem:17.53M (0.00M, Peak 17.53M) | Time:00:00.00 | Preparing Scene data\n",
      "Fra:1 Mem:27.59M (0.00M, Peak 29.06M) | Time:00:00.02 | Preparing Scene data\n",
      "Fra:1 Mem:27.59M (0.00M, Peak 29.06M) | Time:00:00.02 | Creating Shadowbuffers\n",
      "Fra:1 Mem:27.59M (0.00M, Peak 29.06M) | Time:00:00.02 | Raytree.. preparing\n",
      "Fra:1 Mem:38.32M (0.00M, Peak 38.32M) | Time:00:00.03 | Raytree.. building\n",
      "Fra:1 Mem:37.73M (0.00M, Peak 54.47M) | Time:00:00.20 | Raytree finished\n",
      "Fra:1 Mem:37.73M (0.00M, Peak 54.47M) | Time:00:00.20 | Creating Environment maps\n",
      "Fra:1 Mem:37.73M (0.00M, Peak 54.47M) | Time:00:00.20 | Caching Point Densities\n",
      "Fra:1 Mem:37.73M (0.00M, Peak 54.47M) | Time:00:00.20 | Sce: Scene Ve:77310 Fa:78102 La:1\n",
      "Fra:1 Mem:37.73M (0.00M, Peak 54.47M) | Time:00:00.20 | Loading voxel datasets\n",
      "Fra:1 Mem:37.73M (0.00M, Peak 54.47M) | Time:00:00.20 | Sce: Scene Ve:77310 Fa:78102 La:1\n",
      "Fra:1 Mem:37.73M (0.00M, Peak 54.47M) | Time:00:00.20 | Sce: Scene Ve:77310 Fa:78102 La:1\n",
      "Fra:1 Mem:37.73M (0.00M, Peak 54.47M) | Time:00:00.20 | Volume preprocessing\n",
      "Fra:1 Mem:37.73M (0.00M, Peak 54.47M) | Time:00:00.20 | Sce: Scene Ve:77310 Fa:78102 La:1\n",
      "Fra:1 Mem:37.73M (0.00M, Peak 54.47M) | Time:00:00.20 | Sce: Scene Ve:77310 Fa:78102 La:1\n",
      "Fra:1 Mem:39.90M (0.00M, Peak 54.47M) | Time:00:00.21 | Scene, Part 2-2\n",
      "Fra:1 Mem:38.90M (0.00M, Peak 54.47M) | Time:00:00.23 | Scene, Part 1-2\n",
      "Fra:1 Mem:17.33M (0.00M, Peak 54.47M) | Time:00:00.23 | Sce: Scene Ve:77310 Fa:78102 La:1\n",
      "Saved: '/tmp/tmp3u60ggfx.png'\n",
      " Time: 00:00.27 (Saving: 00:00.03)\n",
      "\n",
      "Fra:1 Mem:27.92M (0.00M, Peak 29.39M) | Time:00:00.02 | Preparing Scene data\n",
      "Fra:1 Mem:27.92M (0.00M, Peak 29.39M) | Time:00:00.02 | Creating Shadowbuffers\n",
      "Fra:1 Mem:27.92M (0.00M, Peak 29.39M) | Time:00:00.02 | Raytree.. preparing\n",
      "Fra:1 Mem:38.65M (0.00M, Peak 38.65M) | Time:00:00.03 | Raytree.. building\n",
      "Fra:1 Mem:38.05M (0.00M, Peak 54.79M) | Time:00:00.22 | Raytree finished\n",
      "Fra:1 Mem:38.05M (0.00M, Peak 54.79M) | Time:00:00.22 | Creating Environment maps\n",
      "Fra:1 Mem:38.05M (0.00M, Peak 54.79M) | Time:00:00.22 | Caching Point Densities\n",
      "Fra:1 Mem:38.05M (0.00M, Peak 54.79M) | Time:00:00.22 | Sce: Scene Ve:77310 Fa:78102 La:1\n",
      "Fra:1 Mem:38.05M (0.00M, Peak 54.79M) | Time:00:00.22 | Loading voxel datasets\n",
      "Fra:1 Mem:38.05M (0.00M, Peak 54.79M) | Time:00:00.22 | Sce: Scene Ve:77310 Fa:78102 La:1\n",
      "Fra:1 Mem:38.05M (0.00M, Peak 54.79M) | Time:00:00.22 | Sce: Scene Ve:77310 Fa:78102 La:1\n",
      "Fra:1 Mem:38.05M (0.00M, Peak 54.79M) | Time:00:00.22 | Volume preprocessing\n",
      "Fra:1 Mem:38.05M (0.00M, Peak 54.79M) | Time:00:00.22 | Sce: Scene Ve:77310 Fa:78102 La:1\n",
      "Fra:1 Mem:38.05M (0.00M, Peak 54.79M) | Time:00:00.22 | Sce: Scene Ve:77310 Fa:78102 La:1\n",
      "Fra:1 Mem:40.23M (0.00M, Peak 54.79M) | Time:00:00.22 | Scene, Part 2-2\n",
      "Fra:1 Mem:39.23M (0.00M, Peak 54.79M) | Time:00:00.24 | Scene, Part 1-2\n",
      "Fra:1 Mem:17.65M (0.00M, Peak 54.79M) | Time:00:00.24 | Sce: Scene Ve:77310 Fa:78102 La:1\n",
      "Saved: '../output/images/CLEVR_new_000000_mask.png'\n",
      " Time: 00:00.25 (Saving: 00:00.00)\n",
      "\n",
      "Fra:1 Mem:17.38M (0.00M, Peak 17.69M) | Time:00:00.20 | Mem:0.00M, Peak:0.00M | Scene, RenderLayer | Synchronizing object | Area\n",
      "Fra:1 Mem:17.38M (0.00M, Peak 17.69M) | Time:00:00.20 | Mem:0.00M, Peak:0.00M | Scene, RenderLayer | Synchronizing object | Ground\n",
      "Fra:1 Mem:17.45M (0.00M, Peak 17.71M) | Time:00:00.20 | Mem:0.00M, Peak:0.00M | Scene, RenderLayer | Synchronizing object | Empty\n",
      "Fra:1 Mem:17.45M (0.00M, Peak 17.71M) | Time:00:00.20 | Mem:0.00M, Peak:0.00M | Scene, RenderLayer | Synchronizing object | Lamp_Back\n",
      "Fra:1 Mem:17.45M (0.00M, Peak 17.71M) | Time:00:00.20 | Mem:0.00M, Peak:0.00M | Scene, RenderLayer | Synchronizing object | Lamp_Fill\n",
      "Fra:1 Mem:17.45M (0.00M, Peak 17.71M) | Time:00:00.20 | Mem:0.00M, Peak:0.00M | Scene, RenderLayer | Synchronizing object | Lamp_Key\n",
      "Fra:1 Mem:17.45M (0.00M, Peak 17.71M) | Time:00:00.20 | Mem:0.00M, Peak:0.00M | Scene, RenderLayer | Synchronizing object | Camera\n",
      "Fra:1 Mem:17.45M (0.00M, Peak 17.71M) | Time:00:00.20 | Mem:0.00M, Peak:0.00M | Scene, RenderLayer | Synchronizing object | Sphere_0\n",
      "Fra:1 Mem:18.72M (0.00M, Peak 20.21M) | Time:00:00.21 | Mem:0.00M, Peak:0.00M | Scene, RenderLayer | Synchronizing object | SmoothCube_v2_0\n",
      "Fra:1 Mem:19.08M (0.00M, Peak 20.21M) | Time:00:00.21 | Mem:0.00M, Peak:0.00M | Scene, RenderLayer | Synchronizing object | Sphere_1\n",
      "Fra:1 Mem:20.34M (0.00M, Peak 21.84M) | Time:00:00.21 | Mem:0.00M, Peak:0.00M | Scene, RenderLayer | Synchronizing object | SmoothCube_v2_1\n",
      "Fra:1 Mem:20.71M (0.00M, Peak 21.84M) | Time:00:00.21 | Mem:0.00M, Peak:0.00M | Scene, RenderLayer | Synchronizing object | SmoothCylinder_0\n",
      "Fra:1 Mem:24.03M (0.00M, Peak 27.12M) | Time:00:00.23 | Mem:0.00M, Peak:0.00M | Scene, RenderLayer | Synchronizing object | SmoothCube_v2_2\n",
      "Fra:1 Mem:24.34M (0.00M, Peak 27.12M) | Time:00:00.23 | Mem:0.00M, Peak:0.00M | Scene, RenderLayer | Initializing\n",
      "Fra:1 Mem:24.34M (0.00M, Peak 27.12M) | Time:00:00.23 | Mem:0.00M, Peak:0.00M | Scene, RenderLayer | Loading render kernels (may take a few minutes the first time)\n",
      "Fra:1 Mem:24.34M (0.00M, Peak 28.07M) | Time:00:00.26 | Mem:0.00M, Peak:0.00M | Scene, RenderLayer | Waiting for render to start\n",
      "Fra:1 Mem:24.34M (0.00M, Peak 28.07M) | Time:00:00.26 | Mem:0.00M, Peak:0.00M | Scene, RenderLayer | Updating Scene\n",
      "Fra:1 Mem:24.34M (0.00M, Peak 28.07M) | Time:00:00.26 | Mem:0.00M, Peak:0.00M | Scene, RenderLayer | Updating Shaders\n",
      "Fra:1 Mem:24.85M (0.00M, Peak 28.07M) | Time:00:00.29 | Mem:0.00M, Peak:0.00M | Scene, RenderLayer | Updating Background\n",
      "Fra:1 Mem:24.85M (0.00M, Peak 28.07M) | Time:00:00.29 | Mem:0.00M, Peak:0.00M | Scene, RenderLayer | Updating Camera\n",
      "Fra:1 Mem:24.85M (0.00M, Peak 28.07M) | Time:00:00.29 | Mem:0.00M, Peak:0.00M | Scene, RenderLayer | Updating Meshes Flags\n",
      "Fra:1 Mem:24.85M (0.00M, Peak 28.07M) | Time:00:00.29 | Mem:0.00M, Peak:0.00M | Scene, RenderLayer | Updating Objects\n",
      "Fra:1 Mem:24.85M (0.00M, Peak 28.07M) | Time:00:00.29 | Mem:0.00M, Peak:0.00M | Scene, RenderLayer | Updating Objects | Copying Transformations to device\n",
      "Fra:1 Mem:24.85M (0.00M, Peak 28.07M) | Time:00:00.29 | Mem:0.01M, Peak:0.01M | Scene, RenderLayer | Updating Objects | Applying Static Transformations\n",
      "Fra:1 Mem:24.85M (0.00M, Peak 28.07M) | Time:00:00.29 | Mem:0.01M, Peak:0.01M | Scene, RenderLayer | Updating Meshes\n",
      "Fra:1 Mem:27.16M (0.00M, Peak 28.07M) | Time:00:00.30 | Mem:0.01M, Peak:0.01M | Scene, RenderLayer | Updating Mesh | Computing attributes\n",
      "Fra:1 Mem:27.82M (0.00M, Peak 28.07M) | Time:00:00.30 | Mem:0.01M, Peak:0.01M | Scene, RenderLayer | Updating Mesh | Copying Attributes to device\n",
      "Fra:1 Mem:27.82M (0.00M, Peak 28.47M) | Time:00:00.30 | Mem:0.66M, Peak:0.66M | Scene, RenderLayer | Updating Scene BVH | Building\n",
      "Fra:1 Mem:27.82M (0.00M, Peak 28.47M) | Time:00:00.30 | Mem:0.66M, Peak:0.66M | Scene, RenderLayer | Updating Scene BVH | Building BVH\n",
      "Fra:1 Mem:36.48M (0.00M, Peak 36.48M) | Time:00:00.38 | Mem:0.66M, Peak:0.66M | Scene, RenderLayer | Updating Scene BVH | Packing BVH triangles and strands\n",
      "Fra:1 Mem:44.57M (0.00M, Peak 44.57M) | Time:00:00.39 | Mem:0.66M, Peak:0.66M | Scene, RenderLayer | Updating Scene BVH | Packing BVH nodes\n",
      "Fra:1 Mem:40.03M (0.00M, Peak 46.96M) | Time:00:00.40 | Mem:0.66M, Peak:0.66M | Scene, RenderLayer | Updating Scene BVH | Copying BVH to device\n",
      "Fra:1 Mem:40.61M (0.00M, Peak 46.96M) | Time:00:00.41 | Mem:12.87M, Peak:12.87M | Scene, RenderLayer | Updating Mesh | Computing normals\n",
      "Fra:1 Mem:45.86M (0.00M, Peak 46.96M) | Time:00:00.41 | Mem:12.87M, Peak:12.87M | Scene, RenderLayer | Updating Mesh | Copying Mesh to device\n",
      "Fra:1 Mem:45.29M (0.00M, Peak 46.96M) | Time:00:00.41 | Mem:18.13M, Peak:18.13M | Scene, RenderLayer | Updating Objects Flags\n",
      "Fra:1 Mem:45.29M (0.00M, Peak 46.96M) | Time:00:00.41 | Mem:18.13M, Peak:18.13M | Scene, RenderLayer | Updating Images\n",
      "Fra:1 Mem:45.29M (0.00M, Peak 46.96M) | Time:00:00.41 | Mem:18.13M, Peak:18.13M | Scene, RenderLayer | Updating Camera Volume\n",
      "Fra:1 Mem:45.29M (0.00M, Peak 46.96M) | Time:00:00.41 | Mem:18.13M, Peak:18.13M | Scene, RenderLayer | Updating Hair Systems\n",
      "Fra:1 Mem:45.29M (0.00M, Peak 46.96M) | Time:00:00.41 | Mem:18.13M, Peak:18.13M | Scene, RenderLayer | Updating Hair settings | Copying Hair settings to device\n",
      "Fra:1 Mem:45.29M (0.00M, Peak 46.96M) | Time:00:00.41 | Mem:18.13M, Peak:18.13M | Scene, RenderLayer | Updating Lookup Tables\n",
      "Fra:1 Mem:45.29M (0.00M, Peak 46.96M) | Time:00:00.41 | Mem:18.38M, Peak:18.38M | Scene, RenderLayer | Updating Lights\n",
      "Fra:1 Mem:45.29M (0.00M, Peak 46.96M) | Time:00:00.41 | Mem:18.38M, Peak:18.38M | Scene, RenderLayer | Updating Lights | Computing distribution\n",
      "Fra:1 Mem:45.29M (0.00M, Peak 46.96M) | Time:00:00.41 | Mem:18.38M, Peak:18.38M | Scene, RenderLayer | Updating Particle Systems\n",
      "Fra:1 Mem:45.29M (0.00M, Peak 46.96M) | Time:00:00.41 | Mem:18.38M, Peak:18.38M | Scene, RenderLayer | Updating Particle Systems | Copying Particles to device\n",
      "Fra:1 Mem:45.29M (0.00M, Peak 46.96M) | Time:00:00.41 | Mem:18.38M, Peak:18.38M | Scene, RenderLayer | Updating Integrator\n",
      "Fra:1 Mem:45.33M (0.00M, Peak 46.96M) | Time:00:00.41 | Mem:18.42M, Peak:18.42M | Scene, RenderLayer | Updating Film\n",
      "Fra:1 Mem:45.33M (0.00M, Peak 46.96M) | Time:00:00.41 | Mem:18.42M, Peak:18.42M | Scene, RenderLayer | Updating Lookup Tables\n",
      "Fra:1 Mem:45.33M (0.00M, Peak 46.96M) | Time:00:00.41 | Mem:18.43M, Peak:18.43M | Scene, RenderLayer | Updating Baking\n",
      "Fra:1 Mem:45.33M (0.00M, Peak 46.96M) | Time:00:00.41 | Mem:18.43M, Peak:18.43M | Scene, RenderLayer | Updating Device | Writing constant memory\n",
      "Fra:1 Mem:45.33M (0.00M, Peak 46.96M) | Time:00:00.41 | Mem:18.43M, Peak:18.43M | Scene, RenderLayer | Path Tracing Tile 0/2, Sample 0/512\n",
      "Fra:1 Mem:47.44M (0.00M, Peak 48.61M) | Time:00:00.42 | Mem:20.54M, Peak:20.54M | Scene, RenderLayer | Path Tracing Tile 1/2, Sample 0/512\n",
      "Fra:1 Mem:47.44M (0.00M, Peak 49.55M) | Time:00:01.42 | Remaining:00:00.61 | Mem:20.54M, Peak:20.54M | Scene, RenderLayer | Path Tracing Tile 1/2, Sample 396/512\n",
      "Fra:1 Mem:45.33M (0.00M, Peak 49.55M) | Time:00:01.70 | Remaining:00:00.32 | Mem:18.43M, Peak:20.54M | Scene, RenderLayer | Path Tracing Tile 1/2, Sample 512/512\n",
      "Fra:1 Mem:45.86M (0.00M, Peak 49.55M) | Time:00:01.70 | Remaining:00:00.32 | Mem:18.95M, Peak:20.54M | Scene, RenderLayer | Path Tracing Tile 2/2, Sample 512/512\n",
      "Fra:1 Mem:45.33M (0.00M, Peak 49.55M) | Time:00:02.10 | Mem:18.43M, Peak:20.54M | Scene, RenderLayer | Finished\n",
      "Fra:1 Mem:17.64M (0.00M, Peak 49.55M) | Time:00:02.17 | Sce: Scene Ve:0 Fa:0 La:0\n",
      "Saved: '../output/images/CLEVR_new_000000.png'\n",
      " Time: 00:02.20 (Saving: 00:00.02)\n",
      "\n",
      "read blend: data/base_scene.blend\n",
      "convertViewVec: called in an invalid context\n",
      "convertViewVec: called in an invalid context\n",
      "convertViewVec: called in an invalid context\n",
      "0.2715519909029074 0.4 right\n",
      "BROKEN MARGIN!\n",
      "0.1440272839663792 0.4 right\n",
      "BROKEN MARGIN!\n",
      "convertViewVec: called in an invalid context\n",
      "Fra:1 Mem:14.48M (0.00M, Peak 14.48M) | Time:00:00.00 | Preparing Scene data\n",
      "Fra:1 Mem:21.05M (0.00M, Peak 22.04M) | Time:00:00.01 | Preparing Scene data\n",
      "Fra:1 Mem:21.05M (0.00M, Peak 22.04M) | Time:00:00.01 | Creating Shadowbuffers\n",
      "Fra:1 Mem:21.05M (0.00M, Peak 22.04M) | Time:00:00.01 | Raytree.. preparing\n",
      "Fra:1 Mem:28.10M (0.00M, Peak 28.10M) | Time:00:00.02 | Raytree.. building\n",
      "Fra:1 Mem:27.72M (0.00M, Peak 38.71M) | Time:00:00.14 | Raytree finished\n",
      "Fra:1 Mem:27.72M (0.00M, Peak 38.71M) | Time:00:00.14 | Creating Environment maps\n",
      "Fra:1 Mem:27.72M (0.00M, Peak 38.71M) | Time:00:00.14 | Caching Point Densities\n",
      "Fra:1 Mem:27.72M (0.00M, Peak 38.71M) | Time:00:00.14 | Sce: Scene Ve:49838 Fa:51283 La:1\n",
      "Fra:1 Mem:27.72M (0.00M, Peak 38.71M) | Time:00:00.14 | Loading voxel datasets\n",
      "Fra:1 Mem:27.72M (0.00M, Peak 38.71M) | Time:00:00.14 | Sce: Scene Ve:49838 Fa:51283 La:1\n",
      "Fra:1 Mem:27.72M (0.00M, Peak 38.71M) | Time:00:00.14 | Sce: Scene Ve:49838 Fa:51283 La:1\n",
      "Fra:1 Mem:27.72M (0.00M, Peak 38.71M) | Time:00:00.14 | Volume preprocessing\n",
      "Fra:1 Mem:27.72M (0.00M, Peak 38.71M) | Time:00:00.14 | Sce: Scene Ve:49838 Fa:51283 La:1\n",
      "Fra:1 Mem:27.72M (0.00M, Peak 38.71M) | Time:00:00.14 | Sce: Scene Ve:49838 Fa:51283 La:1\n",
      "Fra:1 Mem:29.89M (0.00M, Peak 38.71M) | Time:00:00.15 | Scene, Part 2-2\n",
      "Fra:1 Mem:28.90M (0.00M, Peak 38.71M) | Time:00:00.16 | Scene, Part 1-2\n",
      "Fra:1 Mem:14.34M (0.00M, Peak 38.71M) | Time:00:00.17 | Sce: Scene Ve:49838 Fa:51283 La:1\n",
      "Saved: '/tmp/tmptzbeglul.png'\n",
      " Time: 00:00.18 (Saving: 00:00.01)\n",
      "\n",
      "Fra:1 Mem:21.38M (0.00M, Peak 22.36M) | Time:00:00.01 | Preparing Scene data\n",
      "Fra:1 Mem:21.38M (0.00M, Peak 22.36M) | Time:00:00.01 | Creating Shadowbuffers\n",
      "Fra:1 Mem:21.38M (0.00M, Peak 22.36M) | Time:00:00.01 | Raytree.. preparing\n",
      "Fra:1 Mem:28.42M (0.00M, Peak 28.42M) | Time:00:00.02 | Raytree.. building\n",
      "Fra:1 Mem:28.04M (0.00M, Peak 39.03M) | Time:00:00.12 | Raytree finished\n",
      "Fra:1 Mem:28.04M (0.00M, Peak 39.03M) | Time:00:00.12 | Creating Environment maps\n",
      "Fra:1 Mem:28.04M (0.00M, Peak 39.03M) | Time:00:00.12 | Caching Point Densities\n",
      "Fra:1 Mem:28.04M (0.00M, Peak 39.03M) | Time:00:00.12 | Sce: Scene Ve:49838 Fa:51283 La:1\n",
      "Fra:1 Mem:28.04M (0.00M, Peak 39.03M) | Time:00:00.12 | Loading voxel datasets\n",
      "Fra:1 Mem:28.04M (0.00M, Peak 39.03M) | Time:00:00.12 | Sce: Scene Ve:49838 Fa:51283 La:1\n",
      "Fra:1 Mem:28.04M (0.00M, Peak 39.03M) | Time:00:00.12 | Sce: Scene Ve:49838 Fa:51283 La:1\n",
      "Fra:1 Mem:28.04M (0.00M, Peak 39.03M) | Time:00:00.12 | Volume preprocessing\n",
      "Fra:1 Mem:28.04M (0.00M, Peak 39.03M) | Time:00:00.12 | Sce: Scene Ve:49838 Fa:51283 La:1\n",
      "Fra:1 Mem:28.04M (0.00M, Peak 39.03M) | Time:00:00.12 | Sce: Scene Ve:49838 Fa:51283 La:1\n",
      "Fra:1 Mem:30.22M (0.00M, Peak 39.03M) | Time:00:00.13 | Scene, Part 2-2\n",
      "Fra:1 Mem:29.22M (0.00M, Peak 39.03M) | Time:00:00.14 | Scene, Part 1-2\n",
      "Fra:1 Mem:14.67M (0.00M, Peak 39.03M) | Time:00:00.15 | Sce: Scene Ve:49838 Fa:51283 La:1\n",
      "Saved: '../output/images/CLEVR_new_000001_mask.png'\n",
      " Time: 00:00.16 (Saving: 00:00.01)\n",
      "\n",
      "Fra:1 Mem:14.40M (0.00M, Peak 14.70M) | Time:00:00.16 | Mem:0.00M, Peak:0.00M | Scene, RenderLayer | Synchronizing object | Area\n",
      "Fra:1 Mem:14.40M (0.00M, Peak 14.70M) | Time:00:00.16 | Mem:0.00M, Peak:0.00M | Scene, RenderLayer | Synchronizing object | Ground\n",
      "Fra:1 Mem:14.46M (0.00M, Peak 14.73M) | Time:00:00.16 | Mem:0.00M, Peak:0.00M | Scene, RenderLayer | Synchronizing object | Empty\n",
      "Fra:1 Mem:14.46M (0.00M, Peak 14.73M) | Time:00:00.16 | Mem:0.00M, Peak:0.00M | Scene, RenderLayer | Synchronizing object | Lamp_Back\n",
      "Fra:1 Mem:14.46M (0.00M, Peak 14.73M) | Time:00:00.16 | Mem:0.00M, Peak:0.00M | Scene, RenderLayer | Synchronizing object | Lamp_Fill\n",
      "Fra:1 Mem:14.46M (0.00M, Peak 14.73M) | Time:00:00.16 | Mem:0.00M, Peak:0.00M | Scene, RenderLayer | Synchronizing object | Lamp_Key\n",
      "Fra:1 Mem:14.46M (0.00M, Peak 14.73M) | Time:00:00.16 | Mem:0.00M, Peak:0.00M | Scene, RenderLayer | Synchronizing object | Camera\n",
      "Fra:1 Mem:14.46M (0.00M, Peak 14.73M) | Time:00:00.16 | Mem:0.00M, Peak:0.00M | Scene, RenderLayer | Synchronizing object | Sphere_0\n",
      "Fra:1 Mem:15.96M (0.00M, Peak 17.40M) | Time:00:00.18 | Mem:0.00M, Peak:0.00M | Scene, RenderLayer | Synchronizing object | SmoothCube_v2_0\n",
      "Fra:1 Mem:16.27M (0.00M, Peak 17.40M) | Time:00:00.18 | Mem:0.00M, Peak:0.00M | Scene, RenderLayer | Synchronizing object | Sphere_1\n",
      "Fra:1 Mem:17.53M (0.00M, Peak 19.03M) | Time:00:00.18 | Mem:0.00M, Peak:0.00M | Scene, RenderLayer | Synchronizing object | Sphere_2\n",
      "Fra:1 Mem:18.80M (0.00M, Peak 20.29M) | Time:00:00.19 | Mem:0.00M, Peak:0.00M | Scene, RenderLayer | Initializing\n",
      "Fra:1 Mem:18.80M (0.00M, Peak 20.29M) | Time:00:00.19 | Mem:0.00M, Peak:0.00M | Scene, RenderLayer | Loading render kernels (may take a few minutes the first time)\n",
      "Fra:1 Mem:18.80M (0.00M, Peak 22.53M) | Time:00:00.22 | Mem:0.00M, Peak:0.00M | Scene, RenderLayer | Waiting for render to start\n",
      "Fra:1 Mem:18.80M (0.00M, Peak 22.53M) | Time:00:00.22 | Mem:0.00M, Peak:0.00M | Scene, RenderLayer | Updating Scene\n",
      "Fra:1 Mem:18.80M (0.00M, Peak 22.53M) | Time:00:00.22 | Mem:0.00M, Peak:0.00M | Scene, RenderLayer | Updating Shaders\n",
      "Fra:1 Mem:19.05M (0.00M, Peak 22.53M) | Time:00:00.22 | Mem:0.00M, Peak:0.00M | Scene, RenderLayer | Updating Background\n",
      "Fra:1 Mem:19.05M (0.00M, Peak 22.53M) | Time:00:00.22 | Mem:0.00M, Peak:0.00M | Scene, RenderLayer | Updating Camera\n",
      "Fra:1 Mem:19.05M (0.00M, Peak 22.53M) | Time:00:00.22 | Mem:0.00M, Peak:0.00M | Scene, RenderLayer | Updating Meshes Flags\n",
      "Fra:1 Mem:19.05M (0.00M, Peak 22.53M) | Time:00:00.22 | Mem:0.00M, Peak:0.00M | Scene, RenderLayer | Updating Objects\n",
      "Fra:1 Mem:19.05M (0.00M, Peak 22.53M) | Time:00:00.22 | Mem:0.00M, Peak:0.00M | Scene, RenderLayer | Updating Objects | Copying Transformations to device\n",
      "Fra:1 Mem:19.05M (0.00M, Peak 22.53M) | Time:00:00.22 | Mem:0.00M, Peak:0.00M | Scene, RenderLayer | Updating Objects | Applying Static Transformations\n",
      "Fra:1 Mem:19.05M (0.00M, Peak 22.53M) | Time:00:00.22 | Mem:0.00M, Peak:0.00M | Scene, RenderLayer | Updating Meshes\n",
      "Fra:1 Mem:20.60M (0.00M, Peak 22.53M) | Time:00:00.22 | Mem:0.00M, Peak:0.00M | Scene, RenderLayer | Updating Mesh | Computing attributes\n",
      "Fra:1 Mem:20.83M (0.00M, Peak 22.53M) | Time:00:00.22 | Mem:0.00M, Peak:0.00M | Scene, RenderLayer | Updating Mesh | Copying Attributes to device\n",
      "Fra:1 Mem:20.83M (0.00M, Peak 22.53M) | Time:00:00.23 | Mem:0.24M, Peak:0.24M | Scene, RenderLayer | Updating Scene BVH | Building\n",
      "Fra:1 Mem:20.83M (0.00M, Peak 22.53M) | Time:00:00.23 | Mem:0.24M, Peak:0.24M | Scene, RenderLayer | Updating Scene BVH | Building BVH\n",
      "Fra:1 Mem:26.62M (0.00M, Peak 26.62M) | Time:00:00.27 | Mem:0.24M, Peak:0.24M | Scene, RenderLayer | Updating Scene BVH | Packing BVH triangles and strands\n",
      "Fra:1 Mem:32.02M (0.00M, Peak 32.02M) | Time:00:00.28 | Mem:0.24M, Peak:0.24M | Scene, RenderLayer | Updating Scene BVH | Packing BVH nodes\n",
      "Fra:1 Mem:28.92M (0.00M, Peak 33.55M) | Time:00:00.29 | Mem:0.24M, Peak:0.24M | Scene, RenderLayer | Updating Scene BVH | Copying BVH to device\n",
      "Fra:1 Mem:29.30M (0.00M, Peak 33.55M) | Time:00:00.29 | Mem:8.33M, Peak:8.33M | Scene, RenderLayer | Updating Mesh | Computing normals\n",
      "Fra:1 Mem:32.78M (0.00M, Peak 33.55M) | Time:00:00.29 | Mem:8.33M, Peak:8.33M | Scene, RenderLayer | Updating Mesh | Copying Mesh to device\n",
      "Fra:1 Mem:32.39M (0.00M, Peak 33.55M) | Time:00:00.29 | Mem:11.80M, Peak:11.80M | Scene, RenderLayer | Updating Objects Flags\n",
      "Fra:1 Mem:32.39M (0.00M, Peak 33.55M) | Time:00:00.29 | Mem:11.80M, Peak:11.80M | Scene, RenderLayer | Updating Images\n",
      "Fra:1 Mem:32.39M (0.00M, Peak 33.55M) | Time:00:00.29 | Mem:11.80M, Peak:11.80M | Scene, RenderLayer | Updating Camera Volume\n",
      "Fra:1 Mem:32.39M (0.00M, Peak 33.55M) | Time:00:00.29 | Mem:11.80M, Peak:11.80M | Scene, RenderLayer | Updating Hair Systems\n",
      "Fra:1 Mem:32.39M (0.00M, Peak 33.55M) | Time:00:00.29 | Mem:11.80M, Peak:11.80M | Scene, RenderLayer | Updating Hair settings | Copying Hair settings to device\n",
      "Fra:1 Mem:32.39M (0.00M, Peak 33.55M) | Time:00:00.29 | Mem:11.80M, Peak:11.80M | Scene, RenderLayer | Updating Lookup Tables\n",
      "Fra:1 Mem:32.39M (0.00M, Peak 33.55M) | Time:00:00.29 | Mem:12.05M, Peak:12.05M | Scene, RenderLayer | Updating Lights\n",
      "Fra:1 Mem:32.40M (0.00M, Peak 33.55M) | Time:00:00.29 | Mem:12.05M, Peak:12.05M | Scene, RenderLayer | Updating Lights | Computing distribution\n",
      "Fra:1 Mem:32.40M (0.00M, Peak 33.55M) | Time:00:00.29 | Mem:12.05M, Peak:12.05M | Scene, RenderLayer | Updating Particle Systems\n",
      "Fra:1 Mem:32.40M (0.00M, Peak 33.55M) | Time:00:00.29 | Mem:12.05M, Peak:12.05M | Scene, RenderLayer | Updating Particle Systems | Copying Particles to device\n",
      "Fra:1 Mem:32.40M (0.00M, Peak 33.55M) | Time:00:00.29 | Mem:12.05M, Peak:12.05M | Scene, RenderLayer | Updating Integrator\n",
      "Fra:1 Mem:32.44M (0.00M, Peak 33.55M) | Time:00:00.29 | Mem:12.09M, Peak:12.09M | Scene, RenderLayer | Updating Film\n",
      "Fra:1 Mem:32.44M (0.00M, Peak 33.55M) | Time:00:00.29 | Mem:12.09M, Peak:12.09M | Scene, RenderLayer | Updating Lookup Tables\n",
      "Fra:1 Mem:32.44M (0.00M, Peak 33.55M) | Time:00:00.29 | Mem:12.10M, Peak:12.10M | Scene, RenderLayer | Updating Baking\n",
      "Fra:1 Mem:32.44M (0.00M, Peak 33.55M) | Time:00:00.29 | Mem:12.10M, Peak:12.10M | Scene, RenderLayer | Updating Device | Writing constant memory\n",
      "Fra:1 Mem:32.44M (0.00M, Peak 33.55M) | Time:00:00.29 | Mem:12.10M, Peak:12.10M | Scene, RenderLayer | Path Tracing Tile 0/2, Sample 0/512\n",
      "Fra:1 Mem:34.55M (0.00M, Peak 35.72M) | Time:00:00.30 | Mem:14.21M, Peak:14.21M | Scene, RenderLayer | Path Tracing Tile 1/2, Sample 0/512\n",
      "Fra:1 Mem:34.55M (0.00M, Peak 36.66M) | Time:00:01.30 | Remaining:00:00.56 | Mem:14.21M, Peak:14.21M | Scene, RenderLayer | Path Tracing Tile 1/2, Sample 409/512\n",
      "Fra:1 Mem:32.44M (0.00M, Peak 36.66M) | Time:00:01.55 | Remaining:00:00.31 | Mem:12.10M, Peak:14.21M | Scene, RenderLayer | Path Tracing Tile 1/2, Sample 512/512\n",
      "Fra:1 Mem:32.97M (0.00M, Peak 36.66M) | Time:00:01.55 | Remaining:00:00.31 | Mem:12.63M, Peak:14.21M | Scene, RenderLayer | Path Tracing Tile 2/2, Sample 512/512\n",
      "Fra:1 Mem:32.44M (0.00M, Peak 36.66M) | Time:00:01.92 | Mem:12.10M, Peak:14.21M | Scene, RenderLayer | Finished\n",
      "Fra:1 Mem:14.40M (0.00M, Peak 36.66M) | Time:00:01.99 | Sce: Scene Ve:0 Fa:0 La:0\n",
      "Saved: '../output/images/CLEVR_new_000001.png'\n",
      " Time: 00:02.01 (Saving: 00:00.02)\n",
      "\n",
      "read blend: data/base_scene.blend\n",
      "convertViewVec: called in an invalid context\n",
      "convertViewVec: called in an invalid context\n",
      "Fra:1 Mem:16.61M (0.00M, Peak 16.61M) | Time:00:00.00 | Preparing Scene data\n",
      "Fra:1 Mem:24.79M (0.00M, Peak 26.94M) | Time:00:00.02 | Preparing Scene data\n",
      "Fra:1 Mem:24.79M (0.00M, Peak 26.94M) | Time:00:00.02 | Creating Shadowbuffers\n",
      "Fra:1 Mem:24.79M (0.00M, Peak 26.94M) | Time:00:00.02 | Raytree.. preparing\n",
      "Fra:1 Mem:33.90M (0.00M, Peak 33.90M) | Time:00:00.03 | Raytree.. building\n",
      "Fra:1 Mem:33.40M (0.00M, Peak 47.62M) | Time:00:00.16 | Raytree finished\n",
      "Fra:1 Mem:33.40M (0.00M, Peak 47.62M) | Time:00:00.16 | Creating Environment maps\n",
      "Fra:1 Mem:33.40M (0.00M, Peak 47.62M) | Time:00:00.16 | Caching Point Densities\n",
      "Fra:1 Mem:33.40M (0.00M, Peak 47.62M) | Time:00:00.16 | Sce: Scene Ve:70660 Fa:66304 La:1\n",
      "Fra:1 Mem:33.40M (0.00M, Peak 47.62M) | Time:00:00.16 | Loading voxel datasets\n",
      "Fra:1 Mem:33.40M (0.00M, Peak 47.62M) | Time:00:00.16 | Sce: Scene Ve:70660 Fa:66304 La:1\n",
      "Fra:1 Mem:33.40M (0.00M, Peak 47.62M) | Time:00:00.16 | Sce: Scene Ve:70660 Fa:66304 La:1\n",
      "Fra:1 Mem:33.40M (0.00M, Peak 47.62M) | Time:00:00.16 | Volume preprocessing\n",
      "Fra:1 Mem:33.40M (0.00M, Peak 47.62M) | Time:00:00.16 | Sce: Scene Ve:70660 Fa:66304 La:1\n",
      "Fra:1 Mem:33.40M (0.00M, Peak 47.62M) | Time:00:00.16 | Sce: Scene Ve:70660 Fa:66304 La:1\n",
      "Fra:1 Mem:35.57M (0.00M, Peak 47.62M) | Time:00:00.16 | Scene, Part 2-2\n",
      "Fra:1 Mem:34.58M (0.00M, Peak 47.62M) | Time:00:00.18 | Scene, Part 1-2\n",
      "Fra:1 Mem:16.54M (0.00M, Peak 47.62M) | Time:00:00.18 | Sce: Scene Ve:70660 Fa:66304 La:1\n",
      "Saved: '/tmp/tmpeesbyr0y.png'\n",
      " Time: 00:00.20 (Saving: 00:00.01)\n",
      "\n",
      "Fra:1 Mem:25.11M (0.00M, Peak 27.26M) | Time:00:00.01 | Preparing Scene data\n",
      "Fra:1 Mem:25.11M (0.00M, Peak 27.26M) | Time:00:00.01 | Creating Shadowbuffers\n",
      "Fra:1 Mem:25.11M (0.00M, Peak 27.26M) | Time:00:00.01 | Raytree.. preparing\n",
      "Fra:1 Mem:34.21M (0.00M, Peak 34.21M) | Time:00:00.02 | Raytree.. building\n",
      "Fra:1 Mem:33.71M (0.00M, Peak 47.94M) | Time:00:00.14 | Raytree finished\n",
      "Fra:1 Mem:33.71M (0.00M, Peak 47.94M) | Time:00:00.14 | Creating Environment maps\n",
      "Fra:1 Mem:33.71M (0.00M, Peak 47.94M) | Time:00:00.14 | Caching Point Densities\n",
      "Fra:1 Mem:33.71M (0.00M, Peak 47.94M) | Time:00:00.14 | Sce: Scene Ve:70660 Fa:66304 La:1\n",
      "Fra:1 Mem:33.71M (0.00M, Peak 47.94M) | Time:00:00.14 | Loading voxel datasets\n",
      "Fra:1 Mem:33.71M (0.00M, Peak 47.94M) | Time:00:00.14 | Sce: Scene Ve:70660 Fa:66304 La:1\n",
      "Fra:1 Mem:33.72M (0.00M, Peak 47.94M) | Time:00:00.14 | Sce: Scene Ve:70660 Fa:66304 La:1\n",
      "Fra:1 Mem:33.72M (0.00M, Peak 47.94M) | Time:00:00.14 | Volume preprocessing\n",
      "Fra:1 Mem:33.72M (0.00M, Peak 47.94M) | Time:00:00.14 | Sce: Scene Ve:70660 Fa:66304 La:1\n",
      "Fra:1 Mem:33.72M (0.00M, Peak 47.94M) | Time:00:00.14 | Sce: Scene Ve:70660 Fa:66304 La:1\n",
      "Fra:1 Mem:35.89M (0.00M, Peak 47.94M) | Time:00:00.15 | Scene, Part 2-2\n",
      "Fra:1 Mem:34.89M (0.00M, Peak 47.94M) | Time:00:00.16 | Scene, Part 1-2\n",
      "Fra:1 Mem:16.85M (0.00M, Peak 47.94M) | Time:00:00.17 | Sce: Scene Ve:70660 Fa:66304 La:1\n",
      "Saved: '../output/images/CLEVR_new_000002_mask.png'\n",
      " Time: 00:00.18 (Saving: 00:00.01)\n",
      "\n",
      "Fra:1 Mem:16.58M (0.00M, Peak 16.88M) | Time:00:00.18 | Mem:0.00M, Peak:0.00M | Scene, RenderLayer | Synchronizing object | Area\n",
      "Fra:1 Mem:16.58M (0.00M, Peak 16.88M) | Time:00:00.18 | Mem:0.00M, Peak:0.00M | Scene, RenderLayer | Synchronizing object | Ground\n",
      "Fra:1 Mem:16.64M (0.00M, Peak 16.91M) | Time:00:00.19 | Mem:0.00M, Peak:0.00M | Scene, RenderLayer | Synchronizing object | Empty\n",
      "Fra:1 Mem:16.64M (0.00M, Peak 16.91M) | Time:00:00.19 | Mem:0.00M, Peak:0.00M | Scene, RenderLayer | Synchronizing object | Lamp_Back\n",
      "Fra:1 Mem:16.64M (0.00M, Peak 16.91M) | Time:00:00.19 | Mem:0.00M, Peak:0.00M | Scene, RenderLayer | Synchronizing object | Lamp_Fill\n",
      "Fra:1 Mem:16.64M (0.00M, Peak 16.91M) | Time:00:00.19 | Mem:0.00M, Peak:0.00M | Scene, RenderLayer | Synchronizing object | Lamp_Key\n",
      "Fra:1 Mem:16.64M (0.00M, Peak 16.91M) | Time:00:00.19 | Mem:0.00M, Peak:0.00M | Scene, RenderLayer | Synchronizing object | Camera\n",
      "Fra:1 Mem:16.64M (0.00M, Peak 16.91M) | Time:00:00.19 | Mem:0.00M, Peak:0.00M | Scene, RenderLayer | Synchronizing object | SmoothCylinder_0\n",
      "Fra:1 Mem:19.97M (0.00M, Peak 23.05M) | Time:00:00.20 | Mem:0.00M, Peak:0.00M | Scene, RenderLayer | Synchronizing object | SmoothCylinder_1\n",
      "Fra:1 Mem:22.75M (0.00M, Peak 25.97M) | Time:00:00.21 | Mem:0.00M, Peak:0.00M | Scene, RenderLayer | Initializing\n",
      "Fra:1 Mem:22.75M (0.00M, Peak 25.97M) | Time:00:00.21 | Mem:0.00M, Peak:0.00M | Scene, RenderLayer | Loading render kernels (may take a few minutes the first time)\n",
      "Fra:1 Mem:22.75M (0.00M, Peak 26.48M) | Time:00:00.24 | Mem:0.00M, Peak:0.00M | Scene, RenderLayer | Waiting for render to start\n",
      "Fra:1 Mem:22.75M (0.00M, Peak 26.48M) | Time:00:00.24 | Mem:0.00M, Peak:0.00M | Scene, RenderLayer | Updating Scene\n",
      "Fra:1 Mem:22.75M (0.00M, Peak 26.48M) | Time:00:00.24 | Mem:0.00M, Peak:0.00M | Scene, RenderLayer | Updating Shaders\n",
      "Fra:1 Mem:23.01M (0.00M, Peak 26.48M) | Time:00:00.24 | Mem:0.00M, Peak:0.00M | Scene, RenderLayer | Updating Background\n",
      "Fra:1 Mem:23.01M (0.00M, Peak 26.48M) | Time:00:00.24 | Mem:0.00M, Peak:0.00M | Scene, RenderLayer | Updating Camera\n",
      "Fra:1 Mem:23.01M (0.00M, Peak 26.48M) | Time:00:00.24 | Mem:0.00M, Peak:0.00M | Scene, RenderLayer | Updating Meshes Flags\n",
      "Fra:1 Mem:23.01M (0.00M, Peak 26.48M) | Time:00:00.24 | Mem:0.00M, Peak:0.00M | Scene, RenderLayer | Updating Objects\n",
      "Fra:1 Mem:23.01M (0.00M, Peak 26.48M) | Time:00:00.24 | Mem:0.00M, Peak:0.00M | Scene, RenderLayer | Updating Objects | Copying Transformations to device\n",
      "Fra:1 Mem:23.01M (0.00M, Peak 26.48M) | Time:00:00.24 | Mem:0.00M, Peak:0.00M | Scene, RenderLayer | Updating Objects | Applying Static Transformations\n",
      "Fra:1 Mem:23.01M (0.00M, Peak 26.48M) | Time:00:00.24 | Mem:0.00M, Peak:0.00M | Scene, RenderLayer | Updating Meshes\n",
      "Fra:1 Mem:25.04M (0.00M, Peak 26.48M) | Time:00:00.25 | Mem:0.00M, Peak:0.00M | Scene, RenderLayer | Updating Mesh | Computing attributes\n",
      "Fra:1 Mem:25.58M (0.00M, Peak 26.48M) | Time:00:00.25 | Mem:0.00M, Peak:0.00M | Scene, RenderLayer | Updating Mesh | Copying Attributes to device\n",
      "Fra:1 Mem:25.58M (0.00M, Peak 26.48M) | Time:00:00.25 | Mem:0.54M, Peak:0.54M | Scene, RenderLayer | Updating Scene BVH | Building\n",
      "Fra:1 Mem:25.58M (0.00M, Peak 26.48M) | Time:00:00.25 | Mem:0.54M, Peak:0.54M | Scene, RenderLayer | Updating Scene BVH | Building BVH\n",
      "Fra:1 Mem:33.23M (0.00M, Peak 33.23M) | Time:00:00.34 | Mem:0.54M, Peak:0.54M | Scene, RenderLayer | Updating Scene BVH | Packing BVH triangles and strands\n",
      "Fra:1 Mem:40.36M (0.00M, Peak 40.36M) | Time:00:00.34 | Mem:0.54M, Peak:0.54M | Scene, RenderLayer | Updating Scene BVH | Packing BVH nodes\n",
      "Fra:1 Mem:36.45M (0.00M, Peak 42.57M) | Time:00:00.36 | Mem:0.54M, Peak:0.54M | Scene, RenderLayer | Updating Scene BVH | Copying BVH to device\n",
      "Fra:1 Mem:36.96M (0.00M, Peak 42.57M) | Time:00:00.36 | Mem:11.41M, Peak:11.41M | Scene, RenderLayer | Updating Mesh | Computing normals\n",
      "Fra:1 Mem:41.66M (0.00M, Peak 42.57M) | Time:00:00.36 | Mem:11.41M, Peak:11.41M | Scene, RenderLayer | Updating Mesh | Copying Mesh to device\n",
      "Fra:1 Mem:41.15M (0.00M, Peak 42.57M) | Time:00:00.36 | Mem:16.11M, Peak:16.11M | Scene, RenderLayer | Updating Objects Flags\n",
      "Fra:1 Mem:41.15M (0.00M, Peak 42.57M) | Time:00:00.36 | Mem:16.11M, Peak:16.11M | Scene, RenderLayer | Updating Images\n",
      "Fra:1 Mem:41.15M (0.00M, Peak 42.57M) | Time:00:00.36 | Mem:16.11M, Peak:16.11M | Scene, RenderLayer | Updating Camera Volume\n",
      "Fra:1 Mem:41.15M (0.00M, Peak 42.57M) | Time:00:00.36 | Mem:16.11M, Peak:16.11M | Scene, RenderLayer | Updating Hair Systems\n",
      "Fra:1 Mem:41.15M (0.00M, Peak 42.57M) | Time:00:00.36 | Mem:16.11M, Peak:16.11M | Scene, RenderLayer | Updating Hair settings | Copying Hair settings to device\n",
      "Fra:1 Mem:41.15M (0.00M, Peak 42.57M) | Time:00:00.36 | Mem:16.11M, Peak:16.11M | Scene, RenderLayer | Updating Lookup Tables\n",
      "Fra:1 Mem:41.15M (0.00M, Peak 42.57M) | Time:00:00.36 | Mem:16.36M, Peak:16.36M | Scene, RenderLayer | Updating Lights\n",
      "Fra:1 Mem:41.15M (0.00M, Peak 42.57M) | Time:00:00.36 | Mem:16.36M, Peak:16.36M | Scene, RenderLayer | Updating Lights | Computing distribution\n",
      "Fra:1 Mem:41.15M (0.00M, Peak 42.57M) | Time:00:00.36 | Mem:16.36M, Peak:16.36M | Scene, RenderLayer | Updating Particle Systems\n",
      "Fra:1 Mem:41.15M (0.00M, Peak 42.57M) | Time:00:00.36 | Mem:16.36M, Peak:16.36M | Scene, RenderLayer | Updating Particle Systems | Copying Particles to device\n",
      "Fra:1 Mem:41.15M (0.00M, Peak 42.57M) | Time:00:00.36 | Mem:16.36M, Peak:16.36M | Scene, RenderLayer | Updating Integrator\n",
      "Fra:1 Mem:41.19M (0.00M, Peak 42.57M) | Time:00:00.36 | Mem:16.40M, Peak:16.40M | Scene, RenderLayer | Updating Film\n",
      "Fra:1 Mem:41.20M (0.00M, Peak 42.57M) | Time:00:00.37 | Mem:16.40M, Peak:16.40M | Scene, RenderLayer | Updating Lookup Tables\n",
      "Fra:1 Mem:41.20M (0.00M, Peak 42.57M) | Time:00:00.37 | Mem:16.40M, Peak:16.40M | Scene, RenderLayer | Updating Baking\n",
      "Fra:1 Mem:41.20M (0.00M, Peak 42.57M) | Time:00:00.37 | Mem:16.40M, Peak:16.40M | Scene, RenderLayer | Updating Device | Writing constant memory\n",
      "Fra:1 Mem:41.20M (0.00M, Peak 42.57M) | Time:00:00.37 | Mem:16.40M, Peak:16.40M | Scene, RenderLayer | Path Tracing Tile 0/2, Sample 0/512\n",
      "Fra:1 Mem:43.31M (0.00M, Peak 44.48M) | Time:00:00.37 | Mem:18.51M, Peak:18.51M | Scene, RenderLayer | Path Tracing Tile 1/2, Sample 0/512\n",
      "Fra:1 Mem:43.31M (0.00M, Peak 45.42M) | Time:00:01.37 | Remaining:00:00.37 | Mem:18.51M, Peak:18.51M | Scene, RenderLayer | Path Tracing Tile 1/2, Sample 466/512\n",
      "Fra:1 Mem:41.20M (0.00M, Peak 45.42M) | Time:00:01.47 | Remaining:00:00.27 | Mem:16.40M, Peak:18.51M | Scene, RenderLayer | Path Tracing Tile 1/2, Sample 512/512\n",
      "Fra:1 Mem:41.72M (0.00M, Peak 45.42M) | Time:00:01.47 | Remaining:00:00.27 | Mem:16.93M, Peak:18.51M | Scene, RenderLayer | Path Tracing Tile 2/2, Sample 512/512\n",
      "Fra:1 Mem:41.20M (0.00M, Peak 45.42M) | Time:00:01.81 | Mem:16.40M, Peak:18.51M | Scene, RenderLayer | Finished\n",
      "Fra:1 Mem:16.58M (0.00M, Peak 45.42M) | Time:00:01.88 | Sce: Scene Ve:0 Fa:0 La:0\n",
      "Saved: '../output/images/CLEVR_new_000002.png'\n",
      " Time: 00:01.90 (Saving: 00:00.02)\n",
      "\n",
      "read blend: data/base_scene.blend\n",
      "convertViewVec: called in an invalid context\n",
      "convertViewVec: called in an invalid context\n",
      "Fra:1 Mem:14.34M (0.00M, Peak 14.35M) | Time:00:00.00 | Preparing Scene data\n",
      "Fra:1 Mem:20.40M (0.00M, Peak 22.55M) | Time:00:00.02 | Preparing Scene data\n",
      "Fra:1 Mem:20.40M (0.00M, Peak 22.55M) | Time:00:00.02 | Creating Shadowbuffers\n",
      "Fra:1 Mem:20.40M (0.00M, Peak 22.55M) | Time:00:00.02 | Raytree.. preparing\n",
      "Fra:1 Mem:27.09M (0.00M, Peak 27.09M) | Time:00:00.02 | Raytree.. building\n",
      "Fra:1 Mem:26.74M (0.00M, Peak 37.19M) | Time:00:00.14 | Raytree finished\n",
      "Fra:1 Mem:26.74M (0.00M, Peak 37.19M) | Time:00:00.14 | Creating Environment maps\n",
      "Fra:1 Mem:26.74M (0.00M, Peak 37.19M) | Time:00:00.14 | Caching Point Densities\n",
      "Fra:1 Mem:26.74M (0.00M, Peak 37.19M) | Time:00:00.14 | Sce: Scene Ve:50692 Fa:48714 La:1\n",
      "Fra:1 Mem:26.74M (0.00M, Peak 37.19M) | Time:00:00.14 | Loading voxel datasets\n",
      "Fra:1 Mem:26.74M (0.00M, Peak 37.19M) | Time:00:00.14 | Sce: Scene Ve:50692 Fa:48714 La:1\n",
      "Fra:1 Mem:26.74M (0.00M, Peak 37.19M) | Time:00:00.14 | Sce: Scene Ve:50692 Fa:48714 La:1\n",
      "Fra:1 Mem:26.74M (0.00M, Peak 37.19M) | Time:00:00.14 | Volume preprocessing\n",
      "Fra:1 Mem:26.74M (0.00M, Peak 37.19M) | Time:00:00.14 | Sce: Scene Ve:50692 Fa:48714 La:1\n",
      "Fra:1 Mem:26.74M (0.00M, Peak 37.19M) | Time:00:00.14 | Sce: Scene Ve:50692 Fa:48714 La:1\n",
      "Fra:1 Mem:28.92M (0.00M, Peak 37.19M) | Time:00:00.15 | Scene, Part 2-2\n",
      "Fra:1 Mem:27.92M (0.00M, Peak 37.19M) | Time:00:00.16 | Scene, Part 1-2\n",
      "Fra:1 Mem:14.27M (0.00M, Peak 37.19M) | Time:00:00.16 | Sce: Scene Ve:50692 Fa:48714 La:1\n",
      "Saved: '/tmp/tmpldfofxed.png'\n",
      " Time: 00:00.17 (Saving: 00:00.01)\n",
      "\n",
      "Some objects are occluded; replacing objects\n",
      "convertViewVec: called in an invalid context\n",
      "convertViewVec: called in an invalid context\n",
      "Fra:1 Mem:29.37M (0.00M, Peak 31.52M) | Time:00:00.02 | Preparing Scene data\n",
      "Fra:1 Mem:29.37M (0.00M, Peak 31.52M) | Time:00:00.02 | Creating Shadowbuffers\n",
      "Fra:1 Mem:29.37M (0.00M, Peak 31.52M) | Time:00:00.02 | Raytree.. preparing\n",
      "Fra:1 Mem:38.47M (0.00M, Peak 38.47M) | Time:00:00.03 | Raytree.. building\n",
      "Fra:1 Mem:37.99M (0.00M, Peak 52.22M) | Time:00:00.18 | Raytree finished\n",
      "Fra:1 Mem:37.99M (0.00M, Peak 52.22M) | Time:00:00.18 | Creating Environment maps\n",
      "Fra:1 Mem:37.99M (0.00M, Peak 52.22M) | Time:00:00.18 | Caching Point Densities\n",
      "Fra:1 Mem:37.99M (0.00M, Peak 52.22M) | Time:00:00.18 | Sce: Scene Ve:70660 Fa:66304 La:1\n",
      "Fra:1 Mem:37.99M (0.00M, Peak 52.22M) | Time:00:00.18 | Loading voxel datasets\n",
      "Fra:1 Mem:37.99M (0.00M, Peak 52.22M) | Time:00:00.18 | Sce: Scene Ve:70660 Fa:66304 La:1\n",
      "Fra:1 Mem:37.99M (0.00M, Peak 52.22M) | Time:00:00.18 | Sce: Scene Ve:70660 Fa:66304 La:1\n",
      "Fra:1 Mem:37.99M (0.00M, Peak 52.22M) | Time:00:00.18 | Volume preprocessing\n",
      "Fra:1 Mem:37.99M (0.00M, Peak 52.22M) | Time:00:00.18 | Sce: Scene Ve:70660 Fa:66304 La:1\n",
      "Fra:1 Mem:37.99M (0.00M, Peak 52.22M) | Time:00:00.18 | Sce: Scene Ve:70660 Fa:66304 La:1\n",
      "Fra:1 Mem:40.17M (0.00M, Peak 52.22M) | Time:00:00.18 | Scene, Part 2-2\n",
      "Fra:1 Mem:39.17M (0.00M, Peak 52.22M) | Time:00:00.20 | Scene, Part 1-2\n",
      "Fra:1 Mem:21.05M (0.00M, Peak 52.22M) | Time:00:00.20 | Sce: Scene Ve:70660 Fa:66304 La:1\n",
      "Saved: '/tmp/tmpzb9qskjj.png'\n",
      " Time: 00:00.22 (Saving: 00:00.01)\n",
      "\n",
      "Fra:1 Mem:29.68M (0.00M, Peak 31.83M) | Time:00:00.01 | Preparing Scene data\n",
      "Fra:1 Mem:29.68M (0.00M, Peak 31.83M) | Time:00:00.01 | Creating Shadowbuffers\n",
      "Fra:1 Mem:29.68M (0.00M, Peak 31.83M) | Time:00:00.01 | Raytree.. preparing\n",
      "Fra:1 Mem:38.79M (0.00M, Peak 38.79M) | Time:00:00.02 | Raytree.. building\n",
      "Fra:1 Mem:38.31M (0.00M, Peak 52.53M) | Time:00:00.14 | Raytree finished\n",
      "Fra:1 Mem:38.31M (0.00M, Peak 52.53M) | Time:00:00.14 | Creating Environment maps\n",
      "Fra:1 Mem:38.31M (0.00M, Peak 52.53M) | Time:00:00.14 | Caching Point Densities\n",
      "Fra:1 Mem:38.31M (0.00M, Peak 52.53M) | Time:00:00.14 | Sce: Scene Ve:70660 Fa:66304 La:1\n",
      "Fra:1 Mem:38.31M (0.00M, Peak 52.53M) | Time:00:00.14 | Loading voxel datasets\n",
      "Fra:1 Mem:38.31M (0.00M, Peak 52.53M) | Time:00:00.14 | Sce: Scene Ve:70660 Fa:66304 La:1\n",
      "Fra:1 Mem:38.31M (0.00M, Peak 52.53M) | Time:00:00.14 | Sce: Scene Ve:70660 Fa:66304 La:1\n",
      "Fra:1 Mem:38.31M (0.00M, Peak 52.53M) | Time:00:00.14 | Volume preprocessing\n",
      "Fra:1 Mem:38.31M (0.00M, Peak 52.53M) | Time:00:00.14 | Sce: Scene Ve:70660 Fa:66304 La:1\n",
      "Fra:1 Mem:38.31M (0.00M, Peak 52.53M) | Time:00:00.14 | Sce: Scene Ve:70660 Fa:66304 La:1\n",
      "Fra:1 Mem:40.48M (0.00M, Peak 52.53M) | Time:00:00.14 | Scene, Part 2-2\n",
      "Fra:1 Mem:39.48M (0.00M, Peak 52.53M) | Time:00:00.16 | Scene, Part 1-2\n",
      "Fra:1 Mem:21.36M (0.00M, Peak 52.53M) | Time:00:00.16 | Sce: Scene Ve:70660 Fa:66304 La:1\n",
      "Saved: '../output/images/CLEVR_new_000003_mask.png'\n",
      " Time: 00:00.17 (Saving: 00:00.00)\n",
      "\n",
      "Fra:1 Mem:20.79M (0.00M, Peak 21.39M) | Time:00:00.18 | Mem:0.00M, Peak:0.00M | Scene, RenderLayer | Synchronizing object | Area\n",
      "Fra:1 Mem:20.79M (0.00M, Peak 21.39M) | Time:00:00.18 | Mem:0.00M, Peak:0.00M | Scene, RenderLayer | Synchronizing object | Ground\n",
      "Fra:1 Mem:20.86M (0.00M, Peak 21.39M) | Time:00:00.18 | Mem:0.00M, Peak:0.00M | Scene, RenderLayer | Synchronizing object | Empty\n",
      "Fra:1 Mem:20.86M (0.00M, Peak 21.39M) | Time:00:00.18 | Mem:0.00M, Peak:0.00M | Scene, RenderLayer | Synchronizing object | Lamp_Back\n",
      "Fra:1 Mem:20.86M (0.00M, Peak 21.39M) | Time:00:00.18 | Mem:0.00M, Peak:0.00M | Scene, RenderLayer | Synchronizing object | Lamp_Fill\n",
      "Fra:1 Mem:20.86M (0.00M, Peak 21.39M) | Time:00:00.18 | Mem:0.00M, Peak:0.00M | Scene, RenderLayer | Synchronizing object | Lamp_Key\n",
      "Fra:1 Mem:20.86M (0.00M, Peak 21.39M) | Time:00:00.18 | Mem:0.00M, Peak:0.00M | Scene, RenderLayer | Synchronizing object | Camera\n",
      "Fra:1 Mem:20.86M (0.00M, Peak 21.39M) | Time:00:00.18 | Mem:0.00M, Peak:0.00M | Scene, RenderLayer | Synchronizing object | SmoothCylinder_0\n",
      "Fra:1 Mem:23.64M (0.00M, Peak 26.86M) | Time:00:00.20 | Mem:0.00M, Peak:0.00M | Scene, RenderLayer | Synchronizing object | SmoothCylinder_1\n",
      "Fra:1 Mem:26.96M (0.00M, Peak 30.05M) | Time:00:00.21 | Mem:0.00M, Peak:0.00M | Scene, RenderLayer | Initializing\n",
      "Fra:1 Mem:26.96M (0.00M, Peak 30.05M) | Time:00:00.21 | Mem:0.00M, Peak:0.00M | Scene, RenderLayer | Loading render kernels (may take a few minutes the first time)\n",
      "Fra:1 Mem:26.96M (0.00M, Peak 30.70M) | Time:00:00.25 | Mem:0.00M, Peak:0.00M | Scene, RenderLayer | Waiting for render to start\n",
      "Fra:1 Mem:26.96M (0.00M, Peak 30.70M) | Time:00:00.25 | Mem:0.00M, Peak:0.00M | Scene, RenderLayer | Updating Scene\n",
      "Fra:1 Mem:26.96M (0.00M, Peak 30.70M) | Time:00:00.25 | Mem:0.00M, Peak:0.00M | Scene, RenderLayer | Updating Shaders\n",
      "Fra:1 Mem:27.22M (0.00M, Peak 30.70M) | Time:00:00.25 | Mem:0.00M, Peak:0.00M | Scene, RenderLayer | Updating Background\n",
      "Fra:1 Mem:27.22M (0.00M, Peak 30.70M) | Time:00:00.25 | Mem:0.00M, Peak:0.00M | Scene, RenderLayer | Updating Camera\n",
      "Fra:1 Mem:27.22M (0.00M, Peak 30.70M) | Time:00:00.25 | Mem:0.00M, Peak:0.00M | Scene, RenderLayer | Updating Meshes Flags\n",
      "Fra:1 Mem:27.22M (0.00M, Peak 30.70M) | Time:00:00.25 | Mem:0.00M, Peak:0.00M | Scene, RenderLayer | Updating Objects\n",
      "Fra:1 Mem:27.22M (0.00M, Peak 30.70M) | Time:00:00.25 | Mem:0.00M, Peak:0.00M | Scene, RenderLayer | Updating Objects | Copying Transformations to device\n",
      "Fra:1 Mem:27.22M (0.00M, Peak 30.70M) | Time:00:00.25 | Mem:0.00M, Peak:0.00M | Scene, RenderLayer | Updating Objects | Applying Static Transformations\n",
      "Fra:1 Mem:27.22M (0.00M, Peak 30.70M) | Time:00:00.25 | Mem:0.00M, Peak:0.00M | Scene, RenderLayer | Updating Meshes\n",
      "Fra:1 Mem:29.26M (0.00M, Peak 30.70M) | Time:00:00.26 | Mem:0.00M, Peak:0.00M | Scene, RenderLayer | Updating Mesh | Computing attributes\n",
      "Fra:1 Mem:29.80M (0.00M, Peak 30.70M) | Time:00:00.26 | Mem:0.00M, Peak:0.00M | Scene, RenderLayer | Updating Mesh | Copying Attributes to device\n",
      "Fra:1 Mem:29.80M (0.00M, Peak 30.70M) | Time:00:00.26 | Mem:0.54M, Peak:0.54M | Scene, RenderLayer | Updating Scene BVH | Building\n",
      "Fra:1 Mem:29.80M (0.00M, Peak 30.70M) | Time:00:00.26 | Mem:0.54M, Peak:0.54M | Scene, RenderLayer | Updating Scene BVH | Building BVH\n",
      "Fra:1 Mem:37.44M (0.00M, Peak 37.44M) | Time:00:00.33 | Mem:0.54M, Peak:0.54M | Scene, RenderLayer | Updating Scene BVH | Packing BVH triangles and strands\n",
      "Fra:1 Mem:44.58M (0.00M, Peak 44.58M) | Time:00:00.34 | Mem:0.54M, Peak:0.54M | Scene, RenderLayer | Updating Scene BVH | Packing BVH nodes\n",
      "Fra:1 Mem:40.67M (0.00M, Peak 46.79M) | Time:00:00.35 | Mem:0.54M, Peak:0.54M | Scene, RenderLayer | Updating Scene BVH | Copying BVH to device\n",
      "Fra:1 Mem:41.18M (0.00M, Peak 46.79M) | Time:00:00.35 | Mem:11.42M, Peak:11.42M | Scene, RenderLayer | Updating Mesh | Computing normals\n",
      "Fra:1 Mem:45.88M (0.00M, Peak 46.79M) | Time:00:00.36 | Mem:11.42M, Peak:11.42M | Scene, RenderLayer | Updating Mesh | Copying Mesh to device\n",
      "Fra:1 Mem:45.37M (0.00M, Peak 46.79M) | Time:00:00.36 | Mem:16.11M, Peak:16.11M | Scene, RenderLayer | Updating Objects Flags\n",
      "Fra:1 Mem:45.37M (0.00M, Peak 46.79M) | Time:00:00.36 | Mem:16.11M, Peak:16.11M | Scene, RenderLayer | Updating Images\n",
      "Fra:1 Mem:45.37M (0.00M, Peak 46.79M) | Time:00:00.36 | Mem:16.11M, Peak:16.11M | Scene, RenderLayer | Updating Camera Volume\n",
      "Fra:1 Mem:45.37M (0.00M, Peak 46.79M) | Time:00:00.36 | Mem:16.11M, Peak:16.11M | Scene, RenderLayer | Updating Hair Systems\n",
      "Fra:1 Mem:45.37M (0.00M, Peak 46.79M) | Time:00:00.36 | Mem:16.11M, Peak:16.11M | Scene, RenderLayer | Updating Hair settings | Copying Hair settings to device\n",
      "Fra:1 Mem:45.37M (0.00M, Peak 46.79M) | Time:00:00.36 | Mem:16.11M, Peak:16.11M | Scene, RenderLayer | Updating Lookup Tables\n",
      "Fra:1 Mem:45.37M (0.00M, Peak 46.79M) | Time:00:00.36 | Mem:16.36M, Peak:16.36M | Scene, RenderLayer | Updating Lights\n",
      "Fra:1 Mem:45.37M (0.00M, Peak 46.79M) | Time:00:00.36 | Mem:16.36M, Peak:16.36M | Scene, RenderLayer | Updating Lights | Computing distribution\n",
      "Fra:1 Mem:45.37M (0.00M, Peak 46.79M) | Time:00:00.36 | Mem:16.36M, Peak:16.36M | Scene, RenderLayer | Updating Particle Systems\n",
      "Fra:1 Mem:45.37M (0.00M, Peak 46.79M) | Time:00:00.36 | Mem:16.36M, Peak:16.36M | Scene, RenderLayer | Updating Particle Systems | Copying Particles to device\n",
      "Fra:1 Mem:45.37M (0.00M, Peak 46.79M) | Time:00:00.36 | Mem:16.36M, Peak:16.36M | Scene, RenderLayer | Updating Integrator\n",
      "Fra:1 Mem:45.41M (0.00M, Peak 46.79M) | Time:00:00.36 | Mem:16.40M, Peak:16.40M | Scene, RenderLayer | Updating Film\n",
      "Fra:1 Mem:45.41M (0.00M, Peak 46.79M) | Time:00:00.36 | Mem:16.40M, Peak:16.40M | Scene, RenderLayer | Updating Lookup Tables\n",
      "Fra:1 Mem:45.41M (0.00M, Peak 46.79M) | Time:00:00.36 | Mem:16.41M, Peak:16.41M | Scene, RenderLayer | Updating Baking\n",
      "Fra:1 Mem:45.41M (0.00M, Peak 46.79M) | Time:00:00.36 | Mem:16.41M, Peak:16.41M | Scene, RenderLayer | Updating Device | Writing constant memory\n",
      "Fra:1 Mem:45.41M (0.00M, Peak 46.79M) | Time:00:00.36 | Mem:16.41M, Peak:16.41M | Scene, RenderLayer | Path Tracing Tile 0/2, Sample 0/512\n",
      "Fra:1 Mem:47.52M (0.00M, Peak 48.69M) | Time:00:00.36 | Mem:18.52M, Peak:18.52M | Scene, RenderLayer | Path Tracing Tile 1/2, Sample 0/512\n",
      "Fra:1 Mem:47.52M (0.00M, Peak 49.63M) | Time:00:01.36 | Remaining:00:00.45 | Mem:18.52M, Peak:18.52M | Scene, RenderLayer | Path Tracing Tile 1/2, Sample 441/512\n",
      "Fra:1 Mem:45.41M (0.00M, Peak 49.63M) | Time:00:01.53 | Remaining:00:00.29 | Mem:16.41M, Peak:18.52M | Scene, RenderLayer | Path Tracing Tile 1/2, Sample 512/512\n",
      "Fra:1 Mem:45.94M (0.00M, Peak 49.63M) | Time:00:01.53 | Remaining:00:00.29 | Mem:16.94M, Peak:18.52M | Scene, RenderLayer | Path Tracing Tile 2/2, Sample 512/512\n",
      "Fra:1 Mem:45.41M (0.00M, Peak 49.63M) | Time:00:01.86 | Mem:16.41M, Peak:18.52M | Scene, RenderLayer | Finished\n",
      "Fra:1 Mem:20.79M (0.00M, Peak 49.63M) | Time:00:01.92 | Sce: Scene Ve:0 Fa:0 La:0\n",
      "Saved: '../output/images/CLEVR_new_000003.png'\n",
      " Time: 00:01.95 (Saving: 00:00.02)\n",
      "\n",
      "read blend: data/base_scene.blend\n",
      "convertViewVec: called in an invalid context\n",
      "convertViewVec: called in an invalid context\n",
      "Fra:1 Mem:14.40M (0.00M, Peak 14.40M) | Time:00:00.00 | Preparing Scene data\n",
      "Fra:1 Mem:20.45M (0.00M, Peak 22.60M) | Time:00:00.01 | Preparing Scene data\n",
      "Fra:1 Mem:20.45M (0.00M, Peak 22.60M) | Time:00:00.01 | Creating Shadowbuffers\n",
      "Fra:1 Mem:20.45M (0.00M, Peak 22.60M) | Time:00:00.01 | Raytree.. preparing\n",
      "Fra:1 Mem:27.14M (0.00M, Peak 27.14M) | Time:00:00.01 | Raytree.. building\n",
      "Fra:1 Mem:26.77M (0.00M, Peak 37.22M) | Time:00:00.11 | Raytree finished\n",
      "Fra:1 Mem:26.77M (0.00M, Peak 37.22M) | Time:00:00.11 | Creating Environment maps\n",
      "Fra:1 Mem:26.77M (0.00M, Peak 37.22M) | Time:00:00.11 | Caching Point Densities\n",
      "Fra:1 Mem:26.77M (0.00M, Peak 37.22M) | Time:00:00.11 | Sce: Scene Ve:50692 Fa:48701 La:1\n",
      "Fra:1 Mem:26.77M (0.00M, Peak 37.22M) | Time:00:00.11 | Loading voxel datasets\n",
      "Fra:1 Mem:26.77M (0.00M, Peak 37.22M) | Time:00:00.11 | Sce: Scene Ve:50692 Fa:48701 La:1\n",
      "Fra:1 Mem:26.78M (0.00M, Peak 37.22M) | Time:00:00.11 | Sce: Scene Ve:50692 Fa:48701 La:1\n",
      "Fra:1 Mem:26.78M (0.00M, Peak 37.22M) | Time:00:00.11 | Volume preprocessing\n",
      "Fra:1 Mem:26.78M (0.00M, Peak 37.22M) | Time:00:00.11 | Sce: Scene Ve:50692 Fa:48701 La:1\n",
      "Fra:1 Mem:26.78M (0.00M, Peak 37.22M) | Time:00:00.11 | Sce: Scene Ve:50692 Fa:48701 La:1\n",
      "Fra:1 Mem:28.95M (0.00M, Peak 37.22M) | Time:00:00.11 | Scene, Part 2-2\n",
      "Fra:1 Mem:27.95M (0.00M, Peak 37.22M) | Time:00:00.13 | Scene, Part 1-2\n",
      "Fra:1 Mem:14.32M (0.00M, Peak 37.22M) | Time:00:00.13 | Sce: Scene Ve:50692 Fa:48701 La:1\n",
      "Saved: '/tmp/tmpts687q_q.png'\n",
      " Time: 00:00.14 (Saving: 00:00.01)\n",
      "\n",
      "Some objects are occluded; replacing objects\n",
      "convertViewVec: called in an invalid context\n",
      "0.2621760840146843 0.4 right\n",
      "BROKEN MARGIN!\n",
      "0.19533245015584644 0.4 behind\n",
      "BROKEN MARGIN!\n",
      "convertViewVec: called in an invalid context\n",
      "Fra:1 Mem:22.25M (0.00M, Peak 23.72M) | Time:00:00.01 | Preparing Scene data\n",
      "Fra:1 Mem:22.25M (0.00M, Peak 23.72M) | Time:00:00.01 | Creating Shadowbuffers\n",
      "Fra:1 Mem:22.25M (0.00M, Peak 23.72M) | Time:00:00.01 | Raytree.. preparing\n",
      "Fra:1 Mem:27.43M (0.00M, Peak 27.43M) | Time:00:00.01 | Raytree.. building\n",
      "Fra:1 Mem:27.16M (0.00M, Peak 35.27M) | Time:00:00.08 | Raytree finished\n",
      "Fra:1 Mem:27.16M (0.00M, Peak 35.27M) | Time:00:00.08 | Creating Environment maps\n",
      "Fra:1 Mem:27.16M (0.00M, Peak 35.27M) | Time:00:00.08 | Caching Point Densities\n",
      "Fra:1 Mem:27.16M (0.00M, Peak 35.27M) | Time:00:00.08 | Sce: Scene Ve:39082 Fa:37764 La:1\n",
      "Fra:1 Mem:27.16M (0.00M, Peak 35.27M) | Time:00:00.08 | Loading voxel datasets\n",
      "Fra:1 Mem:27.16M (0.00M, Peak 35.27M) | Time:00:00.08 | Sce: Scene Ve:39082 Fa:37764 La:1\n",
      "Fra:1 Mem:27.16M (0.00M, Peak 35.27M) | Time:00:00.08 | Sce: Scene Ve:39082 Fa:37764 La:1\n",
      "Fra:1 Mem:27.16M (0.00M, Peak 35.27M) | Time:00:00.08 | Volume preprocessing\n",
      "Fra:1 Mem:27.16M (0.00M, Peak 35.27M) | Time:00:00.08 | Sce: Scene Ve:39082 Fa:37764 La:1\n",
      "Fra:1 Mem:27.16M (0.00M, Peak 35.27M) | Time:00:00.08 | Sce: Scene Ve:39082 Fa:37764 La:1\n",
      "Fra:1 Mem:29.34M (0.00M, Peak 35.27M) | Time:00:00.08 | Scene, Part 2-2\n",
      "Fra:1 Mem:28.34M (0.00M, Peak 35.27M) | Time:00:00.09 | Scene, Part 1-2\n",
      "Fra:1 Mem:17.33M (0.00M, Peak 35.27M) | Time:00:00.10 | Sce: Scene Ve:39082 Fa:37764 La:1\n",
      "Saved: '/tmp/tmp23ksa_ap.png'\n",
      " Time: 00:00.11 (Saving: 00:00.00)\n",
      "\n",
      "Fra:1 Mem:22.56M (0.00M, Peak 24.03M) | Time:00:00.01 | Preparing Scene data\n",
      "Fra:1 Mem:22.56M (0.00M, Peak 24.03M) | Time:00:00.01 | Creating Shadowbuffers\n",
      "Fra:1 Mem:22.56M (0.00M, Peak 24.03M) | Time:00:00.01 | Raytree.. preparing\n",
      "Fra:1 Mem:27.75M (0.00M, Peak 27.75M) | Time:00:00.01 | Raytree.. building\n",
      "Fra:1 Mem:27.47M (0.00M, Peak 35.58M) | Time:00:00.08 | Raytree finished\n",
      "Fra:1 Mem:27.47M (0.00M, Peak 35.58M) | Time:00:00.08 | Creating Environment maps\n",
      "Fra:1 Mem:27.47M (0.00M, Peak 35.58M) | Time:00:00.08 | Caching Point Densities\n",
      "Fra:1 Mem:27.47M (0.00M, Peak 35.58M) | Time:00:00.08 | Sce: Scene Ve:39082 Fa:37764 La:1\n",
      "Fra:1 Mem:27.47M (0.00M, Peak 35.58M) | Time:00:00.08 | Loading voxel datasets\n",
      "Fra:1 Mem:27.47M (0.00M, Peak 35.58M) | Time:00:00.08 | Sce: Scene Ve:39082 Fa:37764 La:1\n",
      "Fra:1 Mem:27.48M (0.00M, Peak 35.58M) | Time:00:00.08 | Sce: Scene Ve:39082 Fa:37764 La:1\n",
      "Fra:1 Mem:27.48M (0.00M, Peak 35.58M) | Time:00:00.08 | Volume preprocessing\n",
      "Fra:1 Mem:27.48M (0.00M, Peak 35.58M) | Time:00:00.08 | Sce: Scene Ve:39082 Fa:37764 La:1\n",
      "Fra:1 Mem:27.48M (0.00M, Peak 35.58M) | Time:00:00.08 | Sce: Scene Ve:39082 Fa:37764 La:1\n",
      "Fra:1 Mem:29.65M (0.00M, Peak 35.58M) | Time:00:00.08 | Scene, Part 2-2\n",
      "Fra:1 Mem:28.65M (0.00M, Peak 35.58M) | Time:00:00.09 | Scene, Part 1-2\n",
      "Fra:1 Mem:17.64M (0.00M, Peak 35.58M) | Time:00:00.09 | Sce: Scene Ve:39082 Fa:37764 La:1\n",
      "Saved: '../output/images/CLEVR_new_000004_mask.png'\n",
      " Time: 00:00.10 (Saving: 00:00.01)\n",
      "\n",
      "Fra:1 Mem:17.07M (0.00M, Peak 17.67M) | Time:00:00.18 | Mem:0.00M, Peak:0.00M | Scene, RenderLayer | Synchronizing object | Area\n",
      "Fra:1 Mem:17.07M (0.00M, Peak 17.67M) | Time:00:00.18 | Mem:0.00M, Peak:0.00M | Scene, RenderLayer | Synchronizing object | Ground\n",
      "Fra:1 Mem:17.14M (0.00M, Peak 17.67M) | Time:00:00.18 | Mem:0.00M, Peak:0.00M | Scene, RenderLayer | Synchronizing object | Empty\n",
      "Fra:1 Mem:17.14M (0.00M, Peak 17.67M) | Time:00:00.18 | Mem:0.00M, Peak:0.00M | Scene, RenderLayer | Synchronizing object | Lamp_Back\n",
      "Fra:1 Mem:17.14M (0.00M, Peak 17.67M) | Time:00:00.18 | Mem:0.00M, Peak:0.00M | Scene, RenderLayer | Synchronizing object | Lamp_Fill\n",
      "Fra:1 Mem:17.14M (0.00M, Peak 17.67M) | Time:00:00.18 | Mem:0.00M, Peak:0.00M | Scene, RenderLayer | Synchronizing object | Lamp_Key\n",
      "Fra:1 Mem:17.14M (0.00M, Peak 17.67M) | Time:00:00.18 | Mem:0.00M, Peak:0.00M | Scene, RenderLayer | Synchronizing object | Camera\n",
      "Fra:1 Mem:17.14M (0.00M, Peak 17.67M) | Time:00:00.18 | Mem:0.00M, Peak:0.00M | Scene, RenderLayer | Synchronizing object | SmoothCylinder_0\n",
      "Fra:1 Mem:20.46M (0.00M, Peak 23.55M) | Time:00:00.19 | Mem:0.00M, Peak:0.00M | Scene, RenderLayer | Synchronizing object | SmoothCube_v2_0\n",
      "Fra:1 Mem:20.83M (0.00M, Peak 23.55M) | Time:00:00.19 | Mem:0.00M, Peak:0.00M | Scene, RenderLayer | Initializing\n",
      "Fra:1 Mem:20.83M (0.00M, Peak 23.55M) | Time:00:00.19 | Mem:0.00M, Peak:0.00M | Scene, RenderLayer | Loading render kernels (may take a few minutes the first time)\n",
      "Fra:1 Mem:20.83M (0.00M, Peak 24.56M) | Time:00:00.23 | Mem:0.00M, Peak:0.00M | Scene, RenderLayer | Waiting for render to start\n",
      "Fra:1 Mem:20.83M (0.00M, Peak 24.56M) | Time:00:00.23 | Mem:0.00M, Peak:0.00M | Scene, RenderLayer | Updating Scene\n",
      "Fra:1 Mem:20.83M (0.00M, Peak 24.56M) | Time:00:00.23 | Mem:0.00M, Peak:0.00M | Scene, RenderLayer | Updating Shaders\n",
      "Fra:1 Mem:21.08M (0.00M, Peak 24.56M) | Time:00:00.23 | Mem:0.00M, Peak:0.00M | Scene, RenderLayer | Updating Background\n",
      "Fra:1 Mem:21.08M (0.00M, Peak 24.56M) | Time:00:00.23 | Mem:0.00M, Peak:0.00M | Scene, RenderLayer | Updating Camera\n",
      "Fra:1 Mem:21.08M (0.00M, Peak 24.56M) | Time:00:00.23 | Mem:0.00M, Peak:0.00M | Scene, RenderLayer | Updating Meshes Flags\n",
      "Fra:1 Mem:21.08M (0.00M, Peak 24.56M) | Time:00:00.23 | Mem:0.00M, Peak:0.00M | Scene, RenderLayer | Updating Objects\n",
      "Fra:1 Mem:21.08M (0.00M, Peak 24.56M) | Time:00:00.23 | Mem:0.00M, Peak:0.00M | Scene, RenderLayer | Updating Objects | Copying Transformations to device\n",
      "Fra:1 Mem:21.08M (0.00M, Peak 24.56M) | Time:00:00.23 | Mem:0.00M, Peak:0.00M | Scene, RenderLayer | Updating Objects | Applying Static Transformations\n",
      "Fra:1 Mem:21.08M (0.00M, Peak 24.56M) | Time:00:00.23 | Mem:0.00M, Peak:0.00M | Scene, RenderLayer | Updating Meshes\n",
      "Fra:1 Mem:22.22M (0.00M, Peak 24.56M) | Time:00:00.23 | Mem:0.00M, Peak:0.00M | Scene, RenderLayer | Updating Mesh | Computing attributes\n",
      "Fra:1 Mem:22.82M (0.00M, Peak 24.56M) | Time:00:00.23 | Mem:0.00M, Peak:0.00M | Scene, RenderLayer | Updating Mesh | Copying Attributes to device\n",
      "Fra:1 Mem:22.82M (0.00M, Peak 24.56M) | Time:00:00.23 | Mem:0.60M, Peak:0.60M | Scene, RenderLayer | Updating Scene BVH | Building\n",
      "Fra:1 Mem:22.82M (0.00M, Peak 24.56M) | Time:00:00.23 | Mem:0.60M, Peak:0.60M | Scene, RenderLayer | Updating Scene BVH | Building BVH\n",
      "Fra:1 Mem:27.12M (0.00M, Peak 27.12M) | Time:00:00.28 | Mem:0.60M, Peak:0.60M | Scene, RenderLayer | Updating Scene BVH | Packing BVH triangles and strands\n",
      "Fra:1 Mem:31.12M (0.00M, Peak 31.12M) | Time:00:00.29 | Mem:0.60M, Peak:0.60M | Scene, RenderLayer | Updating Scene BVH | Packing BVH nodes\n",
      "Fra:1 Mem:28.91M (0.00M, Peak 32.35M) | Time:00:00.29 | Mem:0.60M, Peak:0.60M | Scene, RenderLayer | Updating Scene BVH | Copying BVH to device\n",
      "Fra:1 Mem:29.20M (0.00M, Peak 32.35M) | Time:00:00.30 | Mem:6.69M, Peak:6.69M | Scene, RenderLayer | Updating Mesh | Computing normals\n",
      "Fra:1 Mem:31.83M (0.00M, Peak 32.35M) | Time:00:00.30 | Mem:6.69M, Peak:6.69M | Scene, RenderLayer | Updating Mesh | Copying Mesh to device\n",
      "Fra:1 Mem:31.54M (0.00M, Peak 32.35M) | Time:00:00.30 | Mem:9.32M, Peak:9.32M | Scene, RenderLayer | Updating Objects Flags\n",
      "Fra:1 Mem:31.54M (0.00M, Peak 32.35M) | Time:00:00.30 | Mem:9.32M, Peak:9.32M | Scene, RenderLayer | Updating Images\n",
      "Fra:1 Mem:31.54M (0.00M, Peak 32.35M) | Time:00:00.30 | Mem:9.32M, Peak:9.32M | Scene, RenderLayer | Updating Camera Volume\n",
      "Fra:1 Mem:31.54M (0.00M, Peak 32.35M) | Time:00:00.30 | Mem:9.32M, Peak:9.32M | Scene, RenderLayer | Updating Hair Systems\n",
      "Fra:1 Mem:31.54M (0.00M, Peak 32.35M) | Time:00:00.30 | Mem:9.32M, Peak:9.32M | Scene, RenderLayer | Updating Hair settings | Copying Hair settings to device\n",
      "Fra:1 Mem:31.54M (0.00M, Peak 32.35M) | Time:00:00.30 | Mem:9.32M, Peak:9.32M | Scene, RenderLayer | Updating Lookup Tables\n",
      "Fra:1 Mem:31.54M (0.00M, Peak 32.35M) | Time:00:00.30 | Mem:9.57M, Peak:9.57M | Scene, RenderLayer | Updating Lights\n",
      "Fra:1 Mem:31.54M (0.00M, Peak 32.35M) | Time:00:00.30 | Mem:9.57M, Peak:9.57M | Scene, RenderLayer | Updating Lights | Computing distribution\n",
      "Fra:1 Mem:31.54M (0.00M, Peak 32.35M) | Time:00:00.30 | Mem:9.57M, Peak:9.57M | Scene, RenderLayer | Updating Particle Systems\n",
      "Fra:1 Mem:31.54M (0.00M, Peak 32.35M) | Time:00:00.30 | Mem:9.57M, Peak:9.57M | Scene, RenderLayer | Updating Particle Systems | Copying Particles to device\n",
      "Fra:1 Mem:31.54M (0.00M, Peak 32.35M) | Time:00:00.30 | Mem:9.57M, Peak:9.57M | Scene, RenderLayer | Updating Integrator\n",
      "Fra:1 Mem:31.58M (0.00M, Peak 32.35M) | Time:00:00.30 | Mem:9.61M, Peak:9.61M | Scene, RenderLayer | Updating Film\n",
      "Fra:1 Mem:31.59M (0.00M, Peak 32.35M) | Time:00:00.30 | Mem:9.61M, Peak:9.61M | Scene, RenderLayer | Updating Lookup Tables\n",
      "Fra:1 Mem:31.59M (0.00M, Peak 32.35M) | Time:00:00.30 | Mem:9.62M, Peak:9.62M | Scene, RenderLayer | Updating Baking\n",
      "Fra:1 Mem:31.59M (0.00M, Peak 32.35M) | Time:00:00.30 | Mem:9.62M, Peak:9.62M | Scene, RenderLayer | Updating Device | Writing constant memory\n",
      "Fra:1 Mem:31.59M (0.00M, Peak 32.35M) | Time:00:00.30 | Mem:9.62M, Peak:9.62M | Scene, RenderLayer | Path Tracing Tile 0/2, Sample 0/512\n",
      "Fra:1 Mem:33.70M (0.00M, Peak 34.87M) | Time:00:00.30 | Mem:11.73M, Peak:11.73M | Scene, RenderLayer | Path Tracing Tile 1/2, Sample 0/512\n",
      "Fra:1 Mem:33.70M (0.00M, Peak 35.81M) | Time:00:01.30 | Remaining:00:00.38 | Mem:11.73M, Peak:11.73M | Scene, RenderLayer | Path Tracing Tile 1/2, Sample 461/512\n",
      "Fra:1 Mem:31.59M (0.00M, Peak 35.81M) | Time:00:01.42 | Remaining:00:00.27 | Mem:9.62M, Peak:11.73M | Scene, RenderLayer | Path Tracing Tile 1/2, Sample 512/512\n",
      "Fra:1 Mem:32.12M (0.00M, Peak 35.81M) | Time:00:01.42 | Remaining:00:00.27 | Mem:10.14M, Peak:11.73M | Scene, RenderLayer | Path Tracing Tile 2/2, Sample 512/512\n",
      "Fra:1 Mem:31.59M (0.00M, Peak 35.81M) | Time:00:01.93 | Mem:9.62M, Peak:11.73M | Scene, RenderLayer | Finished\n",
      "Fra:1 Mem:17.07M (0.00M, Peak 35.81M) | Time:00:02.00 | Sce: Scene Ve:0 Fa:0 La:0\n",
      "Saved: '../output/images/CLEVR_new_000004.png'\n",
      " Time: 00:02.02 (Saving: 00:00.02)\n",
      "\n",
      "read blend: data/base_scene.blend\n",
      "convertViewVec: called in an invalid context\n",
      "convertViewVec: called in an invalid context\n",
      "0.293065576271093 0.4 left\n",
      "BROKEN MARGIN!\n",
      "0.398032404524053 0.4 front\n",
      "BROKEN MARGIN!\n",
      "0.24024080714324758 0.4 right\n",
      "BROKEN MARGIN!\n",
      "convertViewVec: called in an invalid context\n",
      "convertViewVec: called in an invalid context\n",
      "0.11516723598518963 0.4 right\n",
      "BROKEN MARGIN!\n",
      "0.372505743834753 0.4 front\n",
      "BROKEN MARGIN!\n",
      "0.054304528140945774 0.4 left\n",
      "BROKEN MARGIN!\n",
      "convertViewVec: called in an invalid context\n",
      "0.27696787108678356 0.4 right\n",
      "BROKEN MARGIN!\n",
      "0.24697377919715313 0.4 front\n",
      "BROKEN MARGIN!\n",
      "convertViewVec: called in an invalid context\n",
      "Fra:1 Mem:26.37M (0.00M, Peak 26.37M) | Time:00:00.00 | Preparing Scene data\n",
      "Fra:1 Mem:44.09M (0.00M, Peak 44.88M) | Time:00:00.04 | Preparing Scene data\n",
      "Fra:1 Mem:44.09M (0.00M, Peak 44.88M) | Time:00:00.04 | Creating Shadowbuffers\n",
      "Fra:1 Mem:44.09M (0.00M, Peak 44.88M) | Time:00:00.04 | Raytree.. preparing\n",
      "Fra:1 Mem:63.57M (0.00M, Peak 63.57M) | Time:00:00.06 | Raytree.. building\n",
      "Fra:1 Mem:62.51M (0.00M, Peak 92.91M) | Time:00:00.37 | Raytree finished\n",
      "Fra:1 Mem:62.51M (0.00M, Peak 92.91M) | Time:00:00.37 | Creating Environment maps\n",
      "Fra:1 Mem:62.51M (0.00M, Peak 92.91M) | Time:00:00.37 | Caching Point Densities\n",
      "Fra:1 Mem:62.51M (0.00M, Peak 92.91M) | Time:00:00.37 | Sce: Scene Ve:148824 Fa:141841 La:1\n",
      "Fra:1 Mem:62.51M (0.00M, Peak 92.91M) | Time:00:00.37 | Loading voxel datasets\n",
      "Fra:1 Mem:62.51M (0.00M, Peak 92.91M) | Time:00:00.37 | Sce: Scene Ve:148824 Fa:141841 La:1\n",
      "Fra:1 Mem:62.51M (0.00M, Peak 92.91M) | Time:00:00.37 | Sce: Scene Ve:148824 Fa:141841 La:1\n",
      "Fra:1 Mem:62.51M (0.00M, Peak 92.91M) | Time:00:00.37 | Volume preprocessing\n",
      "Fra:1 Mem:62.51M (0.00M, Peak 92.91M) | Time:00:00.37 | Sce: Scene Ve:148824 Fa:141841 La:1\n",
      "Fra:1 Mem:62.51M (0.00M, Peak 92.91M) | Time:00:00.37 | Sce: Scene Ve:148824 Fa:141841 La:1\n",
      "Fra:1 Mem:64.69M (0.00M, Peak 92.91M) | Time:00:00.38 | Scene, Part 2-2\n",
      "Fra:1 Mem:63.69M (0.00M, Peak 92.91M) | Time:00:00.41 | Scene, Part 1-2\n",
      "Fra:1 Mem:26.17M (0.00M, Peak 92.91M) | Time:00:00.41 | Sce: Scene Ve:148824 Fa:141841 La:1\n",
      "Saved: '/tmp/tmppgql065f.png'\n",
      " Time: 00:00.42 (Saving: 00:00.00)\n",
      "\n",
      "Fra:1 Mem:44.42M (0.00M, Peak 45.21M) | Time:00:00.04 | Preparing Scene data\n",
      "Fra:1 Mem:44.42M (0.00M, Peak 45.21M) | Time:00:00.04 | Creating Shadowbuffers\n",
      "Fra:1 Mem:44.42M (0.00M, Peak 45.21M) | Time:00:00.04 | Raytree.. preparing\n",
      "Fra:1 Mem:63.90M (0.00M, Peak 63.90M) | Time:00:00.05 | Raytree.. building\n",
      "Fra:1 Mem:62.84M (0.00M, Peak 93.24M) | Time:00:00.33 | Raytree finished\n",
      "Fra:1 Mem:62.84M (0.00M, Peak 93.24M) | Time:00:00.33 | Creating Environment maps\n",
      "Fra:1 Mem:62.84M (0.00M, Peak 93.24M) | Time:00:00.33 | Caching Point Densities\n",
      "Fra:1 Mem:62.84M (0.00M, Peak 93.24M) | Time:00:00.33 | Sce: Scene Ve:148824 Fa:141841 La:1\n",
      "Fra:1 Mem:62.84M (0.00M, Peak 93.24M) | Time:00:00.33 | Loading voxel datasets\n",
      "Fra:1 Mem:62.84M (0.00M, Peak 93.24M) | Time:00:00.33 | Sce: Scene Ve:148824 Fa:141841 La:1\n",
      "Fra:1 Mem:62.84M (0.00M, Peak 93.24M) | Time:00:00.33 | Sce: Scene Ve:148824 Fa:141841 La:1\n",
      "Fra:1 Mem:62.84M (0.00M, Peak 93.24M) | Time:00:00.33 | Volume preprocessing\n",
      "Fra:1 Mem:62.84M (0.00M, Peak 93.24M) | Time:00:00.33 | Sce: Scene Ve:148824 Fa:141841 La:1\n",
      "Fra:1 Mem:62.84M (0.00M, Peak 93.24M) | Time:00:00.33 | Sce: Scene Ve:148824 Fa:141841 La:1\n",
      "Fra:1 Mem:65.02M (0.00M, Peak 93.24M) | Time:00:00.34 | Scene, Part 2-2\n",
      "Fra:1 Mem:64.02M (0.00M, Peak 93.24M) | Time:00:00.36 | Scene, Part 1-2\n",
      "Fra:1 Mem:26.50M (0.00M, Peak 93.24M) | Time:00:00.36 | Sce: Scene Ve:148824 Fa:141841 La:1\n",
      "Saved: '../output/images/CLEVR_new_000005_mask.png'\n",
      " Time: 00:00.37 (Saving: 00:00.01)\n",
      "\n",
      "Fra:1 Mem:26.23M (0.00M, Peak 26.53M) | Time:00:00.19 | Mem:0.00M, Peak:0.00M | Scene, RenderLayer | Synchronizing object | Area\n",
      "Fra:1 Mem:26.23M (0.00M, Peak 26.53M) | Time:00:00.19 | Mem:0.00M, Peak:0.00M | Scene, RenderLayer | Synchronizing object | Ground\n",
      "Fra:1 Mem:26.30M (0.00M, Peak 26.56M) | Time:00:00.19 | Mem:0.00M, Peak:0.00M | Scene, RenderLayer | Synchronizing object | Empty\n",
      "Fra:1 Mem:26.30M (0.00M, Peak 26.56M) | Time:00:00.19 | Mem:0.00M, Peak:0.00M | Scene, RenderLayer | Synchronizing object | Lamp_Back\n",
      "Fra:1 Mem:26.30M (0.00M, Peak 26.56M) | Time:00:00.19 | Mem:0.00M, Peak:0.00M | Scene, RenderLayer | Synchronizing object | Lamp_Fill\n",
      "Fra:1 Mem:26.30M (0.00M, Peak 26.56M) | Time:00:00.19 | Mem:0.00M, Peak:0.00M | Scene, RenderLayer | Synchronizing object | Lamp_Key\n",
      "Fra:1 Mem:26.30M (0.00M, Peak 26.56M) | Time:00:00.19 | Mem:0.00M, Peak:0.00M | Scene, RenderLayer | Synchronizing object | Camera\n",
      "Fra:1 Mem:26.30M (0.00M, Peak 26.56M) | Time:00:00.19 | Mem:0.00M, Peak:0.00M | Scene, RenderLayer | Synchronizing object | SmoothCylinder_0\n",
      "Fra:1 Mem:29.08M (0.00M, Peak 32.30M) | Time:00:00.20 | Mem:0.00M, Peak:0.00M | Scene, RenderLayer | Synchronizing object | SmoothCylinder_1\n",
      "Fra:1 Mem:31.86M (0.00M, Peak 35.09M) | Time:00:00.21 | Mem:0.00M, Peak:0.00M | Scene, RenderLayer | Synchronizing object | SmoothCylinder_2\n",
      "Fra:1 Mem:35.19M (0.00M, Peak 38.27M) | Time:00:00.23 | Mem:0.00M, Peak:0.00M | Scene, RenderLayer | Synchronizing object | SmoothCylinder_3\n",
      "Fra:1 Mem:38.51M (0.00M, Peak 41.60M) | Time:00:00.24 | Mem:0.00M, Peak:0.00M | Scene, RenderLayer | Synchronizing object | SmoothCube_v2_0\n",
      "Fra:1 Mem:38.88M (0.00M, Peak 41.60M) | Time:00:00.24 | Mem:0.00M, Peak:0.00M | Scene, RenderLayer | Synchronizing object | SmoothCube_v2_1\n",
      "Fra:1 Mem:39.19M (0.00M, Peak 41.60M) | Time:00:00.24 | Mem:0.00M, Peak:0.00M | Scene, RenderLayer | Initializing\n",
      "Fra:1 Mem:39.19M (0.00M, Peak 41.60M) | Time:00:00.24 | Mem:0.00M, Peak:0.00M | Scene, RenderLayer | Loading render kernels (may take a few minutes the first time)\n",
      "Fra:1 Mem:39.19M (0.00M, Peak 42.92M) | Time:00:00.28 | Mem:0.00M, Peak:0.00M | Scene, RenderLayer | Waiting for render to start\n",
      "Fra:1 Mem:39.19M (0.00M, Peak 42.92M) | Time:00:00.28 | Mem:0.00M, Peak:0.00M | Scene, RenderLayer | Updating Scene\n",
      "Fra:1 Mem:39.19M (0.00M, Peak 42.92M) | Time:00:00.28 | Mem:0.00M, Peak:0.00M | Scene, RenderLayer | Updating Shaders\n",
      "Fra:1 Mem:39.44M (0.00M, Peak 42.92M) | Time:00:00.28 | Mem:0.00M, Peak:0.00M | Scene, RenderLayer | Updating Background\n",
      "Fra:1 Mem:39.44M (0.00M, Peak 42.92M) | Time:00:00.28 | Mem:0.00M, Peak:0.00M | Scene, RenderLayer | Updating Camera\n",
      "Fra:1 Mem:39.44M (0.00M, Peak 42.92M) | Time:00:00.28 | Mem:0.00M, Peak:0.00M | Scene, RenderLayer | Updating Meshes Flags\n",
      "Fra:1 Mem:39.44M (0.00M, Peak 42.92M) | Time:00:00.28 | Mem:0.00M, Peak:0.00M | Scene, RenderLayer | Updating Objects\n",
      "Fra:1 Mem:39.44M (0.00M, Peak 42.92M) | Time:00:00.28 | Mem:0.00M, Peak:0.00M | Scene, RenderLayer | Updating Objects | Copying Transformations to device\n",
      "Fra:1 Mem:39.44M (0.00M, Peak 42.92M) | Time:00:00.28 | Mem:0.01M, Peak:0.01M | Scene, RenderLayer | Updating Objects | Applying Static Transformations\n",
      "Fra:1 Mem:39.44M (0.00M, Peak 42.92M) | Time:00:00.28 | Mem:0.01M, Peak:0.01M | Scene, RenderLayer | Updating Meshes\n",
      "Fra:1 Mem:43.73M (0.00M, Peak 43.73M) | Time:00:00.29 | Mem:0.01M, Peak:0.01M | Scene, RenderLayer | Updating Mesh | Computing attributes\n",
      "Fra:1 Mem:44.86M (0.00M, Peak 44.86M) | Time:00:00.29 | Mem:0.01M, Peak:0.01M | Scene, RenderLayer | Updating Mesh | Copying Attributes to device\n",
      "Fra:1 Mem:44.86M (0.00M, Peak 46.00M) | Time:00:00.29 | Mem:1.14M, Peak:1.14M | Scene, RenderLayer | Updating Scene BVH | Building\n",
      "Fra:1 Mem:44.86M (0.00M, Peak 46.00M) | Time:00:00.29 | Mem:1.14M, Peak:1.14M | Scene, RenderLayer | Updating Scene BVH | Building BVH\n",
      "Fra:1 Mem:60.92M (0.00M, Peak 60.92M) | Time:00:00.40 | Mem:1.14M, Peak:1.14M | Scene, RenderLayer | Updating Scene BVH | Packing BVH triangles and strands\n",
      "Fra:1 Mem:75.92M (0.00M, Peak 75.92M) | Time:00:00.42 | Mem:1.14M, Peak:1.14M | Scene, RenderLayer | Updating Scene BVH | Packing BVH nodes\n",
      "Fra:1 Mem:67.70M (0.00M, Peak 80.55M) | Time:00:00.43 | Mem:1.14M, Peak:1.14M | Scene, RenderLayer | Updating Scene BVH | Copying BVH to device\n",
      "Fra:1 Mem:68.77M (0.00M, Peak 80.55M) | Time:00:00.44 | Mem:23.98M, Peak:23.98M | Scene, RenderLayer | Updating Mesh | Computing normals\n",
      "Fra:1 Mem:78.62M (0.00M, Peak 80.55M) | Time:00:00.45 | Mem:23.98M, Peak:23.98M | Scene, RenderLayer | Updating Mesh | Copying Mesh to device\n",
      "Fra:1 Mem:77.55M (0.00M, Peak 80.55M) | Time:00:00.45 | Mem:33.83M, Peak:33.83M | Scene, RenderLayer | Updating Objects Flags\n",
      "Fra:1 Mem:77.55M (0.00M, Peak 80.55M) | Time:00:00.45 | Mem:33.83M, Peak:33.83M | Scene, RenderLayer | Updating Images\n",
      "Fra:1 Mem:77.55M (0.00M, Peak 80.55M) | Time:00:00.45 | Mem:33.83M, Peak:33.83M | Scene, RenderLayer | Updating Camera Volume\n",
      "Fra:1 Mem:77.55M (0.00M, Peak 80.55M) | Time:00:00.45 | Mem:33.83M, Peak:33.83M | Scene, RenderLayer | Updating Hair Systems\n",
      "Fra:1 Mem:77.55M (0.00M, Peak 80.55M) | Time:00:00.45 | Mem:33.83M, Peak:33.83M | Scene, RenderLayer | Updating Hair settings | Copying Hair settings to device\n",
      "Fra:1 Mem:77.55M (0.00M, Peak 80.55M) | Time:00:00.45 | Mem:33.83M, Peak:33.83M | Scene, RenderLayer | Updating Lookup Tables\n",
      "Fra:1 Mem:77.55M (0.00M, Peak 80.55M) | Time:00:00.45 | Mem:34.08M, Peak:34.08M | Scene, RenderLayer | Updating Lights\n",
      "Fra:1 Mem:77.55M (0.00M, Peak 80.55M) | Time:00:00.45 | Mem:34.08M, Peak:34.08M | Scene, RenderLayer | Updating Lights | Computing distribution\n",
      "Fra:1 Mem:77.55M (0.00M, Peak 80.55M) | Time:00:00.45 | Mem:34.08M, Peak:34.08M | Scene, RenderLayer | Updating Particle Systems\n",
      "Fra:1 Mem:77.55M (0.00M, Peak 80.55M) | Time:00:00.45 | Mem:34.08M, Peak:34.08M | Scene, RenderLayer | Updating Particle Systems | Copying Particles to device\n",
      "Fra:1 Mem:77.55M (0.00M, Peak 80.55M) | Time:00:00.45 | Mem:34.08M, Peak:34.08M | Scene, RenderLayer | Updating Integrator\n",
      "Fra:1 Mem:77.59M (0.00M, Peak 80.55M) | Time:00:00.45 | Mem:34.12M, Peak:34.12M | Scene, RenderLayer | Updating Film\n",
      "Fra:1 Mem:77.59M (0.00M, Peak 80.55M) | Time:00:00.45 | Mem:34.12M, Peak:34.12M | Scene, RenderLayer | Updating Lookup Tables\n",
      "Fra:1 Mem:77.59M (0.00M, Peak 80.55M) | Time:00:00.45 | Mem:34.12M, Peak:34.12M | Scene, RenderLayer | Updating Baking\n",
      "Fra:1 Mem:77.59M (0.00M, Peak 80.55M) | Time:00:00.45 | Mem:34.12M, Peak:34.12M | Scene, RenderLayer | Updating Device | Writing constant memory\n",
      "Fra:1 Mem:77.59M (0.00M, Peak 80.55M) | Time:00:00.45 | Mem:34.12M, Peak:34.12M | Scene, RenderLayer | Path Tracing Tile 0/2, Sample 0/512\n",
      "Fra:1 Mem:79.70M (0.00M, Peak 80.88M) | Time:00:00.46 | Mem:36.23M, Peak:36.23M | Scene, RenderLayer | Path Tracing Tile 1/2, Sample 0/512\n",
      "Fra:1 Mem:79.70M (0.00M, Peak 81.81M) | Time:00:01.46 | Remaining:00:00.65 | Mem:36.23M, Peak:36.23M | Scene, RenderLayer | Path Tracing Tile 1/2, Sample 387/512\n",
      "Fra:1 Mem:77.59M (0.00M, Peak 81.81M) | Time:00:01.78 | Remaining:00:00.33 | Mem:34.12M, Peak:36.23M | Scene, RenderLayer | Path Tracing Tile 1/2, Sample 512/512\n",
      "Fra:1 Mem:78.12M (0.00M, Peak 81.81M) | Time:00:01.79 | Remaining:00:00.33 | Mem:34.65M, Peak:36.23M | Scene, RenderLayer | Path Tracing Tile 2/2, Sample 512/512\n",
      "Fra:1 Mem:77.59M (0.00M, Peak 81.81M) | Time:00:02.27 | Mem:34.12M, Peak:36.23M | Scene, RenderLayer | Finished\n",
      "Fra:1 Mem:26.24M (0.00M, Peak 81.81M) | Time:00:02.34 | Sce: Scene Ve:0 Fa:0 La:0\n",
      "Saved: '../output/images/CLEVR_new_000005.png'\n",
      " Time: 00:02.37 (Saving: 00:00.02)\n",
      "\n",
      "read blend: data/base_scene.blend\n",
      "convertViewVec: called in an invalid context\n",
      "convertViewVec: called in an invalid context\n",
      "convertViewVec: called in an invalid context\n",
      "Fra:1 Mem:11.26M (0.00M, Peak 11.26M) | Time:00:00.00 | Preparing Scene data\n",
      "Fra:1 Mem:14.59M (0.00M, Peak 15.57M) | Time:00:00.00 | Preparing Scene data\n",
      "Fra:1 Mem:14.59M (0.00M, Peak 15.57M) | Time:00:00.00 | Creating Shadowbuffers\n",
      "Fra:1 Mem:14.59M (0.00M, Peak 15.57M) | Time:00:00.00 | Raytree.. preparing\n",
      "Fra:1 Mem:17.99M (0.00M, Peak 17.99M) | Time:00:00.01 | Raytree.. building\n",
      "Fra:1 Mem:17.81M (0.00M, Peak 23.12M) | Time:00:00.06 | Raytree finished\n",
      "Fra:1 Mem:17.81M (0.00M, Peak 23.12M) | Time:00:00.06 | Creating Environment maps\n",
      "Fra:1 Mem:17.81M (0.00M, Peak 23.12M) | Time:00:00.06 | Caching Point Densities\n",
      "Fra:1 Mem:17.81M (0.00M, Peak 23.12M) | Time:00:00.06 | Sce: Scene Ve:22866 Fa:24775 La:1\n",
      "Fra:1 Mem:17.81M (0.00M, Peak 23.12M) | Time:00:00.06 | Loading voxel datasets\n",
      "Fra:1 Mem:17.81M (0.00M, Peak 23.12M) | Time:00:00.06 | Sce: Scene Ve:22866 Fa:24775 La:1\n",
      "Fra:1 Mem:17.81M (0.00M, Peak 23.12M) | Time:00:00.06 | Sce: Scene Ve:22866 Fa:24775 La:1\n",
      "Fra:1 Mem:17.81M (0.00M, Peak 23.12M) | Time:00:00.06 | Volume preprocessing\n",
      "Fra:1 Mem:17.81M (0.00M, Peak 23.12M) | Time:00:00.06 | Sce: Scene Ve:22866 Fa:24775 La:1\n",
      "Fra:1 Mem:17.81M (0.00M, Peak 23.12M) | Time:00:00.06 | Sce: Scene Ve:22866 Fa:24775 La:1\n",
      "Fra:1 Mem:19.98M (0.00M, Peak 23.12M) | Time:00:00.07 | Scene, Part 2-2\n",
      "Fra:1 Mem:18.99M (0.00M, Peak 23.12M) | Time:00:00.08 | Scene, Part 1-2\n",
      "Fra:1 Mem:11.15M (0.00M, Peak 23.12M) | Time:00:00.08 | Sce: Scene Ve:22866 Fa:24775 La:1\n",
      "Saved: '/tmp/tmpba_rctqp.png'\n",
      " Time: 00:00.09 (Saving: 00:00.01)\n",
      "\n",
      "Fra:1 Mem:14.90M (0.00M, Peak 15.88M) | Time:00:00.01 | Preparing Scene data\n",
      "Fra:1 Mem:14.90M (0.00M, Peak 15.88M) | Time:00:00.01 | Creating Shadowbuffers\n",
      "Fra:1 Mem:14.90M (0.00M, Peak 15.88M) | Time:00:00.01 | Raytree.. preparing\n",
      "Fra:1 Mem:18.30M (0.00M, Peak 18.30M) | Time:00:00.01 | Raytree.. building\n",
      "Fra:1 Mem:18.12M (0.00M, Peak 23.43M) | Time:00:00.07 | Raytree finished\n",
      "Fra:1 Mem:18.12M (0.00M, Peak 23.43M) | Time:00:00.07 | Creating Environment maps\n",
      "Fra:1 Mem:18.12M (0.00M, Peak 23.43M) | Time:00:00.07 | Caching Point Densities\n",
      "Fra:1 Mem:18.12M (0.00M, Peak 23.43M) | Time:00:00.07 | Sce: Scene Ve:22866 Fa:24775 La:1\n",
      "Fra:1 Mem:18.12M (0.00M, Peak 23.43M) | Time:00:00.07 | Loading voxel datasets\n",
      "Fra:1 Mem:18.12M (0.00M, Peak 23.43M) | Time:00:00.07 | Sce: Scene Ve:22866 Fa:24775 La:1\n",
      "Fra:1 Mem:18.12M (0.00M, Peak 23.43M) | Time:00:00.07 | Sce: Scene Ve:22866 Fa:24775 La:1\n",
      "Fra:1 Mem:18.12M (0.00M, Peak 23.43M) | Time:00:00.07 | Volume preprocessing\n",
      "Fra:1 Mem:18.12M (0.00M, Peak 23.43M) | Time:00:00.07 | Sce: Scene Ve:22866 Fa:24775 La:1\n",
      "Fra:1 Mem:18.12M (0.00M, Peak 23.43M) | Time:00:00.07 | Sce: Scene Ve:22866 Fa:24775 La:1\n",
      "Fra:1 Mem:20.30M (0.00M, Peak 23.43M) | Time:00:00.07 | Scene, Part 2-2\n",
      "Fra:1 Mem:19.30M (0.00M, Peak 23.43M) | Time:00:00.08 | Scene, Part 1-2\n",
      "Fra:1 Mem:11.46M (0.00M, Peak 23.43M) | Time:00:00.09 | Sce: Scene Ve:22866 Fa:24775 La:1\n",
      "Saved: '../output/images/CLEVR_new_000006_mask.png'\n",
      " Time: 00:00.10 (Saving: 00:00.01)\n",
      "\n",
      "Fra:1 Mem:11.19M (0.00M, Peak 11.49M) | Time:00:00.20 | Mem:0.00M, Peak:0.00M | Scene, RenderLayer | Synchronizing object | Area\n",
      "Fra:1 Mem:11.19M (0.00M, Peak 11.49M) | Time:00:00.20 | Mem:0.00M, Peak:0.00M | Scene, RenderLayer | Synchronizing object | Ground\n",
      "Fra:1 Mem:11.26M (0.00M, Peak 11.52M) | Time:00:00.21 | Mem:0.00M, Peak:0.00M | Scene, RenderLayer | Synchronizing object | Empty\n",
      "Fra:1 Mem:11.26M (0.00M, Peak 11.52M) | Time:00:00.21 | Mem:0.00M, Peak:0.00M | Scene, RenderLayer | Synchronizing object | Lamp_Back\n",
      "Fra:1 Mem:11.26M (0.00M, Peak 11.52M) | Time:00:00.21 | Mem:0.00M, Peak:0.00M | Scene, RenderLayer | Synchronizing object | Lamp_Fill\n",
      "Fra:1 Mem:11.26M (0.00M, Peak 11.52M) | Time:00:00.21 | Mem:0.00M, Peak:0.00M | Scene, RenderLayer | Synchronizing object | Lamp_Key\n",
      "Fra:1 Mem:11.26M (0.00M, Peak 11.52M) | Time:00:00.21 | Mem:0.00M, Peak:0.00M | Scene, RenderLayer | Synchronizing object | Camera\n",
      "Fra:1 Mem:11.26M (0.00M, Peak 11.52M) | Time:00:00.21 | Mem:0.00M, Peak:0.00M | Scene, RenderLayer | Synchronizing object | SmoothCube_v2_0\n",
      "Fra:1 Mem:11.62M (0.00M, Peak 11.98M) | Time:00:00.21 | Mem:0.00M, Peak:0.00M | Scene, RenderLayer | Synchronizing object | SmoothCube_v2_1\n",
      "Fra:1 Mem:11.93M (0.00M, Peak 12.30M) | Time:00:00.21 | Mem:0.00M, Peak:0.00M | Scene, RenderLayer | Synchronizing object | Sphere_0\n",
      "Fra:1 Mem:13.19M (0.00M, Peak 14.69M) | Time:00:00.21 | Mem:0.00M, Peak:0.00M | Scene, RenderLayer | Initializing\n",
      "Fra:1 Mem:13.19M (0.00M, Peak 14.69M) | Time:00:00.21 | Mem:0.00M, Peak:0.00M | Scene, RenderLayer | Loading render kernels (may take a few minutes the first time)\n",
      "Fra:1 Mem:13.19M (0.00M, Peak 16.92M) | Time:00:00.25 | Mem:0.00M, Peak:0.00M | Scene, RenderLayer | Waiting for render to start\n",
      "Fra:1 Mem:13.19M (0.00M, Peak 16.92M) | Time:00:00.25 | Mem:0.00M, Peak:0.00M | Scene, RenderLayer | Updating Scene\n",
      "Fra:1 Mem:13.19M (0.00M, Peak 16.92M) | Time:00:00.25 | Mem:0.00M, Peak:0.00M | Scene, RenderLayer | Updating Shaders\n",
      "Fra:1 Mem:13.44M (0.00M, Peak 16.92M) | Time:00:00.25 | Mem:0.00M, Peak:0.00M | Scene, RenderLayer | Updating Background\n",
      "Fra:1 Mem:13.44M (0.00M, Peak 16.92M) | Time:00:00.25 | Mem:0.00M, Peak:0.00M | Scene, RenderLayer | Updating Camera\n",
      "Fra:1 Mem:13.44M (0.00M, Peak 16.92M) | Time:00:00.25 | Mem:0.00M, Peak:0.00M | Scene, RenderLayer | Updating Meshes Flags\n",
      "Fra:1 Mem:13.44M (0.00M, Peak 16.92M) | Time:00:00.25 | Mem:0.00M, Peak:0.00M | Scene, RenderLayer | Updating Objects\n",
      "Fra:1 Mem:13.44M (0.00M, Peak 16.92M) | Time:00:00.25 | Mem:0.00M, Peak:0.00M | Scene, RenderLayer | Updating Objects | Copying Transformations to device\n",
      "Fra:1 Mem:13.44M (0.00M, Peak 16.92M) | Time:00:00.25 | Mem:0.00M, Peak:0.00M | Scene, RenderLayer | Updating Objects | Applying Static Transformations\n",
      "Fra:1 Mem:13.44M (0.00M, Peak 16.92M) | Time:00:00.25 | Mem:0.00M, Peak:0.00M | Scene, RenderLayer | Updating Meshes\n",
      "Fra:1 Mem:14.17M (0.00M, Peak 16.92M) | Time:00:00.25 | Mem:0.00M, Peak:0.00M | Scene, RenderLayer | Updating Mesh | Computing attributes\n",
      "Fra:1 Mem:14.22M (0.00M, Peak 16.92M) | Time:00:00.25 | Mem:0.00M, Peak:0.00M | Scene, RenderLayer | Updating Mesh | Copying Attributes to device\n",
      "Fra:1 Mem:14.22M (0.00M, Peak 16.92M) | Time:00:00.25 | Mem:0.06M, Peak:0.06M | Scene, RenderLayer | Updating Scene BVH | Building\n",
      "Fra:1 Mem:14.22M (0.00M, Peak 16.92M) | Time:00:00.25 | Mem:0.06M, Peak:0.06M | Scene, RenderLayer | Updating Scene BVH | Building BVH\n",
      "Fra:1 Mem:16.93M (0.00M, Peak 16.93M) | Time:00:00.29 | Mem:0.06M, Peak:0.06M | Scene, RenderLayer | Updating Scene BVH | Packing BVH triangles and strands\n",
      "Fra:1 Mem:19.45M (0.00M, Peak 19.45M) | Time:00:00.29 | Mem:0.06M, Peak:0.06M | Scene, RenderLayer | Updating Scene BVH | Packing BVH nodes\n",
      "Fra:1 Mem:18.00M (0.00M, Peak 20.16M) | Time:00:00.29 | Mem:0.06M, Peak:0.06M | Scene, RenderLayer | Updating Scene BVH | Copying BVH to device\n",
      "Fra:1 Mem:18.18M (0.00M, Peak 20.16M) | Time:00:00.30 | Mem:3.84M, Peak:3.84M | Scene, RenderLayer | Updating Mesh | Computing normals\n",
      "Fra:1 Mem:19.81M (0.00M, Peak 20.16M) | Time:00:00.30 | Mem:3.84M, Peak:3.84M | Scene, RenderLayer | Updating Mesh | Copying Mesh to device\n",
      "Fra:1 Mem:19.63M (0.00M, Peak 20.16M) | Time:00:00.30 | Mem:5.46M, Peak:5.46M | Scene, RenderLayer | Updating Objects Flags\n",
      "Fra:1 Mem:19.63M (0.00M, Peak 20.16M) | Time:00:00.30 | Mem:5.46M, Peak:5.46M | Scene, RenderLayer | Updating Images\n",
      "Fra:1 Mem:19.63M (0.00M, Peak 20.16M) | Time:00:00.30 | Mem:5.46M, Peak:5.46M | Scene, RenderLayer | Updating Camera Volume\n",
      "Fra:1 Mem:19.63M (0.00M, Peak 20.16M) | Time:00:00.30 | Mem:5.46M, Peak:5.46M | Scene, RenderLayer | Updating Hair Systems\n",
      "Fra:1 Mem:19.63M (0.00M, Peak 20.16M) | Time:00:00.30 | Mem:5.46M, Peak:5.46M | Scene, RenderLayer | Updating Hair settings | Copying Hair settings to device\n",
      "Fra:1 Mem:19.63M (0.00M, Peak 20.16M) | Time:00:00.30 | Mem:5.46M, Peak:5.46M | Scene, RenderLayer | Updating Lookup Tables\n",
      "Fra:1 Mem:19.63M (0.00M, Peak 20.16M) | Time:00:00.30 | Mem:5.71M, Peak:5.71M | Scene, RenderLayer | Updating Lights\n",
      "Fra:1 Mem:19.63M (0.00M, Peak 20.16M) | Time:00:00.30 | Mem:5.72M, Peak:5.72M | Scene, RenderLayer | Updating Lights | Computing distribution\n",
      "Fra:1 Mem:19.63M (0.00M, Peak 20.16M) | Time:00:00.30 | Mem:5.72M, Peak:5.72M | Scene, RenderLayer | Updating Particle Systems\n",
      "Fra:1 Mem:19.63M (0.00M, Peak 20.16M) | Time:00:00.30 | Mem:5.72M, Peak:5.72M | Scene, RenderLayer | Updating Particle Systems | Copying Particles to device\n",
      "Fra:1 Mem:19.63M (0.00M, Peak 20.16M) | Time:00:00.30 | Mem:5.72M, Peak:5.72M | Scene, RenderLayer | Updating Integrator\n",
      "Fra:1 Mem:19.67M (0.00M, Peak 20.16M) | Time:00:00.30 | Mem:5.76M, Peak:5.76M | Scene, RenderLayer | Updating Film\n",
      "Fra:1 Mem:19.67M (0.00M, Peak 20.16M) | Time:00:00.30 | Mem:5.76M, Peak:5.76M | Scene, RenderLayer | Updating Lookup Tables\n",
      "Fra:1 Mem:19.67M (0.00M, Peak 20.16M) | Time:00:00.30 | Mem:5.76M, Peak:5.76M | Scene, RenderLayer | Updating Baking\n",
      "Fra:1 Mem:19.67M (0.00M, Peak 20.16M) | Time:00:00.30 | Mem:5.76M, Peak:5.76M | Scene, RenderLayer | Updating Device | Writing constant memory\n",
      "Fra:1 Mem:19.67M (0.00M, Peak 20.16M) | Time:00:00.30 | Mem:5.76M, Peak:5.76M | Scene, RenderLayer | Path Tracing Tile 0/2, Sample 0/512\n",
      "Fra:1 Mem:21.78M (0.00M, Peak 22.95M) | Time:00:00.30 | Mem:7.87M, Peak:7.87M | Scene, RenderLayer | Path Tracing Tile 1/2, Sample 0/512\n",
      "Fra:1 Mem:21.78M (0.00M, Peak 23.89M) | Time:00:01.30 | Remaining:00:00.61 | Mem:7.87M, Peak:7.87M | Scene, RenderLayer | Path Tracing Tile 1/2, Sample 398/512\n",
      "Fra:1 Mem:19.67M (0.00M, Peak 23.89M) | Time:00:01.59 | Remaining:00:00.32 | Mem:5.76M, Peak:7.87M | Scene, RenderLayer | Path Tracing Tile 1/2, Sample 512/512\n",
      "Fra:1 Mem:20.20M (0.00M, Peak 23.89M) | Time:00:01.59 | Remaining:00:00.32 | Mem:6.29M, Peak:7.87M | Scene, RenderLayer | Path Tracing Tile 2/2, Sample 512/512\n",
      "Fra:1 Mem:19.67M (0.00M, Peak 23.89M) | Time:00:01.96 | Mem:5.76M, Peak:7.87M | Scene, RenderLayer | Finished\n",
      "Fra:1 Mem:11.18M (0.00M, Peak 23.89M) | Time:00:02.02 | Sce: Scene Ve:0 Fa:0 La:0\n",
      "Saved: '../output/images/CLEVR_new_000006.png'\n",
      " Time: 00:02.04 (Saving: 00:00.02)\n",
      "\n",
      "read blend: data/base_scene.blend\n",
      "convertViewVec: called in an invalid context\n",
      "convertViewVec: called in an invalid context\n",
      "0.2159477506522144 0.4 right\n",
      "BROKEN MARGIN!\n",
      "convertViewVec: called in an invalid context\n",
      "0.11135419718413564 0.4 left\n",
      "BROKEN MARGIN!\n",
      "0.0579615387807868 0.4 right\n",
      "BROKEN MARGIN!\n",
      "convertViewVec: called in an invalid context\n",
      "convertViewVec: called in an invalid context\n",
      "0.24306611493960517 0.4 right\n",
      "BROKEN MARGIN!\n",
      "0.12873855816886737 0.4 front\n",
      "BROKEN MARGIN!\n",
      "0.3593991873206799 0.4 front\n",
      "BROKEN MARGIN!\n",
      "0.3082336894485992 0.4 left\n",
      "BROKEN MARGIN!\n",
      "convertViewVec: called in an invalid context\n",
      "Fra:1 Mem:26.46M (0.00M, Peak 26.46M) | Time:00:00.00 | Preparing Scene data\n",
      "Fra:1 Mem:44.18M (0.00M, Peak 46.33M) | Time:00:00.05 | Preparing Scene data\n",
      "Fra:1 Mem:44.18M (0.00M, Peak 46.33M) | Time:00:00.05 | Creating Shadowbuffers\n",
      "Fra:1 Mem:44.18M (0.00M, Peak 46.33M) | Time:00:00.05 | Raytree.. preparing\n",
      "Fra:1 Mem:63.66M (0.00M, Peak 63.66M) | Time:00:00.07 | Raytree.. building\n",
      "Fra:1 Mem:62.60M (0.00M, Peak 93.00M) | Time:00:00.36 | Raytree finished\n",
      "Fra:1 Mem:62.60M (0.00M, Peak 93.00M) | Time:00:00.36 | Creating Environment maps\n",
      "Fra:1 Mem:62.60M (0.00M, Peak 93.00M) | Time:00:00.36 | Caching Point Densities\n",
      "Fra:1 Mem:62.60M (0.00M, Peak 93.00M) | Time:00:00.36 | Sce: Scene Ve:148824 Fa:141842 La:1\n",
      "Fra:1 Mem:62.60M (0.00M, Peak 93.00M) | Time:00:00.36 | Loading voxel datasets\n",
      "Fra:1 Mem:62.60M (0.00M, Peak 93.00M) | Time:00:00.36 | Sce: Scene Ve:148824 Fa:141842 La:1\n",
      "Fra:1 Mem:62.60M (0.00M, Peak 93.00M) | Time:00:00.36 | Sce: Scene Ve:148824 Fa:141842 La:1\n",
      "Fra:1 Mem:62.60M (0.00M, Peak 93.00M) | Time:00:00.36 | Volume preprocessing\n",
      "Fra:1 Mem:62.60M (0.00M, Peak 93.00M) | Time:00:00.36 | Sce: Scene Ve:148824 Fa:141842 La:1\n",
      "Fra:1 Mem:62.60M (0.00M, Peak 93.00M) | Time:00:00.36 | Sce: Scene Ve:148824 Fa:141842 La:1\n",
      "Fra:1 Mem:64.77M (0.00M, Peak 93.00M) | Time:00:00.37 | Scene, Part 2-2\n",
      "Fra:1 Mem:63.77M (0.00M, Peak 93.00M) | Time:00:00.39 | Scene, Part 1-2\n",
      "Fra:1 Mem:26.25M (0.00M, Peak 93.00M) | Time:00:00.40 | Sce: Scene Ve:148824 Fa:141842 La:1\n",
      "Saved: '/tmp/tmp1w3oqgbq.png'\n",
      " Time: 00:00.41 (Saving: 00:00.01)\n",
      "\n",
      "Fra:1 Mem:44.50M (0.00M, Peak 46.65M) | Time:00:00.03 | Preparing Scene data\n",
      "Fra:1 Mem:44.50M (0.00M, Peak 46.65M) | Time:00:00.03 | Creating Shadowbuffers\n",
      "Fra:1 Mem:44.50M (0.00M, Peak 46.65M) | Time:00:00.03 | Raytree.. preparing\n",
      "Fra:1 Mem:63.98M (0.00M, Peak 63.98M) | Time:00:00.05 | Raytree.. building\n",
      "Fra:1 Mem:62.92M (0.00M, Peak 93.33M) | Time:00:00.32 | Raytree finished\n",
      "Fra:1 Mem:62.92M (0.00M, Peak 93.33M) | Time:00:00.32 | Creating Environment maps\n",
      "Fra:1 Mem:62.92M (0.00M, Peak 93.33M) | Time:00:00.32 | Caching Point Densities\n",
      "Fra:1 Mem:62.92M (0.00M, Peak 93.33M) | Time:00:00.32 | Sce: Scene Ve:148824 Fa:141842 La:1\n",
      "Fra:1 Mem:62.92M (0.00M, Peak 93.33M) | Time:00:00.32 | Loading voxel datasets\n",
      "Fra:1 Mem:62.92M (0.00M, Peak 93.33M) | Time:00:00.32 | Sce: Scene Ve:148824 Fa:141842 La:1\n",
      "Fra:1 Mem:62.93M (0.00M, Peak 93.33M) | Time:00:00.32 | Sce: Scene Ve:148824 Fa:141842 La:1\n",
      "Fra:1 Mem:62.93M (0.00M, Peak 93.33M) | Time:00:00.32 | Volume preprocessing\n",
      "Fra:1 Mem:62.93M (0.00M, Peak 93.33M) | Time:00:00.32 | Sce: Scene Ve:148824 Fa:141842 La:1\n",
      "Fra:1 Mem:62.93M (0.00M, Peak 93.33M) | Time:00:00.32 | Sce: Scene Ve:148824 Fa:141842 La:1\n",
      "Fra:1 Mem:65.10M (0.00M, Peak 93.33M) | Time:00:00.33 | Scene, Part 2-2\n",
      "Fra:1 Mem:64.10M (0.00M, Peak 93.33M) | Time:00:00.35 | Scene, Part 1-2\n",
      "Fra:1 Mem:26.58M (0.00M, Peak 93.33M) | Time:00:00.36 | Sce: Scene Ve:148824 Fa:141842 La:1\n",
      "Saved: '../output/images/CLEVR_new_000007_mask.png'\n",
      " Time: 00:00.37 (Saving: 00:00.01)\n",
      "\n",
      "Fra:1 Mem:26.31M (0.00M, Peak 26.61M) | Time:00:00.18 | Mem:0.00M, Peak:0.00M | Scene, RenderLayer | Synchronizing object | Area\n",
      "Fra:1 Mem:26.31M (0.00M, Peak 26.61M) | Time:00:00.18 | Mem:0.00M, Peak:0.00M | Scene, RenderLayer | Synchronizing object | Ground\n",
      "Fra:1 Mem:26.38M (0.00M, Peak 26.64M) | Time:00:00.18 | Mem:0.00M, Peak:0.00M | Scene, RenderLayer | Synchronizing object | Empty\n",
      "Fra:1 Mem:26.38M (0.00M, Peak 26.64M) | Time:00:00.18 | Mem:0.00M, Peak:0.00M | Scene, RenderLayer | Synchronizing object | Lamp_Back\n",
      "Fra:1 Mem:26.38M (0.00M, Peak 26.64M) | Time:00:00.18 | Mem:0.00M, Peak:0.00M | Scene, RenderLayer | Synchronizing object | Lamp_Fill\n",
      "Fra:1 Mem:26.38M (0.00M, Peak 26.64M) | Time:00:00.18 | Mem:0.00M, Peak:0.00M | Scene, RenderLayer | Synchronizing object | Lamp_Key\n",
      "Fra:1 Mem:26.38M (0.00M, Peak 26.64M) | Time:00:00.18 | Mem:0.00M, Peak:0.00M | Scene, RenderLayer | Synchronizing object | Camera\n",
      "Fra:1 Mem:26.38M (0.00M, Peak 26.64M) | Time:00:00.18 | Mem:0.00M, Peak:0.00M | Scene, RenderLayer | Synchronizing object | SmoothCube_v2_0\n",
      "Fra:1 Mem:26.74M (0.00M, Peak 27.10M) | Time:00:00.18 | Mem:0.00M, Peak:0.00M | Scene, RenderLayer | Synchronizing object | SmoothCylinder_0\n",
      "Fra:1 Mem:29.53M (0.00M, Peak 32.75M) | Time:00:00.19 | Mem:0.00M, Peak:0.00M | Scene, RenderLayer | Synchronizing object | SmoothCylinder_1\n",
      "Fra:1 Mem:32.85M (0.00M, Peak 35.94M) | Time:00:00.20 | Mem:0.00M, Peak:0.00M | Scene, RenderLayer | Synchronizing object | SmoothCylinder_2\n",
      "Fra:1 Mem:36.18M (0.00M, Peak 39.26M) | Time:00:00.21 | Mem:0.00M, Peak:0.00M | Scene, RenderLayer | Synchronizing object | SmoothCube_v2_1\n",
      "Fra:1 Mem:36.48M (0.00M, Peak 39.26M) | Time:00:00.21 | Mem:0.00M, Peak:0.00M | Scene, RenderLayer | Synchronizing object | SmoothCylinder_3\n",
      "Fra:1 Mem:39.81M (0.00M, Peak 42.89M) | Time:00:00.22 | Mem:0.00M, Peak:0.00M | Scene, RenderLayer | Initializing\n",
      "Fra:1 Mem:39.81M (0.00M, Peak 42.89M) | Time:00:00.22 | Mem:0.00M, Peak:0.00M | Scene, RenderLayer | Loading render kernels (may take a few minutes the first time)\n",
      "Fra:1 Mem:39.81M (0.00M, Peak 43.54M) | Time:00:00.25 | Mem:0.00M, Peak:0.00M | Scene, RenderLayer | Waiting for render to start\n",
      "Fra:1 Mem:39.81M (0.00M, Peak 43.54M) | Time:00:00.25 | Mem:0.00M, Peak:0.00M | Scene, RenderLayer | Updating Scene\n",
      "Fra:1 Mem:39.81M (0.00M, Peak 43.54M) | Time:00:00.25 | Mem:0.00M, Peak:0.00M | Scene, RenderLayer | Updating Shaders\n",
      "Fra:1 Mem:40.06M (0.00M, Peak 43.54M) | Time:00:00.25 | Mem:0.00M, Peak:0.00M | Scene, RenderLayer | Updating Background\n",
      "Fra:1 Mem:40.06M (0.00M, Peak 43.54M) | Time:00:00.25 | Mem:0.00M, Peak:0.00M | Scene, RenderLayer | Updating Camera\n",
      "Fra:1 Mem:40.06M (0.00M, Peak 43.54M) | Time:00:00.25 | Mem:0.00M, Peak:0.00M | Scene, RenderLayer | Updating Meshes Flags\n",
      "Fra:1 Mem:40.06M (0.00M, Peak 43.54M) | Time:00:00.25 | Mem:0.00M, Peak:0.00M | Scene, RenderLayer | Updating Objects\n",
      "Fra:1 Mem:40.06M (0.00M, Peak 43.54M) | Time:00:00.25 | Mem:0.00M, Peak:0.00M | Scene, RenderLayer | Updating Objects | Copying Transformations to device\n",
      "Fra:1 Mem:40.06M (0.00M, Peak 43.54M) | Time:00:00.26 | Mem:0.01M, Peak:0.01M | Scene, RenderLayer | Updating Objects | Applying Static Transformations\n",
      "Fra:1 Mem:40.06M (0.00M, Peak 43.54M) | Time:00:00.26 | Mem:0.01M, Peak:0.01M | Scene, RenderLayer | Updating Meshes\n",
      "Fra:1 Mem:44.35M (0.00M, Peak 44.35M) | Time:00:00.27 | Mem:0.01M, Peak:0.01M | Scene, RenderLayer | Updating Mesh | Computing attributes\n",
      "Fra:1 Mem:46.02M (0.00M, Peak 46.02M) | Time:00:00.27 | Mem:0.01M, Peak:0.01M | Scene, RenderLayer | Updating Mesh | Copying Attributes to device\n",
      "Fra:1 Mem:46.02M (0.00M, Peak 47.70M) | Time:00:00.27 | Mem:1.68M, Peak:1.68M | Scene, RenderLayer | Updating Scene BVH | Building\n",
      "Fra:1 Mem:46.02M (0.00M, Peak 47.70M) | Time:00:00.27 | Mem:1.68M, Peak:1.68M | Scene, RenderLayer | Updating Scene BVH | Building BVH\n",
      "Fra:1 Mem:62.08M (0.00M, Peak 62.08M) | Time:00:00.38 | Mem:1.68M, Peak:1.68M | Scene, RenderLayer | Updating Scene BVH | Packing BVH triangles and strands\n",
      "Fra:1 Mem:77.08M (0.00M, Peak 77.08M) | Time:00:00.39 | Mem:1.68M, Peak:1.68M | Scene, RenderLayer | Updating Scene BVH | Packing BVH nodes\n",
      "Fra:1 Mem:68.85M (0.00M, Peak 81.71M) | Time:00:00.41 | Mem:1.68M, Peak:1.68M | Scene, RenderLayer | Updating Scene BVH | Copying BVH to device\n",
      "Fra:1 Mem:69.93M (0.00M, Peak 81.71M) | Time:00:00.42 | Mem:24.51M, Peak:24.51M | Scene, RenderLayer | Updating Mesh | Computing normals\n",
      "Fra:1 Mem:79.78M (0.00M, Peak 81.71M) | Time:00:00.43 | Mem:24.51M, Peak:24.51M | Scene, RenderLayer | Updating Mesh | Copying Mesh to device\n",
      "Fra:1 Mem:78.71M (0.00M, Peak 81.71M) | Time:00:00.43 | Mem:34.37M, Peak:34.37M | Scene, RenderLayer | Updating Objects Flags\n",
      "Fra:1 Mem:78.71M (0.00M, Peak 81.71M) | Time:00:00.43 | Mem:34.37M, Peak:34.37M | Scene, RenderLayer | Updating Images\n",
      "Fra:1 Mem:78.71M (0.00M, Peak 81.71M) | Time:00:00.43 | Mem:34.37M, Peak:34.37M | Scene, RenderLayer | Updating Camera Volume\n",
      "Fra:1 Mem:78.71M (0.00M, Peak 81.71M) | Time:00:00.43 | Mem:34.37M, Peak:34.37M | Scene, RenderLayer | Updating Hair Systems\n",
      "Fra:1 Mem:78.71M (0.00M, Peak 81.71M) | Time:00:00.43 | Mem:34.37M, Peak:34.37M | Scene, RenderLayer | Updating Hair settings | Copying Hair settings to device\n",
      "Fra:1 Mem:78.71M (0.00M, Peak 81.71M) | Time:00:00.43 | Mem:34.37M, Peak:34.37M | Scene, RenderLayer | Updating Lookup Tables\n",
      "Fra:1 Mem:78.71M (0.00M, Peak 81.71M) | Time:00:00.43 | Mem:34.62M, Peak:34.62M | Scene, RenderLayer | Updating Lights\n",
      "Fra:1 Mem:78.71M (0.00M, Peak 81.71M) | Time:00:00.43 | Mem:34.62M, Peak:34.62M | Scene, RenderLayer | Updating Lights | Computing distribution\n",
      "Fra:1 Mem:78.71M (0.00M, Peak 81.71M) | Time:00:00.43 | Mem:34.62M, Peak:34.62M | Scene, RenderLayer | Updating Particle Systems\n",
      "Fra:1 Mem:78.71M (0.00M, Peak 81.71M) | Time:00:00.43 | Mem:34.62M, Peak:34.62M | Scene, RenderLayer | Updating Particle Systems | Copying Particles to device\n",
      "Fra:1 Mem:78.71M (0.00M, Peak 81.71M) | Time:00:00.43 | Mem:34.62M, Peak:34.62M | Scene, RenderLayer | Updating Integrator\n",
      "Fra:1 Mem:78.75M (0.00M, Peak 81.71M) | Time:00:00.43 | Mem:34.66M, Peak:34.66M | Scene, RenderLayer | Updating Film\n",
      "Fra:1 Mem:78.75M (0.00M, Peak 81.71M) | Time:00:00.43 | Mem:34.66M, Peak:34.66M | Scene, RenderLayer | Updating Lookup Tables\n",
      "Fra:1 Mem:78.75M (0.00M, Peak 81.71M) | Time:00:00.43 | Mem:34.66M, Peak:34.66M | Scene, RenderLayer | Updating Baking\n",
      "Fra:1 Mem:78.75M (0.00M, Peak 81.71M) | Time:00:00.43 | Mem:34.66M, Peak:34.66M | Scene, RenderLayer | Updating Device | Writing constant memory\n",
      "Fra:1 Mem:78.75M (0.00M, Peak 81.71M) | Time:00:00.43 | Mem:34.66M, Peak:34.66M | Scene, RenderLayer | Path Tracing Tile 0/2, Sample 0/512\n",
      "Fra:1 Mem:80.86M (0.00M, Peak 82.03M) | Time:00:00.44 | Mem:36.77M, Peak:36.77M | Scene, RenderLayer | Path Tracing Tile 1/2, Sample 0/512\n",
      "Fra:1 Mem:80.86M (0.00M, Peak 82.97M) | Time:00:01.44 | Remaining:00:00.68 | Mem:36.77M, Peak:36.77M | Scene, RenderLayer | Path Tracing Tile 1/2, Sample 381/512\n",
      "Fra:1 Mem:78.75M (0.00M, Peak 82.97M) | Time:00:01.78 | Remaining:00:00.33 | Mem:34.66M, Peak:36.77M | Scene, RenderLayer | Path Tracing Tile 1/2, Sample 512/512\n",
      "Fra:1 Mem:79.28M (0.00M, Peak 82.97M) | Time:00:01.78 | Remaining:00:00.33 | Mem:35.19M, Peak:36.77M | Scene, RenderLayer | Path Tracing Tile 2/2, Sample 512/512\n",
      "Fra:1 Mem:78.75M (0.00M, Peak 82.97M) | Time:00:02.14 | Mem:34.66M, Peak:36.77M | Scene, RenderLayer | Finished\n",
      "Fra:1 Mem:26.32M (0.00M, Peak 82.97M) | Time:00:02.21 | Sce: Scene Ve:0 Fa:0 La:0\n",
      "Saved: '../output/images/CLEVR_new_000007.png'\n",
      " Time: 00:02.23 (Saving: 00:00.02)\n",
      "\n",
      "read blend: data/base_scene.blend\n",
      "convertViewVec: called in an invalid context\n",
      "convertViewVec: called in an invalid context\n",
      "convertViewVec: called in an invalid context\n",
      "convertViewVec: called in an invalid context\n",
      "convertViewVec: called in an invalid context\n",
      "0.2709461760531169 0.4 behind\n",
      "BROKEN MARGIN!\n",
      "convertViewVec: called in an invalid context\n",
      "Fra:1 Mem:25.68M (0.00M, Peak 25.68M) | Time:00:00.00 | Preparing Scene data\n",
      "Fra:1 Mem:42.55M (0.00M, Peak 43.53M) | Time:00:00.04 | Preparing Scene data\n",
      "Fra:1 Mem:42.55M (0.00M, Peak 43.53M) | Time:00:00.04 | Creating Shadowbuffers\n",
      "Fra:1 Mem:42.55M (0.00M, Peak 43.53M) | Time:00:00.04 | Raytree.. preparing\n",
      "Fra:1 Mem:61.11M (0.00M, Peak 61.11M) | Time:00:00.06 | Raytree.. building\n",
      "Fra:1 Mem:60.13M (0.00M, Peak 89.11M) | Time:00:00.33 | Raytree finished\n",
      "Fra:1 Mem:60.13M (0.00M, Peak 89.11M) | Time:00:00.33 | Creating Environment maps\n",
      "Fra:1 Mem:60.13M (0.00M, Peak 89.11M) | Time:00:00.33 | Caching Point Densities\n",
      "Fra:1 Mem:60.13M (0.00M, Peak 89.11M) | Time:00:00.33 | Sce: Scene Ve:140466 Fa:135171 La:1\n",
      "Fra:1 Mem:60.13M (0.00M, Peak 89.11M) | Time:00:00.33 | Loading voxel datasets\n",
      "Fra:1 Mem:60.13M (0.00M, Peak 89.11M) | Time:00:00.33 | Sce: Scene Ve:140466 Fa:135171 La:1\n",
      "Fra:1 Mem:60.13M (0.00M, Peak 89.11M) | Time:00:00.33 | Sce: Scene Ve:140466 Fa:135171 La:1\n",
      "Fra:1 Mem:60.13M (0.00M, Peak 89.11M) | Time:00:00.33 | Volume preprocessing\n",
      "Fra:1 Mem:60.13M (0.00M, Peak 89.11M) | Time:00:00.33 | Sce: Scene Ve:140466 Fa:135171 La:1\n",
      "Fra:1 Mem:60.13M (0.00M, Peak 89.11M) | Time:00:00.33 | Sce: Scene Ve:140466 Fa:135171 La:1\n",
      "Fra:1 Mem:62.30M (0.00M, Peak 89.11M) | Time:00:00.35 | Scene, Part 2-2\n",
      "Fra:1 Mem:61.30M (0.00M, Peak 89.11M) | Time:00:00.37 | Scene, Part 1-2\n",
      "Fra:1 Mem:25.47M (0.00M, Peak 89.11M) | Time:00:00.38 | Sce: Scene Ve:140466 Fa:135171 La:1\n",
      "Saved: '/tmp/tmp1yfl9w_5.png'\n",
      " Time: 00:00.39 (Saving: 00:00.01)\n",
      "\n",
      "Fra:1 Mem:42.87M (0.00M, Peak 43.85M) | Time:00:00.03 | Preparing Scene data\n",
      "Fra:1 Mem:42.87M (0.00M, Peak 43.85M) | Time:00:00.03 | Creating Shadowbuffers\n",
      "Fra:1 Mem:42.87M (0.00M, Peak 43.85M) | Time:00:00.03 | Raytree.. preparing\n",
      "Fra:1 Mem:61.43M (0.00M, Peak 61.43M) | Time:00:00.05 | Raytree.. building\n",
      "Fra:1 Mem:60.45M (0.00M, Peak 89.43M) | Time:00:00.31 | Raytree finished\n",
      "Fra:1 Mem:60.45M (0.00M, Peak 89.43M) | Time:00:00.31 | Creating Environment maps\n",
      "Fra:1 Mem:60.45M (0.00M, Peak 89.43M) | Time:00:00.31 | Caching Point Densities\n",
      "Fra:1 Mem:60.45M (0.00M, Peak 89.43M) | Time:00:00.31 | Sce: Scene Ve:140466 Fa:135171 La:1\n",
      "Fra:1 Mem:60.45M (0.00M, Peak 89.43M) | Time:00:00.31 | Loading voxel datasets\n",
      "Fra:1 Mem:60.45M (0.00M, Peak 89.43M) | Time:00:00.31 | Sce: Scene Ve:140466 Fa:135171 La:1\n",
      "Fra:1 Mem:60.45M (0.00M, Peak 89.43M) | Time:00:00.31 | Sce: Scene Ve:140466 Fa:135171 La:1\n",
      "Fra:1 Mem:60.45M (0.00M, Peak 89.43M) | Time:00:00.31 | Volume preprocessing\n",
      "Fra:1 Mem:60.45M (0.00M, Peak 89.43M) | Time:00:00.31 | Sce: Scene Ve:140466 Fa:135171 La:1\n",
      "Fra:1 Mem:60.45M (0.00M, Peak 89.43M) | Time:00:00.31 | Sce: Scene Ve:140466 Fa:135171 La:1\n",
      "Fra:1 Mem:62.62M (0.00M, Peak 89.43M) | Time:00:00.33 | Scene, Part 2-2\n",
      "Fra:1 Mem:61.63M (0.00M, Peak 89.43M) | Time:00:00.35 | Scene, Part 1-2\n",
      "Fra:1 Mem:25.79M (0.00M, Peak 89.43M) | Time:00:00.35 | Sce: Scene Ve:140466 Fa:135171 La:1\n",
      "Saved: '../output/images/CLEVR_new_000008_mask.png'\n",
      " Time: 00:00.36 (Saving: 00:00.00)\n",
      "\n",
      "Fra:1 Mem:25.52M (0.00M, Peak 25.82M) | Time:00:00.17 | Mem:0.00M, Peak:0.00M | Scene, RenderLayer | Synchronizing object | Area\n",
      "Fra:1 Mem:25.52M (0.00M, Peak 25.82M) | Time:00:00.17 | Mem:0.00M, Peak:0.00M | Scene, RenderLayer | Synchronizing object | Ground\n",
      "Fra:1 Mem:25.59M (0.00M, Peak 25.85M) | Time:00:00.17 | Mem:0.00M, Peak:0.00M | Scene, RenderLayer | Synchronizing object | Empty\n",
      "Fra:1 Mem:25.59M (0.00M, Peak 25.85M) | Time:00:00.17 | Mem:0.00M, Peak:0.00M | Scene, RenderLayer | Synchronizing object | Lamp_Back\n",
      "Fra:1 Mem:25.59M (0.00M, Peak 25.85M) | Time:00:00.17 | Mem:0.00M, Peak:0.00M | Scene, RenderLayer | Synchronizing object | Lamp_Fill\n",
      "Fra:1 Mem:25.59M (0.00M, Peak 25.85M) | Time:00:00.17 | Mem:0.00M, Peak:0.00M | Scene, RenderLayer | Synchronizing object | Lamp_Key\n",
      "Fra:1 Mem:25.59M (0.00M, Peak 25.85M) | Time:00:00.17 | Mem:0.00M, Peak:0.00M | Scene, RenderLayer | Synchronizing object | Camera\n",
      "Fra:1 Mem:25.59M (0.00M, Peak 25.85M) | Time:00:00.17 | Mem:0.00M, Peak:0.00M | Scene, RenderLayer | Synchronizing object | SmoothCylinder_0\n",
      "Fra:1 Mem:28.37M (0.00M, Peak 31.59M) | Time:00:00.18 | Mem:0.00M, Peak:0.00M | Scene, RenderLayer | Synchronizing object | SmoothCylinder_1\n",
      "Fra:1 Mem:31.15M (0.00M, Peak 34.37M) | Time:00:00.19 | Mem:0.00M, Peak:0.00M | Scene, RenderLayer | Synchronizing object | Sphere_0\n",
      "Fra:1 Mem:32.65M (0.00M, Peak 34.37M) | Time:00:00.19 | Mem:0.00M, Peak:0.00M | Scene, RenderLayer | Synchronizing object | SmoothCube_v2_0\n",
      "Fra:1 Mem:32.96M (0.00M, Peak 34.37M) | Time:00:00.19 | Mem:0.00M, Peak:0.00M | Scene, RenderLayer | Synchronizing object | SmoothCylinder_2\n",
      "Fra:1 Mem:36.28M (0.00M, Peak 39.36M) | Time:00:00.20 | Mem:0.00M, Peak:0.00M | Scene, RenderLayer | Synchronizing object | Sphere_1\n",
      "Fra:1 Mem:37.54M (0.00M, Peak 39.36M) | Time:00:00.21 | Mem:0.00M, Peak:0.00M | Scene, RenderLayer | Initializing\n",
      "Fra:1 Mem:37.54M (0.00M, Peak 39.36M) | Time:00:00.21 | Mem:0.00M, Peak:0.00M | Scene, RenderLayer | Loading render kernels (may take a few minutes the first time)\n",
      "Fra:1 Mem:37.54M (0.00M, Peak 41.27M) | Time:00:00.24 | Mem:0.00M, Peak:0.00M | Scene, RenderLayer | Waiting for render to start\n",
      "Fra:1 Mem:37.54M (0.00M, Peak 41.27M) | Time:00:00.24 | Mem:0.00M, Peak:0.00M | Scene, RenderLayer | Updating Scene\n",
      "Fra:1 Mem:37.54M (0.00M, Peak 41.27M) | Time:00:00.24 | Mem:0.00M, Peak:0.00M | Scene, RenderLayer | Updating Shaders\n",
      "Fra:1 Mem:37.80M (0.00M, Peak 41.27M) | Time:00:00.24 | Mem:0.00M, Peak:0.00M | Scene, RenderLayer | Updating Background\n",
      "Fra:1 Mem:37.80M (0.00M, Peak 41.27M) | Time:00:00.24 | Mem:0.00M, Peak:0.00M | Scene, RenderLayer | Updating Camera\n",
      "Fra:1 Mem:37.80M (0.00M, Peak 41.27M) | Time:00:00.24 | Mem:0.00M, Peak:0.00M | Scene, RenderLayer | Updating Meshes Flags\n",
      "Fra:1 Mem:37.80M (0.00M, Peak 41.27M) | Time:00:00.24 | Mem:0.00M, Peak:0.00M | Scene, RenderLayer | Updating Objects\n",
      "Fra:1 Mem:37.80M (0.00M, Peak 41.27M) | Time:00:00.24 | Mem:0.00M, Peak:0.00M | Scene, RenderLayer | Updating Objects | Copying Transformations to device\n",
      "Fra:1 Mem:37.80M (0.00M, Peak 41.27M) | Time:00:00.24 | Mem:0.01M, Peak:0.01M | Scene, RenderLayer | Updating Objects | Applying Static Transformations\n",
      "Fra:1 Mem:37.80M (0.00M, Peak 41.27M) | Time:00:00.24 | Mem:0.01M, Peak:0.01M | Scene, RenderLayer | Updating Meshes\n",
      "Fra:1 Mem:41.90M (0.00M, Peak 41.90M) | Time:00:00.25 | Mem:0.01M, Peak:0.01M | Scene, RenderLayer | Updating Mesh | Computing attributes\n",
      "Fra:1 Mem:42.67M (0.00M, Peak 42.67M) | Time:00:00.25 | Mem:0.01M, Peak:0.01M | Scene, RenderLayer | Updating Mesh | Copying Attributes to device\n",
      "Fra:1 Mem:42.67M (0.00M, Peak 43.44M) | Time:00:00.26 | Mem:0.78M, Peak:0.78M | Scene, RenderLayer | Updating Scene BVH | Building\n",
      "Fra:1 Mem:42.67M (0.00M, Peak 43.44M) | Time:00:00.26 | Mem:0.78M, Peak:0.78M | Scene, RenderLayer | Updating Scene BVH | Building BVH\n",
      "Fra:1 Mem:58.04M (0.00M, Peak 58.04M) | Time:00:00.36 | Mem:0.78M, Peak:0.78M | Scene, RenderLayer | Updating Scene BVH | Packing BVH triangles and strands\n",
      "Fra:1 Mem:72.38M (0.00M, Peak 72.38M) | Time:00:00.38 | Mem:0.78M, Peak:0.78M | Scene, RenderLayer | Updating Scene BVH | Packing BVH nodes\n",
      "Fra:1 Mem:64.44M (0.00M, Peak 76.74M) | Time:00:00.40 | Mem:0.78M, Peak:0.78M | Scene, RenderLayer | Updating Scene BVH | Copying BVH to device\n",
      "Fra:1 Mem:65.47M (0.00M, Peak 76.74M) | Time:00:00.40 | Mem:22.55M, Peak:22.55M | Scene, RenderLayer | Updating Mesh | Computing normals\n",
      "Fra:1 Mem:74.85M (0.00M, Peak 76.74M) | Time:00:00.41 | Mem:22.55M, Peak:22.55M | Scene, RenderLayer | Updating Mesh | Copying Mesh to device\n",
      "Fra:1 Mem:73.83M (0.00M, Peak 76.74M) | Time:00:00.41 | Mem:31.94M, Peak:31.94M | Scene, RenderLayer | Updating Objects Flags\n",
      "Fra:1 Mem:73.83M (0.00M, Peak 76.74M) | Time:00:00.41 | Mem:31.94M, Peak:31.94M | Scene, RenderLayer | Updating Images\n",
      "Fra:1 Mem:73.83M (0.00M, Peak 76.74M) | Time:00:00.41 | Mem:31.94M, Peak:31.94M | Scene, RenderLayer | Updating Camera Volume\n",
      "Fra:1 Mem:73.83M (0.00M, Peak 76.74M) | Time:00:00.41 | Mem:31.94M, Peak:31.94M | Scene, RenderLayer | Updating Hair Systems\n",
      "Fra:1 Mem:73.83M (0.00M, Peak 76.74M) | Time:00:00.41 | Mem:31.94M, Peak:31.94M | Scene, RenderLayer | Updating Hair settings | Copying Hair settings to device\n",
      "Fra:1 Mem:73.83M (0.00M, Peak 76.74M) | Time:00:00.41 | Mem:31.94M, Peak:31.94M | Scene, RenderLayer | Updating Lookup Tables\n",
      "Fra:1 Mem:73.83M (0.00M, Peak 76.74M) | Time:00:00.41 | Mem:32.19M, Peak:32.19M | Scene, RenderLayer | Updating Lights\n",
      "Fra:1 Mem:73.83M (0.00M, Peak 76.74M) | Time:00:00.41 | Mem:32.19M, Peak:32.19M | Scene, RenderLayer | Updating Lights | Computing distribution\n",
      "Fra:1 Mem:73.83M (0.00M, Peak 76.74M) | Time:00:00.41 | Mem:32.19M, Peak:32.19M | Scene, RenderLayer | Updating Particle Systems\n",
      "Fra:1 Mem:73.83M (0.00M, Peak 76.74M) | Time:00:00.41 | Mem:32.19M, Peak:32.19M | Scene, RenderLayer | Updating Particle Systems | Copying Particles to device\n",
      "Fra:1 Mem:73.83M (0.00M, Peak 76.74M) | Time:00:00.41 | Mem:32.19M, Peak:32.19M | Scene, RenderLayer | Updating Integrator\n",
      "Fra:1 Mem:73.87M (0.00M, Peak 76.74M) | Time:00:00.41 | Mem:32.23M, Peak:32.23M | Scene, RenderLayer | Updating Film\n",
      "Fra:1 Mem:73.87M (0.00M, Peak 76.74M) | Time:00:00.41 | Mem:32.23M, Peak:32.23M | Scene, RenderLayer | Updating Lookup Tables\n",
      "Fra:1 Mem:73.87M (0.00M, Peak 76.74M) | Time:00:00.41 | Mem:32.23M, Peak:32.23M | Scene, RenderLayer | Updating Baking\n",
      "Fra:1 Mem:73.87M (0.00M, Peak 76.74M) | Time:00:00.41 | Mem:32.23M, Peak:32.23M | Scene, RenderLayer | Updating Device | Writing constant memory\n",
      "Fra:1 Mem:73.87M (0.00M, Peak 76.74M) | Time:00:00.41 | Mem:32.23M, Peak:32.23M | Scene, RenderLayer | Path Tracing Tile 0/2, Sample 0/512\n",
      "Fra:1 Mem:75.98M (0.00M, Peak 77.15M) | Time:00:00.42 | Mem:34.34M, Peak:34.34M | Scene, RenderLayer | Path Tracing Tile 1/2, Sample 0/512\n",
      "Fra:1 Mem:75.98M (0.00M, Peak 78.09M) | Time:00:01.42 | Remaining:00:00.75 | Mem:34.34M, Peak:34.34M | Scene, RenderLayer | Path Tracing Tile 1/2, Sample 365/512\n",
      "Fra:1 Mem:73.87M (0.00M, Peak 78.09M) | Time:00:01.83 | Remaining:00:00.35 | Mem:32.23M, Peak:34.34M | Scene, RenderLayer | Path Tracing Tile 1/2, Sample 512/512\n",
      "Fra:1 Mem:74.40M (0.00M, Peak 78.09M) | Time:00:01.83 | Remaining:00:00.35 | Mem:32.76M, Peak:34.34M | Scene, RenderLayer | Path Tracing Tile 2/2, Sample 512/512\n",
      "Fra:1 Mem:73.87M (0.00M, Peak 78.09M) | Time:00:02.22 | Mem:32.23M, Peak:34.34M | Scene, RenderLayer | Finished\n",
      "Fra:1 Mem:25.52M (0.00M, Peak 78.09M) | Time:00:02.29 | Sce: Scene Ve:0 Fa:0 La:0\n",
      "Saved: '../output/images/CLEVR_new_000008.png'\n",
      " Time: 00:02.31 (Saving: 00:00.02)\n",
      "\n",
      "read blend: data/base_scene.blend\n",
      "convertViewVec: called in an invalid context\n",
      "0.0011011769313411524 0.4 behind\n",
      "BROKEN MARGIN!\n",
      "convertViewVec: called in an invalid context\n",
      "convertViewVec: called in an invalid context\n",
      "convertViewVec: called in an invalid context\n",
      "Fra:1 Mem:17.13M (0.00M, Peak 17.13M) | Time:00:00.00 | Preparing Scene data\n",
      "Fra:1 Mem:25.81M (0.00M, Peak 27.96M) | Time:00:00.02 | Preparing Scene data\n",
      "Fra:1 Mem:25.81M (0.00M, Peak 27.96M) | Time:00:00.02 | Creating Shadowbuffers\n",
      "Fra:1 Mem:25.81M (0.00M, Peak 27.96M) | Time:00:00.02 | Raytree.. preparing\n",
      "Fra:1 Mem:35.27M (0.00M, Peak 35.27M) | Time:00:00.03 | Raytree.. building\n",
      "Fra:1 Mem:34.76M (0.00M, Peak 49.53M) | Time:00:00.15 | Raytree finished\n",
      "Fra:1 Mem:34.76M (0.00M, Peak 49.53M) | Time:00:00.15 | Creating Environment maps\n",
      "Fra:1 Mem:34.76M (0.00M, Peak 49.53M) | Time:00:00.15 | Caching Point Densities\n",
      "Fra:1 Mem:34.76M (0.00M, Peak 49.53M) | Time:00:00.15 | Sce: Scene Ve:69806 Fa:68864 La:1\n",
      "Fra:1 Mem:34.76M (0.00M, Peak 49.53M) | Time:00:00.15 | Loading voxel datasets\n",
      "Fra:1 Mem:34.76M (0.00M, Peak 49.53M) | Time:00:00.15 | Sce: Scene Ve:69806 Fa:68864 La:1\n",
      "Fra:1 Mem:34.76M (0.00M, Peak 49.53M) | Time:00:00.15 | Sce: Scene Ve:69806 Fa:68864 La:1\n",
      "Fra:1 Mem:34.76M (0.00M, Peak 49.53M) | Time:00:00.15 | Volume preprocessing\n",
      "Fra:1 Mem:34.76M (0.00M, Peak 49.53M) | Time:00:00.15 | Sce: Scene Ve:69806 Fa:68864 La:1\n",
      "Fra:1 Mem:34.76M (0.00M, Peak 49.53M) | Time:00:00.15 | Sce: Scene Ve:69806 Fa:68864 La:1\n",
      "Fra:1 Mem:36.93M (0.00M, Peak 49.53M) | Time:00:00.16 | Scene, Part 2-2\n",
      "Fra:1 Mem:35.93M (0.00M, Peak 49.53M) | Time:00:00.18 | Scene, Part 1-2\n",
      "Fra:1 Mem:16.98M (0.00M, Peak 49.53M) | Time:00:00.19 | Sce: Scene Ve:69806 Fa:68864 La:1\n",
      "Saved: '/tmp/tmpc_81rmdu.png'\n",
      " Time: 00:00.20 (Saving: 00:00.01)\n",
      "\n",
      "Fra:1 Mem:26.12M (0.00M, Peak 28.27M) | Time:00:00.01 | Preparing Scene data\n",
      "Fra:1 Mem:26.12M (0.00M, Peak 28.27M) | Time:00:00.01 | Creating Shadowbuffers\n",
      "Fra:1 Mem:26.12M (0.00M, Peak 28.27M) | Time:00:00.01 | Raytree.. preparing\n",
      "Fra:1 Mem:35.58M (0.00M, Peak 35.58M) | Time:00:00.02 | Raytree.. building\n",
      "Fra:1 Mem:35.07M (0.00M, Peak 49.84M) | Time:00:00.15 | Raytree finished\n",
      "Fra:1 Mem:35.07M (0.00M, Peak 49.84M) | Time:00:00.15 | Creating Environment maps\n",
      "Fra:1 Mem:35.07M (0.00M, Peak 49.84M) | Time:00:00.15 | Caching Point Densities\n",
      "Fra:1 Mem:35.07M (0.00M, Peak 49.84M) | Time:00:00.15 | Sce: Scene Ve:69806 Fa:68864 La:1\n",
      "Fra:1 Mem:35.07M (0.00M, Peak 49.84M) | Time:00:00.15 | Loading voxel datasets\n",
      "Fra:1 Mem:35.07M (0.00M, Peak 49.84M) | Time:00:00.15 | Sce: Scene Ve:69806 Fa:68864 La:1\n",
      "Fra:1 Mem:35.07M (0.00M, Peak 49.84M) | Time:00:00.15 | Sce: Scene Ve:69806 Fa:68864 La:1\n",
      "Fra:1 Mem:35.07M (0.00M, Peak 49.84M) | Time:00:00.15 | Volume preprocessing\n",
      "Fra:1 Mem:35.07M (0.00M, Peak 49.84M) | Time:00:00.15 | Sce: Scene Ve:69806 Fa:68864 La:1\n",
      "Fra:1 Mem:35.07M (0.00M, Peak 49.84M) | Time:00:00.15 | Sce: Scene Ve:69806 Fa:68864 La:1\n",
      "Fra:1 Mem:37.24M (0.00M, Peak 49.84M) | Time:00:00.15 | Scene, Part 2-2\n",
      "Fra:1 Mem:36.24M (0.00M, Peak 49.84M) | Time:00:00.17 | Scene, Part 1-2\n",
      "Fra:1 Mem:17.29M (0.00M, Peak 49.84M) | Time:00:00.18 | Sce: Scene Ve:69806 Fa:68864 La:1\n",
      "Saved: '../output/images/CLEVR_new_000009_mask.png'\n",
      " Time: 00:00.19 (Saving: 00:00.00)\n",
      "\n",
      "Fra:1 Mem:17.01M (0.00M, Peak 17.32M) | Time:00:00.16 | Mem:0.00M, Peak:0.00M | Scene, RenderLayer | Synchronizing object | Area\n",
      "Fra:1 Mem:17.01M (0.00M, Peak 17.32M) | Time:00:00.16 | Mem:0.00M, Peak:0.00M | Scene, RenderLayer | Synchronizing object | Ground\n",
      "Fra:1 Mem:17.08M (0.00M, Peak 17.34M) | Time:00:00.17 | Mem:0.00M, Peak:0.00M | Scene, RenderLayer | Synchronizing object | Empty\n",
      "Fra:1 Mem:17.08M (0.00M, Peak 17.34M) | Time:00:00.17 | Mem:0.00M, Peak:0.00M | Scene, RenderLayer | Synchronizing object | Lamp_Back\n",
      "Fra:1 Mem:17.08M (0.00M, Peak 17.34M) | Time:00:00.17 | Mem:0.00M, Peak:0.00M | Scene, RenderLayer | Synchronizing object | Lamp_Fill\n",
      "Fra:1 Mem:17.08M (0.00M, Peak 17.34M) | Time:00:00.17 | Mem:0.00M, Peak:0.00M | Scene, RenderLayer | Synchronizing object | Lamp_Key\n",
      "Fra:1 Mem:17.08M (0.00M, Peak 17.34M) | Time:00:00.17 | Mem:0.00M, Peak:0.00M | Scene, RenderLayer | Synchronizing object | Camera\n",
      "Fra:1 Mem:17.08M (0.00M, Peak 17.34M) | Time:00:00.17 | Mem:0.00M, Peak:0.00M | Scene, RenderLayer | Synchronizing object | Sphere_0\n",
      "Fra:1 Mem:18.34M (0.00M, Peak 19.84M) | Time:00:00.17 | Mem:0.00M, Peak:0.00M | Scene, RenderLayer | Synchronizing object | Sphere_1\n",
      "Fra:1 Mem:19.60M (0.00M, Peak 21.10M) | Time:00:00.17 | Mem:0.00M, Peak:0.00M | Scene, RenderLayer | Synchronizing object | SmoothCube_v2_0\n",
      "Fra:1 Mem:19.97M (0.00M, Peak 21.10M) | Time:00:00.18 | Mem:0.00M, Peak:0.00M | Scene, RenderLayer | Synchronizing object | SmoothCylinder_0\n",
      "Fra:1 Mem:22.75M (0.00M, Peak 25.97M) | Time:00:00.19 | Mem:0.00M, Peak:0.00M | Scene, RenderLayer | Initializing\n",
      "Fra:1 Mem:22.75M (0.00M, Peak 25.97M) | Time:00:00.19 | Mem:0.00M, Peak:0.00M | Scene, RenderLayer | Loading render kernels (may take a few minutes the first time)\n",
      "Fra:1 Mem:22.75M (0.00M, Peak 26.48M) | Time:00:00.22 | Mem:0.00M, Peak:0.00M | Scene, RenderLayer | Waiting for render to start\n",
      "Fra:1 Mem:22.75M (0.00M, Peak 26.48M) | Time:00:00.22 | Mem:0.00M, Peak:0.00M | Scene, RenderLayer | Updating Scene\n",
      "Fra:1 Mem:22.75M (0.00M, Peak 26.48M) | Time:00:00.22 | Mem:0.00M, Peak:0.00M | Scene, RenderLayer | Updating Shaders\n",
      "Fra:1 Mem:23.01M (0.00M, Peak 26.48M) | Time:00:00.22 | Mem:0.00M, Peak:0.00M | Scene, RenderLayer | Updating Background\n",
      "Fra:1 Mem:23.01M (0.00M, Peak 26.48M) | Time:00:00.22 | Mem:0.00M, Peak:0.00M | Scene, RenderLayer | Updating Camera\n",
      "Fra:1 Mem:23.01M (0.00M, Peak 26.48M) | Time:00:00.22 | Mem:0.00M, Peak:0.00M | Scene, RenderLayer | Updating Meshes Flags\n",
      "Fra:1 Mem:23.01M (0.00M, Peak 26.48M) | Time:00:00.22 | Mem:0.00M, Peak:0.00M | Scene, RenderLayer | Updating Objects\n",
      "Fra:1 Mem:23.01M (0.00M, Peak 26.48M) | Time:00:00.22 | Mem:0.00M, Peak:0.00M | Scene, RenderLayer | Updating Objects | Copying Transformations to device\n",
      "Fra:1 Mem:23.01M (0.00M, Peak 26.48M) | Time:00:00.22 | Mem:0.00M, Peak:0.00M | Scene, RenderLayer | Updating Objects | Applying Static Transformations\n",
      "Fra:1 Mem:23.01M (0.00M, Peak 26.48M) | Time:00:00.22 | Mem:0.00M, Peak:0.00M | Scene, RenderLayer | Updating Meshes\n",
      "Fra:1 Mem:25.09M (0.00M, Peak 26.48M) | Time:00:00.23 | Mem:0.00M, Peak:0.00M | Scene, RenderLayer | Updating Mesh | Computing attributes\n",
      "Fra:1 Mem:25.15M (0.00M, Peak 26.48M) | Time:00:00.23 | Mem:0.00M, Peak:0.00M | Scene, RenderLayer | Updating Mesh | Copying Attributes to device\n",
      "Fra:1 Mem:25.15M (0.00M, Peak 26.48M) | Time:00:00.23 | Mem:0.06M, Peak:0.06M | Scene, RenderLayer | Updating Scene BVH | Building\n",
      "Fra:1 Mem:25.15M (0.00M, Peak 26.48M) | Time:00:00.23 | Mem:0.06M, Peak:0.06M | Scene, RenderLayer | Updating Scene BVH | Building BVH\n",
      "Fra:1 Mem:32.96M (0.00M, Peak 32.96M) | Time:00:00.30 | Mem:0.06M, Peak:0.06M | Scene, RenderLayer | Updating Scene BVH | Packing BVH triangles and strands\n",
      "Fra:1 Mem:40.25M (0.00M, Peak 40.25M) | Time:00:00.31 | Mem:0.06M, Peak:0.06M | Scene, RenderLayer | Updating Scene BVH | Packing BVH nodes\n",
      "Fra:1 Mem:36.15M (0.00M, Peak 42.40M) | Time:00:00.32 | Mem:0.06M, Peak:0.06M | Scene, RenderLayer | Updating Scene BVH | Copying BVH to device\n",
      "Fra:1 Mem:36.68M (0.00M, Peak 42.40M) | Time:00:00.33 | Mem:11.07M, Peak:11.07M | Scene, RenderLayer | Updating Mesh | Computing normals\n",
      "Fra:1 Mem:41.42M (0.00M, Peak 42.40M) | Time:00:00.33 | Mem:11.07M, Peak:11.07M | Scene, RenderLayer | Updating Mesh | Copying Mesh to device\n",
      "Fra:1 Mem:40.90M (0.00M, Peak 42.40M) | Time:00:00.33 | Mem:15.81M, Peak:15.81M | Scene, RenderLayer | Updating Objects Flags\n",
      "Fra:1 Mem:40.90M (0.00M, Peak 42.40M) | Time:00:00.33 | Mem:15.81M, Peak:15.81M | Scene, RenderLayer | Updating Images\n",
      "Fra:1 Mem:40.90M (0.00M, Peak 42.40M) | Time:00:00.33 | Mem:15.81M, Peak:15.81M | Scene, RenderLayer | Updating Camera Volume\n",
      "Fra:1 Mem:40.90M (0.00M, Peak 42.40M) | Time:00:00.33 | Mem:15.81M, Peak:15.81M | Scene, RenderLayer | Updating Hair Systems\n",
      "Fra:1 Mem:40.90M (0.00M, Peak 42.40M) | Time:00:00.33 | Mem:15.81M, Peak:15.81M | Scene, RenderLayer | Updating Hair settings | Copying Hair settings to device\n",
      "Fra:1 Mem:40.90M (0.00M, Peak 42.40M) | Time:00:00.33 | Mem:15.81M, Peak:15.81M | Scene, RenderLayer | Updating Lookup Tables\n",
      "Fra:1 Mem:40.90M (0.00M, Peak 42.40M) | Time:00:00.33 | Mem:16.06M, Peak:16.06M | Scene, RenderLayer | Updating Lights\n",
      "Fra:1 Mem:40.90M (0.00M, Peak 42.40M) | Time:00:00.33 | Mem:16.06M, Peak:16.06M | Scene, RenderLayer | Updating Lights | Computing distribution\n",
      "Fra:1 Mem:40.90M (0.00M, Peak 42.40M) | Time:00:00.33 | Mem:16.06M, Peak:16.06M | Scene, RenderLayer | Updating Particle Systems\n",
      "Fra:1 Mem:40.90M (0.00M, Peak 42.40M) | Time:00:00.33 | Mem:16.06M, Peak:16.06M | Scene, RenderLayer | Updating Particle Systems | Copying Particles to device\n",
      "Fra:1 Mem:40.90M (0.00M, Peak 42.40M) | Time:00:00.33 | Mem:16.06M, Peak:16.06M | Scene, RenderLayer | Updating Integrator\n",
      "Fra:1 Mem:40.94M (0.00M, Peak 42.40M) | Time:00:00.33 | Mem:16.10M, Peak:16.10M | Scene, RenderLayer | Updating Film\n",
      "Fra:1 Mem:40.94M (0.00M, Peak 42.40M) | Time:00:00.33 | Mem:16.10M, Peak:16.10M | Scene, RenderLayer | Updating Lookup Tables\n",
      "Fra:1 Mem:40.94M (0.00M, Peak 42.40M) | Time:00:00.33 | Mem:16.11M, Peak:16.11M | Scene, RenderLayer | Updating Baking\n",
      "Fra:1 Mem:40.94M (0.00M, Peak 42.40M) | Time:00:00.33 | Mem:16.11M, Peak:16.11M | Scene, RenderLayer | Updating Device | Writing constant memory\n",
      "Fra:1 Mem:40.94M (0.00M, Peak 42.40M) | Time:00:00.33 | Mem:16.11M, Peak:16.11M | Scene, RenderLayer | Path Tracing Tile 0/2, Sample 0/512\n",
      "Fra:1 Mem:43.05M (0.00M, Peak 44.23M) | Time:00:00.34 | Mem:18.22M, Peak:18.22M | Scene, RenderLayer | Path Tracing Tile 1/2, Sample 0/512\n",
      "Fra:1 Mem:43.05M (0.00M, Peak 45.16M) | Time:00:01.34 | Remaining:00:00.83 | Mem:18.22M, Peak:18.22M | Scene, RenderLayer | Path Tracing Tile 1/2, Sample 349/512\n",
      "Fra:1 Mem:40.94M (0.00M, Peak 45.16M) | Time:00:01.80 | Remaining:00:00.36 | Mem:16.11M, Peak:18.22M | Scene, RenderLayer | Path Tracing Tile 1/2, Sample 512/512\n",
      "Fra:1 Mem:41.47M (0.00M, Peak 45.16M) | Time:00:01.81 | Remaining:00:00.36 | Mem:16.64M, Peak:18.22M | Scene, RenderLayer | Path Tracing Tile 2/2, Sample 512/512\n",
      "Fra:1 Mem:40.94M (0.00M, Peak 45.16M) | Time:00:02.20 | Mem:16.11M, Peak:18.22M | Scene, RenderLayer | Finished\n",
      "Fra:1 Mem:17.01M (0.00M, Peak 45.16M) | Time:00:02.27 | Sce: Scene Ve:0 Fa:0 La:0\n",
      "Saved: '../output/images/CLEVR_new_000009.png'\n",
      " Time: 00:02.29 (Saving: 00:00.02)\n",
      "\n",
      "\n",
      "Blender quit\n",
      "/home/kevin/clevr-dataset-gen\n"
     ]
    }
   ],
   "source": [
    "%cd image_generation\n",
    "!../blender/blender --background \\\n",
    "    --python render_images.py -- \\\n",
    "    --num_images 100 --use_gpu 1 --min_objects 2 --max_objects 6\n",
    "%cd .."
   ]
  },
  {
   "cell_type": "markdown",
   "metadata": {},
   "source": [
    "# Question template generation"
   ]
  },
  {
   "cell_type": "code",
   "execution_count": 4,
   "metadata": {},
   "outputs": [
    {
     "name": "stdout",
     "output_type": "stream",
     "text": [
      "Collecting pyjson5\n",
      "  Downloading pyjson5-1.5.2-cp37-cp37m-manylinux2014_x86_64.whl (232 kB)\n",
      "\u001b[K     |████████████████████████████████| 232 kB 6.6 MB/s eta 0:00:01\n",
      "\u001b[?25hInstalling collected packages: pyjson5\n",
      "Successfully installed pyjson5-1.5.2\n"
     ]
    }
   ],
   "source": [
    "!pip install pyjson5"
   ]
  },
  {
   "cell_type": "code",
   "execution_count": 5,
   "metadata": {},
   "outputs": [
    {
     "name": "stdout",
     "output_type": "stream",
     "text": [
      "/dfs/user/liuk/reasoning/clevr_dataset_gen/relation_generator\n",
      "Generating relations\n",
      "Saving templates to ../question_generation/babyarc\n",
      "Generating relations for same_shape and same_shape\n",
      "Generating relations for same_shape and same_material\n",
      "Generating relations for same_shape and same_size\n",
      "Generating relations for same_shape and same_color\n",
      "Generating relations for same_material and same_shape\n",
      "Generating relations for same_material and same_material\n",
      "Generating relations for same_material and same_size\n",
      "Generating relations for same_material and same_color\n",
      "Generating relations for same_size and same_shape\n",
      "Generating relations for same_size and same_material\n",
      "Generating relations for same_size and same_size\n",
      "Generating relations for same_size and same_color\n",
      "Generating relations for same_color and same_shape\n",
      "Generating relations for same_color and same_material\n",
      "Generating relations for same_color and same_size\n",
      "Generating relations for same_color and same_color\n",
      "/dfs/user/liuk/reasoning/clevr_dataset_gen\n"
     ]
    }
   ],
   "source": [
    "%cd relation_generator\n",
    "!python generate_relations.py\n",
    "%cd .."
   ]
  },
  {
   "cell_type": "markdown",
   "metadata": {},
   "source": [
    "# Question generation"
   ]
  },
  {
   "cell_type": "code",
   "execution_count": 20,
   "metadata": {},
   "outputs": [
    {
     "name": "stdout",
     "output_type": "stream",
     "text": [
      "/dfs/user/liuk/reasoning/clevr_dataset_gen/question_generation\n",
      "Read 32 templates from disk\n",
      "starting image CLEVR_new_000000.png (1 / 2000)\n",
      "resetting counts\n",
      "starting image CLEVR_new_000001.png (2 / 2000)\n",
      "starting image CLEVR_new_000002.png (3 / 2000)\n",
      "starting image CLEVR_new_000003.png (4 / 2000)\n",
      "starting image CLEVR_new_000004.png (5 / 2000)\n",
      "starting image CLEVR_new_000005.png (6 / 2000)\n",
      "starting image CLEVR_new_000006.png (7 / 2000)\n",
      "starting image CLEVR_new_000007.png (8 / 2000)\n",
      "starting image CLEVR_new_000008.png (9 / 2000)\n",
      "starting image CLEVR_new_000009.png (10 / 2000)\n",
      "starting image CLEVR_new_000010.png (11 / 2000)\n",
      "starting image CLEVR_new_000011.png (12 / 2000)\n",
      "starting image CLEVR_new_000012.png (13 / 2000)\n",
      "starting image CLEVR_new_000013.png (14 / 2000)\n",
      "starting image CLEVR_new_000014.png (15 / 2000)\n",
      "starting image CLEVR_new_000015.png (16 / 2000)\n",
      "starting image CLEVR_new_000016.png (17 / 2000)\n",
      "starting image CLEVR_new_000017.png (18 / 2000)\n",
      "starting image CLEVR_new_000018.png (19 / 2000)\n",
      "starting image CLEVR_new_000019.png (20 / 2000)\n",
      "starting image CLEVR_new_000020.png (21 / 2000)\n",
      "starting image CLEVR_new_000021.png (22 / 2000)\n",
      "starting image CLEVR_new_000022.png (23 / 2000)\n",
      "starting image CLEVR_new_000023.png (24 / 2000)\n",
      "starting image CLEVR_new_000024.png (25 / 2000)\n",
      "starting image CLEVR_new_000025.png (26 / 2000)\n",
      "starting image CLEVR_new_000026.png (27 / 2000)\n",
      "starting image CLEVR_new_000027.png (28 / 2000)\n",
      "starting image CLEVR_new_000028.png (29 / 2000)\n",
      "starting image CLEVR_new_000029.png (30 / 2000)\n",
      "starting image CLEVR_new_000030.png (31 / 2000)\n",
      "starting image CLEVR_new_000031.png (32 / 2000)\n",
      "starting image CLEVR_new_000032.png (33 / 2000)\n",
      "starting image CLEVR_new_000033.png (34 / 2000)\n",
      "starting image CLEVR_new_000034.png (35 / 2000)\n",
      "starting image CLEVR_new_000035.png (36 / 2000)\n",
      "starting image CLEVR_new_000036.png (37 / 2000)\n",
      "starting image CLEVR_new_000037.png (38 / 2000)\n",
      "starting image CLEVR_new_000038.png (39 / 2000)\n",
      "starting image CLEVR_new_000039.png (40 / 2000)\n",
      "starting image CLEVR_new_000040.png (41 / 2000)\n",
      "starting image CLEVR_new_000041.png (42 / 2000)\n",
      "starting image CLEVR_new_000042.png (43 / 2000)\n",
      "starting image CLEVR_new_000043.png (44 / 2000)\n",
      "starting image CLEVR_new_000044.png (45 / 2000)\n",
      "starting image CLEVR_new_000045.png (46 / 2000)\n",
      "starting image CLEVR_new_000046.png (47 / 2000)\n",
      "starting image CLEVR_new_000047.png (48 / 2000)\n",
      "starting image CLEVR_new_000048.png (49 / 2000)\n",
      "starting image CLEVR_new_000049.png (50 / 2000)\n",
      "starting image CLEVR_new_000050.png (51 / 2000)\n",
      "starting image CLEVR_new_000051.png (52 / 2000)\n",
      "starting image CLEVR_new_000052.png (53 / 2000)\n",
      "starting image CLEVR_new_000053.png (54 / 2000)\n",
      "starting image CLEVR_new_000054.png (55 / 2000)\n",
      "starting image CLEVR_new_000055.png (56 / 2000)\n",
      "starting image CLEVR_new_000056.png (57 / 2000)\n",
      "starting image CLEVR_new_000057.png (58 / 2000)\n",
      "starting image CLEVR_new_000058.png (59 / 2000)\n",
      "starting image CLEVR_new_000059.png (60 / 2000)\n",
      "starting image CLEVR_new_000060.png (61 / 2000)\n",
      "starting image CLEVR_new_000061.png (62 / 2000)\n",
      "starting image CLEVR_new_000062.png (63 / 2000)\n",
      "starting image CLEVR_new_000063.png (64 / 2000)\n",
      "starting image CLEVR_new_000064.png (65 / 2000)\n",
      "starting image CLEVR_new_000065.png (66 / 2000)\n",
      "starting image CLEVR_new_000066.png (67 / 2000)\n",
      "starting image CLEVR_new_000067.png (68 / 2000)\n",
      "starting image CLEVR_new_000068.png (69 / 2000)\n",
      "starting image CLEVR_new_000069.png (70 / 2000)\n",
      "starting image CLEVR_new_000070.png (71 / 2000)\n",
      "starting image CLEVR_new_000071.png (72 / 2000)\n",
      "starting image CLEVR_new_000072.png (73 / 2000)\n",
      "starting image CLEVR_new_000073.png (74 / 2000)\n",
      "starting image CLEVR_new_000074.png (75 / 2000)\n",
      "starting image CLEVR_new_000075.png (76 / 2000)\n",
      "starting image CLEVR_new_000076.png (77 / 2000)\n",
      "starting image CLEVR_new_000077.png (78 / 2000)\n",
      "starting image CLEVR_new_000078.png (79 / 2000)\n",
      "starting image CLEVR_new_000079.png (80 / 2000)\n",
      "starting image CLEVR_new_000080.png (81 / 2000)\n",
      "starting image CLEVR_new_000081.png (82 / 2000)\n",
      "starting image CLEVR_new_000082.png (83 / 2000)\n",
      "starting image CLEVR_new_000083.png (84 / 2000)\n",
      "starting image CLEVR_new_000084.png (85 / 2000)\n",
      "starting image CLEVR_new_000085.png (86 / 2000)\n",
      "starting image CLEVR_new_000086.png (87 / 2000)\n",
      "starting image CLEVR_new_000087.png (88 / 2000)\n",
      "starting image CLEVR_new_000088.png (89 / 2000)\n",
      "starting image CLEVR_new_000089.png (90 / 2000)\n",
      "starting image CLEVR_new_000090.png (91 / 2000)\n",
      "starting image CLEVR_new_000091.png (92 / 2000)\n",
      "starting image CLEVR_new_000092.png (93 / 2000)\n",
      "starting image CLEVR_new_000093.png (94 / 2000)\n",
      "starting image CLEVR_new_000094.png (95 / 2000)\n",
      "starting image CLEVR_new_000095.png (96 / 2000)\n",
      "starting image CLEVR_new_000096.png (97 / 2000)\n",
      "starting image CLEVR_new_000097.png (98 / 2000)\n",
      "starting image CLEVR_new_000098.png (99 / 2000)\n",
      "starting image CLEVR_new_000099.png (100 / 2000)\n",
      "starting image CLEVR_new_000100.png (101 / 2000)\n",
      "starting image CLEVR_new_000101.png (102 / 2000)\n",
      "starting image CLEVR_new_000102.png (103 / 2000)\n",
      "starting image CLEVR_new_000103.png (104 / 2000)\n",
      "starting image CLEVR_new_000104.png (105 / 2000)\n",
      "starting image CLEVR_new_000105.png (106 / 2000)\n",
      "starting image CLEVR_new_000106.png (107 / 2000)\n",
      "starting image CLEVR_new_000107.png (108 / 2000)\n",
      "starting image CLEVR_new_000108.png (109 / 2000)\n",
      "starting image CLEVR_new_000109.png (110 / 2000)\n",
      "starting image CLEVR_new_000110.png (111 / 2000)\n",
      "starting image CLEVR_new_000111.png (112 / 2000)\n",
      "starting image CLEVR_new_000112.png (113 / 2000)\n",
      "starting image CLEVR_new_000113.png (114 / 2000)\n",
      "starting image CLEVR_new_000114.png (115 / 2000)\n",
      "starting image CLEVR_new_000115.png (116 / 2000)\n",
      "starting image CLEVR_new_000116.png (117 / 2000)\n",
      "starting image CLEVR_new_000117.png (118 / 2000)\n",
      "starting image CLEVR_new_000118.png (119 / 2000)\n",
      "starting image CLEVR_new_000119.png (120 / 2000)\n",
      "starting image CLEVR_new_000120.png (121 / 2000)\n",
      "starting image CLEVR_new_000121.png (122 / 2000)\n",
      "starting image CLEVR_new_000122.png (123 / 2000)\n",
      "starting image CLEVR_new_000123.png (124 / 2000)\n",
      "starting image CLEVR_new_000124.png (125 / 2000)\n",
      "starting image CLEVR_new_000125.png (126 / 2000)\n",
      "starting image CLEVR_new_000126.png (127 / 2000)\n",
      "starting image CLEVR_new_000127.png (128 / 2000)\n",
      "starting image CLEVR_new_000128.png (129 / 2000)\n",
      "starting image CLEVR_new_000129.png (130 / 2000)\n",
      "starting image CLEVR_new_000130.png (131 / 2000)\n",
      "starting image CLEVR_new_000131.png (132 / 2000)\n",
      "starting image CLEVR_new_000132.png (133 / 2000)\n",
      "starting image CLEVR_new_000133.png (134 / 2000)\n",
      "starting image CLEVR_new_000134.png (135 / 2000)\n",
      "starting image CLEVR_new_000135.png (136 / 2000)\n",
      "starting image CLEVR_new_000136.png (137 / 2000)\n",
      "starting image CLEVR_new_000137.png (138 / 2000)\n",
      "starting image CLEVR_new_000138.png (139 / 2000)\n",
      "starting image CLEVR_new_000139.png (140 / 2000)\n",
      "starting image CLEVR_new_000140.png (141 / 2000)\n",
      "starting image CLEVR_new_000141.png (142 / 2000)\n",
      "starting image CLEVR_new_000142.png (143 / 2000)\n",
      "starting image CLEVR_new_000143.png (144 / 2000)\n",
      "starting image CLEVR_new_000144.png (145 / 2000)\n",
      "starting image CLEVR_new_000145.png (146 / 2000)\n",
      "starting image CLEVR_new_000146.png (147 / 2000)\n",
      "starting image CLEVR_new_000147.png (148 / 2000)\n",
      "starting image CLEVR_new_000148.png (149 / 2000)\n",
      "starting image CLEVR_new_000149.png (150 / 2000)\n",
      "starting image CLEVR_new_000150.png (151 / 2000)\n",
      "starting image CLEVR_new_000151.png (152 / 2000)\n",
      "starting image CLEVR_new_000152.png (153 / 2000)\n",
      "starting image CLEVR_new_000153.png (154 / 2000)\n",
      "starting image CLEVR_new_000154.png (155 / 2000)\n",
      "starting image CLEVR_new_000155.png (156 / 2000)\n",
      "starting image CLEVR_new_000156.png (157 / 2000)\n",
      "starting image CLEVR_new_000157.png (158 / 2000)\n",
      "starting image CLEVR_new_000158.png (159 / 2000)\n",
      "starting image CLEVR_new_000159.png (160 / 2000)\n",
      "starting image CLEVR_new_000160.png (161 / 2000)\n",
      "starting image CLEVR_new_000161.png (162 / 2000)\n",
      "starting image CLEVR_new_000162.png (163 / 2000)\n",
      "starting image CLEVR_new_000163.png (164 / 2000)\n",
      "starting image CLEVR_new_000164.png (165 / 2000)\n",
      "starting image CLEVR_new_000165.png (166 / 2000)\n",
      "starting image CLEVR_new_000166.png (167 / 2000)\n",
      "starting image CLEVR_new_000167.png (168 / 2000)\n",
      "starting image CLEVR_new_000168.png (169 / 2000)\n",
      "starting image CLEVR_new_000169.png (170 / 2000)\n",
      "starting image CLEVR_new_000170.png (171 / 2000)\n",
      "starting image CLEVR_new_000171.png (172 / 2000)\n",
      "starting image CLEVR_new_000172.png (173 / 2000)\n",
      "starting image CLEVR_new_000173.png (174 / 2000)\n",
      "starting image CLEVR_new_000174.png (175 / 2000)\n",
      "starting image CLEVR_new_000175.png (176 / 2000)\n",
      "starting image CLEVR_new_000176.png (177 / 2000)\n",
      "starting image CLEVR_new_000177.png (178 / 2000)\n",
      "starting image CLEVR_new_000178.png (179 / 2000)\n",
      "starting image CLEVR_new_000179.png (180 / 2000)\n",
      "starting image CLEVR_new_000180.png (181 / 2000)\n",
      "starting image CLEVR_new_000181.png (182 / 2000)\n",
      "starting image CLEVR_new_000182.png (183 / 2000)\n",
      "starting image CLEVR_new_000183.png (184 / 2000)\n",
      "starting image CLEVR_new_000184.png (185 / 2000)\n",
      "starting image CLEVR_new_000185.png (186 / 2000)\n",
      "starting image CLEVR_new_000186.png (187 / 2000)\n",
      "starting image CLEVR_new_000187.png (188 / 2000)\n",
      "starting image CLEVR_new_000188.png (189 / 2000)\n",
      "starting image CLEVR_new_000189.png (190 / 2000)\n",
      "starting image CLEVR_new_000190.png (191 / 2000)\n",
      "starting image CLEVR_new_000191.png (192 / 2000)\n",
      "starting image CLEVR_new_000192.png (193 / 2000)\n",
      "starting image CLEVR_new_000193.png (194 / 2000)\n",
      "starting image CLEVR_new_000194.png (195 / 2000)\n",
      "starting image CLEVR_new_000195.png (196 / 2000)\n",
      "starting image CLEVR_new_000196.png (197 / 2000)\n",
      "starting image CLEVR_new_000197.png (198 / 2000)\n",
      "starting image CLEVR_new_000198.png (199 / 2000)\n",
      "starting image CLEVR_new_000199.png (200 / 2000)\n",
      "starting image CLEVR_new_000200.png (201 / 2000)\n",
      "starting image CLEVR_new_000201.png (202 / 2000)\n",
      "starting image CLEVR_new_000202.png (203 / 2000)\n",
      "starting image CLEVR_new_000203.png (204 / 2000)\n",
      "starting image CLEVR_new_000204.png (205 / 2000)\n",
      "starting image CLEVR_new_000205.png (206 / 2000)\n",
      "starting image CLEVR_new_000206.png (207 / 2000)\n",
      "starting image CLEVR_new_000207.png (208 / 2000)\n",
      "starting image CLEVR_new_000208.png (209 / 2000)\n",
      "starting image CLEVR_new_000209.png (210 / 2000)\n",
      "starting image CLEVR_new_000210.png (211 / 2000)\n",
      "starting image CLEVR_new_000211.png (212 / 2000)\n",
      "starting image CLEVR_new_000212.png (213 / 2000)\n",
      "starting image CLEVR_new_000213.png (214 / 2000)\n",
      "starting image CLEVR_new_000214.png (215 / 2000)\n",
      "starting image CLEVR_new_000215.png (216 / 2000)\n",
      "starting image CLEVR_new_000216.png (217 / 2000)\n",
      "starting image CLEVR_new_000217.png (218 / 2000)\n",
      "starting image CLEVR_new_000218.png (219 / 2000)\n",
      "starting image CLEVR_new_000219.png (220 / 2000)\n",
      "starting image CLEVR_new_000220.png (221 / 2000)\n",
      "starting image CLEVR_new_000221.png (222 / 2000)\n",
      "starting image CLEVR_new_000222.png (223 / 2000)\n",
      "starting image CLEVR_new_000223.png (224 / 2000)\n",
      "starting image CLEVR_new_000224.png (225 / 2000)\n",
      "starting image CLEVR_new_000225.png (226 / 2000)\n",
      "starting image CLEVR_new_000226.png (227 / 2000)\n",
      "starting image CLEVR_new_000227.png (228 / 2000)\n",
      "starting image CLEVR_new_000228.png (229 / 2000)\n",
      "starting image CLEVR_new_000229.png (230 / 2000)\n",
      "starting image CLEVR_new_000230.png (231 / 2000)\n",
      "starting image CLEVR_new_000231.png (232 / 2000)\n",
      "starting image CLEVR_new_000232.png (233 / 2000)\n",
      "starting image CLEVR_new_000233.png (234 / 2000)\n",
      "starting image CLEVR_new_000234.png (235 / 2000)\n",
      "starting image CLEVR_new_000235.png (236 / 2000)\n",
      "starting image CLEVR_new_000236.png (237 / 2000)\n",
      "starting image CLEVR_new_000237.png (238 / 2000)\n",
      "starting image CLEVR_new_000238.png (239 / 2000)\n",
      "starting image CLEVR_new_000239.png (240 / 2000)\n",
      "starting image CLEVR_new_000240.png (241 / 2000)\n",
      "starting image CLEVR_new_000241.png (242 / 2000)\n",
      "starting image CLEVR_new_000242.png (243 / 2000)\n",
      "starting image CLEVR_new_000243.png (244 / 2000)\n",
      "starting image CLEVR_new_000244.png (245 / 2000)\n",
      "starting image CLEVR_new_000245.png (246 / 2000)\n",
      "starting image CLEVR_new_000246.png (247 / 2000)\n",
      "starting image CLEVR_new_000247.png (248 / 2000)\n",
      "starting image CLEVR_new_000248.png (249 / 2000)\n",
      "starting image CLEVR_new_000249.png (250 / 2000)\n",
      "starting image CLEVR_new_000250.png (251 / 2000)\n",
      "resetting counts\n",
      "starting image CLEVR_new_000251.png (252 / 2000)\n",
      "starting image CLEVR_new_000252.png (253 / 2000)\n",
      "starting image CLEVR_new_000253.png (254 / 2000)\n",
      "starting image CLEVR_new_000254.png (255 / 2000)\n",
      "starting image CLEVR_new_000255.png (256 / 2000)\n",
      "starting image CLEVR_new_000256.png (257 / 2000)\n",
      "starting image CLEVR_new_000257.png (258 / 2000)\n",
      "starting image CLEVR_new_000258.png (259 / 2000)\n",
      "starting image CLEVR_new_000259.png (260 / 2000)\n",
      "starting image CLEVR_new_000260.png (261 / 2000)\n",
      "starting image CLEVR_new_000261.png (262 / 2000)\n",
      "starting image CLEVR_new_000262.png (263 / 2000)\n",
      "starting image CLEVR_new_000263.png (264 / 2000)\n",
      "starting image CLEVR_new_000264.png (265 / 2000)\n",
      "starting image CLEVR_new_000265.png (266 / 2000)\n",
      "starting image CLEVR_new_000266.png (267 / 2000)\n",
      "starting image CLEVR_new_000267.png (268 / 2000)\n",
      "starting image CLEVR_new_000268.png (269 / 2000)\n",
      "starting image CLEVR_new_000269.png (270 / 2000)\n",
      "starting image CLEVR_new_000270.png (271 / 2000)\n",
      "starting image CLEVR_new_000271.png (272 / 2000)\n",
      "starting image CLEVR_new_000272.png (273 / 2000)\n",
      "starting image CLEVR_new_000273.png (274 / 2000)\n",
      "starting image CLEVR_new_000274.png (275 / 2000)\n",
      "starting image CLEVR_new_000275.png (276 / 2000)\n",
      "starting image CLEVR_new_000276.png (277 / 2000)\n",
      "starting image CLEVR_new_000277.png (278 / 2000)\n",
      "starting image CLEVR_new_000278.png (279 / 2000)\n",
      "starting image CLEVR_new_000279.png (280 / 2000)\n",
      "starting image CLEVR_new_000280.png (281 / 2000)\n",
      "starting image CLEVR_new_000281.png (282 / 2000)\n",
      "starting image CLEVR_new_000282.png (283 / 2000)\n",
      "starting image CLEVR_new_000283.png (284 / 2000)\n",
      "starting image CLEVR_new_000284.png (285 / 2000)\n",
      "starting image CLEVR_new_000285.png (286 / 2000)\n",
      "starting image CLEVR_new_000286.png (287 / 2000)\n",
      "starting image CLEVR_new_000287.png (288 / 2000)\n",
      "starting image CLEVR_new_000288.png (289 / 2000)\n",
      "starting image CLEVR_new_000289.png (290 / 2000)\n",
      "starting image CLEVR_new_000290.png (291 / 2000)\n",
      "starting image CLEVR_new_000291.png (292 / 2000)\n",
      "starting image CLEVR_new_000292.png (293 / 2000)\n",
      "starting image CLEVR_new_000293.png (294 / 2000)\n",
      "starting image CLEVR_new_000294.png (295 / 2000)\n",
      "starting image CLEVR_new_000295.png (296 / 2000)\n",
      "starting image CLEVR_new_000296.png (297 / 2000)\n",
      "starting image CLEVR_new_000297.png (298 / 2000)\n",
      "starting image CLEVR_new_000298.png (299 / 2000)\n",
      "starting image CLEVR_new_000299.png (300 / 2000)\n",
      "starting image CLEVR_new_000300.png (301 / 2000)\n",
      "starting image CLEVR_new_000301.png (302 / 2000)\n",
      "starting image CLEVR_new_000302.png (303 / 2000)\n",
      "starting image CLEVR_new_000303.png (304 / 2000)\n",
      "starting image CLEVR_new_000304.png (305 / 2000)\n",
      "starting image CLEVR_new_000305.png (306 / 2000)\n",
      "starting image CLEVR_new_000306.png (307 / 2000)\n",
      "starting image CLEVR_new_000307.png (308 / 2000)\n",
      "starting image CLEVR_new_000308.png (309 / 2000)\n",
      "starting image CLEVR_new_000309.png (310 / 2000)\n",
      "starting image CLEVR_new_000310.png (311 / 2000)\n",
      "starting image CLEVR_new_000311.png (312 / 2000)\n",
      "starting image CLEVR_new_000312.png (313 / 2000)\n",
      "starting image CLEVR_new_000313.png (314 / 2000)\n",
      "starting image CLEVR_new_000314.png (315 / 2000)\n",
      "starting image CLEVR_new_000315.png (316 / 2000)\n",
      "starting image CLEVR_new_000316.png (317 / 2000)\n",
      "starting image CLEVR_new_000317.png (318 / 2000)\n",
      "starting image CLEVR_new_000318.png (319 / 2000)\n",
      "starting image CLEVR_new_000319.png (320 / 2000)\n",
      "starting image CLEVR_new_000320.png (321 / 2000)\n",
      "starting image CLEVR_new_000321.png (322 / 2000)\n",
      "starting image CLEVR_new_000322.png (323 / 2000)\n",
      "starting image CLEVR_new_000323.png (324 / 2000)\n",
      "starting image CLEVR_new_000324.png (325 / 2000)\n",
      "starting image CLEVR_new_000325.png (326 / 2000)\n",
      "starting image CLEVR_new_000326.png (327 / 2000)\n",
      "starting image CLEVR_new_000327.png (328 / 2000)\n",
      "starting image CLEVR_new_000328.png (329 / 2000)\n",
      "starting image CLEVR_new_000329.png (330 / 2000)\n",
      "starting image CLEVR_new_000330.png (331 / 2000)\n",
      "starting image CLEVR_new_000331.png (332 / 2000)\n",
      "starting image CLEVR_new_000332.png (333 / 2000)\n",
      "starting image CLEVR_new_000333.png (334 / 2000)\n",
      "starting image CLEVR_new_000334.png (335 / 2000)\n",
      "starting image CLEVR_new_000335.png (336 / 2000)\n",
      "starting image CLEVR_new_000336.png (337 / 2000)\n",
      "starting image CLEVR_new_000337.png (338 / 2000)\n",
      "starting image CLEVR_new_000338.png (339 / 2000)\n",
      "starting image CLEVR_new_000339.png (340 / 2000)\n",
      "starting image CLEVR_new_000340.png (341 / 2000)\n",
      "starting image CLEVR_new_000341.png (342 / 2000)\n",
      "starting image CLEVR_new_000342.png (343 / 2000)\n",
      "starting image CLEVR_new_000343.png (344 / 2000)\n",
      "starting image CLEVR_new_000344.png (345 / 2000)\n",
      "starting image CLEVR_new_000345.png (346 / 2000)\n",
      "starting image CLEVR_new_000346.png (347 / 2000)\n",
      "starting image CLEVR_new_000347.png (348 / 2000)\n",
      "starting image CLEVR_new_000348.png (349 / 2000)\n",
      "starting image CLEVR_new_000349.png (350 / 2000)\n",
      "starting image CLEVR_new_000350.png (351 / 2000)\n",
      "starting image CLEVR_new_000351.png (352 / 2000)\n",
      "starting image CLEVR_new_000352.png (353 / 2000)\n",
      "starting image CLEVR_new_000353.png (354 / 2000)\n",
      "starting image CLEVR_new_000354.png (355 / 2000)\n",
      "starting image CLEVR_new_000355.png (356 / 2000)\n",
      "starting image CLEVR_new_000356.png (357 / 2000)\n",
      "starting image CLEVR_new_000357.png (358 / 2000)\n",
      "starting image CLEVR_new_000358.png (359 / 2000)\n",
      "starting image CLEVR_new_000359.png (360 / 2000)\n",
      "starting image CLEVR_new_000360.png (361 / 2000)\n",
      "starting image CLEVR_new_000361.png (362 / 2000)\n",
      "starting image CLEVR_new_000362.png (363 / 2000)\n",
      "starting image CLEVR_new_000363.png (364 / 2000)\n",
      "starting image CLEVR_new_000364.png (365 / 2000)\n",
      "starting image CLEVR_new_000365.png (366 / 2000)\n",
      "starting image CLEVR_new_000366.png (367 / 2000)\n",
      "starting image CLEVR_new_000367.png (368 / 2000)\n",
      "starting image CLEVR_new_000368.png (369 / 2000)\n",
      "starting image CLEVR_new_000369.png (370 / 2000)\n",
      "starting image CLEVR_new_000370.png (371 / 2000)\n",
      "starting image CLEVR_new_000371.png (372 / 2000)\n",
      "starting image CLEVR_new_000372.png (373 / 2000)\n",
      "starting image CLEVR_new_000373.png (374 / 2000)\n",
      "starting image CLEVR_new_000374.png (375 / 2000)\n",
      "starting image CLEVR_new_000375.png (376 / 2000)\n",
      "starting image CLEVR_new_000376.png (377 / 2000)\n",
      "starting image CLEVR_new_000377.png (378 / 2000)\n",
      "starting image CLEVR_new_000378.png (379 / 2000)\n",
      "starting image CLEVR_new_000379.png (380 / 2000)\n",
      "starting image CLEVR_new_000380.png (381 / 2000)\n",
      "starting image CLEVR_new_000381.png (382 / 2000)\n",
      "starting image CLEVR_new_000382.png (383 / 2000)\n",
      "starting image CLEVR_new_000383.png (384 / 2000)\n",
      "starting image CLEVR_new_000384.png (385 / 2000)\n",
      "starting image CLEVR_new_000385.png (386 / 2000)\n",
      "starting image CLEVR_new_000386.png (387 / 2000)\n",
      "starting image CLEVR_new_000387.png (388 / 2000)\n",
      "starting image CLEVR_new_000388.png (389 / 2000)\n",
      "starting image CLEVR_new_000389.png (390 / 2000)\n",
      "starting image CLEVR_new_000390.png (391 / 2000)\n",
      "starting image CLEVR_new_000391.png (392 / 2000)\n",
      "starting image CLEVR_new_000392.png (393 / 2000)\n",
      "starting image CLEVR_new_000393.png (394 / 2000)\n",
      "starting image CLEVR_new_000394.png (395 / 2000)\n",
      "starting image CLEVR_new_000395.png (396 / 2000)\n",
      "starting image CLEVR_new_000396.png (397 / 2000)\n",
      "starting image CLEVR_new_000397.png (398 / 2000)\n",
      "starting image CLEVR_new_000398.png (399 / 2000)\n",
      "starting image CLEVR_new_000399.png (400 / 2000)\n",
      "starting image CLEVR_new_000400.png (401 / 2000)\n",
      "starting image CLEVR_new_000401.png (402 / 2000)\n",
      "starting image CLEVR_new_000402.png (403 / 2000)\n",
      "starting image CLEVR_new_000403.png (404 / 2000)\n",
      "starting image CLEVR_new_000404.png (405 / 2000)\n",
      "starting image CLEVR_new_000405.png (406 / 2000)\n",
      "starting image CLEVR_new_000406.png (407 / 2000)\n",
      "starting image CLEVR_new_000407.png (408 / 2000)\n",
      "starting image CLEVR_new_000408.png (409 / 2000)\n",
      "starting image CLEVR_new_000409.png (410 / 2000)\n",
      "starting image CLEVR_new_000410.png (411 / 2000)\n",
      "starting image CLEVR_new_000411.png (412 / 2000)\n",
      "starting image CLEVR_new_000412.png (413 / 2000)\n",
      "starting image CLEVR_new_000413.png (414 / 2000)\n",
      "starting image CLEVR_new_000414.png (415 / 2000)\n",
      "starting image CLEVR_new_000415.png (416 / 2000)\n",
      "starting image CLEVR_new_000416.png (417 / 2000)\n",
      "starting image CLEVR_new_000417.png (418 / 2000)\n",
      "starting image CLEVR_new_000418.png (419 / 2000)\n",
      "starting image CLEVR_new_000419.png (420 / 2000)\n",
      "starting image CLEVR_new_000420.png (421 / 2000)\n",
      "starting image CLEVR_new_000421.png (422 / 2000)\n",
      "starting image CLEVR_new_000422.png (423 / 2000)\n",
      "starting image CLEVR_new_000423.png (424 / 2000)\n",
      "starting image CLEVR_new_000424.png (425 / 2000)\n",
      "starting image CLEVR_new_000425.png (426 / 2000)\n",
      "starting image CLEVR_new_000426.png (427 / 2000)\n",
      "starting image CLEVR_new_000427.png (428 / 2000)\n",
      "starting image CLEVR_new_000428.png (429 / 2000)\n",
      "starting image CLEVR_new_000429.png (430 / 2000)\n",
      "starting image CLEVR_new_000430.png (431 / 2000)\n",
      "starting image CLEVR_new_000431.png (432 / 2000)\n",
      "starting image CLEVR_new_000432.png (433 / 2000)\n",
      "starting image CLEVR_new_000433.png (434 / 2000)\n",
      "starting image CLEVR_new_000434.png (435 / 2000)\n",
      "starting image CLEVR_new_000435.png (436 / 2000)\n",
      "starting image CLEVR_new_000436.png (437 / 2000)\n",
      "starting image CLEVR_new_000437.png (438 / 2000)\n",
      "starting image CLEVR_new_000438.png (439 / 2000)\n",
      "starting image CLEVR_new_000439.png (440 / 2000)\n",
      "starting image CLEVR_new_000440.png (441 / 2000)\n",
      "starting image CLEVR_new_000441.png (442 / 2000)\n",
      "starting image CLEVR_new_000442.png (443 / 2000)\n",
      "starting image CLEVR_new_000443.png (444 / 2000)\n",
      "starting image CLEVR_new_000444.png (445 / 2000)\n",
      "starting image CLEVR_new_000445.png (446 / 2000)\n",
      "starting image CLEVR_new_000446.png (447 / 2000)\n",
      "starting image CLEVR_new_000447.png (448 / 2000)\n",
      "starting image CLEVR_new_000448.png (449 / 2000)\n",
      "starting image CLEVR_new_000449.png (450 / 2000)\n",
      "starting image CLEVR_new_000450.png (451 / 2000)\n",
      "starting image CLEVR_new_000451.png (452 / 2000)\n",
      "starting image CLEVR_new_000452.png (453 / 2000)\n",
      "starting image CLEVR_new_000453.png (454 / 2000)\n",
      "starting image CLEVR_new_000454.png (455 / 2000)\n",
      "starting image CLEVR_new_000455.png (456 / 2000)\n",
      "starting image CLEVR_new_000456.png (457 / 2000)\n",
      "starting image CLEVR_new_000457.png (458 / 2000)\n",
      "starting image CLEVR_new_000458.png (459 / 2000)\n",
      "starting image CLEVR_new_000459.png (460 / 2000)\n",
      "starting image CLEVR_new_000460.png (461 / 2000)\n",
      "starting image CLEVR_new_000461.png (462 / 2000)\n",
      "starting image CLEVR_new_000462.png (463 / 2000)\n",
      "starting image CLEVR_new_000463.png (464 / 2000)\n",
      "starting image CLEVR_new_000464.png (465 / 2000)\n",
      "starting image CLEVR_new_000465.png (466 / 2000)\n",
      "starting image CLEVR_new_000466.png (467 / 2000)\n",
      "starting image CLEVR_new_000467.png (468 / 2000)\n",
      "starting image CLEVR_new_000468.png (469 / 2000)\n",
      "starting image CLEVR_new_000469.png (470 / 2000)\n",
      "starting image CLEVR_new_000470.png (471 / 2000)\n",
      "starting image CLEVR_new_000471.png (472 / 2000)\n",
      "starting image CLEVR_new_000472.png (473 / 2000)\n",
      "starting image CLEVR_new_000473.png (474 / 2000)\n",
      "starting image CLEVR_new_000474.png (475 / 2000)\n",
      "starting image CLEVR_new_000475.png (476 / 2000)\n",
      "starting image CLEVR_new_000476.png (477 / 2000)\n",
      "starting image CLEVR_new_000477.png (478 / 2000)\n",
      "starting image CLEVR_new_000478.png (479 / 2000)\n",
      "starting image CLEVR_new_000479.png (480 / 2000)\n",
      "starting image CLEVR_new_000480.png (481 / 2000)\n",
      "starting image CLEVR_new_000481.png (482 / 2000)\n",
      "starting image CLEVR_new_000482.png (483 / 2000)\n",
      "starting image CLEVR_new_000483.png (484 / 2000)\n",
      "starting image CLEVR_new_000484.png (485 / 2000)\n",
      "starting image CLEVR_new_000485.png (486 / 2000)\n",
      "starting image CLEVR_new_000486.png (487 / 2000)\n",
      "starting image CLEVR_new_000487.png (488 / 2000)\n",
      "starting image CLEVR_new_000488.png (489 / 2000)\n",
      "starting image CLEVR_new_000489.png (490 / 2000)\n",
      "starting image CLEVR_new_000490.png (491 / 2000)\n",
      "starting image CLEVR_new_000491.png (492 / 2000)\n",
      "starting image CLEVR_new_000492.png (493 / 2000)\n",
      "starting image CLEVR_new_000493.png (494 / 2000)\n",
      "starting image CLEVR_new_000494.png (495 / 2000)\n",
      "starting image CLEVR_new_000495.png (496 / 2000)\n",
      "starting image CLEVR_new_000496.png (497 / 2000)\n",
      "starting image CLEVR_new_000497.png (498 / 2000)\n",
      "starting image CLEVR_new_000498.png (499 / 2000)\n",
      "starting image CLEVR_new_000499.png (500 / 2000)\n",
      "starting image CLEVR_new_000500.png (501 / 2000)\n",
      "resetting counts\n",
      "starting image CLEVR_new_000501.png (502 / 2000)\n",
      "starting image CLEVR_new_000502.png (503 / 2000)\n",
      "starting image CLEVR_new_000503.png (504 / 2000)\n",
      "starting image CLEVR_new_000504.png (505 / 2000)\n",
      "starting image CLEVR_new_000505.png (506 / 2000)\n",
      "starting image CLEVR_new_000506.png (507 / 2000)\n",
      "starting image CLEVR_new_000507.png (508 / 2000)\n",
      "starting image CLEVR_new_000508.png (509 / 2000)\n",
      "starting image CLEVR_new_000509.png (510 / 2000)\n",
      "starting image CLEVR_new_000510.png (511 / 2000)\n",
      "starting image CLEVR_new_000511.png (512 / 2000)\n",
      "starting image CLEVR_new_000512.png (513 / 2000)\n",
      "starting image CLEVR_new_000513.png (514 / 2000)\n",
      "starting image CLEVR_new_000514.png (515 / 2000)\n",
      "starting image CLEVR_new_000515.png (516 / 2000)\n",
      "starting image CLEVR_new_000516.png (517 / 2000)\n",
      "starting image CLEVR_new_000517.png (518 / 2000)\n",
      "starting image CLEVR_new_000518.png (519 / 2000)\n",
      "starting image CLEVR_new_000519.png (520 / 2000)\n",
      "starting image CLEVR_new_000520.png (521 / 2000)\n",
      "starting image CLEVR_new_000521.png (522 / 2000)\n",
      "starting image CLEVR_new_000522.png (523 / 2000)\n",
      "starting image CLEVR_new_000523.png (524 / 2000)\n",
      "starting image CLEVR_new_000524.png (525 / 2000)\n",
      "starting image CLEVR_new_000525.png (526 / 2000)\n",
      "starting image CLEVR_new_000526.png (527 / 2000)\n",
      "starting image CLEVR_new_000527.png (528 / 2000)\n",
      "starting image CLEVR_new_000528.png (529 / 2000)\n",
      "starting image CLEVR_new_000529.png (530 / 2000)\n",
      "starting image CLEVR_new_000530.png (531 / 2000)\n",
      "starting image CLEVR_new_000531.png (532 / 2000)\n",
      "starting image CLEVR_new_000532.png (533 / 2000)\n",
      "starting image CLEVR_new_000533.png (534 / 2000)\n",
      "starting image CLEVR_new_000534.png (535 / 2000)\n",
      "starting image CLEVR_new_000535.png (536 / 2000)\n",
      "starting image CLEVR_new_000536.png (537 / 2000)\n",
      "starting image CLEVR_new_000537.png (538 / 2000)\n",
      "starting image CLEVR_new_000538.png (539 / 2000)\n",
      "starting image CLEVR_new_000539.png (540 / 2000)\n",
      "starting image CLEVR_new_000540.png (541 / 2000)\n",
      "starting image CLEVR_new_000541.png (542 / 2000)\n",
      "starting image CLEVR_new_000542.png (543 / 2000)\n",
      "starting image CLEVR_new_000543.png (544 / 2000)\n",
      "starting image CLEVR_new_000544.png (545 / 2000)\n",
      "starting image CLEVR_new_000545.png (546 / 2000)\n",
      "starting image CLEVR_new_000546.png (547 / 2000)\n",
      "starting image CLEVR_new_000547.png (548 / 2000)\n",
      "starting image CLEVR_new_000548.png (549 / 2000)\n",
      "starting image CLEVR_new_000549.png (550 / 2000)\n",
      "starting image CLEVR_new_000550.png (551 / 2000)\n",
      "starting image CLEVR_new_000551.png (552 / 2000)\n",
      "starting image CLEVR_new_000552.png (553 / 2000)\n",
      "starting image CLEVR_new_000553.png (554 / 2000)\n",
      "starting image CLEVR_new_000554.png (555 / 2000)\n",
      "starting image CLEVR_new_000555.png (556 / 2000)\n",
      "starting image CLEVR_new_000556.png (557 / 2000)\n",
      "starting image CLEVR_new_000557.png (558 / 2000)\n",
      "starting image CLEVR_new_000558.png (559 / 2000)\n",
      "starting image CLEVR_new_000559.png (560 / 2000)\n",
      "starting image CLEVR_new_000560.png (561 / 2000)\n",
      "starting image CLEVR_new_000561.png (562 / 2000)\n",
      "starting image CLEVR_new_000562.png (563 / 2000)\n",
      "starting image CLEVR_new_000563.png (564 / 2000)\n",
      "starting image CLEVR_new_000564.png (565 / 2000)\n",
      "starting image CLEVR_new_000565.png (566 / 2000)\n",
      "starting image CLEVR_new_000566.png (567 / 2000)\n",
      "starting image CLEVR_new_000567.png (568 / 2000)\n",
      "starting image CLEVR_new_000568.png (569 / 2000)\n",
      "starting image CLEVR_new_000569.png (570 / 2000)\n",
      "starting image CLEVR_new_000570.png (571 / 2000)\n",
      "starting image CLEVR_new_000571.png (572 / 2000)\n",
      "starting image CLEVR_new_000572.png (573 / 2000)\n",
      "starting image CLEVR_new_000573.png (574 / 2000)\n",
      "starting image CLEVR_new_000574.png (575 / 2000)\n",
      "starting image CLEVR_new_000575.png (576 / 2000)\n",
      "starting image CLEVR_new_000576.png (577 / 2000)\n",
      "starting image CLEVR_new_000577.png (578 / 2000)\n",
      "starting image CLEVR_new_000578.png (579 / 2000)\n",
      "starting image CLEVR_new_000579.png (580 / 2000)\n",
      "starting image CLEVR_new_000580.png (581 / 2000)\n",
      "starting image CLEVR_new_000581.png (582 / 2000)\n",
      "starting image CLEVR_new_000582.png (583 / 2000)\n",
      "starting image CLEVR_new_000583.png (584 / 2000)\n",
      "starting image CLEVR_new_000584.png (585 / 2000)\n",
      "starting image CLEVR_new_000585.png (586 / 2000)\n",
      "starting image CLEVR_new_000586.png (587 / 2000)\n",
      "starting image CLEVR_new_000587.png (588 / 2000)\n",
      "starting image CLEVR_new_000588.png (589 / 2000)\n",
      "starting image CLEVR_new_000589.png (590 / 2000)\n",
      "starting image CLEVR_new_000590.png (591 / 2000)\n",
      "starting image CLEVR_new_000591.png (592 / 2000)\n",
      "starting image CLEVR_new_000592.png (593 / 2000)\n",
      "starting image CLEVR_new_000593.png (594 / 2000)\n",
      "starting image CLEVR_new_000594.png (595 / 2000)\n",
      "starting image CLEVR_new_000595.png (596 / 2000)\n",
      "starting image CLEVR_new_000596.png (597 / 2000)\n",
      "starting image CLEVR_new_000597.png (598 / 2000)\n",
      "starting image CLEVR_new_000598.png (599 / 2000)\n",
      "starting image CLEVR_new_000599.png (600 / 2000)\n",
      "starting image CLEVR_new_000600.png (601 / 2000)\n",
      "starting image CLEVR_new_000601.png (602 / 2000)\n",
      "starting image CLEVR_new_000602.png (603 / 2000)\n",
      "starting image CLEVR_new_000603.png (604 / 2000)\n",
      "starting image CLEVR_new_000604.png (605 / 2000)\n",
      "starting image CLEVR_new_000605.png (606 / 2000)\n",
      "starting image CLEVR_new_000606.png (607 / 2000)\n",
      "starting image CLEVR_new_000607.png (608 / 2000)\n",
      "starting image CLEVR_new_000608.png (609 / 2000)\n",
      "starting image CLEVR_new_000609.png (610 / 2000)\n",
      "starting image CLEVR_new_000610.png (611 / 2000)\n",
      "starting image CLEVR_new_000611.png (612 / 2000)\n",
      "starting image CLEVR_new_000612.png (613 / 2000)\n",
      "starting image CLEVR_new_000613.png (614 / 2000)\n",
      "starting image CLEVR_new_000614.png (615 / 2000)\n",
      "starting image CLEVR_new_000615.png (616 / 2000)\n",
      "starting image CLEVR_new_000616.png (617 / 2000)\n",
      "starting image CLEVR_new_000617.png (618 / 2000)\n",
      "starting image CLEVR_new_000618.png (619 / 2000)\n",
      "starting image CLEVR_new_000619.png (620 / 2000)\n",
      "starting image CLEVR_new_000620.png (621 / 2000)\n",
      "starting image CLEVR_new_000621.png (622 / 2000)\n",
      "starting image CLEVR_new_000622.png (623 / 2000)\n",
      "starting image CLEVR_new_000623.png (624 / 2000)\n",
      "starting image CLEVR_new_000624.png (625 / 2000)\n",
      "starting image CLEVR_new_000625.png (626 / 2000)\n",
      "starting image CLEVR_new_000626.png (627 / 2000)\n",
      "starting image CLEVR_new_000627.png (628 / 2000)\n",
      "starting image CLEVR_new_000628.png (629 / 2000)\n",
      "starting image CLEVR_new_000629.png (630 / 2000)\n",
      "starting image CLEVR_new_000630.png (631 / 2000)\n",
      "starting image CLEVR_new_000631.png (632 / 2000)\n",
      "starting image CLEVR_new_000632.png (633 / 2000)\n",
      "starting image CLEVR_new_000633.png (634 / 2000)\n",
      "starting image CLEVR_new_000634.png (635 / 2000)\n",
      "starting image CLEVR_new_000635.png (636 / 2000)\n",
      "starting image CLEVR_new_000636.png (637 / 2000)\n",
      "starting image CLEVR_new_000637.png (638 / 2000)\n",
      "starting image CLEVR_new_000638.png (639 / 2000)\n",
      "starting image CLEVR_new_000639.png (640 / 2000)\n",
      "starting image CLEVR_new_000640.png (641 / 2000)\n",
      "starting image CLEVR_new_000641.png (642 / 2000)\n",
      "starting image CLEVR_new_000642.png (643 / 2000)\n",
      "starting image CLEVR_new_000643.png (644 / 2000)\n",
      "starting image CLEVR_new_000644.png (645 / 2000)\n",
      "starting image CLEVR_new_000645.png (646 / 2000)\n",
      "starting image CLEVR_new_000646.png (647 / 2000)\n",
      "starting image CLEVR_new_000647.png (648 / 2000)\n",
      "starting image CLEVR_new_000648.png (649 / 2000)\n",
      "starting image CLEVR_new_000649.png (650 / 2000)\n",
      "starting image CLEVR_new_000650.png (651 / 2000)\n",
      "starting image CLEVR_new_000651.png (652 / 2000)\n",
      "starting image CLEVR_new_000652.png (653 / 2000)\n",
      "starting image CLEVR_new_000653.png (654 / 2000)\n",
      "starting image CLEVR_new_000654.png (655 / 2000)\n",
      "starting image CLEVR_new_000655.png (656 / 2000)\n",
      "starting image CLEVR_new_000656.png (657 / 2000)\n",
      "starting image CLEVR_new_000657.png (658 / 2000)\n",
      "starting image CLEVR_new_000658.png (659 / 2000)\n",
      "starting image CLEVR_new_000659.png (660 / 2000)\n",
      "starting image CLEVR_new_000660.png (661 / 2000)\n",
      "starting image CLEVR_new_000661.png (662 / 2000)\n",
      "starting image CLEVR_new_000662.png (663 / 2000)\n",
      "starting image CLEVR_new_000663.png (664 / 2000)\n",
      "starting image CLEVR_new_000664.png (665 / 2000)\n",
      "starting image CLEVR_new_000665.png (666 / 2000)\n",
      "starting image CLEVR_new_000666.png (667 / 2000)\n",
      "starting image CLEVR_new_000667.png (668 / 2000)\n",
      "starting image CLEVR_new_000668.png (669 / 2000)\n",
      "starting image CLEVR_new_000669.png (670 / 2000)\n",
      "starting image CLEVR_new_000670.png (671 / 2000)\n",
      "starting image CLEVR_new_000671.png (672 / 2000)\n",
      "starting image CLEVR_new_000672.png (673 / 2000)\n",
      "starting image CLEVR_new_000673.png (674 / 2000)\n",
      "starting image CLEVR_new_000674.png (675 / 2000)\n",
      "starting image CLEVR_new_000675.png (676 / 2000)\n",
      "starting image CLEVR_new_000676.png (677 / 2000)\n",
      "starting image CLEVR_new_000677.png (678 / 2000)\n",
      "starting image CLEVR_new_000678.png (679 / 2000)\n",
      "starting image CLEVR_new_000679.png (680 / 2000)\n",
      "starting image CLEVR_new_000680.png (681 / 2000)\n",
      "starting image CLEVR_new_000681.png (682 / 2000)\n",
      "starting image CLEVR_new_000682.png (683 / 2000)\n",
      "starting image CLEVR_new_000683.png (684 / 2000)\n",
      "starting image CLEVR_new_000684.png (685 / 2000)\n",
      "starting image CLEVR_new_000685.png (686 / 2000)\n",
      "starting image CLEVR_new_000686.png (687 / 2000)\n",
      "starting image CLEVR_new_000687.png (688 / 2000)\n",
      "starting image CLEVR_new_000688.png (689 / 2000)\n",
      "starting image CLEVR_new_000689.png (690 / 2000)\n",
      "starting image CLEVR_new_000690.png (691 / 2000)\n",
      "starting image CLEVR_new_000691.png (692 / 2000)\n",
      "starting image CLEVR_new_000692.png (693 / 2000)\n",
      "starting image CLEVR_new_000693.png (694 / 2000)\n",
      "starting image CLEVR_new_000694.png (695 / 2000)\n",
      "starting image CLEVR_new_000695.png (696 / 2000)\n",
      "starting image CLEVR_new_000696.png (697 / 2000)\n",
      "starting image CLEVR_new_000697.png (698 / 2000)\n",
      "starting image CLEVR_new_000698.png (699 / 2000)\n",
      "starting image CLEVR_new_000699.png (700 / 2000)\n",
      "starting image CLEVR_new_000700.png (701 / 2000)\n",
      "starting image CLEVR_new_000701.png (702 / 2000)\n",
      "starting image CLEVR_new_000702.png (703 / 2000)\n",
      "starting image CLEVR_new_000703.png (704 / 2000)\n",
      "starting image CLEVR_new_000704.png (705 / 2000)\n",
      "starting image CLEVR_new_000705.png (706 / 2000)\n",
      "starting image CLEVR_new_000706.png (707 / 2000)\n",
      "starting image CLEVR_new_000707.png (708 / 2000)\n",
      "starting image CLEVR_new_000708.png (709 / 2000)\n",
      "starting image CLEVR_new_000709.png (710 / 2000)\n",
      "starting image CLEVR_new_000710.png (711 / 2000)\n",
      "starting image CLEVR_new_000711.png (712 / 2000)\n",
      "starting image CLEVR_new_000712.png (713 / 2000)\n",
      "starting image CLEVR_new_000713.png (714 / 2000)\n",
      "starting image CLEVR_new_000714.png (715 / 2000)\n",
      "starting image CLEVR_new_000715.png (716 / 2000)\n",
      "starting image CLEVR_new_000716.png (717 / 2000)\n",
      "starting image CLEVR_new_000717.png (718 / 2000)\n",
      "starting image CLEVR_new_000718.png (719 / 2000)\n",
      "starting image CLEVR_new_000719.png (720 / 2000)\n",
      "starting image CLEVR_new_000720.png (721 / 2000)\n",
      "starting image CLEVR_new_000721.png (722 / 2000)\n",
      "starting image CLEVR_new_000722.png (723 / 2000)\n",
      "starting image CLEVR_new_000723.png (724 / 2000)\n",
      "starting image CLEVR_new_000724.png (725 / 2000)\n",
      "starting image CLEVR_new_000725.png (726 / 2000)\n",
      "starting image CLEVR_new_000726.png (727 / 2000)\n",
      "starting image CLEVR_new_000727.png (728 / 2000)\n",
      "starting image CLEVR_new_000728.png (729 / 2000)\n",
      "starting image CLEVR_new_000729.png (730 / 2000)\n",
      "starting image CLEVR_new_000730.png (731 / 2000)\n",
      "starting image CLEVR_new_000731.png (732 / 2000)\n",
      "starting image CLEVR_new_000732.png (733 / 2000)\n",
      "starting image CLEVR_new_000733.png (734 / 2000)\n",
      "starting image CLEVR_new_000734.png (735 / 2000)\n",
      "starting image CLEVR_new_000735.png (736 / 2000)\n",
      "starting image CLEVR_new_000736.png (737 / 2000)\n",
      "starting image CLEVR_new_000737.png (738 / 2000)\n",
      "starting image CLEVR_new_000738.png (739 / 2000)\n",
      "starting image CLEVR_new_000739.png (740 / 2000)\n",
      "starting image CLEVR_new_000740.png (741 / 2000)\n",
      "starting image CLEVR_new_000741.png (742 / 2000)\n",
      "starting image CLEVR_new_000742.png (743 / 2000)\n",
      "starting image CLEVR_new_000743.png (744 / 2000)\n",
      "starting image CLEVR_new_000744.png (745 / 2000)\n",
      "starting image CLEVR_new_000745.png (746 / 2000)\n",
      "starting image CLEVR_new_000746.png (747 / 2000)\n",
      "starting image CLEVR_new_000747.png (748 / 2000)\n",
      "starting image CLEVR_new_000748.png (749 / 2000)\n",
      "starting image CLEVR_new_000749.png (750 / 2000)\n",
      "starting image CLEVR_new_000750.png (751 / 2000)\n",
      "resetting counts\n",
      "starting image CLEVR_new_000751.png (752 / 2000)\n",
      "starting image CLEVR_new_000752.png (753 / 2000)\n",
      "starting image CLEVR_new_000753.png (754 / 2000)\n",
      "starting image CLEVR_new_000754.png (755 / 2000)\n",
      "starting image CLEVR_new_000755.png (756 / 2000)\n",
      "starting image CLEVR_new_000756.png (757 / 2000)\n",
      "starting image CLEVR_new_000757.png (758 / 2000)\n",
      "starting image CLEVR_new_000758.png (759 / 2000)\n",
      "starting image CLEVR_new_000759.png (760 / 2000)\n",
      "starting image CLEVR_new_000760.png (761 / 2000)\n",
      "starting image CLEVR_new_000761.png (762 / 2000)\n",
      "starting image CLEVR_new_000762.png (763 / 2000)\n",
      "starting image CLEVR_new_000763.png (764 / 2000)\n",
      "starting image CLEVR_new_000764.png (765 / 2000)\n",
      "starting image CLEVR_new_000765.png (766 / 2000)\n",
      "starting image CLEVR_new_000766.png (767 / 2000)\n",
      "starting image CLEVR_new_000767.png (768 / 2000)\n",
      "starting image CLEVR_new_000768.png (769 / 2000)\n",
      "starting image CLEVR_new_000769.png (770 / 2000)\n",
      "starting image CLEVR_new_000770.png (771 / 2000)\n",
      "starting image CLEVR_new_000771.png (772 / 2000)\n",
      "starting image CLEVR_new_000772.png (773 / 2000)\n",
      "starting image CLEVR_new_000773.png (774 / 2000)\n",
      "starting image CLEVR_new_000774.png (775 / 2000)\n",
      "starting image CLEVR_new_000775.png (776 / 2000)\n",
      "starting image CLEVR_new_000776.png (777 / 2000)\n",
      "starting image CLEVR_new_000777.png (778 / 2000)\n",
      "starting image CLEVR_new_000778.png (779 / 2000)\n",
      "starting image CLEVR_new_000779.png (780 / 2000)\n",
      "starting image CLEVR_new_000780.png (781 / 2000)\n",
      "starting image CLEVR_new_000781.png (782 / 2000)\n",
      "starting image CLEVR_new_000782.png (783 / 2000)\n",
      "starting image CLEVR_new_000783.png (784 / 2000)\n",
      "starting image CLEVR_new_000784.png (785 / 2000)\n",
      "starting image CLEVR_new_000785.png (786 / 2000)\n",
      "starting image CLEVR_new_000786.png (787 / 2000)\n",
      "starting image CLEVR_new_000787.png (788 / 2000)\n",
      "starting image CLEVR_new_000788.png (789 / 2000)\n",
      "starting image CLEVR_new_000789.png (790 / 2000)\n",
      "starting image CLEVR_new_000790.png (791 / 2000)\n",
      "starting image CLEVR_new_000791.png (792 / 2000)\n",
      "starting image CLEVR_new_000792.png (793 / 2000)\n",
      "starting image CLEVR_new_000793.png (794 / 2000)\n",
      "starting image CLEVR_new_000794.png (795 / 2000)\n",
      "starting image CLEVR_new_000795.png (796 / 2000)\n",
      "starting image CLEVR_new_000796.png (797 / 2000)\n",
      "starting image CLEVR_new_000797.png (798 / 2000)\n",
      "starting image CLEVR_new_000798.png (799 / 2000)\n",
      "starting image CLEVR_new_000799.png (800 / 2000)\n",
      "starting image CLEVR_new_000800.png (801 / 2000)\n",
      "starting image CLEVR_new_000801.png (802 / 2000)\n",
      "starting image CLEVR_new_000802.png (803 / 2000)\n",
      "starting image CLEVR_new_000803.png (804 / 2000)\n",
      "starting image CLEVR_new_000804.png (805 / 2000)\n",
      "starting image CLEVR_new_000805.png (806 / 2000)\n",
      "starting image CLEVR_new_000806.png (807 / 2000)\n",
      "starting image CLEVR_new_000807.png (808 / 2000)\n",
      "starting image CLEVR_new_000808.png (809 / 2000)\n",
      "starting image CLEVR_new_000809.png (810 / 2000)\n",
      "starting image CLEVR_new_000810.png (811 / 2000)\n",
      "starting image CLEVR_new_000811.png (812 / 2000)\n",
      "starting image CLEVR_new_000812.png (813 / 2000)\n",
      "starting image CLEVR_new_000813.png (814 / 2000)\n",
      "starting image CLEVR_new_000814.png (815 / 2000)\n",
      "starting image CLEVR_new_000815.png (816 / 2000)\n",
      "starting image CLEVR_new_000816.png (817 / 2000)\n",
      "starting image CLEVR_new_000817.png (818 / 2000)\n",
      "starting image CLEVR_new_000818.png (819 / 2000)\n",
      "starting image CLEVR_new_000819.png (820 / 2000)\n",
      "starting image CLEVR_new_000820.png (821 / 2000)\n",
      "starting image CLEVR_new_000821.png (822 / 2000)\n",
      "starting image CLEVR_new_000822.png (823 / 2000)\n",
      "starting image CLEVR_new_000823.png (824 / 2000)\n",
      "starting image CLEVR_new_000824.png (825 / 2000)\n",
      "starting image CLEVR_new_000825.png (826 / 2000)\n",
      "starting image CLEVR_new_000826.png (827 / 2000)\n",
      "starting image CLEVR_new_000827.png (828 / 2000)\n",
      "starting image CLEVR_new_000828.png (829 / 2000)\n",
      "starting image CLEVR_new_000829.png (830 / 2000)\n",
      "starting image CLEVR_new_000830.png (831 / 2000)\n",
      "starting image CLEVR_new_000831.png (832 / 2000)\n",
      "starting image CLEVR_new_000832.png (833 / 2000)\n",
      "starting image CLEVR_new_000833.png (834 / 2000)\n",
      "starting image CLEVR_new_000834.png (835 / 2000)\n",
      "starting image CLEVR_new_000835.png (836 / 2000)\n",
      "starting image CLEVR_new_000836.png (837 / 2000)\n",
      "starting image CLEVR_new_000837.png (838 / 2000)\n",
      "starting image CLEVR_new_000838.png (839 / 2000)\n",
      "starting image CLEVR_new_000839.png (840 / 2000)\n",
      "starting image CLEVR_new_000840.png (841 / 2000)\n",
      "starting image CLEVR_new_000841.png (842 / 2000)\n",
      "starting image CLEVR_new_000842.png (843 / 2000)\n",
      "starting image CLEVR_new_000843.png (844 / 2000)\n",
      "starting image CLEVR_new_000844.png (845 / 2000)\n",
      "starting image CLEVR_new_000845.png (846 / 2000)\n",
      "starting image CLEVR_new_000846.png (847 / 2000)\n",
      "starting image CLEVR_new_000847.png (848 / 2000)\n",
      "starting image CLEVR_new_000848.png (849 / 2000)\n",
      "starting image CLEVR_new_000849.png (850 / 2000)\n",
      "starting image CLEVR_new_000850.png (851 / 2000)\n",
      "starting image CLEVR_new_000851.png (852 / 2000)\n",
      "starting image CLEVR_new_000852.png (853 / 2000)\n",
      "starting image CLEVR_new_000853.png (854 / 2000)\n",
      "starting image CLEVR_new_000854.png (855 / 2000)\n",
      "starting image CLEVR_new_000855.png (856 / 2000)\n",
      "starting image CLEVR_new_000856.png (857 / 2000)\n",
      "starting image CLEVR_new_000857.png (858 / 2000)\n",
      "starting image CLEVR_new_000858.png (859 / 2000)\n",
      "starting image CLEVR_new_000859.png (860 / 2000)\n",
      "starting image CLEVR_new_000860.png (861 / 2000)\n",
      "starting image CLEVR_new_000861.png (862 / 2000)\n",
      "starting image CLEVR_new_000862.png (863 / 2000)\n",
      "starting image CLEVR_new_000863.png (864 / 2000)\n",
      "starting image CLEVR_new_000864.png (865 / 2000)\n",
      "starting image CLEVR_new_000865.png (866 / 2000)\n",
      "starting image CLEVR_new_000866.png (867 / 2000)\n",
      "starting image CLEVR_new_000867.png (868 / 2000)\n",
      "starting image CLEVR_new_000868.png (869 / 2000)\n",
      "starting image CLEVR_new_000869.png (870 / 2000)\n",
      "starting image CLEVR_new_000870.png (871 / 2000)\n",
      "starting image CLEVR_new_000871.png (872 / 2000)\n",
      "starting image CLEVR_new_000872.png (873 / 2000)\n",
      "starting image CLEVR_new_000873.png (874 / 2000)\n",
      "starting image CLEVR_new_000874.png (875 / 2000)\n",
      "starting image CLEVR_new_000875.png (876 / 2000)\n",
      "starting image CLEVR_new_000876.png (877 / 2000)\n",
      "starting image CLEVR_new_000877.png (878 / 2000)\n",
      "starting image CLEVR_new_000878.png (879 / 2000)\n",
      "starting image CLEVR_new_000879.png (880 / 2000)\n",
      "starting image CLEVR_new_000880.png (881 / 2000)\n",
      "starting image CLEVR_new_000881.png (882 / 2000)\n",
      "starting image CLEVR_new_000882.png (883 / 2000)\n",
      "starting image CLEVR_new_000883.png (884 / 2000)\n",
      "starting image CLEVR_new_000884.png (885 / 2000)\n",
      "starting image CLEVR_new_000885.png (886 / 2000)\n",
      "starting image CLEVR_new_000886.png (887 / 2000)\n",
      "starting image CLEVR_new_000887.png (888 / 2000)\n",
      "starting image CLEVR_new_000888.png (889 / 2000)\n",
      "starting image CLEVR_new_000889.png (890 / 2000)\n",
      "starting image CLEVR_new_000890.png (891 / 2000)\n",
      "starting image CLEVR_new_000891.png (892 / 2000)\n",
      "starting image CLEVR_new_000892.png (893 / 2000)\n",
      "starting image CLEVR_new_000893.png (894 / 2000)\n",
      "starting image CLEVR_new_000894.png (895 / 2000)\n",
      "starting image CLEVR_new_000895.png (896 / 2000)\n",
      "starting image CLEVR_new_000896.png (897 / 2000)\n",
      "starting image CLEVR_new_000897.png (898 / 2000)\n",
      "starting image CLEVR_new_000898.png (899 / 2000)\n",
      "starting image CLEVR_new_000899.png (900 / 2000)\n",
      "starting image CLEVR_new_000900.png (901 / 2000)\n",
      "starting image CLEVR_new_000901.png (902 / 2000)\n",
      "starting image CLEVR_new_000902.png (903 / 2000)\n",
      "starting image CLEVR_new_000903.png (904 / 2000)\n",
      "starting image CLEVR_new_000904.png (905 / 2000)\n",
      "starting image CLEVR_new_000905.png (906 / 2000)\n",
      "starting image CLEVR_new_000906.png (907 / 2000)\n",
      "starting image CLEVR_new_000907.png (908 / 2000)\n",
      "starting image CLEVR_new_000908.png (909 / 2000)\n",
      "starting image CLEVR_new_000909.png (910 / 2000)\n",
      "starting image CLEVR_new_000910.png (911 / 2000)\n",
      "starting image CLEVR_new_000911.png (912 / 2000)\n",
      "starting image CLEVR_new_000912.png (913 / 2000)\n",
      "starting image CLEVR_new_000913.png (914 / 2000)\n",
      "starting image CLEVR_new_000914.png (915 / 2000)\n",
      "starting image CLEVR_new_000915.png (916 / 2000)\n",
      "starting image CLEVR_new_000916.png (917 / 2000)\n",
      "starting image CLEVR_new_000917.png (918 / 2000)\n",
      "starting image CLEVR_new_000918.png (919 / 2000)\n",
      "starting image CLEVR_new_000919.png (920 / 2000)\n",
      "starting image CLEVR_new_000920.png (921 / 2000)\n",
      "starting image CLEVR_new_000921.png (922 / 2000)\n",
      "starting image CLEVR_new_000922.png (923 / 2000)\n",
      "starting image CLEVR_new_000923.png (924 / 2000)\n",
      "starting image CLEVR_new_000924.png (925 / 2000)\n",
      "starting image CLEVR_new_000925.png (926 / 2000)\n",
      "starting image CLEVR_new_000926.png (927 / 2000)\n",
      "starting image CLEVR_new_000927.png (928 / 2000)\n",
      "starting image CLEVR_new_000928.png (929 / 2000)\n",
      "starting image CLEVR_new_000929.png (930 / 2000)\n",
      "starting image CLEVR_new_000930.png (931 / 2000)\n",
      "starting image CLEVR_new_000931.png (932 / 2000)\n",
      "starting image CLEVR_new_000932.png (933 / 2000)\n",
      "starting image CLEVR_new_000933.png (934 / 2000)\n",
      "starting image CLEVR_new_000934.png (935 / 2000)\n",
      "starting image CLEVR_new_000935.png (936 / 2000)\n",
      "starting image CLEVR_new_000936.png (937 / 2000)\n",
      "starting image CLEVR_new_000937.png (938 / 2000)\n",
      "starting image CLEVR_new_000938.png (939 / 2000)\n",
      "starting image CLEVR_new_000939.png (940 / 2000)\n",
      "starting image CLEVR_new_000940.png (941 / 2000)\n",
      "starting image CLEVR_new_000941.png (942 / 2000)\n",
      "starting image CLEVR_new_000942.png (943 / 2000)\n",
      "starting image CLEVR_new_000943.png (944 / 2000)\n",
      "starting image CLEVR_new_000944.png (945 / 2000)\n",
      "starting image CLEVR_new_000945.png (946 / 2000)\n",
      "starting image CLEVR_new_000946.png (947 / 2000)\n",
      "starting image CLEVR_new_000947.png (948 / 2000)\n",
      "starting image CLEVR_new_000948.png (949 / 2000)\n",
      "starting image CLEVR_new_000949.png (950 / 2000)\n",
      "starting image CLEVR_new_000950.png (951 / 2000)\n",
      "starting image CLEVR_new_000951.png (952 / 2000)\n",
      "starting image CLEVR_new_000952.png (953 / 2000)\n",
      "starting image CLEVR_new_000953.png (954 / 2000)\n",
      "starting image CLEVR_new_000954.png (955 / 2000)\n",
      "starting image CLEVR_new_000955.png (956 / 2000)\n",
      "starting image CLEVR_new_000956.png (957 / 2000)\n",
      "starting image CLEVR_new_000957.png (958 / 2000)\n",
      "starting image CLEVR_new_000958.png (959 / 2000)\n",
      "starting image CLEVR_new_000959.png (960 / 2000)\n",
      "starting image CLEVR_new_000960.png (961 / 2000)\n",
      "starting image CLEVR_new_000961.png (962 / 2000)\n",
      "starting image CLEVR_new_000962.png (963 / 2000)\n",
      "starting image CLEVR_new_000963.png (964 / 2000)\n",
      "starting image CLEVR_new_000964.png (965 / 2000)\n",
      "starting image CLEVR_new_000965.png (966 / 2000)\n",
      "starting image CLEVR_new_000966.png (967 / 2000)\n",
      "starting image CLEVR_new_000967.png (968 / 2000)\n",
      "starting image CLEVR_new_000968.png (969 / 2000)\n",
      "starting image CLEVR_new_000969.png (970 / 2000)\n",
      "starting image CLEVR_new_000970.png (971 / 2000)\n",
      "starting image CLEVR_new_000971.png (972 / 2000)\n",
      "starting image CLEVR_new_000972.png (973 / 2000)\n",
      "starting image CLEVR_new_000973.png (974 / 2000)\n",
      "starting image CLEVR_new_000974.png (975 / 2000)\n",
      "starting image CLEVR_new_000975.png (976 / 2000)\n",
      "starting image CLEVR_new_000976.png (977 / 2000)\n",
      "starting image CLEVR_new_000977.png (978 / 2000)\n",
      "starting image CLEVR_new_000978.png (979 / 2000)\n",
      "starting image CLEVR_new_000979.png (980 / 2000)\n",
      "starting image CLEVR_new_000980.png (981 / 2000)\n",
      "starting image CLEVR_new_000981.png (982 / 2000)\n",
      "starting image CLEVR_new_000982.png (983 / 2000)\n",
      "starting image CLEVR_new_000983.png (984 / 2000)\n",
      "starting image CLEVR_new_000984.png (985 / 2000)\n",
      "starting image CLEVR_new_000985.png (986 / 2000)\n",
      "starting image CLEVR_new_000986.png (987 / 2000)\n",
      "starting image CLEVR_new_000987.png (988 / 2000)\n",
      "starting image CLEVR_new_000988.png (989 / 2000)\n",
      "starting image CLEVR_new_000989.png (990 / 2000)\n",
      "starting image CLEVR_new_000990.png (991 / 2000)\n",
      "starting image CLEVR_new_000991.png (992 / 2000)\n",
      "starting image CLEVR_new_000992.png (993 / 2000)\n",
      "starting image CLEVR_new_000993.png (994 / 2000)\n",
      "starting image CLEVR_new_000994.png (995 / 2000)\n",
      "starting image CLEVR_new_000995.png (996 / 2000)\n",
      "starting image CLEVR_new_000996.png (997 / 2000)\n",
      "starting image CLEVR_new_000997.png (998 / 2000)\n",
      "starting image CLEVR_new_000998.png (999 / 2000)\n",
      "starting image CLEVR_new_000999.png (1000 / 2000)\n",
      "starting image CLEVR_new_001000.png (1001 / 2000)\n",
      "resetting counts\n",
      "starting image CLEVR_new_001001.png (1002 / 2000)\n",
      "starting image CLEVR_new_001002.png (1003 / 2000)\n",
      "starting image CLEVR_new_001003.png (1004 / 2000)\n",
      "starting image CLEVR_new_001004.png (1005 / 2000)\n",
      "starting image CLEVR_new_001005.png (1006 / 2000)\n",
      "starting image CLEVR_new_001006.png (1007 / 2000)\n",
      "starting image CLEVR_new_001007.png (1008 / 2000)\n",
      "starting image CLEVR_new_001008.png (1009 / 2000)\n",
      "starting image CLEVR_new_001009.png (1010 / 2000)\n",
      "starting image CLEVR_new_001010.png (1011 / 2000)\n",
      "starting image CLEVR_new_001011.png (1012 / 2000)\n",
      "starting image CLEVR_new_001012.png (1013 / 2000)\n",
      "starting image CLEVR_new_001013.png (1014 / 2000)\n",
      "starting image CLEVR_new_001014.png (1015 / 2000)\n",
      "starting image CLEVR_new_001015.png (1016 / 2000)\n",
      "starting image CLEVR_new_001016.png (1017 / 2000)\n",
      "starting image CLEVR_new_001017.png (1018 / 2000)\n",
      "starting image CLEVR_new_001018.png (1019 / 2000)\n",
      "starting image CLEVR_new_001019.png (1020 / 2000)\n",
      "starting image CLEVR_new_001020.png (1021 / 2000)\n",
      "starting image CLEVR_new_001021.png (1022 / 2000)\n",
      "starting image CLEVR_new_001022.png (1023 / 2000)\n",
      "starting image CLEVR_new_001023.png (1024 / 2000)\n",
      "starting image CLEVR_new_001024.png (1025 / 2000)\n",
      "starting image CLEVR_new_001025.png (1026 / 2000)\n",
      "starting image CLEVR_new_001026.png (1027 / 2000)\n",
      "starting image CLEVR_new_001027.png (1028 / 2000)\n",
      "starting image CLEVR_new_001028.png (1029 / 2000)\n",
      "starting image CLEVR_new_001029.png (1030 / 2000)\n",
      "starting image CLEVR_new_001030.png (1031 / 2000)\n",
      "starting image CLEVR_new_001031.png (1032 / 2000)\n",
      "starting image CLEVR_new_001032.png (1033 / 2000)\n",
      "starting image CLEVR_new_001033.png (1034 / 2000)\n",
      "starting image CLEVR_new_001034.png (1035 / 2000)\n",
      "starting image CLEVR_new_001035.png (1036 / 2000)\n",
      "starting image CLEVR_new_001036.png (1037 / 2000)\n",
      "starting image CLEVR_new_001037.png (1038 / 2000)\n",
      "starting image CLEVR_new_001038.png (1039 / 2000)\n",
      "starting image CLEVR_new_001039.png (1040 / 2000)\n",
      "starting image CLEVR_new_001040.png (1041 / 2000)\n",
      "starting image CLEVR_new_001041.png (1042 / 2000)\n",
      "starting image CLEVR_new_001042.png (1043 / 2000)\n",
      "starting image CLEVR_new_001043.png (1044 / 2000)\n",
      "starting image CLEVR_new_001044.png (1045 / 2000)\n",
      "starting image CLEVR_new_001045.png (1046 / 2000)\n",
      "starting image CLEVR_new_001046.png (1047 / 2000)\n",
      "starting image CLEVR_new_001047.png (1048 / 2000)\n",
      "starting image CLEVR_new_001048.png (1049 / 2000)\n",
      "starting image CLEVR_new_001049.png (1050 / 2000)\n",
      "starting image CLEVR_new_001050.png (1051 / 2000)\n",
      "starting image CLEVR_new_001051.png (1052 / 2000)\n",
      "starting image CLEVR_new_001052.png (1053 / 2000)\n",
      "starting image CLEVR_new_001053.png (1054 / 2000)\n",
      "starting image CLEVR_new_001054.png (1055 / 2000)\n",
      "starting image CLEVR_new_001055.png (1056 / 2000)\n",
      "starting image CLEVR_new_001056.png (1057 / 2000)\n",
      "starting image CLEVR_new_001057.png (1058 / 2000)\n",
      "starting image CLEVR_new_001058.png (1059 / 2000)\n",
      "starting image CLEVR_new_001059.png (1060 / 2000)\n",
      "starting image CLEVR_new_001060.png (1061 / 2000)\n",
      "starting image CLEVR_new_001061.png (1062 / 2000)\n",
      "starting image CLEVR_new_001062.png (1063 / 2000)\n",
      "starting image CLEVR_new_001063.png (1064 / 2000)\n",
      "starting image CLEVR_new_001064.png (1065 / 2000)\n",
      "starting image CLEVR_new_001065.png (1066 / 2000)\n",
      "starting image CLEVR_new_001066.png (1067 / 2000)\n",
      "starting image CLEVR_new_001067.png (1068 / 2000)\n",
      "starting image CLEVR_new_001068.png (1069 / 2000)\n",
      "starting image CLEVR_new_001069.png (1070 / 2000)\n",
      "starting image CLEVR_new_001070.png (1071 / 2000)\n",
      "starting image CLEVR_new_001071.png (1072 / 2000)\n",
      "starting image CLEVR_new_001072.png (1073 / 2000)\n",
      "starting image CLEVR_new_001073.png (1074 / 2000)\n",
      "starting image CLEVR_new_001074.png (1075 / 2000)\n",
      "starting image CLEVR_new_001075.png (1076 / 2000)\n",
      "starting image CLEVR_new_001076.png (1077 / 2000)\n",
      "starting image CLEVR_new_001077.png (1078 / 2000)\n",
      "starting image CLEVR_new_001078.png (1079 / 2000)\n",
      "starting image CLEVR_new_001079.png (1080 / 2000)\n",
      "starting image CLEVR_new_001080.png (1081 / 2000)\n",
      "starting image CLEVR_new_001081.png (1082 / 2000)\n",
      "starting image CLEVR_new_001082.png (1083 / 2000)\n",
      "starting image CLEVR_new_001083.png (1084 / 2000)\n",
      "starting image CLEVR_new_001084.png (1085 / 2000)\n",
      "starting image CLEVR_new_001085.png (1086 / 2000)\n",
      "starting image CLEVR_new_001086.png (1087 / 2000)\n",
      "starting image CLEVR_new_001087.png (1088 / 2000)\n",
      "starting image CLEVR_new_001088.png (1089 / 2000)\n",
      "starting image CLEVR_new_001089.png (1090 / 2000)\n",
      "starting image CLEVR_new_001090.png (1091 / 2000)\n",
      "starting image CLEVR_new_001091.png (1092 / 2000)\n",
      "starting image CLEVR_new_001092.png (1093 / 2000)\n",
      "starting image CLEVR_new_001093.png (1094 / 2000)\n",
      "starting image CLEVR_new_001094.png (1095 / 2000)\n",
      "starting image CLEVR_new_001095.png (1096 / 2000)\n",
      "starting image CLEVR_new_001096.png (1097 / 2000)\n",
      "starting image CLEVR_new_001097.png (1098 / 2000)\n",
      "starting image CLEVR_new_001098.png (1099 / 2000)\n",
      "starting image CLEVR_new_001099.png (1100 / 2000)\n",
      "starting image CLEVR_new_001100.png (1101 / 2000)\n",
      "starting image CLEVR_new_001101.png (1102 / 2000)\n",
      "starting image CLEVR_new_001102.png (1103 / 2000)\n",
      "starting image CLEVR_new_001103.png (1104 / 2000)\n",
      "starting image CLEVR_new_001104.png (1105 / 2000)\n",
      "starting image CLEVR_new_001105.png (1106 / 2000)\n",
      "starting image CLEVR_new_001106.png (1107 / 2000)\n",
      "starting image CLEVR_new_001107.png (1108 / 2000)\n",
      "starting image CLEVR_new_001108.png (1109 / 2000)\n",
      "starting image CLEVR_new_001109.png (1110 / 2000)\n",
      "starting image CLEVR_new_001110.png (1111 / 2000)\n",
      "starting image CLEVR_new_001111.png (1112 / 2000)\n",
      "starting image CLEVR_new_001112.png (1113 / 2000)\n",
      "starting image CLEVR_new_001113.png (1114 / 2000)\n",
      "starting image CLEVR_new_001114.png (1115 / 2000)\n",
      "starting image CLEVR_new_001115.png (1116 / 2000)\n",
      "starting image CLEVR_new_001116.png (1117 / 2000)\n",
      "starting image CLEVR_new_001117.png (1118 / 2000)\n",
      "starting image CLEVR_new_001118.png (1119 / 2000)\n",
      "starting image CLEVR_new_001119.png (1120 / 2000)\n",
      "starting image CLEVR_new_001120.png (1121 / 2000)\n",
      "starting image CLEVR_new_001121.png (1122 / 2000)\n",
      "starting image CLEVR_new_001122.png (1123 / 2000)\n",
      "starting image CLEVR_new_001123.png (1124 / 2000)\n",
      "starting image CLEVR_new_001124.png (1125 / 2000)\n",
      "starting image CLEVR_new_001125.png (1126 / 2000)\n",
      "starting image CLEVR_new_001126.png (1127 / 2000)\n",
      "starting image CLEVR_new_001127.png (1128 / 2000)\n",
      "starting image CLEVR_new_001128.png (1129 / 2000)\n",
      "starting image CLEVR_new_001129.png (1130 / 2000)\n",
      "starting image CLEVR_new_001130.png (1131 / 2000)\n",
      "starting image CLEVR_new_001131.png (1132 / 2000)\n",
      "starting image CLEVR_new_001132.png (1133 / 2000)\n",
      "starting image CLEVR_new_001133.png (1134 / 2000)\n",
      "starting image CLEVR_new_001134.png (1135 / 2000)\n",
      "starting image CLEVR_new_001135.png (1136 / 2000)\n",
      "starting image CLEVR_new_001136.png (1137 / 2000)\n",
      "starting image CLEVR_new_001137.png (1138 / 2000)\n",
      "starting image CLEVR_new_001138.png (1139 / 2000)\n",
      "starting image CLEVR_new_001139.png (1140 / 2000)\n",
      "starting image CLEVR_new_001140.png (1141 / 2000)\n",
      "starting image CLEVR_new_001141.png (1142 / 2000)\n",
      "starting image CLEVR_new_001142.png (1143 / 2000)\n",
      "starting image CLEVR_new_001143.png (1144 / 2000)\n",
      "starting image CLEVR_new_001144.png (1145 / 2000)\n",
      "starting image CLEVR_new_001145.png (1146 / 2000)\n",
      "starting image CLEVR_new_001146.png (1147 / 2000)\n",
      "starting image CLEVR_new_001147.png (1148 / 2000)\n",
      "starting image CLEVR_new_001148.png (1149 / 2000)\n",
      "starting image CLEVR_new_001149.png (1150 / 2000)\n",
      "starting image CLEVR_new_001150.png (1151 / 2000)\n",
      "starting image CLEVR_new_001151.png (1152 / 2000)\n",
      "starting image CLEVR_new_001152.png (1153 / 2000)\n",
      "starting image CLEVR_new_001153.png (1154 / 2000)\n",
      "starting image CLEVR_new_001154.png (1155 / 2000)\n",
      "starting image CLEVR_new_001155.png (1156 / 2000)\n",
      "starting image CLEVR_new_001156.png (1157 / 2000)\n",
      "starting image CLEVR_new_001157.png (1158 / 2000)\n",
      "starting image CLEVR_new_001158.png (1159 / 2000)\n",
      "starting image CLEVR_new_001159.png (1160 / 2000)\n",
      "starting image CLEVR_new_001160.png (1161 / 2000)\n",
      "starting image CLEVR_new_001161.png (1162 / 2000)\n",
      "starting image CLEVR_new_001162.png (1163 / 2000)\n",
      "starting image CLEVR_new_001163.png (1164 / 2000)\n",
      "starting image CLEVR_new_001164.png (1165 / 2000)\n",
      "starting image CLEVR_new_001165.png (1166 / 2000)\n",
      "starting image CLEVR_new_001166.png (1167 / 2000)\n",
      "starting image CLEVR_new_001167.png (1168 / 2000)\n",
      "starting image CLEVR_new_001168.png (1169 / 2000)\n",
      "starting image CLEVR_new_001169.png (1170 / 2000)\n",
      "starting image CLEVR_new_001170.png (1171 / 2000)\n",
      "starting image CLEVR_new_001171.png (1172 / 2000)\n",
      "starting image CLEVR_new_001172.png (1173 / 2000)\n",
      "starting image CLEVR_new_001173.png (1174 / 2000)\n",
      "starting image CLEVR_new_001174.png (1175 / 2000)\n",
      "starting image CLEVR_new_001175.png (1176 / 2000)\n",
      "starting image CLEVR_new_001176.png (1177 / 2000)\n",
      "starting image CLEVR_new_001177.png (1178 / 2000)\n",
      "starting image CLEVR_new_001178.png (1179 / 2000)\n",
      "starting image CLEVR_new_001179.png (1180 / 2000)\n",
      "starting image CLEVR_new_001180.png (1181 / 2000)\n",
      "starting image CLEVR_new_001181.png (1182 / 2000)\n",
      "starting image CLEVR_new_001182.png (1183 / 2000)\n",
      "starting image CLEVR_new_001183.png (1184 / 2000)\n",
      "starting image CLEVR_new_001184.png (1185 / 2000)\n",
      "starting image CLEVR_new_001185.png (1186 / 2000)\n",
      "starting image CLEVR_new_001186.png (1187 / 2000)\n",
      "starting image CLEVR_new_001187.png (1188 / 2000)\n",
      "starting image CLEVR_new_001188.png (1189 / 2000)\n",
      "starting image CLEVR_new_001189.png (1190 / 2000)\n",
      "starting image CLEVR_new_001190.png (1191 / 2000)\n",
      "starting image CLEVR_new_001191.png (1192 / 2000)\n",
      "starting image CLEVR_new_001192.png (1193 / 2000)\n",
      "starting image CLEVR_new_001193.png (1194 / 2000)\n",
      "starting image CLEVR_new_001194.png (1195 / 2000)\n",
      "starting image CLEVR_new_001195.png (1196 / 2000)\n",
      "starting image CLEVR_new_001196.png (1197 / 2000)\n",
      "starting image CLEVR_new_001197.png (1198 / 2000)\n",
      "starting image CLEVR_new_001198.png (1199 / 2000)\n",
      "starting image CLEVR_new_001199.png (1200 / 2000)\n",
      "starting image CLEVR_new_001200.png (1201 / 2000)\n",
      "starting image CLEVR_new_001201.png (1202 / 2000)\n",
      "starting image CLEVR_new_001202.png (1203 / 2000)\n",
      "starting image CLEVR_new_001203.png (1204 / 2000)\n",
      "starting image CLEVR_new_001204.png (1205 / 2000)\n",
      "starting image CLEVR_new_001205.png (1206 / 2000)\n",
      "starting image CLEVR_new_001206.png (1207 / 2000)\n",
      "starting image CLEVR_new_001207.png (1208 / 2000)\n",
      "starting image CLEVR_new_001208.png (1209 / 2000)\n",
      "starting image CLEVR_new_001209.png (1210 / 2000)\n",
      "starting image CLEVR_new_001210.png (1211 / 2000)\n",
      "starting image CLEVR_new_001211.png (1212 / 2000)\n",
      "starting image CLEVR_new_001212.png (1213 / 2000)\n",
      "starting image CLEVR_new_001213.png (1214 / 2000)\n",
      "starting image CLEVR_new_001214.png (1215 / 2000)\n",
      "starting image CLEVR_new_001215.png (1216 / 2000)\n",
      "starting image CLEVR_new_001216.png (1217 / 2000)\n",
      "starting image CLEVR_new_001217.png (1218 / 2000)\n",
      "starting image CLEVR_new_001218.png (1219 / 2000)\n",
      "starting image CLEVR_new_001219.png (1220 / 2000)\n",
      "starting image CLEVR_new_001220.png (1221 / 2000)\n",
      "starting image CLEVR_new_001221.png (1222 / 2000)\n",
      "starting image CLEVR_new_001222.png (1223 / 2000)\n",
      "starting image CLEVR_new_001223.png (1224 / 2000)\n",
      "starting image CLEVR_new_001224.png (1225 / 2000)\n",
      "starting image CLEVR_new_001225.png (1226 / 2000)\n",
      "starting image CLEVR_new_001226.png (1227 / 2000)\n",
      "starting image CLEVR_new_001227.png (1228 / 2000)\n",
      "starting image CLEVR_new_001228.png (1229 / 2000)\n",
      "starting image CLEVR_new_001229.png (1230 / 2000)\n",
      "starting image CLEVR_new_001230.png (1231 / 2000)\n",
      "starting image CLEVR_new_001231.png (1232 / 2000)\n",
      "starting image CLEVR_new_001232.png (1233 / 2000)\n",
      "starting image CLEVR_new_001233.png (1234 / 2000)\n",
      "starting image CLEVR_new_001234.png (1235 / 2000)\n",
      "starting image CLEVR_new_001235.png (1236 / 2000)\n",
      "starting image CLEVR_new_001236.png (1237 / 2000)\n",
      "starting image CLEVR_new_001237.png (1238 / 2000)\n",
      "starting image CLEVR_new_001238.png (1239 / 2000)\n",
      "starting image CLEVR_new_001239.png (1240 / 2000)\n",
      "starting image CLEVR_new_001240.png (1241 / 2000)\n",
      "starting image CLEVR_new_001241.png (1242 / 2000)\n",
      "starting image CLEVR_new_001242.png (1243 / 2000)\n",
      "starting image CLEVR_new_001243.png (1244 / 2000)\n",
      "starting image CLEVR_new_001244.png (1245 / 2000)\n",
      "starting image CLEVR_new_001245.png (1246 / 2000)\n",
      "starting image CLEVR_new_001246.png (1247 / 2000)\n",
      "starting image CLEVR_new_001247.png (1248 / 2000)\n",
      "starting image CLEVR_new_001248.png (1249 / 2000)\n",
      "starting image CLEVR_new_001249.png (1250 / 2000)\n",
      "starting image CLEVR_new_001250.png (1251 / 2000)\n",
      "resetting counts\n",
      "starting image CLEVR_new_001251.png (1252 / 2000)\n",
      "starting image CLEVR_new_001252.png (1253 / 2000)\n",
      "starting image CLEVR_new_001253.png (1254 / 2000)\n",
      "starting image CLEVR_new_001254.png (1255 / 2000)\n",
      "starting image CLEVR_new_001255.png (1256 / 2000)\n",
      "starting image CLEVR_new_001256.png (1257 / 2000)\n",
      "starting image CLEVR_new_001257.png (1258 / 2000)\n",
      "starting image CLEVR_new_001258.png (1259 / 2000)\n",
      "starting image CLEVR_new_001259.png (1260 / 2000)\n",
      "starting image CLEVR_new_001260.png (1261 / 2000)\n",
      "starting image CLEVR_new_001261.png (1262 / 2000)\n",
      "starting image CLEVR_new_001262.png (1263 / 2000)\n",
      "starting image CLEVR_new_001263.png (1264 / 2000)\n",
      "starting image CLEVR_new_001264.png (1265 / 2000)\n",
      "starting image CLEVR_new_001265.png (1266 / 2000)\n",
      "starting image CLEVR_new_001266.png (1267 / 2000)\n",
      "starting image CLEVR_new_001267.png (1268 / 2000)\n",
      "starting image CLEVR_new_001268.png (1269 / 2000)\n",
      "starting image CLEVR_new_001269.png (1270 / 2000)\n",
      "starting image CLEVR_new_001270.png (1271 / 2000)\n",
      "starting image CLEVR_new_001271.png (1272 / 2000)\n",
      "starting image CLEVR_new_001272.png (1273 / 2000)\n",
      "starting image CLEVR_new_001273.png (1274 / 2000)\n",
      "starting image CLEVR_new_001274.png (1275 / 2000)\n",
      "starting image CLEVR_new_001275.png (1276 / 2000)\n",
      "starting image CLEVR_new_001276.png (1277 / 2000)\n",
      "starting image CLEVR_new_001277.png (1278 / 2000)\n",
      "starting image CLEVR_new_001278.png (1279 / 2000)\n",
      "starting image CLEVR_new_001279.png (1280 / 2000)\n",
      "starting image CLEVR_new_001280.png (1281 / 2000)\n",
      "starting image CLEVR_new_001281.png (1282 / 2000)\n",
      "starting image CLEVR_new_001282.png (1283 / 2000)\n",
      "starting image CLEVR_new_001283.png (1284 / 2000)\n",
      "starting image CLEVR_new_001284.png (1285 / 2000)\n",
      "starting image CLEVR_new_001285.png (1286 / 2000)\n",
      "starting image CLEVR_new_001286.png (1287 / 2000)\n",
      "starting image CLEVR_new_001287.png (1288 / 2000)\n",
      "starting image CLEVR_new_001288.png (1289 / 2000)\n",
      "starting image CLEVR_new_001289.png (1290 / 2000)\n",
      "starting image CLEVR_new_001290.png (1291 / 2000)\n",
      "starting image CLEVR_new_001291.png (1292 / 2000)\n",
      "starting image CLEVR_new_001292.png (1293 / 2000)\n",
      "starting image CLEVR_new_001293.png (1294 / 2000)\n",
      "starting image CLEVR_new_001294.png (1295 / 2000)\n",
      "starting image CLEVR_new_001295.png (1296 / 2000)\n",
      "starting image CLEVR_new_001296.png (1297 / 2000)\n",
      "starting image CLEVR_new_001297.png (1298 / 2000)\n",
      "starting image CLEVR_new_001298.png (1299 / 2000)\n",
      "starting image CLEVR_new_001299.png (1300 / 2000)\n",
      "starting image CLEVR_new_001300.png (1301 / 2000)\n",
      "starting image CLEVR_new_001301.png (1302 / 2000)\n",
      "starting image CLEVR_new_001302.png (1303 / 2000)\n",
      "starting image CLEVR_new_001303.png (1304 / 2000)\n",
      "starting image CLEVR_new_001304.png (1305 / 2000)\n",
      "starting image CLEVR_new_001305.png (1306 / 2000)\n",
      "starting image CLEVR_new_001306.png (1307 / 2000)\n",
      "starting image CLEVR_new_001307.png (1308 / 2000)\n",
      "starting image CLEVR_new_001308.png (1309 / 2000)\n",
      "starting image CLEVR_new_001309.png (1310 / 2000)\n",
      "starting image CLEVR_new_001310.png (1311 / 2000)\n",
      "starting image CLEVR_new_001311.png (1312 / 2000)\n",
      "starting image CLEVR_new_001312.png (1313 / 2000)\n",
      "starting image CLEVR_new_001313.png (1314 / 2000)\n",
      "starting image CLEVR_new_001314.png (1315 / 2000)\n",
      "starting image CLEVR_new_001315.png (1316 / 2000)\n",
      "starting image CLEVR_new_001316.png (1317 / 2000)\n",
      "starting image CLEVR_new_001317.png (1318 / 2000)\n",
      "starting image CLEVR_new_001318.png (1319 / 2000)\n",
      "starting image CLEVR_new_001319.png (1320 / 2000)\n",
      "starting image CLEVR_new_001320.png (1321 / 2000)\n",
      "starting image CLEVR_new_001321.png (1322 / 2000)\n",
      "starting image CLEVR_new_001322.png (1323 / 2000)\n",
      "starting image CLEVR_new_001323.png (1324 / 2000)\n",
      "starting image CLEVR_new_001324.png (1325 / 2000)\n",
      "starting image CLEVR_new_001325.png (1326 / 2000)\n",
      "starting image CLEVR_new_001326.png (1327 / 2000)\n",
      "starting image CLEVR_new_001327.png (1328 / 2000)\n",
      "starting image CLEVR_new_001328.png (1329 / 2000)\n",
      "starting image CLEVR_new_001329.png (1330 / 2000)\n",
      "starting image CLEVR_new_001330.png (1331 / 2000)\n",
      "starting image CLEVR_new_001331.png (1332 / 2000)\n",
      "starting image CLEVR_new_001332.png (1333 / 2000)\n",
      "starting image CLEVR_new_001333.png (1334 / 2000)\n",
      "starting image CLEVR_new_001334.png (1335 / 2000)\n",
      "starting image CLEVR_new_001335.png (1336 / 2000)\n",
      "starting image CLEVR_new_001336.png (1337 / 2000)\n",
      "starting image CLEVR_new_001337.png (1338 / 2000)\n",
      "starting image CLEVR_new_001338.png (1339 / 2000)\n",
      "starting image CLEVR_new_001339.png (1340 / 2000)\n",
      "starting image CLEVR_new_001340.png (1341 / 2000)\n",
      "starting image CLEVR_new_001341.png (1342 / 2000)\n",
      "starting image CLEVR_new_001342.png (1343 / 2000)\n",
      "starting image CLEVR_new_001343.png (1344 / 2000)\n",
      "starting image CLEVR_new_001344.png (1345 / 2000)\n",
      "starting image CLEVR_new_001345.png (1346 / 2000)\n",
      "starting image CLEVR_new_001346.png (1347 / 2000)\n",
      "starting image CLEVR_new_001347.png (1348 / 2000)\n",
      "starting image CLEVR_new_001348.png (1349 / 2000)\n",
      "starting image CLEVR_new_001349.png (1350 / 2000)\n",
      "starting image CLEVR_new_001350.png (1351 / 2000)\n",
      "starting image CLEVR_new_001351.png (1352 / 2000)\n",
      "starting image CLEVR_new_001352.png (1353 / 2000)\n",
      "starting image CLEVR_new_001353.png (1354 / 2000)\n",
      "starting image CLEVR_new_001354.png (1355 / 2000)\n",
      "starting image CLEVR_new_001355.png (1356 / 2000)\n",
      "starting image CLEVR_new_001356.png (1357 / 2000)\n",
      "starting image CLEVR_new_001357.png (1358 / 2000)\n",
      "starting image CLEVR_new_001358.png (1359 / 2000)\n",
      "starting image CLEVR_new_001359.png (1360 / 2000)\n",
      "starting image CLEVR_new_001360.png (1361 / 2000)\n",
      "starting image CLEVR_new_001361.png (1362 / 2000)\n",
      "starting image CLEVR_new_001362.png (1363 / 2000)\n",
      "starting image CLEVR_new_001363.png (1364 / 2000)\n",
      "starting image CLEVR_new_001364.png (1365 / 2000)\n",
      "starting image CLEVR_new_001365.png (1366 / 2000)\n",
      "starting image CLEVR_new_001366.png (1367 / 2000)\n",
      "starting image CLEVR_new_001367.png (1368 / 2000)\n",
      "starting image CLEVR_new_001368.png (1369 / 2000)\n",
      "starting image CLEVR_new_001369.png (1370 / 2000)\n",
      "starting image CLEVR_new_001370.png (1371 / 2000)\n",
      "starting image CLEVR_new_001371.png (1372 / 2000)\n",
      "starting image CLEVR_new_001372.png (1373 / 2000)\n",
      "starting image CLEVR_new_001373.png (1374 / 2000)\n",
      "starting image CLEVR_new_001374.png (1375 / 2000)\n",
      "starting image CLEVR_new_001375.png (1376 / 2000)\n",
      "starting image CLEVR_new_001376.png (1377 / 2000)\n",
      "starting image CLEVR_new_001377.png (1378 / 2000)\n",
      "starting image CLEVR_new_001378.png (1379 / 2000)\n",
      "starting image CLEVR_new_001379.png (1380 / 2000)\n",
      "starting image CLEVR_new_001380.png (1381 / 2000)\n",
      "starting image CLEVR_new_001381.png (1382 / 2000)\n",
      "starting image CLEVR_new_001382.png (1383 / 2000)\n",
      "starting image CLEVR_new_001383.png (1384 / 2000)\n",
      "starting image CLEVR_new_001384.png (1385 / 2000)\n",
      "starting image CLEVR_new_001385.png (1386 / 2000)\n",
      "starting image CLEVR_new_001386.png (1387 / 2000)\n",
      "starting image CLEVR_new_001387.png (1388 / 2000)\n",
      "starting image CLEVR_new_001388.png (1389 / 2000)\n",
      "starting image CLEVR_new_001389.png (1390 / 2000)\n",
      "starting image CLEVR_new_001390.png (1391 / 2000)\n",
      "starting image CLEVR_new_001391.png (1392 / 2000)\n",
      "starting image CLEVR_new_001392.png (1393 / 2000)\n",
      "starting image CLEVR_new_001393.png (1394 / 2000)\n",
      "starting image CLEVR_new_001394.png (1395 / 2000)\n",
      "starting image CLEVR_new_001395.png (1396 / 2000)\n",
      "starting image CLEVR_new_001396.png (1397 / 2000)\n",
      "starting image CLEVR_new_001397.png (1398 / 2000)\n",
      "starting image CLEVR_new_001398.png (1399 / 2000)\n",
      "starting image CLEVR_new_001399.png (1400 / 2000)\n",
      "starting image CLEVR_new_001400.png (1401 / 2000)\n",
      "starting image CLEVR_new_001401.png (1402 / 2000)\n",
      "starting image CLEVR_new_001402.png (1403 / 2000)\n",
      "starting image CLEVR_new_001403.png (1404 / 2000)\n",
      "starting image CLEVR_new_001404.png (1405 / 2000)\n",
      "starting image CLEVR_new_001405.png (1406 / 2000)\n",
      "starting image CLEVR_new_001406.png (1407 / 2000)\n",
      "starting image CLEVR_new_001407.png (1408 / 2000)\n",
      "starting image CLEVR_new_001408.png (1409 / 2000)\n",
      "starting image CLEVR_new_001409.png (1410 / 2000)\n",
      "starting image CLEVR_new_001410.png (1411 / 2000)\n",
      "starting image CLEVR_new_001411.png (1412 / 2000)\n",
      "starting image CLEVR_new_001412.png (1413 / 2000)\n",
      "starting image CLEVR_new_001413.png (1414 / 2000)\n",
      "starting image CLEVR_new_001414.png (1415 / 2000)\n",
      "starting image CLEVR_new_001415.png (1416 / 2000)\n",
      "starting image CLEVR_new_001416.png (1417 / 2000)\n",
      "starting image CLEVR_new_001417.png (1418 / 2000)\n",
      "starting image CLEVR_new_001418.png (1419 / 2000)\n",
      "starting image CLEVR_new_001419.png (1420 / 2000)\n",
      "starting image CLEVR_new_001420.png (1421 / 2000)\n",
      "starting image CLEVR_new_001421.png (1422 / 2000)\n",
      "starting image CLEVR_new_001422.png (1423 / 2000)\n",
      "starting image CLEVR_new_001423.png (1424 / 2000)\n",
      "starting image CLEVR_new_001424.png (1425 / 2000)\n",
      "starting image CLEVR_new_001425.png (1426 / 2000)\n",
      "starting image CLEVR_new_001426.png (1427 / 2000)\n",
      "starting image CLEVR_new_001427.png (1428 / 2000)\n",
      "starting image CLEVR_new_001428.png (1429 / 2000)\n",
      "starting image CLEVR_new_001429.png (1430 / 2000)\n",
      "starting image CLEVR_new_001430.png (1431 / 2000)\n",
      "starting image CLEVR_new_001431.png (1432 / 2000)\n",
      "starting image CLEVR_new_001432.png (1433 / 2000)\n",
      "starting image CLEVR_new_001433.png (1434 / 2000)\n",
      "starting image CLEVR_new_001434.png (1435 / 2000)\n",
      "starting image CLEVR_new_001435.png (1436 / 2000)\n",
      "starting image CLEVR_new_001436.png (1437 / 2000)\n",
      "starting image CLEVR_new_001437.png (1438 / 2000)\n",
      "starting image CLEVR_new_001438.png (1439 / 2000)\n",
      "starting image CLEVR_new_001439.png (1440 / 2000)\n",
      "starting image CLEVR_new_001440.png (1441 / 2000)\n",
      "starting image CLEVR_new_001441.png (1442 / 2000)\n",
      "starting image CLEVR_new_001442.png (1443 / 2000)\n",
      "starting image CLEVR_new_001443.png (1444 / 2000)\n",
      "starting image CLEVR_new_001444.png (1445 / 2000)\n",
      "starting image CLEVR_new_001445.png (1446 / 2000)\n",
      "starting image CLEVR_new_001446.png (1447 / 2000)\n",
      "starting image CLEVR_new_001447.png (1448 / 2000)\n",
      "starting image CLEVR_new_001448.png (1449 / 2000)\n",
      "starting image CLEVR_new_001449.png (1450 / 2000)\n",
      "starting image CLEVR_new_001450.png (1451 / 2000)\n",
      "starting image CLEVR_new_001451.png (1452 / 2000)\n",
      "starting image CLEVR_new_001452.png (1453 / 2000)\n",
      "starting image CLEVR_new_001453.png (1454 / 2000)\n",
      "starting image CLEVR_new_001454.png (1455 / 2000)\n",
      "starting image CLEVR_new_001455.png (1456 / 2000)\n",
      "starting image CLEVR_new_001456.png (1457 / 2000)\n",
      "starting image CLEVR_new_001457.png (1458 / 2000)\n",
      "starting image CLEVR_new_001458.png (1459 / 2000)\n",
      "starting image CLEVR_new_001459.png (1460 / 2000)\n",
      "starting image CLEVR_new_001460.png (1461 / 2000)\n",
      "starting image CLEVR_new_001461.png (1462 / 2000)\n",
      "starting image CLEVR_new_001462.png (1463 / 2000)\n",
      "starting image CLEVR_new_001463.png (1464 / 2000)\n",
      "starting image CLEVR_new_001464.png (1465 / 2000)\n",
      "starting image CLEVR_new_001465.png (1466 / 2000)\n",
      "starting image CLEVR_new_001466.png (1467 / 2000)\n",
      "starting image CLEVR_new_001467.png (1468 / 2000)\n",
      "starting image CLEVR_new_001468.png (1469 / 2000)\n",
      "starting image CLEVR_new_001469.png (1470 / 2000)\n",
      "starting image CLEVR_new_001470.png (1471 / 2000)\n",
      "starting image CLEVR_new_001471.png (1472 / 2000)\n",
      "starting image CLEVR_new_001472.png (1473 / 2000)\n",
      "starting image CLEVR_new_001473.png (1474 / 2000)\n",
      "starting image CLEVR_new_001474.png (1475 / 2000)\n",
      "starting image CLEVR_new_001475.png (1476 / 2000)\n",
      "starting image CLEVR_new_001476.png (1477 / 2000)\n",
      "starting image CLEVR_new_001477.png (1478 / 2000)\n",
      "starting image CLEVR_new_001478.png (1479 / 2000)\n",
      "starting image CLEVR_new_001479.png (1480 / 2000)\n",
      "starting image CLEVR_new_001480.png (1481 / 2000)\n",
      "starting image CLEVR_new_001481.png (1482 / 2000)\n",
      "starting image CLEVR_new_001482.png (1483 / 2000)\n",
      "starting image CLEVR_new_001483.png (1484 / 2000)\n",
      "starting image CLEVR_new_001484.png (1485 / 2000)\n",
      "starting image CLEVR_new_001485.png (1486 / 2000)\n",
      "starting image CLEVR_new_001486.png (1487 / 2000)\n",
      "starting image CLEVR_new_001487.png (1488 / 2000)\n",
      "starting image CLEVR_new_001488.png (1489 / 2000)\n",
      "starting image CLEVR_new_001489.png (1490 / 2000)\n",
      "starting image CLEVR_new_001490.png (1491 / 2000)\n",
      "starting image CLEVR_new_001491.png (1492 / 2000)\n",
      "starting image CLEVR_new_001492.png (1493 / 2000)\n",
      "starting image CLEVR_new_001493.png (1494 / 2000)\n",
      "starting image CLEVR_new_001494.png (1495 / 2000)\n",
      "starting image CLEVR_new_001495.png (1496 / 2000)\n",
      "starting image CLEVR_new_001496.png (1497 / 2000)\n",
      "starting image CLEVR_new_001497.png (1498 / 2000)\n",
      "starting image CLEVR_new_001498.png (1499 / 2000)\n",
      "starting image CLEVR_new_001499.png (1500 / 2000)\n",
      "starting image CLEVR_new_001500.png (1501 / 2000)\n",
      "resetting counts\n",
      "starting image CLEVR_new_001501.png (1502 / 2000)\n",
      "starting image CLEVR_new_001502.png (1503 / 2000)\n",
      "starting image CLEVR_new_001503.png (1504 / 2000)\n",
      "starting image CLEVR_new_001504.png (1505 / 2000)\n",
      "starting image CLEVR_new_001505.png (1506 / 2000)\n",
      "starting image CLEVR_new_001506.png (1507 / 2000)\n",
      "starting image CLEVR_new_001507.png (1508 / 2000)\n",
      "starting image CLEVR_new_001508.png (1509 / 2000)\n",
      "starting image CLEVR_new_001509.png (1510 / 2000)\n",
      "starting image CLEVR_new_001510.png (1511 / 2000)\n",
      "starting image CLEVR_new_001511.png (1512 / 2000)\n",
      "starting image CLEVR_new_001512.png (1513 / 2000)\n",
      "starting image CLEVR_new_001513.png (1514 / 2000)\n",
      "starting image CLEVR_new_001514.png (1515 / 2000)\n",
      "starting image CLEVR_new_001515.png (1516 / 2000)\n",
      "starting image CLEVR_new_001516.png (1517 / 2000)\n",
      "starting image CLEVR_new_001517.png (1518 / 2000)\n",
      "starting image CLEVR_new_001518.png (1519 / 2000)\n",
      "starting image CLEVR_new_001519.png (1520 / 2000)\n",
      "starting image CLEVR_new_001520.png (1521 / 2000)\n",
      "starting image CLEVR_new_001521.png (1522 / 2000)\n",
      "starting image CLEVR_new_001522.png (1523 / 2000)\n",
      "starting image CLEVR_new_001523.png (1524 / 2000)\n",
      "starting image CLEVR_new_001524.png (1525 / 2000)\n",
      "starting image CLEVR_new_001525.png (1526 / 2000)\n",
      "starting image CLEVR_new_001526.png (1527 / 2000)\n",
      "starting image CLEVR_new_001527.png (1528 / 2000)\n",
      "starting image CLEVR_new_001528.png (1529 / 2000)\n",
      "starting image CLEVR_new_001529.png (1530 / 2000)\n",
      "starting image CLEVR_new_001530.png (1531 / 2000)\n",
      "starting image CLEVR_new_001531.png (1532 / 2000)\n",
      "starting image CLEVR_new_001532.png (1533 / 2000)\n",
      "starting image CLEVR_new_001533.png (1534 / 2000)\n",
      "starting image CLEVR_new_001534.png (1535 / 2000)\n",
      "starting image CLEVR_new_001535.png (1536 / 2000)\n",
      "starting image CLEVR_new_001536.png (1537 / 2000)\n",
      "starting image CLEVR_new_001537.png (1538 / 2000)\n",
      "starting image CLEVR_new_001538.png (1539 / 2000)\n",
      "starting image CLEVR_new_001539.png (1540 / 2000)\n",
      "starting image CLEVR_new_001540.png (1541 / 2000)\n",
      "starting image CLEVR_new_001541.png (1542 / 2000)\n",
      "starting image CLEVR_new_001542.png (1543 / 2000)\n",
      "starting image CLEVR_new_001543.png (1544 / 2000)\n",
      "starting image CLEVR_new_001544.png (1545 / 2000)\n",
      "starting image CLEVR_new_001545.png (1546 / 2000)\n",
      "starting image CLEVR_new_001546.png (1547 / 2000)\n",
      "starting image CLEVR_new_001547.png (1548 / 2000)\n",
      "starting image CLEVR_new_001548.png (1549 / 2000)\n",
      "starting image CLEVR_new_001549.png (1550 / 2000)\n",
      "starting image CLEVR_new_001550.png (1551 / 2000)\n",
      "starting image CLEVR_new_001551.png (1552 / 2000)\n",
      "starting image CLEVR_new_001552.png (1553 / 2000)\n",
      "starting image CLEVR_new_001553.png (1554 / 2000)\n",
      "starting image CLEVR_new_001554.png (1555 / 2000)\n",
      "starting image CLEVR_new_001555.png (1556 / 2000)\n",
      "starting image CLEVR_new_001556.png (1557 / 2000)\n",
      "starting image CLEVR_new_001557.png (1558 / 2000)\n",
      "starting image CLEVR_new_001558.png (1559 / 2000)\n",
      "starting image CLEVR_new_001559.png (1560 / 2000)\n",
      "starting image CLEVR_new_001560.png (1561 / 2000)\n",
      "starting image CLEVR_new_001561.png (1562 / 2000)\n",
      "starting image CLEVR_new_001562.png (1563 / 2000)\n",
      "starting image CLEVR_new_001563.png (1564 / 2000)\n",
      "starting image CLEVR_new_001564.png (1565 / 2000)\n",
      "starting image CLEVR_new_001565.png (1566 / 2000)\n",
      "starting image CLEVR_new_001566.png (1567 / 2000)\n",
      "starting image CLEVR_new_001567.png (1568 / 2000)\n",
      "starting image CLEVR_new_001568.png (1569 / 2000)\n",
      "starting image CLEVR_new_001569.png (1570 / 2000)\n",
      "starting image CLEVR_new_001570.png (1571 / 2000)\n",
      "starting image CLEVR_new_001571.png (1572 / 2000)\n",
      "starting image CLEVR_new_001572.png (1573 / 2000)\n",
      "starting image CLEVR_new_001573.png (1574 / 2000)\n",
      "starting image CLEVR_new_001574.png (1575 / 2000)\n",
      "starting image CLEVR_new_001575.png (1576 / 2000)\n",
      "starting image CLEVR_new_001576.png (1577 / 2000)\n",
      "starting image CLEVR_new_001577.png (1578 / 2000)\n",
      "starting image CLEVR_new_001578.png (1579 / 2000)\n",
      "starting image CLEVR_new_001579.png (1580 / 2000)\n",
      "starting image CLEVR_new_001580.png (1581 / 2000)\n",
      "starting image CLEVR_new_001581.png (1582 / 2000)\n",
      "starting image CLEVR_new_001582.png (1583 / 2000)\n",
      "starting image CLEVR_new_001583.png (1584 / 2000)\n",
      "starting image CLEVR_new_001584.png (1585 / 2000)\n",
      "starting image CLEVR_new_001585.png (1586 / 2000)\n",
      "starting image CLEVR_new_001586.png (1587 / 2000)\n",
      "starting image CLEVR_new_001587.png (1588 / 2000)\n",
      "starting image CLEVR_new_001588.png (1589 / 2000)\n",
      "starting image CLEVR_new_001589.png (1590 / 2000)\n",
      "starting image CLEVR_new_001590.png (1591 / 2000)\n",
      "starting image CLEVR_new_001591.png (1592 / 2000)\n",
      "starting image CLEVR_new_001592.png (1593 / 2000)\n",
      "starting image CLEVR_new_001593.png (1594 / 2000)\n",
      "starting image CLEVR_new_001594.png (1595 / 2000)\n",
      "starting image CLEVR_new_001595.png (1596 / 2000)\n",
      "starting image CLEVR_new_001596.png (1597 / 2000)\n",
      "starting image CLEVR_new_001597.png (1598 / 2000)\n",
      "starting image CLEVR_new_001598.png (1599 / 2000)\n",
      "starting image CLEVR_new_001599.png (1600 / 2000)\n",
      "starting image CLEVR_new_001600.png (1601 / 2000)\n",
      "starting image CLEVR_new_001601.png (1602 / 2000)\n",
      "starting image CLEVR_new_001602.png (1603 / 2000)\n",
      "starting image CLEVR_new_001603.png (1604 / 2000)\n",
      "starting image CLEVR_new_001604.png (1605 / 2000)\n",
      "starting image CLEVR_new_001605.png (1606 / 2000)\n",
      "starting image CLEVR_new_001606.png (1607 / 2000)\n",
      "starting image CLEVR_new_001607.png (1608 / 2000)\n",
      "starting image CLEVR_new_001608.png (1609 / 2000)\n",
      "starting image CLEVR_new_001609.png (1610 / 2000)\n",
      "starting image CLEVR_new_001610.png (1611 / 2000)\n",
      "starting image CLEVR_new_001611.png (1612 / 2000)\n",
      "starting image CLEVR_new_001612.png (1613 / 2000)\n",
      "starting image CLEVR_new_001613.png (1614 / 2000)\n",
      "starting image CLEVR_new_001614.png (1615 / 2000)\n",
      "starting image CLEVR_new_001615.png (1616 / 2000)\n",
      "starting image CLEVR_new_001616.png (1617 / 2000)\n",
      "starting image CLEVR_new_001617.png (1618 / 2000)\n",
      "starting image CLEVR_new_001618.png (1619 / 2000)\n",
      "starting image CLEVR_new_001619.png (1620 / 2000)\n",
      "starting image CLEVR_new_001620.png (1621 / 2000)\n",
      "starting image CLEVR_new_001621.png (1622 / 2000)\n",
      "starting image CLEVR_new_001622.png (1623 / 2000)\n",
      "starting image CLEVR_new_001623.png (1624 / 2000)\n",
      "starting image CLEVR_new_001624.png (1625 / 2000)\n",
      "starting image CLEVR_new_001625.png (1626 / 2000)\n",
      "starting image CLEVR_new_001626.png (1627 / 2000)\n",
      "starting image CLEVR_new_001627.png (1628 / 2000)\n",
      "starting image CLEVR_new_001628.png (1629 / 2000)\n",
      "starting image CLEVR_new_001629.png (1630 / 2000)\n",
      "starting image CLEVR_new_001630.png (1631 / 2000)\n",
      "starting image CLEVR_new_001631.png (1632 / 2000)\n",
      "starting image CLEVR_new_001632.png (1633 / 2000)\n",
      "starting image CLEVR_new_001633.png (1634 / 2000)\n",
      "starting image CLEVR_new_001634.png (1635 / 2000)\n",
      "starting image CLEVR_new_001635.png (1636 / 2000)\n",
      "starting image CLEVR_new_001636.png (1637 / 2000)\n",
      "starting image CLEVR_new_001637.png (1638 / 2000)\n",
      "starting image CLEVR_new_001638.png (1639 / 2000)\n",
      "starting image CLEVR_new_001639.png (1640 / 2000)\n",
      "starting image CLEVR_new_001640.png (1641 / 2000)\n",
      "starting image CLEVR_new_001641.png (1642 / 2000)\n",
      "starting image CLEVR_new_001642.png (1643 / 2000)\n",
      "starting image CLEVR_new_001643.png (1644 / 2000)\n",
      "starting image CLEVR_new_001644.png (1645 / 2000)\n",
      "starting image CLEVR_new_001645.png (1646 / 2000)\n",
      "starting image CLEVR_new_001646.png (1647 / 2000)\n",
      "starting image CLEVR_new_001647.png (1648 / 2000)\n",
      "starting image CLEVR_new_001648.png (1649 / 2000)\n",
      "starting image CLEVR_new_001649.png (1650 / 2000)\n",
      "starting image CLEVR_new_001650.png (1651 / 2000)\n",
      "starting image CLEVR_new_001651.png (1652 / 2000)\n",
      "starting image CLEVR_new_001652.png (1653 / 2000)\n",
      "starting image CLEVR_new_001653.png (1654 / 2000)\n",
      "starting image CLEVR_new_001654.png (1655 / 2000)\n",
      "starting image CLEVR_new_001655.png (1656 / 2000)\n",
      "starting image CLEVR_new_001656.png (1657 / 2000)\n",
      "starting image CLEVR_new_001657.png (1658 / 2000)\n",
      "starting image CLEVR_new_001658.png (1659 / 2000)\n",
      "starting image CLEVR_new_001659.png (1660 / 2000)\n",
      "starting image CLEVR_new_001660.png (1661 / 2000)\n",
      "starting image CLEVR_new_001661.png (1662 / 2000)\n",
      "starting image CLEVR_new_001662.png (1663 / 2000)\n",
      "starting image CLEVR_new_001663.png (1664 / 2000)\n",
      "starting image CLEVR_new_001664.png (1665 / 2000)\n",
      "starting image CLEVR_new_001665.png (1666 / 2000)\n",
      "starting image CLEVR_new_001666.png (1667 / 2000)\n",
      "starting image CLEVR_new_001667.png (1668 / 2000)\n",
      "starting image CLEVR_new_001668.png (1669 / 2000)\n",
      "starting image CLEVR_new_001669.png (1670 / 2000)\n",
      "starting image CLEVR_new_001670.png (1671 / 2000)\n",
      "starting image CLEVR_new_001671.png (1672 / 2000)\n",
      "starting image CLEVR_new_001672.png (1673 / 2000)\n",
      "starting image CLEVR_new_001673.png (1674 / 2000)\n",
      "starting image CLEVR_new_001674.png (1675 / 2000)\n",
      "starting image CLEVR_new_001675.png (1676 / 2000)\n",
      "starting image CLEVR_new_001676.png (1677 / 2000)\n",
      "starting image CLEVR_new_001677.png (1678 / 2000)\n",
      "starting image CLEVR_new_001678.png (1679 / 2000)\n",
      "starting image CLEVR_new_001679.png (1680 / 2000)\n",
      "starting image CLEVR_new_001680.png (1681 / 2000)\n",
      "starting image CLEVR_new_001681.png (1682 / 2000)\n",
      "starting image CLEVR_new_001682.png (1683 / 2000)\n",
      "starting image CLEVR_new_001683.png (1684 / 2000)\n",
      "starting image CLEVR_new_001684.png (1685 / 2000)\n",
      "starting image CLEVR_new_001685.png (1686 / 2000)\n",
      "starting image CLEVR_new_001686.png (1687 / 2000)\n",
      "starting image CLEVR_new_001687.png (1688 / 2000)\n",
      "starting image CLEVR_new_001688.png (1689 / 2000)\n",
      "starting image CLEVR_new_001689.png (1690 / 2000)\n",
      "starting image CLEVR_new_001690.png (1691 / 2000)\n",
      "starting image CLEVR_new_001691.png (1692 / 2000)\n",
      "starting image CLEVR_new_001692.png (1693 / 2000)\n",
      "starting image CLEVR_new_001693.png (1694 / 2000)\n",
      "starting image CLEVR_new_001694.png (1695 / 2000)\n",
      "starting image CLEVR_new_001695.png (1696 / 2000)\n",
      "starting image CLEVR_new_001696.png (1697 / 2000)\n",
      "starting image CLEVR_new_001697.png (1698 / 2000)\n",
      "starting image CLEVR_new_001698.png (1699 / 2000)\n",
      "starting image CLEVR_new_001699.png (1700 / 2000)\n",
      "starting image CLEVR_new_001700.png (1701 / 2000)\n",
      "starting image CLEVR_new_001701.png (1702 / 2000)\n",
      "starting image CLEVR_new_001702.png (1703 / 2000)\n",
      "starting image CLEVR_new_001703.png (1704 / 2000)\n",
      "starting image CLEVR_new_001704.png (1705 / 2000)\n",
      "starting image CLEVR_new_001705.png (1706 / 2000)\n",
      "starting image CLEVR_new_001706.png (1707 / 2000)\n",
      "starting image CLEVR_new_001707.png (1708 / 2000)\n",
      "starting image CLEVR_new_001708.png (1709 / 2000)\n",
      "starting image CLEVR_new_001709.png (1710 / 2000)\n",
      "starting image CLEVR_new_001710.png (1711 / 2000)\n",
      "starting image CLEVR_new_001711.png (1712 / 2000)\n",
      "starting image CLEVR_new_001712.png (1713 / 2000)\n",
      "starting image CLEVR_new_001713.png (1714 / 2000)\n",
      "starting image CLEVR_new_001714.png (1715 / 2000)\n",
      "starting image CLEVR_new_001715.png (1716 / 2000)\n",
      "starting image CLEVR_new_001716.png (1717 / 2000)\n",
      "starting image CLEVR_new_001717.png (1718 / 2000)\n",
      "starting image CLEVR_new_001718.png (1719 / 2000)\n",
      "starting image CLEVR_new_001719.png (1720 / 2000)\n",
      "starting image CLEVR_new_001720.png (1721 / 2000)\n",
      "starting image CLEVR_new_001721.png (1722 / 2000)\n",
      "starting image CLEVR_new_001722.png (1723 / 2000)\n",
      "starting image CLEVR_new_001723.png (1724 / 2000)\n",
      "starting image CLEVR_new_001724.png (1725 / 2000)\n",
      "starting image CLEVR_new_001725.png (1726 / 2000)\n",
      "starting image CLEVR_new_001726.png (1727 / 2000)\n",
      "starting image CLEVR_new_001727.png (1728 / 2000)\n",
      "starting image CLEVR_new_001728.png (1729 / 2000)\n",
      "starting image CLEVR_new_001729.png (1730 / 2000)\n",
      "starting image CLEVR_new_001730.png (1731 / 2000)\n",
      "starting image CLEVR_new_001731.png (1732 / 2000)\n",
      "starting image CLEVR_new_001732.png (1733 / 2000)\n",
      "starting image CLEVR_new_001733.png (1734 / 2000)\n",
      "starting image CLEVR_new_001734.png (1735 / 2000)\n",
      "starting image CLEVR_new_001735.png (1736 / 2000)\n",
      "starting image CLEVR_new_001736.png (1737 / 2000)\n",
      "starting image CLEVR_new_001737.png (1738 / 2000)\n",
      "starting image CLEVR_new_001738.png (1739 / 2000)\n",
      "starting image CLEVR_new_001739.png (1740 / 2000)\n",
      "starting image CLEVR_new_001740.png (1741 / 2000)\n",
      "starting image CLEVR_new_001741.png (1742 / 2000)\n",
      "starting image CLEVR_new_001742.png (1743 / 2000)\n",
      "starting image CLEVR_new_001743.png (1744 / 2000)\n",
      "starting image CLEVR_new_001744.png (1745 / 2000)\n",
      "starting image CLEVR_new_001745.png (1746 / 2000)\n",
      "starting image CLEVR_new_001746.png (1747 / 2000)\n",
      "starting image CLEVR_new_001747.png (1748 / 2000)\n",
      "starting image CLEVR_new_001748.png (1749 / 2000)\n",
      "starting image CLEVR_new_001749.png (1750 / 2000)\n",
      "starting image CLEVR_new_001750.png (1751 / 2000)\n",
      "resetting counts\n",
      "starting image CLEVR_new_001751.png (1752 / 2000)\n",
      "starting image CLEVR_new_001752.png (1753 / 2000)\n",
      "starting image CLEVR_new_001753.png (1754 / 2000)\n",
      "starting image CLEVR_new_001754.png (1755 / 2000)\n",
      "starting image CLEVR_new_001755.png (1756 / 2000)\n",
      "starting image CLEVR_new_001756.png (1757 / 2000)\n",
      "starting image CLEVR_new_001757.png (1758 / 2000)\n",
      "starting image CLEVR_new_001758.png (1759 / 2000)\n",
      "starting image CLEVR_new_001759.png (1760 / 2000)\n",
      "starting image CLEVR_new_001760.png (1761 / 2000)\n",
      "starting image CLEVR_new_001761.png (1762 / 2000)\n",
      "starting image CLEVR_new_001762.png (1763 / 2000)\n",
      "starting image CLEVR_new_001763.png (1764 / 2000)\n",
      "starting image CLEVR_new_001764.png (1765 / 2000)\n",
      "starting image CLEVR_new_001765.png (1766 / 2000)\n",
      "starting image CLEVR_new_001766.png (1767 / 2000)\n",
      "starting image CLEVR_new_001767.png (1768 / 2000)\n",
      "starting image CLEVR_new_001768.png (1769 / 2000)\n",
      "starting image CLEVR_new_001769.png (1770 / 2000)\n",
      "starting image CLEVR_new_001770.png (1771 / 2000)\n",
      "starting image CLEVR_new_001771.png (1772 / 2000)\n",
      "starting image CLEVR_new_001772.png (1773 / 2000)\n",
      "starting image CLEVR_new_001773.png (1774 / 2000)\n",
      "starting image CLEVR_new_001774.png (1775 / 2000)\n",
      "starting image CLEVR_new_001775.png (1776 / 2000)\n",
      "starting image CLEVR_new_001776.png (1777 / 2000)\n",
      "starting image CLEVR_new_001777.png (1778 / 2000)\n",
      "starting image CLEVR_new_001778.png (1779 / 2000)\n",
      "starting image CLEVR_new_001779.png (1780 / 2000)\n",
      "starting image CLEVR_new_001780.png (1781 / 2000)\n",
      "starting image CLEVR_new_001781.png (1782 / 2000)\n",
      "starting image CLEVR_new_001782.png (1783 / 2000)\n",
      "starting image CLEVR_new_001783.png (1784 / 2000)\n",
      "starting image CLEVR_new_001784.png (1785 / 2000)\n",
      "starting image CLEVR_new_001785.png (1786 / 2000)\n",
      "starting image CLEVR_new_001786.png (1787 / 2000)\n",
      "starting image CLEVR_new_001787.png (1788 / 2000)\n",
      "starting image CLEVR_new_001788.png (1789 / 2000)\n",
      "starting image CLEVR_new_001789.png (1790 / 2000)\n",
      "starting image CLEVR_new_001790.png (1791 / 2000)\n",
      "starting image CLEVR_new_001791.png (1792 / 2000)\n",
      "starting image CLEVR_new_001792.png (1793 / 2000)\n",
      "starting image CLEVR_new_001793.png (1794 / 2000)\n",
      "starting image CLEVR_new_001794.png (1795 / 2000)\n",
      "starting image CLEVR_new_001795.png (1796 / 2000)\n",
      "starting image CLEVR_new_001796.png (1797 / 2000)\n",
      "starting image CLEVR_new_001797.png (1798 / 2000)\n",
      "starting image CLEVR_new_001798.png (1799 / 2000)\n",
      "starting image CLEVR_new_001799.png (1800 / 2000)\n",
      "starting image CLEVR_new_001800.png (1801 / 2000)\n",
      "starting image CLEVR_new_001801.png (1802 / 2000)\n",
      "starting image CLEVR_new_001802.png (1803 / 2000)\n",
      "starting image CLEVR_new_001803.png (1804 / 2000)\n",
      "starting image CLEVR_new_001804.png (1805 / 2000)\n",
      "starting image CLEVR_new_001805.png (1806 / 2000)\n",
      "starting image CLEVR_new_001806.png (1807 / 2000)\n",
      "starting image CLEVR_new_001807.png (1808 / 2000)\n",
      "starting image CLEVR_new_001808.png (1809 / 2000)\n",
      "starting image CLEVR_new_001809.png (1810 / 2000)\n",
      "starting image CLEVR_new_001810.png (1811 / 2000)\n",
      "starting image CLEVR_new_001811.png (1812 / 2000)\n",
      "starting image CLEVR_new_001812.png (1813 / 2000)\n",
      "starting image CLEVR_new_001813.png (1814 / 2000)\n",
      "starting image CLEVR_new_001814.png (1815 / 2000)\n",
      "starting image CLEVR_new_001815.png (1816 / 2000)\n",
      "starting image CLEVR_new_001816.png (1817 / 2000)\n",
      "starting image CLEVR_new_001817.png (1818 / 2000)\n",
      "starting image CLEVR_new_001818.png (1819 / 2000)\n",
      "starting image CLEVR_new_001819.png (1820 / 2000)\n",
      "starting image CLEVR_new_001820.png (1821 / 2000)\n",
      "starting image CLEVR_new_001821.png (1822 / 2000)\n",
      "starting image CLEVR_new_001822.png (1823 / 2000)\n",
      "starting image CLEVR_new_001823.png (1824 / 2000)\n",
      "starting image CLEVR_new_001824.png (1825 / 2000)\n",
      "starting image CLEVR_new_001825.png (1826 / 2000)\n",
      "starting image CLEVR_new_001826.png (1827 / 2000)\n",
      "starting image CLEVR_new_001827.png (1828 / 2000)\n",
      "starting image CLEVR_new_001828.png (1829 / 2000)\n",
      "starting image CLEVR_new_001829.png (1830 / 2000)\n",
      "starting image CLEVR_new_001830.png (1831 / 2000)\n",
      "starting image CLEVR_new_001831.png (1832 / 2000)\n",
      "starting image CLEVR_new_001832.png (1833 / 2000)\n",
      "starting image CLEVR_new_001833.png (1834 / 2000)\n",
      "starting image CLEVR_new_001834.png (1835 / 2000)\n",
      "starting image CLEVR_new_001835.png (1836 / 2000)\n",
      "starting image CLEVR_new_001836.png (1837 / 2000)\n",
      "starting image CLEVR_new_001837.png (1838 / 2000)\n",
      "starting image CLEVR_new_001838.png (1839 / 2000)\n",
      "starting image CLEVR_new_001839.png (1840 / 2000)\n",
      "starting image CLEVR_new_001840.png (1841 / 2000)\n",
      "starting image CLEVR_new_001841.png (1842 / 2000)\n",
      "starting image CLEVR_new_001842.png (1843 / 2000)\n",
      "starting image CLEVR_new_001843.png (1844 / 2000)\n",
      "starting image CLEVR_new_001844.png (1845 / 2000)\n",
      "starting image CLEVR_new_001845.png (1846 / 2000)\n",
      "starting image CLEVR_new_001846.png (1847 / 2000)\n",
      "starting image CLEVR_new_001847.png (1848 / 2000)\n",
      "starting image CLEVR_new_001848.png (1849 / 2000)\n",
      "starting image CLEVR_new_001849.png (1850 / 2000)\n",
      "starting image CLEVR_new_001850.png (1851 / 2000)\n",
      "starting image CLEVR_new_001851.png (1852 / 2000)\n",
      "starting image CLEVR_new_001852.png (1853 / 2000)\n",
      "starting image CLEVR_new_001853.png (1854 / 2000)\n",
      "starting image CLEVR_new_001854.png (1855 / 2000)\n",
      "starting image CLEVR_new_001855.png (1856 / 2000)\n",
      "starting image CLEVR_new_001856.png (1857 / 2000)\n",
      "starting image CLEVR_new_001857.png (1858 / 2000)\n",
      "starting image CLEVR_new_001858.png (1859 / 2000)\n",
      "starting image CLEVR_new_001859.png (1860 / 2000)\n",
      "starting image CLEVR_new_001860.png (1861 / 2000)\n",
      "starting image CLEVR_new_001861.png (1862 / 2000)\n",
      "starting image CLEVR_new_001862.png (1863 / 2000)\n",
      "starting image CLEVR_new_001863.png (1864 / 2000)\n",
      "starting image CLEVR_new_001864.png (1865 / 2000)\n",
      "starting image CLEVR_new_001865.png (1866 / 2000)\n",
      "starting image CLEVR_new_001866.png (1867 / 2000)\n",
      "starting image CLEVR_new_001867.png (1868 / 2000)\n",
      "starting image CLEVR_new_001868.png (1869 / 2000)\n",
      "starting image CLEVR_new_001869.png (1870 / 2000)\n",
      "starting image CLEVR_new_001870.png (1871 / 2000)\n",
      "starting image CLEVR_new_001871.png (1872 / 2000)\n",
      "starting image CLEVR_new_001872.png (1873 / 2000)\n",
      "starting image CLEVR_new_001873.png (1874 / 2000)\n",
      "starting image CLEVR_new_001874.png (1875 / 2000)\n",
      "starting image CLEVR_new_001875.png (1876 / 2000)\n",
      "starting image CLEVR_new_001876.png (1877 / 2000)\n",
      "starting image CLEVR_new_001877.png (1878 / 2000)\n",
      "starting image CLEVR_new_001878.png (1879 / 2000)\n",
      "starting image CLEVR_new_001879.png (1880 / 2000)\n",
      "starting image CLEVR_new_001880.png (1881 / 2000)\n",
      "starting image CLEVR_new_001881.png (1882 / 2000)\n",
      "starting image CLEVR_new_001882.png (1883 / 2000)\n",
      "starting image CLEVR_new_001883.png (1884 / 2000)\n",
      "starting image CLEVR_new_001884.png (1885 / 2000)\n",
      "starting image CLEVR_new_001885.png (1886 / 2000)\n",
      "starting image CLEVR_new_001886.png (1887 / 2000)\n",
      "starting image CLEVR_new_001887.png (1888 / 2000)\n",
      "starting image CLEVR_new_001888.png (1889 / 2000)\n",
      "starting image CLEVR_new_001889.png (1890 / 2000)\n",
      "starting image CLEVR_new_001890.png (1891 / 2000)\n",
      "starting image CLEVR_new_001891.png (1892 / 2000)\n",
      "starting image CLEVR_new_001892.png (1893 / 2000)\n",
      "starting image CLEVR_new_001893.png (1894 / 2000)\n",
      "starting image CLEVR_new_001894.png (1895 / 2000)\n",
      "starting image CLEVR_new_001895.png (1896 / 2000)\n",
      "starting image CLEVR_new_001896.png (1897 / 2000)\n",
      "starting image CLEVR_new_001897.png (1898 / 2000)\n",
      "starting image CLEVR_new_001898.png (1899 / 2000)\n",
      "starting image CLEVR_new_001899.png (1900 / 2000)\n",
      "starting image CLEVR_new_001900.png (1901 / 2000)\n",
      "starting image CLEVR_new_001901.png (1902 / 2000)\n",
      "starting image CLEVR_new_001902.png (1903 / 2000)\n",
      "starting image CLEVR_new_001903.png (1904 / 2000)\n",
      "starting image CLEVR_new_001904.png (1905 / 2000)\n",
      "starting image CLEVR_new_001905.png (1906 / 2000)\n",
      "starting image CLEVR_new_001906.png (1907 / 2000)\n",
      "starting image CLEVR_new_001907.png (1908 / 2000)\n",
      "starting image CLEVR_new_001908.png (1909 / 2000)\n",
      "starting image CLEVR_new_001909.png (1910 / 2000)\n",
      "starting image CLEVR_new_001910.png (1911 / 2000)\n",
      "starting image CLEVR_new_001911.png (1912 / 2000)\n",
      "starting image CLEVR_new_001912.png (1913 / 2000)\n",
      "starting image CLEVR_new_001913.png (1914 / 2000)\n",
      "starting image CLEVR_new_001914.png (1915 / 2000)\n",
      "starting image CLEVR_new_001915.png (1916 / 2000)\n",
      "starting image CLEVR_new_001916.png (1917 / 2000)\n",
      "starting image CLEVR_new_001917.png (1918 / 2000)\n",
      "starting image CLEVR_new_001918.png (1919 / 2000)\n",
      "starting image CLEVR_new_001919.png (1920 / 2000)\n",
      "starting image CLEVR_new_001920.png (1921 / 2000)\n",
      "starting image CLEVR_new_001921.png (1922 / 2000)\n",
      "starting image CLEVR_new_001922.png (1923 / 2000)\n",
      "starting image CLEVR_new_001923.png (1924 / 2000)\n",
      "starting image CLEVR_new_001924.png (1925 / 2000)\n",
      "starting image CLEVR_new_001925.png (1926 / 2000)\n",
      "starting image CLEVR_new_001926.png (1927 / 2000)\n",
      "starting image CLEVR_new_001927.png (1928 / 2000)\n",
      "starting image CLEVR_new_001928.png (1929 / 2000)\n",
      "starting image CLEVR_new_001929.png (1930 / 2000)\n",
      "starting image CLEVR_new_001930.png (1931 / 2000)\n",
      "starting image CLEVR_new_001931.png (1932 / 2000)\n",
      "starting image CLEVR_new_001932.png (1933 / 2000)\n",
      "starting image CLEVR_new_001933.png (1934 / 2000)\n",
      "starting image CLEVR_new_001934.png (1935 / 2000)\n",
      "starting image CLEVR_new_001935.png (1936 / 2000)\n",
      "starting image CLEVR_new_001936.png (1937 / 2000)\n",
      "starting image CLEVR_new_001937.png (1938 / 2000)\n",
      "starting image CLEVR_new_001938.png (1939 / 2000)\n",
      "starting image CLEVR_new_001939.png (1940 / 2000)\n",
      "starting image CLEVR_new_001940.png (1941 / 2000)\n",
      "starting image CLEVR_new_001941.png (1942 / 2000)\n",
      "starting image CLEVR_new_001942.png (1943 / 2000)\n",
      "starting image CLEVR_new_001943.png (1944 / 2000)\n",
      "starting image CLEVR_new_001944.png (1945 / 2000)\n",
      "starting image CLEVR_new_001945.png (1946 / 2000)\n",
      "starting image CLEVR_new_001946.png (1947 / 2000)\n",
      "starting image CLEVR_new_001947.png (1948 / 2000)\n",
      "starting image CLEVR_new_001948.png (1949 / 2000)\n",
      "starting image CLEVR_new_001949.png (1950 / 2000)\n",
      "starting image CLEVR_new_001950.png (1951 / 2000)\n",
      "starting image CLEVR_new_001951.png (1952 / 2000)\n",
      "starting image CLEVR_new_001952.png (1953 / 2000)\n",
      "starting image CLEVR_new_001953.png (1954 / 2000)\n",
      "starting image CLEVR_new_001954.png (1955 / 2000)\n",
      "starting image CLEVR_new_001955.png (1956 / 2000)\n",
      "starting image CLEVR_new_001956.png (1957 / 2000)\n",
      "starting image CLEVR_new_001957.png (1958 / 2000)\n",
      "starting image CLEVR_new_001958.png (1959 / 2000)\n",
      "starting image CLEVR_new_001959.png (1960 / 2000)\n",
      "starting image CLEVR_new_001960.png (1961 / 2000)\n",
      "starting image CLEVR_new_001961.png (1962 / 2000)\n",
      "starting image CLEVR_new_001962.png (1963 / 2000)\n",
      "starting image CLEVR_new_001963.png (1964 / 2000)\n",
      "starting image CLEVR_new_001964.png (1965 / 2000)\n",
      "starting image CLEVR_new_001965.png (1966 / 2000)\n",
      "starting image CLEVR_new_001966.png (1967 / 2000)\n",
      "starting image CLEVR_new_001967.png (1968 / 2000)\n",
      "starting image CLEVR_new_001968.png (1969 / 2000)\n",
      "starting image CLEVR_new_001969.png (1970 / 2000)\n",
      "starting image CLEVR_new_001970.png (1971 / 2000)\n",
      "starting image CLEVR_new_001971.png (1972 / 2000)\n",
      "starting image CLEVR_new_001972.png (1973 / 2000)\n",
      "starting image CLEVR_new_001973.png (1974 / 2000)\n",
      "starting image CLEVR_new_001974.png (1975 / 2000)\n",
      "starting image CLEVR_new_001975.png (1976 / 2000)\n",
      "starting image CLEVR_new_001976.png (1977 / 2000)\n",
      "starting image CLEVR_new_001977.png (1978 / 2000)\n",
      "starting image CLEVR_new_001978.png (1979 / 2000)\n",
      "starting image CLEVR_new_001979.png (1980 / 2000)\n",
      "starting image CLEVR_new_001980.png (1981 / 2000)\n",
      "starting image CLEVR_new_001981.png (1982 / 2000)\n",
      "starting image CLEVR_new_001982.png (1983 / 2000)\n",
      "starting image CLEVR_new_001983.png (1984 / 2000)\n",
      "starting image CLEVR_new_001984.png (1985 / 2000)\n",
      "starting image CLEVR_new_001985.png (1986 / 2000)\n",
      "starting image CLEVR_new_001986.png (1987 / 2000)\n",
      "starting image CLEVR_new_001987.png (1988 / 2000)\n",
      "starting image CLEVR_new_001988.png (1989 / 2000)\n",
      "starting image CLEVR_new_001989.png (1990 / 2000)\n",
      "starting image CLEVR_new_001990.png (1991 / 2000)\n",
      "starting image CLEVR_new_001991.png (1992 / 2000)\n",
      "starting image CLEVR_new_001992.png (1993 / 2000)\n",
      "starting image CLEVR_new_001993.png (1994 / 2000)\n",
      "starting image CLEVR_new_001994.png (1995 / 2000)\n",
      "starting image CLEVR_new_001995.png (1996 / 2000)\n",
      "starting image CLEVR_new_001996.png (1997 / 2000)\n",
      "starting image CLEVR_new_001997.png (1998 / 2000)\n",
      "starting image CLEVR_new_001998.png (1999 / 2000)\n",
      "starting image CLEVR_new_001999.png (2000 / 2000)\n",
      "Writing output to /dfs/user/tailin/.results/CLEVR_relation/mpi/combined/questions.json\n",
      "/dfs/user/liuk/reasoning/clevr_dataset_gen\n"
     ]
    }
   ],
   "source": [
    "%cd question_generation/\n",
    "!python generate_questions.py --input_scene_file /dfs/user/tailin/.results/CLEVR_relation/mpi/combined/CLEVR_scenes.json --output_questions_file /dfs/user/tailin/.results/CLEVR_relation/mpi/combined/questions.json --template_dir babyarc --max-num-objects 6\n",
    "%cd .."
   ]
  },
  {
   "cell_type": "markdown",
   "metadata": {},
   "source": [
    "# Question analysis"
   ]
  },
  {
   "cell_type": "code",
   "execution_count": 2,
   "metadata": {},
   "outputs": [
    {
     "name": "stdout",
     "output_type": "stream",
     "text": [
      "same_shape-color=purple,material=metal - 2\n",
      "same_shape+same_shape-material=rubber;size=large,color=green,shape=sphere - 1\n",
      "same_material+same_shape-color=green;size=large,color=purple,shape=sphere - 1\n",
      "same_shape-color=cyan,shape=cylinder - 2\n",
      "same_shape+same_size-color=purple,material=rubber;color=green - 1\n",
      "same_color+same_size-size=large,material=rubber;size=large,color=cyan,shape=cylinder - 1\n",
      "same_color-size=large,material=rubber,shape=sphere - 8\n",
      "same_color+same_shape-material=rubber;size=large,color=cyan,material=metal,shape=cylinder - 1\n",
      "same_color+same_size-material=rubber;color=cyan,shape=sphere - 1\n",
      "same_size-size=small,color=red,material=metal - 2\n",
      "same_material+same_size-size=small,color=red;color=green,material=metal,shape=sphere - 1\n",
      "same_material-size=large,color=cyan,shape=cylinder - 2\n",
      "same_size-size=small,color=red - 4\n",
      "same_material-color=brown,shape=cylinder - 1\n",
      "same_material+same_size-color=green;color=cyan,material=metal,shape=sphere - 1\n",
      "same_material-color=brown - 7\n",
      "same_material+same_material-color=red;size=small,color=cyan,material=metal - 1\n",
      "same_color-size=small,material=metal,shape=sphere - 5\n",
      "same_size-color=red - 8\n",
      "same_material+same_shape-color=purple,shape=cube;color=gray,material=metal - 1\n",
      "same_material-size=small - 8\n",
      "same_size-size=large,color=gray - 4\n",
      "same_shape+same_size-color=purple,material=rubber;size=small,color=blue,material=metal - 1\n",
      "same_size-color=purple - 4\n",
      "same_material+same_size-color=purple;color=blue,material=metal,shape=cube - 1\n",
      "same_shape+same_shape-color=blue;size=large,material=metal - 1\n",
      "same_material-size=small,color=blue - 3\n",
      "same_material+same_shape-color=gray,shape=cube;color=purple,material=rubber - 1\n",
      "same_shape+same_size-color=blue;color=gray,shape=cube - 1\n",
      "same_size-size=small,color=blue,material=rubber - 2\n",
      "same_material+same_size-size=large,color=brown;size=small,shape=sphere - 1\n",
      "same_material+same_material-size=large,color=brown;color=red,material=metal,shape=cube - 1\n",
      "same_material+same_shape-color=red,shape=cube;size=large,color=brown,shape=cube - 1\n",
      "same_size-color=blue - 9\n",
      "same_shape+same_size-color=brown;color=red,material=metal - 1\n",
      "same_size-color=purple,material=metal - 10\n",
      "same_material+same_size-color=blue;size=large,color=purple,shape=cube - 1\n",
      "same_shape+same_shape-color=red,material=metal;color=brown,material=metal - 1\n",
      "same_color-size=large,material=metal,shape=cube - 9\n",
      "same_color+same_material-size=large,shape=sphere;size=large,color=purple - 1\n",
      "same_material-color=blue,shape=cube - 3\n",
      "same_color-shape=cube - 9\n",
      "same_color-material=metal,shape=cube - 10\n",
      "same_material-size=large,shape=cube - 4\n",
      "same_material-color=purple,shape=cylinder - 1\n",
      "same_material-size=large,color=purple - 2\n",
      "same_material+same_shape-color=brown,shape=cylinder;color=purple,material=metal,shape=cylinder - 1\n",
      "same_size+same_size-size=small,color=purple,material=rubber;shape=cylinder - 1\n",
      "same_shape-material=rubber,shape=cube - 6\n",
      "same_color+same_material-size=small,shape=cylinder;shape=sphere - 2\n",
      "same_shape-material=rubber - 9\n",
      "same_color+same_shape-material=rubber,shape=cube;size=large,shape=sphere - 1\n",
      "same_shape-material=metal,shape=cube - 7\n",
      "same_color+same_size-material=rubber;size=large - 1\n",
      "same_color+same_shape-shape=sphere;color=purple - 1\n",
      "same_color+same_size-size=large;size=small,color=purple,material=rubber - 1\n",
      "same_size+same_size-size=small,color=gray,material=metal;color=red,material=rubber,shape=cylinder - 1\n",
      "same_shape-color=red,material=rubber,shape=cylinder - 3\n",
      "same_color-size=large,material=rubber,shape=cube - 1\n",
      "same_color+same_material-size=large,shape=cube;color=yellow - 2\n",
      "same_shape-color=red,material=rubber,shape=cube - 1\n",
      "same_shape-color=yellow - 7\n",
      "same_shape+same_size-color=yellow;color=gray - 1\n",
      "same_color+same_size-material=metal;size=large,color=red,shape=cube - 1\n",
      "same_material+same_size-size=large,color=red;color=yellow - 1\n",
      "same_color+same_material-shape=sphere;size=small,color=red,material=metal,shape=cube - 1\n",
      "same_color+same_shape-material=rubber,shape=cube;size=small,shape=cylinder - 1\n",
      "same_color-size=small,material=metal,shape=cylinder - 5\n",
      "same_color+same_shape-material=metal,shape=cylinder;color=brown,material=rubber - 1\n",
      "same_color-shape=cylinder - 13\n",
      "same_material+same_shape-color=green;size=small,shape=sphere - 1\n",
      "same_color-size=small,shape=cylinder - 7\n",
      "same_color+same_material-size=small,shape=cylinder;size=small,material=metal,shape=sphere - 1\n",
      "same_shape+same_size-color=green,material=metal;size=small,material=rubber,shape=cube - 1\n",
      "same_material-size=small,color=red,shape=sphere - 1\n",
      "same_color+same_size-size=large;size=small,color=gray,material=metal,shape=cylinder - 1\n",
      "same_material-shape=sphere - 9\n",
      "same_material+same_material-color=yellow;size=large - 1\n",
      "same_shape-color=yellow,material=metal - 3\n",
      "same_color+same_material-size=small,shape=cylinder;size=small,shape=sphere - 1\n",
      "same_shape-color=red,material=metal - 3\n",
      "same_material+same_size-color=yellow;size=large - 1\n",
      "same_shape-color=green,material=rubber,shape=cube - 1\n",
      "same_material-size=small,color=gray - 4\n",
      "same_material-color=brown,shape=cube - 2\n",
      "same_material-shape=cylinder - 12\n",
      "same_size-color=gray - 7\n",
      "same_size-size=large,color=purple,material=metal - 5\n",
      "same_material+same_shape-color=gray;color=cyan,material=metal,shape=cube - 1\n",
      "same_shape-color=cyan,shape=cube - 8\n",
      "same_shape+same_size-color=cyan;color=gray - 1\n",
      "same_material+same_size-size=small,color=cyan;color=gray,material=metal,shape=sphere - 1\n",
      "same_material+same_material-size=small,color=cyan;size=large,material=metal,shape=cube - 1\n",
      "same_shape-color=cyan,material=metal,shape=cube - 2\n",
      "same_size+same_size-size=large,color=blue;size=large,color=purple - 1\n",
      "same_color+same_shape-material=rubber,shape=cylinder;material=metal,shape=cube - 1\n",
      "same_shape+same_shape-color=blue,material=rubber;size=small,material=metal - 1\n",
      "same_color+same_size-material=rubber;size=small,shape=cylinder - 1\n",
      "same_color-size=small - 5\n",
      "same_color+same_shape-material=metal,shape=cube;size=large,color=blue,material=rubber - 1\n",
      "same_color+same_size-size=small;color=blue,material=rubber,shape=cylinder - 1\n",
      "same_material+same_shape-color=blue;size=large,material=metal,shape=cylinder - 1\n",
      "same_size+same_size-color=gray,material=rubber;size=small,color=blue,shape=sphere - 1\n",
      "same_color-size=large,material=metal - 15\n",
      "same_shape+same_size-color=gray;size=small,color=cyan,shape=sphere - 1\n",
      "same_shape-color=purple,material=rubber,shape=cube - 2\n",
      "same_color+same_shape-material=rubber,shape=sphere;size=large,material=metal,shape=sphere - 1\n",
      "same_material+same_size-color=purple;size=small,color=gray,material=rubber - 1\n",
      "same_shape-color=purple - 7\n",
      "same_material+same_shape-color=gray,shape=cube;color=cyan - 1\n",
      "same_shape-color=gray,material=rubber,shape=cube - 3\n",
      "same_shape+same_size-color=green,material=rubber;size=small,color=blue - 1\n",
      "same_size-color=red,material=rubber - 3\n",
      "same_size-size=small,color=brown,material=rubber - 1\n",
      "same_material+same_size-size=small,color=red;color=cyan,shape=cube - 1\n",
      "same_size+same_size-color=green;size=large,material=metal,shape=sphere - 1\n",
      "same_shape-color=cyan,material=rubber,shape=cube - 3\n",
      "same_material+same_shape-color=green;size=large,color=cyan,material=rubber - 1\n",
      "same_shape+same_size-color=red,material=rubber;size=large,color=cyan,material=rubber,shape=cube - 1\n",
      "same_shape-color=brown - 7\n",
      "same_size-size=small,color=blue - 3\n",
      "same_material+same_material-size=small,color=blue;color=cyan - 1\n",
      "same_size-size=small,color=cyan,material=metal - 3\n",
      "same_size-size=small,color=cyan - 5\n",
      "same_size-size=small,color=blue,material=metal - 3\n",
      "same_material+same_size-color=blue;size=large - 1\n",
      "same_shape-color=gray,material=metal - 2\n",
      "same_material+same_shape-color=blue,shape=sphere;color=cyan,shape=cube - 1\n",
      "same_material+same_size-color=gray;color=blue,shape=sphere - 1\n",
      "same_shape+same_shape-color=cyan,material=metal;size=small,color=green,material=metal - 1\n",
      "same_material-size=small,color=gray,shape=cylinder - 6\n",
      "same_material-color=green,shape=cylinder - 1\n",
      "same_material-size=small,color=green,shape=cylinder - 1\n",
      "same_shape+same_size-color=gray,material=rubber;size=small,color=green,material=metal,shape=sphere - 1\n",
      "same_material+same_material-size=small,color=gray,shape=sphere;size=small,color=green,material=metal,shape=sphere - 1\n",
      "same_shape-color=green,material=rubber - 1\n",
      "same_material+same_shape-color=gray,shape=sphere;color=green,shape=sphere - 1\n",
      "same_shape+same_size-color=cyan,material=metal;color=gray,material=metal - 1\n",
      "same_shape+same_shape-color=cyan,material=rubber,shape=sphere;size=small,material=metal - 1\n",
      "same_material-color=purple - 8\n",
      "same_size-size=small,color=green - 4\n",
      "same_material-size=small,color=brown - 1\n",
      "same_size-size=small,color=green,material=rubber - 3\n",
      "same_size+same_size-color=cyan,material=rubber;size=large,color=purple,material=metal,shape=cylinder - 1\n",
      "same_material-color=brown,shape=sphere - 4\n",
      "same_shape-color=blue,material=rubber - 5\n",
      "same_material+same_size-size=small,color=purple;color=gray,shape=sphere - 1\n",
      "same_shape-color=yellow,shape=sphere - 4\n",
      "same_shape-color=yellow,material=metal,shape=sphere - 4\n",
      "same_shape+same_size-color=yellow;color=purple,material=rubber - 1\n",
      "same_material-size=small,color=gray,shape=sphere - 1\n",
      "same_material+same_size-color=yellow;size=small,color=purple,material=rubber - 1\n",
      "same_material-color=gray - 9\n",
      "same_size+same_size-size=small,color=purple;color=yellow,material=metal,shape=sphere - 1\n",
      "same_shape-color=gray,shape=sphere - 4\n",
      "same_color+same_color-material=metal,shape=sphere;color=green,material=rubber,shape=cube - 1\n",
      "same_color+same_material-size=small,shape=sphere;color=purple,shape=cube - 1\n",
      "same_color+same_material-size=large,shape=cube;color=purple,material=metal,shape=cube - 1\n",
      "same_color+same_size-size=small,material=rubber;color=green,shape=sphere - 1\n",
      "same_color+same_shape-material=metal,shape=sphere;size=large,color=green,shape=cube - 1\n",
      "same_color+same_shape-material=rubber,shape=cube;size=small,color=green,material=metal,shape=sphere - 1\n",
      "same_size-size=large,color=green - 7\n",
      "same_shape+same_shape-color=green,material=rubber;color=purple,material=metal - 1\n",
      "same_material+same_shape-color=blue,shape=sphere;color=purple,shape=cube - 1\n",
      "same_size-color=cyan,material=rubber - 2\n",
      "same_size-color=green - 9\n",
      "same_material-color=yellow,shape=cylinder - 3\n",
      "same_material-size=large,color=purple,shape=cube - 1\n",
      "same_size-color=yellow - 4\n",
      "same_material-size=large,shape=cylinder - 7\n",
      "same_size-size=large,color=yellow,material=metal - 2\n",
      "same_material+same_material-color=red;color=gray,shape=sphere - 1\n",
      "same_material+same_shape-color=purple,shape=sphere;size=small,color=red,shape=cube - 1\n",
      "same_shape+same_size-color=purple;color=green,shape=sphere - 1\n",
      "same_material+same_size-color=purple;color=gray,material=rubber - 1\n",
      "same_shape+same_shape-color=gray,shape=sphere;material=metal,shape=sphere - 1\n",
      "same_material+same_shape-color=gray;size=small,color=green,material=metal - 1\n",
      "same_shape+same_size-color=gray;size=small,color=purple - 1\n",
      "same_material+same_size-color=gray;size=small,material=rubber,shape=cube - 1\n",
      "same_color-size=large,material=metal,shape=cylinder - 6\n",
      "same_color-material=metal,shape=cylinder - 9\n",
      "same_color+same_material-size=large,shape=cylinder;color=green,shape=cube - 1\n",
      "same_color+same_size-size=large,material=rubber;size=small,color=gray,material=rubber,shape=cube - 1\n",
      "same_size+same_size-color=green;color=purple,shape=cube - 1\n",
      "same_material+same_shape-color=green;size=large,material=metal,shape=cylinder - 1\n",
      "same_shape+same_size-color=gray,material=metal;size=large,color=green - 1\n",
      "same_color+same_color-size=large,shape=cube;color=yellow,material=rubber,shape=sphere - 1\n",
      "same_color+same_material-size=large,shape=cylinder;size=large,color=yellow,material=metal - 1\n",
      "same_color-size=large,material=metal,shape=sphere - 5\n",
      "same_color+same_shape-material=metal,shape=sphere;size=small,color=yellow - 1\n",
      "same_color-material=metal,shape=sphere - 8\n",
      "same_color+same_material-shape=cube;size=large,color=yellow,material=rubber,shape=cylinder - 1\n",
      "same_material+same_size-size=small,color=blue;size=large,color=red - 1\n",
      "same_material-size=large,color=yellow,shape=cube - 2\n",
      "same_size-size=small,material=rubber - 4\n",
      "same_size-color=cyan,material=metal - 2\n",
      "same_size-size=small,material=metal - 4\n",
      "same_shape-color=purple,shape=cube - 1\n",
      "same_material-color=cyan - 6\n",
      "same_material-size=large,color=cyan,shape=cube - 1\n",
      "same_material-color=cyan,shape=cube - 1\n",
      "same_size-color=purple,material=rubber - 3\n",
      "same_size-size=large,color=cyan - 5\n",
      "same_material-size=large,color=cyan - 1\n",
      "same_size-size=large,color=cyan,material=rubber - 2\n",
      "same_color+same_material-size=small;color=gray,shape=cylinder - 1\n",
      "same_color+same_shape-material=rubber;size=large,color=gray,material=metal,shape=cylinder - 1\n",
      "same_color+same_size-material=rubber;size=large,color=gray,shape=cylinder - 1\n",
      "same_color+same_shape-material=metal,shape=sphere;size=small,color=cyan,material=metal,shape=cylinder - 1\n",
      "same_color+same_size-size=small,material=rubber;color=blue,material=metal - 1\n",
      "same_color+same_material-shape=cylinder;color=blue,material=rubber,shape=cube - 1\n",
      "same_color+same_material-size=small,shape=sphere;size=large,shape=cube - 1\n",
      "same_color+same_size-size=large,material=rubber;size=small,material=rubber,shape=cube - 1\n",
      "same_color-size=small,shape=cube - 16\n",
      "same_color+same_shape-shape=cylinder;size=large,color=blue,material=rubber - 1\n",
      "same_material+same_material-size=large,shape=sphere;color=gray,shape=cylinder - 1\n",
      "same_material+same_shape-shape=cylinder;color=yellow,material=metal,shape=sphere - 1\n",
      "same_color+same_material-size=small,shape=sphere;size=large,color=red,shape=cylinder - 1\n",
      "same_color+same_material-size=large,shape=cylinder;color=cyan,shape=sphere - 1\n",
      "same_shape+same_shape-color=green,material=metal;size=large,color=purple,shape=cube - 1\n",
      "same_shape+same_size-color=purple,material=metal;size=large,color=red,material=metal - 1\n",
      "same_material+same_size-color=red;size=large,color=green,material=metal,shape=cube - 1\n",
      "same_color-material=rubber,shape=sphere - 8\n",
      "same_color+same_shape-material=rubber,shape=sphere;color=purple,material=metal - 1\n",
      "same_color-shape=sphere - 7\n",
      "same_color-size=small,material=rubber - 6\n",
      "same_size+same_size-color=green,material=metal;color=purple,material=metal,shape=cube - 1\n",
      "same_color+same_size-size=large,material=rubber;size=small,color=purple,material=rubber,shape=sphere - 1\n",
      "same_shape-color=brown,shape=cylinder - 2\n",
      "same_color+same_size-size=small,material=rubber;size=large,color=cyan,material=rubber - 1\n",
      "same_material+same_material-size=small,color=cyan;color=red,shape=cylinder - 1\n",
      "same_shape-color=red,shape=cylinder - 2\n",
      "same_material+same_shape-color=red;size=small,color=cyan,material=metal,shape=sphere - 1\n",
      "same_color+same_material-size=large,shape=sphere;size=large,color=red,material=metal,shape=cylinder - 1\n",
      "same_color+same_material-size=large,shape=cylinder;color=cyan,material=rubber - 2\n",
      "same_shape+same_size-color=cyan,material=metal;size=large,material=metal - 1\n",
      "same_shape-color=blue,material=metal,shape=sphere - 2\n",
      "same_material+same_size-size=small,color=red;size=large,material=metal,shape=sphere - 1\n",
      "same_shape-color=blue,material=metal - 2\n",
      "same_shape-color=cyan,material=metal,shape=sphere - 2\n",
      "same_material+same_size-size=large;size=small,material=rubber - 1\n",
      "same_shape+same_size-color=red,material=rubber;size=large,shape=sphere - 1\n",
      "same_material-size=large,color=blue,shape=sphere - 1\n",
      "same_material-color=blue,shape=sphere - 1\n",
      "same_material-size=small,color=cyan - 4\n",
      "same_color+same_size-size=small,material=rubber;color=purple - 1\n",
      "same_material+same_shape-color=purple,shape=sphere;size=small,color=cyan - 1\n",
      "same_shape+same_size-color=green,material=rubber;color=red,material=metal - 1\n",
      "same_color+same_size-size=small,material=rubber;size=large,color=red,shape=sphere - 1\n",
      "same_color+same_shape-material=metal,shape=cube;size=large,color=green,shape=sphere - 1\n",
      "same_color-size=small,material=metal - 6\n",
      "same_material+same_material-size=large,color=red,shape=sphere;color=cyan,shape=sphere - 1\n",
      "same_material+same_shape-color=cyan,shape=sphere;size=small,color=red,material=metal,shape=sphere - 1\n",
      "same_shape-color=yellow,material=rubber,shape=sphere - 2\n",
      "same_shape-color=yellow,material=rubber - 2\n",
      "same_size-size=large,color=yellow,material=rubber - 5\n",
      "same_material-color=yellow - 6\n",
      "same_material-size=large,color=yellow,shape=sphere - 1\n",
      "same_material-size=large,color=green,shape=sphere - 1\n",
      "same_shape-color=gray,material=metal,shape=cylinder - 4\n",
      "same_shape-color=gray,shape=cylinder - 1\n",
      "same_material-color=gray,shape=cylinder - 4\n",
      "same_color+same_shape-material=metal,shape=sphere;size=large,color=yellow,shape=cylinder - 1\n",
      "same_color+same_size-size=small,material=rubber;color=red,shape=sphere - 1\n",
      "same_color+same_material-size=small,shape=sphere;color=red,material=metal,shape=sphere - 1\n",
      "same_color+same_material-size=large,shape=sphere;size=small,color=yellow,material=rubber - 1\n",
      "same_shape+same_size-color=yellow,material=rubber;size=large,color=yellow,shape=cylinder - 1\n",
      "same_color+same_shape-shape=cylinder;color=red,material=metal,shape=sphere - 1\n",
      "same_color-size=small,shape=sphere - 5\n",
      "same_color-size=large,shape=cube - 6\n",
      "same_material-size=large,color=red,shape=cylinder - 2\n",
      "same_material-color=red,shape=cube - 1\n",
      "same_size+same_size-size=small,color=red;size=small,color=blue,material=rubber - 1\n",
      "same_material+same_size-color=blue;size=small,color=red,material=rubber,shape=sphere - 1\n",
      "same_material+same_size-color=red;color=purple,shape=sphere - 1\n",
      "same_shape+same_size-color=blue;size=small,color=brown,material=rubber - 1\n",
      "same_shape+same_size-color=red;size=large,color=purple,shape=sphere - 1\n",
      "same_size-color=gray,material=rubber - 4\n",
      "same_size-size=large,color=gray,material=rubber - 2\n",
      "same_color+same_size-material=rubber;material=metal,shape=sphere - 1\n",
      "same_material+same_shape-color=green;material=rubber,shape=cube - 1\n",
      "same_size+same_size-size=large,color=gray,material=rubber;size=large,color=green,material=metal - 1\n",
      "same_color+same_material-shape=sphere;size=large,color=gray,material=rubber - 1\n",
      "same_material+same_size-size=large,color=green;size=large,material=rubber,shape=cube - 1\n",
      "same_color-size=large,material=rubber - 7\n",
      "same_shape+same_size-color=green;size=large,material=metal,shape=cube - 1\n",
      "same_color+same_shape-material=rubber,shape=cube;color=yellow,material=rubber,shape=cylinder - 1\n",
      "same_material+same_shape-color=gray,shape=cylinder;color=yellow,material=metal,shape=cube - 1\n",
      "same_color+same_material-size=small,shape=cube;color=purple - 1\n",
      "same_material+same_size-size=small,color=green;color=yellow,shape=cylinder - 1\n",
      "same_material+same_shape-color=yellow,shape=cylinder;color=blue - 1\n",
      "same_color+same_shape-material=metal,shape=cube;size=small,color=gray,material=rubber,shape=cylinder - 1\n",
      "same_color+same_material-size=large,shape=cube;color=yellow,shape=cube - 1\n",
      "same_shape+same_size-color=purple;size=small,color=gray - 1\n",
      "same_material+same_size-color=green;color=gray - 1\n",
      "same_color+same_material-size=small,shape=sphere;size=large,material=metal,shape=cylinder - 1\n",
      "same_color-size=small,material=metal,shape=cube - 12\n",
      "same_size-color=brown,material=metal - 9\n",
      "same_size-color=brown,material=rubber - 5\n",
      "same_size-size=small,color=brown,material=metal - 5\n",
      "same_material+same_size-color=cyan;color=brown,material=rubber,shape=sphere - 1\n",
      "same_shape-color=brown,shape=sphere - 1\n",
      "same_shape-color=gray - 3\n",
      "same_shape-color=brown,material=rubber,shape=sphere - 2\n",
      "same_material-size=large,shape=sphere - 7\n",
      "same_material-size=large - 4\n",
      "same_shape+same_shape-color=yellow,shape=cylinder;size=large,color=brown,material=metal - 1\n",
      "same_material+same_shape-color=red;size=large,color=brown,material=metal,shape=cylinder - 1\n",
      "same_material+same_size-size=large,color=cyan;size=large,color=brown,material=rubber - 1\n",
      "same_material+same_shape-color=yellow,shape=cylinder;size=large,material=rubber,shape=cylinder - 1\n",
      "same_color+same_material-size=large,shape=cube;material=rubber,shape=cylinder - 1\n",
      "same_shape+same_size-color=yellow;size=large,material=rubber,shape=cylinder - 1\n",
      "same_shape+same_size-color=yellow,material=metal;size=large,color=brown,material=rubber - 1\n",
      "same_color-material=rubber,shape=cylinder - 4\n",
      "same_color-size=large,material=rubber,shape=cylinder - 1\n",
      "same_shape-color=red,material=rubber,shape=sphere - 1\n",
      "same_size-size=large,color=red,material=metal - 4\n",
      "same_size-color=blue,material=metal - 4\n",
      "same_material-color=blue,shape=cylinder - 3\n",
      "same_material-color=blue - 5\n",
      "same_size+same_size-size=small,color=cyan,material=metal;color=red - 1\n",
      "same_material+same_shape-color=yellow;size=small,color=red,shape=cylinder - 1\n",
      "same_material+same_size-size=small,color=yellow;size=small,color=cyan,material=metal - 1\n",
      "same_material+same_shape-color=red,shape=cylinder;color=yellow,material=metal,shape=cylinder - 1\n",
      "same_shape+same_size-color=cyan,material=metal;color=red,material=metal - 1\n",
      "same_shape+same_size-color=yellow;color=cyan - 1\n",
      "same_material+same_size-size=small,color=cyan;size=small,color=red,material=metal - 1\n",
      "same_size-size=large,color=blue - 4\n",
      "same_material+same_shape-color=brown;size=large,color=green,material=metal,shape=sphere - 1\n",
      "same_shape-color=purple,material=metal,shape=sphere - 3\n",
      "same_shape-color=green,shape=cylinder - 4\n",
      "same_material+same_shape-color=purple;size=large,color=green,shape=cylinder - 1\n",
      "same_shape-color=purple,shape=sphere - 2\n",
      "same_shape+same_size-color=brown,material=metal;size=large,color=purple - 1\n",
      "same_shape+same_size-color=brown,material=metal;size=large,color=purple,material=metal - 1\n",
      "same_shape-color=gray,material=rubber - 5\n",
      "same_shape-color=brown,shape=cube - 4\n",
      "same_shape-color=brown,material=rubber - 1\n",
      "same_size-color=brown - 3\n",
      "same_size-size=large,color=brown - 3\n",
      "same_color+same_size-size=large,material=metal;color=purple,material=rubber - 1\n",
      "same_size+same_size-size=large,color=purple;size=large,color=green,material=rubber - 1\n",
      "same_color+same_material-shape=cube;size=large,color=green,material=metal - 1\n",
      "same_material+same_material-size=small,color=green,shape=sphere;size=small,color=cyan,shape=sphere - 1\n",
      "same_material+same_size-color=cyan;color=green,shape=sphere - 1\n",
      "same_material+same_shape-color=blue;color=red,material=rubber - 1\n",
      "same_material+same_shape-color=blue;size=small,color=green - 1\n",
      "same_material+same_size-size=small,color=red;size=small,color=blue - 1\n",
      "same_material-color=red,shape=cylinder - 1\n",
      "same_shape+same_shape-color=red,material=rubber,shape=cylinder;size=small,color=yellow,shape=cylinder - 1\n",
      "same_color+same_size-size=small,material=rubber;size=large,color=brown,material=rubber - 1\n",
      "same_material+same_material-size=large,color=red,shape=cylinder;color=yellow,material=rubber - 1\n",
      "same_color+same_shape-material=metal,shape=cylinder;size=large,color=red,material=rubber - 1\n",
      "same_size+same_size-color=yellow,material=metal;size=large,color=red,material=rubber - 1\n",
      "same_color-size=small,material=rubber,shape=cylinder - 5\n",
      "same_material+same_size-size=large,color=yellow;color=red - 1\n",
      "same_color+same_size-size=small,material=rubber;size=large,material=metal,shape=sphere - 1\n",
      "same_color+same_size-size=small,material=metal;size=large,color=cyan,material=metal,shape=cylinder - 1\n",
      "same_material+same_material-color=blue;size=small,material=rubber - 1\n",
      "same_color+same_material-size=large,shape=sphere;color=cyan,material=metal - 1\n",
      "same_material+same_shape-color=cyan,shape=cylinder;size=small,material=rubber - 1\n",
      "same_shape+same_size-color=blue,material=rubber;color=cyan,material=metal,shape=cylinder - 1\n",
      "same_material+same_size-size=large,color=cyan;color=blue,material=rubber - 1\n",
      "same_material+same_shape-shape=sphere;size=small,material=rubber,shape=cube - 1\n",
      "same_shape+same_size-color=yellow,material=metal;size=small,material=metal,shape=sphere - 1\n",
      "same_material+same_shape-color=gray,shape=cube;color=cyan,material=metal,shape=sphere - 1\n",
      "same_shape+same_size-color=cyan;size=large,color=yellow - 1\n",
      "same_material-size=small,color=brown,shape=sphere - 2\n",
      "same_color+same_size-size=large,material=metal;color=gray,material=rubber,shape=cylinder - 1\n",
      "same_material+same_material-color=green,shape=cylinder;size=large,material=metal - 1\n",
      "same_size+same_size-color=red,material=metal;size=large,color=gray,material=rubber,shape=cylinder - 1\n",
      "same_material+same_size-color=gray;size=large,material=metal - 1\n",
      "same_material+same_size-size=small,color=green;size=large,material=metal - 1\n",
      "same_material+same_shape-color=yellow;size=small,color=green,shape=cylinder - 1\n",
      "same_shape+same_shape-color=cyan,material=rubber,shape=sphere;size=small,material=metal,shape=sphere - 1\n",
      "same_color+same_shape-material=metal,shape=sphere;size=small,color=cyan,shape=sphere - 1\n",
      "same_color+same_size-size=large;color=cyan,material=rubber,shape=sphere - 1\n",
      "same_color+same_material-size=large,shape=sphere;material=metal,shape=cylinder - 1\n",
      "same_color+same_material-size=small,shape=cylinder;size=large,material=rubber - 1\n",
      "same_size+same_size-color=cyan,material=rubber;size=small,color=green,material=metal,shape=cylinder - 1\n",
      "same_shape+same_size-color=purple,material=rubber;size=small,color=purple,shape=sphere - 1\n",
      "same_material+same_size-color=green;size=small,color=cyan,material=rubber,shape=sphere - 1\n",
      "same_size-color=yellow,material=rubber - 3\n",
      "same_size-size=small,color=yellow - 5\n",
      "same_size-size=small,color=yellow,material=rubber - 3\n",
      "same_size-color=gray,material=metal - 2\n",
      "same_size-size=small,color=gray,material=metal - 2\n",
      "same_material-size=small,color=green,shape=cube - 1\n",
      "same_material-size=small,color=green - 3\n",
      "same_color+same_size-size=large,material=rubber;size=small - 1\n",
      "same_color+same_shape-material=metal,shape=cube;size=large,color=cyan,material=metal,shape=sphere - 1\n",
      "same_color+same_size-size=small;color=cyan - 1\n",
      "same_material+same_material-shape=cube;size=large,material=metal,shape=sphere - 1\n",
      "same_color+same_material-size=small,shape=sphere;color=cyan,material=metal,shape=sphere - 1\n",
      "same_color+same_material-size=large,shape=sphere;color=gray,material=metal,shape=cube - 1\n",
      "same_size+same_size-color=brown,material=rubber;color=cyan - 1\n",
      "same_color+same_shape-material=rubber,shape=cylinder;size=small,color=yellow,shape=sphere - 1\n",
      "same_color+same_shape-material=metal,shape=cylinder;size=small,color=red,material=metal - 1\n",
      "same_material+same_material-color=red;color=yellow,shape=sphere - 1\n",
      "same_shape-color=red,material=metal,shape=sphere - 1\n",
      "same_material+same_shape-color=yellow,shape=sphere;material=metal,shape=cylinder - 1\n",
      "same_shape+same_size-color=blue,material=rubber;color=brown - 1\n",
      "same_shape-color=yellow,shape=cylinder - 2\n",
      "same_material+same_size-color=red;size=small,color=brown - 1\n",
      "same_shape-color=brown,material=rubber,shape=cylinder - 2\n",
      "same_color+same_material-shape=cylinder;color=green,shape=sphere - 1\n",
      "same_material+same_material-shape=cube;size=large,color=cyan,material=metal,shape=cylinder - 1\n",
      "same_color+same_material-size=small;size=large,shape=cylinder - 1\n",
      "same_material+same_size-color=green;size=large,color=cyan,material=metal,shape=cube - 1\n",
      "same_color-size=large,shape=cylinder - 8\n",
      "same_material+same_material-size=small,shape=cube;color=purple,material=rubber - 1\n",
      "same_size+same_size-size=small,color=blue;size=small,material=rubber,shape=cylinder - 1\n",
      "same_material+same_shape-color=blue,shape=cube;color=purple - 1\n",
      "same_shape-color=purple,material=rubber,shape=cylinder - 2\n",
      "same_shape+same_size-color=red,material=rubber;color=green,material=metal - 1\n",
      "same_material+same_shape-color=red;size=small,shape=cube - 1\n",
      "same_shape+same_size-material=metal;size=large,color=red,shape=cylinder - 1\n",
      "same_material+same_size-color=purple;size=large,color=red - 1\n",
      "same_shape+same_shape-color=blue,material=rubber,shape=cube;color=green - 1\n",
      "same_material+same_material-color=blue,shape=cube;size=small,color=green,shape=cube - 1\n",
      "same_material+same_shape-color=blue,shape=cube;color=green - 1\n",
      "same_shape+same_size-color=green,material=rubber;size=large,color=cyan,material=rubber,shape=cube - 1\n",
      "same_material+same_size-color=green;size=large,color=blue,material=rubber,shape=cube - 1\n",
      "same_material+same_shape-color=blue,shape=cube;color=green,shape=cube - 1\n",
      "same_shape+same_size-color=cyan,material=rubber;size=small,color=green - 1\n",
      "same_material+same_size-size=large,color=cyan;color=green,material=rubber,shape=cube - 1\n",
      "same_shape+same_shape-color=yellow,material=metal;size=small,color=green,material=metal,shape=cylinder - 1\n",
      "same_color+same_material-size=large,shape=cylinder;size=small,color=brown - 1\n",
      "same_material+same_shape-color=brown,shape=cylinder;size=small,color=green,material=metal,shape=cylinder - 1\n",
      "same_shape+same_size-color=yellow;color=brown,material=metal,shape=cylinder - 1\n",
      "same_material+same_size-size=large,color=brown;color=green,shape=cylinder - 1\n",
      "same_material+same_shape-color=green,shape=cylinder;size=large,material=metal,shape=cylinder - 1\n",
      "same_shape+same_size-color=green;size=large,color=yellow,material=metal,shape=cylinder - 1\n",
      "same_shape-color=blue,material=rubber,shape=cylinder - 5\n",
      "same_material-size=large,color=blue,shape=cylinder - 3\n",
      "same_material-size=large,color=blue - 4\n",
      "same_color+same_shape-shape=cube;size=large,shape=cylinder - 1\n",
      "same_color+same_material-size=large,shape=cylinder;color=cyan,shape=cube - 1\n",
      "same_shape-color=green - 5\n",
      "same_shape-color=green,material=rubber,shape=cylinder - 1\n",
      "same_material-shape=cube - 8\n",
      "same_material-size=large,color=gray,shape=cube - 2\n",
      "same_shape+same_shape-color=red,shape=sphere;size=large,color=purple,shape=sphere - 1\n",
      "same_color+same_size-size=small,material=metal;size=small,color=cyan,material=rubber - 1\n",
      "same_color+same_material-size=small,shape=cube;color=cyan,shape=sphere - 1\n",
      "same_size+same_size-size=small,color=red,material=rubber;color=cyan - 1\n",
      "same_material+same_material-color=red,shape=sphere;size=large,shape=sphere - 1\n",
      "same_color+same_material-size=large,shape=cube;color=red,material=rubber - 1\n",
      "same_size-size=large,color=purple,material=rubber - 2\n",
      "same_material+same_size-color=cyan;size=large,color=green,material=metal - 1\n",
      "same_shape-color=red,material=metal,shape=cube - 2\n",
      "same_material+same_shape-color=purple,shape=cylinder;size=small,material=rubber - 1\n",
      "same_shape-material=rubber,shape=sphere - 3\n",
      "same_material+same_shape-color=blue,shape=sphere;size=large - 1\n",
      "same_shape-material=metal,shape=sphere - 5\n",
      "same_shape-color=blue,material=rubber,shape=sphere - 1\n",
      "same_shape+same_size-color=red;material=rubber,shape=cube - 1\n",
      "same_shape+same_size-color=yellow,material=rubber;size=large,shape=cylinder - 1\n",
      "same_material+same_shape-color=purple,shape=sphere;size=small,shape=cylinder - 1\n",
      "same_material+same_shape-color=brown;size=large,shape=sphere - 1\n",
      "same_shape-color=red,material=metal,shape=cylinder - 2\n",
      "same_shape-color=green,material=metal,shape=cylinder - 2\n",
      "same_shape-color=cyan,material=metal,shape=cylinder - 2\n",
      "same_shape-color=cyan - 4\n",
      "same_material-size=small,shape=cylinder - 5\n",
      "same_material-color=cyan,shape=cylinder - 3\n",
      "same_size-size=small,color=gray - 2\n",
      "same_material-size=small,color=cyan,shape=cylinder - 1\n",
      "same_color+same_color-size=large,shape=sphere;color=brown,material=rubber,shape=cube - 1\n",
      "same_color+same_shape-shape=sphere;size=small,color=blue,shape=cube - 1\n",
      "same_color+same_material-size=large,shape=sphere;size=large,shape=cylinder - 2\n",
      "same_color+same_material-shape=sphere;size=large,material=rubber,shape=cylinder - 1\n",
      "same_material+same_size-color=cyan;size=large,color=brown,shape=cylinder - 1\n",
      "same_shape+same_size-color=cyan;color=brown,material=rubber,shape=sphere - 1\n",
      "same_shape+same_size-color=cyan;size=large,material=rubber,shape=cube - 1\n",
      "same_material+same_shape-color=blue;size=small,shape=cylinder - 1\n",
      "same_material+same_shape-color=brown,shape=cube;color=brown,material=rubber,shape=sphere - 1\n",
      "same_shape-color=cyan,material=rubber,shape=cylinder - 2\n",
      "same_shape-color=yellow,material=rubber,shape=cylinder - 2\n",
      "same_material-size=large,color=brown - 2\n",
      "same_material-size=small,color=yellow,shape=cylinder - 3\n",
      "same_color+same_shape-material=rubber,shape=sphere;color=yellow,shape=cylinder - 1\n",
      "same_color+same_size-size=large,material=metal;color=yellow,material=metal - 1\n",
      "same_shape+same_shape-color=red;size=small,material=metal,shape=sphere - 1\n",
      "same_color+same_size-size=small,material=metal;color=green,shape=sphere - 1\n",
      "same_color+same_shape-shape=cylinder;size=small,material=rubber,shape=sphere - 1\n",
      "same_size+same_size-color=red;color=yellow,material=metal - 1\n",
      "same_color+same_material-size=large,shape=cylinder;size=large,color=green,material=metal,shape=sphere - 1\n",
      "same_material+same_material-size=small,color=brown,shape=cube;color=red,material=rubber,shape=sphere - 1\n",
      "same_material+same_size-size=large,color=yellow;size=small,color=brown,shape=cube - 1\n",
      "same_color+same_size-size=large,material=rubber;size=small,color=gray - 1\n",
      "same_color+same_size-size=large,material=metal;size=small,color=purple,material=metal,shape=cylinder - 1\n",
      "same_color+same_material-size=large,shape=cylinder;size=large,color=red,material=rubber - 1\n",
      "same_material+same_material-color=red;color=purple,material=rubber - 1\n",
      "same_color+same_material-shape=sphere;size=large,color=gray,shape=cylinder - 1\n",
      "same_material+same_size-size=large,color=gray;size=small,color=purple,material=metal,shape=cylinder - 1\n",
      "same_color+same_shape-material=metal,shape=cylinder;color=brown,material=metal - 1\n",
      "same_color+same_size-size=large;size=small,material=rubber,shape=cube - 1\n",
      "same_color+same_material-size=large,shape=sphere;size=small,shape=cube - 2\n",
      "same_material+same_material-size=small,shape=sphere;size=large,color=brown,material=metal - 1\n",
      "same_color+same_material-shape=cube;size=large,material=metal,shape=sphere - 1\n",
      "same_material+same_size-color=cyan;size=small,color=gray,material=metal,shape=sphere - 1\n",
      "same_shape+same_size-color=brown,material=metal;material=rubber,shape=cylinder - 1\n",
      "same_material+same_size-size=small,color=brown;size=small,color=purple,material=metal,shape=cylinder - 1\n",
      "same_material+same_size-color=purple;size=small - 1\n",
      "same_material+same_shape-color=brown;color=purple,shape=cylinder - 1\n",
      "same_material+same_size-size=small,color=brown;size=large,material=rubber - 1\n",
      "same_material+same_shape-color=purple;size=small,shape=sphere - 1\n",
      "same_size-size=large,color=red - 5\n",
      "same_shape-color=red - 2\n",
      "same_shape-material=metal,shape=cylinder - 2\n",
      "same_size-material=metal - 4\n",
      "same_shape-color=gray,shape=cube - 3\n",
      "same_shape-color=blue,material=metal,shape=cube - 1\n",
      "same_color+same_size-material=metal;color=cyan,material=rubber,shape=cube - 1\n",
      "same_shape+same_shape-color=cyan,material=rubber,shape=sphere;size=large - 1\n",
      "same_color+same_shape-shape=cylinder;color=purple,material=rubber - 1\n",
      "same_color+same_size-material=metal;color=cyan,shape=cube - 1\n",
      "same_color+same_material-size=small,shape=cylinder;size=small,color=cyan,shape=sphere - 1\n",
      "same_color-size=small,material=rubber,shape=cube - 7\n",
      "same_color+same_material-size=large,shape=sphere;size=small,color=cyan,shape=cube - 1\n",
      "same_color+same_shape-material=rubber,shape=sphere;color=blue,material=metal,shape=cube - 1\n",
      "same_color+same_shape-shape=cube;material=rubber,shape=sphere - 1\n",
      "same_size+same_size-color=green;size=large,color=blue,shape=cube - 1\n",
      "same_material+same_material-color=green,shape=cylinder;size=large,material=metal,shape=cube - 1\n",
      "same_color+same_material-size=large,shape=cube;size=large,shape=cylinder - 1\n",
      "same_shape+same_size-color=green;color=red,material=rubber,shape=sphere - 1\n",
      "same_shape+same_size-color=red,material=rubber;size=large,material=metal,shape=cylinder - 1\n",
      "same_color-size=large,shape=sphere - 8\n",
      "same_material-color=green - 7\n",
      "same_material-color=green,shape=sphere - 1\n",
      "same_color+same_color-material=rubber,shape=cylinder;color=yellow,shape=sphere - 1\n",
      "same_color+same_shape-material=rubber,shape=cylinder;size=large,color=yellow,shape=sphere - 1\n",
      "same_shape+same_shape-color=purple;color=yellow,shape=sphere - 1\n",
      "same_color+same_shape-material=metal,shape=sphere;material=rubber,shape=cylinder - 1\n",
      "same_material+same_material-size=small,shape=cube;size=large,color=yellow,material=metal,shape=sphere - 1\n",
      "same_color+same_material-size=small,shape=cube;material=metal,shape=cylinder - 1\n",
      "same_shape+same_size-color=brown,material=rubber;color=purple,material=rubber,shape=sphere - 1\n",
      "same_material+same_size-color=brown;size=large,color=yellow,material=metal,shape=sphere - 1\n",
      "same_material+same_shape-color=gray,shape=cube;color=purple - 1\n",
      "same_shape+same_size-color=purple;color=yellow,shape=sphere - 1\n",
      "same_material+same_size-color=brown;color=purple,material=metal,shape=sphere - 1\n",
      "same_material+same_size-color=purple;color=brown,shape=cube - 1\n",
      "same_color+same_shape-material=metal,shape=cylinder;color=purple,material=rubber,shape=cube - 1\n",
      "same_shape+same_shape-color=red,material=rubber,shape=cylinder;size=small,material=metal,shape=cylinder - 1\n",
      "same_color+same_shape-material=rubber,shape=cube;size=small,color=blue,material=metal - 1\n",
      "same_color-material=rubber,shape=cube - 6\n",
      "same_material+same_shape-color=purple,shape=cube;size=small,color=blue,shape=cylinder - 1\n",
      "same_color+same_material-size=small,shape=sphere;size=small,color=red,shape=cube - 1\n",
      "same_shape+same_size-color=blue,material=metal;color=purple,material=rubber,shape=cylinder - 1\n",
      "same_color+same_color-shape=cylinder;material=metal,shape=cube - 1\n",
      "same_color+same_size-size=small,material=rubber;material=metal,shape=cylinder - 1\n",
      "same_color+same_size-size=small,material=rubber;size=small,material=metal,shape=cube - 1\n",
      "same_size+same_size-size=small,material=rubber;color=brown,shape=cube - 1\n",
      "same_color+same_shape-material=metal,shape=cube;size=large,material=rubber - 1\n",
      "same_color+same_material-size=small,shape=cube;color=yellow,shape=sphere - 1\n",
      "same_shape+same_size-color=yellow;size=small,material=metal,shape=cylinder - 1\n",
      "same_material+same_size-color=yellow;size=small,color=brown,material=metal,shape=cylinder - 1\n",
      "same_color+same_shape-material=rubber,shape=sphere;color=cyan,shape=cube - 1\n",
      "same_color+same_size-size=large;size=small,color=red - 1\n",
      "same_size+same_size-size=small,color=purple,material=metal;color=red - 1\n",
      "same_color+same_shape-shape=cube;size=small,color=red,material=rubber - 1\n",
      "same_color+same_material-size=large,shape=cube;size=small,color=purple,material=metal,shape=cylinder - 1\n",
      "same_material+same_shape-shape=cylinder;color=red,shape=sphere - 1\n",
      "same_color-size=large - 2\n",
      "same_color+same_shape-material=metal,shape=cylinder;size=large,color=cyan,shape=cube - 1\n",
      "same_material+same_material-size=small,color=cyan,shape=cylinder;color=purple,shape=cylinder - 1\n",
      "same_material+same_shape-color=cyan,shape=cylinder;color=brown,material=metal,shape=cube - 1\n",
      "same_shape+same_size-color=blue,material=rubber;color=purple - 1\n",
      "same_material+same_size-size=large,color=green;color=brown - 1\n",
      "same_material+same_shape-color=purple;size=large,color=blue,material=rubber - 1\n",
      "same_shape+same_size-color=green,material=metal;size=small,color=purple - 1\n",
      "same_material+same_size-size=large,color=cyan;color=brown,material=metal,shape=cube - 1\n",
      "same_size-size=large,color=gray,material=metal - 3\n",
      "same_size-size=large,material=rubber - 5\n",
      "same_color+same_size-size=large,material=rubber;size=small,color=cyan,shape=sphere - 2\n",
      "same_color+same_shape-material=metal,shape=sphere;color=cyan,shape=cylinder - 1\n",
      "same_color+same_size-size=small,material=rubber;size=large,color=green,material=rubber,shape=cylinder - 1\n",
      "same_color+same_shape-material=metal,shape=cylinder;size=small,color=red,shape=sphere - 1\n",
      "same_material+same_shape-color=green;size=small,color=red,material=metal - 1\n",
      "same_color-size=small,material=rubber,shape=sphere - 3\n",
      "same_shape-color=cyan,material=rubber - 3\n",
      "same_material+same_size-color=green;size=small,color=red,shape=sphere - 1\n",
      "same_shape-color=cyan,material=rubber,shape=sphere - 1\n",
      "same_material+same_shape-color=green,shape=cylinder;size=small,color=red,material=metal,shape=sphere - 1\n",
      "same_color+same_shape-material=rubber;size=small,shape=cube - 1\n",
      "same_shape+same_shape-color=purple,material=rubber,shape=cube;size=large,color=gray,material=metal - 1\n",
      "same_color+same_material-size=small,shape=cube;color=yellow - 2\n",
      "same_color+same_material-size=large,shape=cylinder;size=small,shape=cube - 1\n",
      "same_shape+same_size-color=purple;size=small,color=gray,material=metal - 1\n",
      "same_shape+same_size-color=green;size=small,color=gray - 1\n",
      "same_material+same_size-color=green;color=yellow,material=metal,shape=cylinder - 1\n",
      "same_color+same_shape-material=metal,shape=sphere;size=large,shape=cylinder - 1\n",
      "same_color+same_shape-material=metal,shape=cylinder;size=small,material=metal - 1\n",
      "same_color+same_material-size=large,shape=sphere;size=small,color=yellow,material=metal - 1\n",
      "same_material+same_shape-color=blue,shape=sphere;size=large,color=blue,shape=cylinder - 1\n",
      "same_shape+same_size-color=blue,material=metal;size=small,color=yellow,material=metal,shape=sphere - 1\n",
      "same_color+same_size-material=metal;color=gray - 1\n",
      "same_material+same_material-shape=cylinder;size=large,color=green - 1\n",
      "same_color+same_shape-material=metal;size=large,color=green - 1\n",
      "same_color+same_material-size=large,shape=sphere;shape=cylinder - 1\n",
      "same_color+same_material-shape=cylinder;size=large,color=purple,shape=sphere - 1\n",
      "same_material+same_size-color=gray;color=purple,material=rubber,shape=cube - 1\n",
      "same_material+same_shape-color=gray;size=large,color=green - 1\n",
      "same_shape+same_size-color=green,material=rubber;color=gray,material=rubber,shape=cylinder - 1\n",
      "same_material+same_size-size=large,color=gray;size=large,color=green,material=rubber,shape=cube - 1\n",
      "same_size+same_size-size=large,color=yellow;color=green,shape=sphere - 1\n",
      "same_material-size=large,color=yellow,shape=cylinder - 1\n",
      "same_material-size=large,color=yellow - 4\n",
      "same_material+same_shape-color=cyan,shape=sphere;size=large,color=brown,shape=sphere - 1\n",
      "same_shape+same_size-color=cyan;size=large,color=brown,material=metal,shape=sphere - 1\n",
      "same_material+same_size-size=small,color=blue;size=large,color=yellow,shape=cylinder - 1\n",
      "same_material+same_shape-color=yellow,shape=cylinder;size=large,color=brown - 1\n",
      "same_shape+same_size-color=gray,material=rubber;size=large,color=brown - 1\n",
      "same_shape+same_shape-color=cyan,material=rubber,shape=cylinder;material=metal - 1\n",
      "same_color+same_size-size=small;color=cyan,material=rubber,shape=cylinder - 1\n",
      "same_color-material=metal - 5\n",
      "same_material-size=small,color=purple - 3\n",
      "same_material+same_material-size=small,color=gray,shape=sphere;shape=cube - 1\n",
      "same_material+same_size-size=small;size=large,color=purple,shape=cylinder - 1\n",
      "same_size-size=large,color=blue,material=rubber - 5\n",
      "same_size-color=blue,material=rubber - 4\n",
      "same_material+same_size-size=large,color=blue;color=gray,material=rubber - 1\n",
      "same_color+same_color-size=large,material=rubber,shape=sphere;size=small,color=green,material=metal,shape=cylinder - 1\n",
      "same_color+same_size-material=rubber;size=small,color=green,material=metal,shape=cylinder - 1\n",
      "same_size+same_size-size=large,color=yellow;size=large,material=rubber,shape=sphere - 1\n",
      "same_color+same_size-size=small;color=green,shape=sphere - 1\n",
      "same_color+same_shape-material=rubber;size=large,color=yellow,material=metal - 1\n",
      "same_material+same_material-size=large,shape=cylinder;color=green,material=metal,shape=cube - 1\n",
      "same_shape-color=yellow,material=metal,shape=cylinder - 4\n",
      "same_color+same_material-size=large,shape=cylinder;size=small,color=green - 1\n",
      "same_color+same_color-material=rubber,shape=sphere;size=small,color=brown,material=metal,shape=cube - 1\n",
      "same_color+same_size-size=large,material=rubber;size=small,color=brown,material=metal - 1\n",
      "same_color+same_shape-material=metal,shape=sphere;size=small,color=brown,material=metal,shape=cube - 1\n",
      "same_shape+same_shape-color=gray;size=small,color=brown,material=metal - 1\n",
      "same_size+same_size-color=gray;size=large,color=brown,material=rubber,shape=sphere - 1\n",
      "same_color+same_size-size=large,material=rubber;color=yellow,material=metal,shape=sphere - 1\n",
      "same_color+same_shape-material=rubber;size=small,color=brown,shape=cube - 1\n",
      "same_material-size=small,shape=cube - 4\n",
      "same_material-color=red,shape=sphere - 2\n",
      "same_material-size=small,color=purple,shape=cube - 1\n",
      "same_color+same_color-size=large,material=rubber,shape=cylinder;size=large,color=blue,material=metal,shape=cube - 1\n",
      "same_color+same_size-size=small,material=metal;size=large,color=blue,material=rubber,shape=cylinder - 1\n",
      "same_shape+same_shape-color=red;size=small,color=gray,material=metal,shape=cube - 1\n",
      "same_size+same_size-color=brown,material=rubber;size=small,shape=cube - 1\n",
      "same_color+same_size-size=large,material=rubber;color=brown,material=rubber - 1\n",
      "same_material+same_material-size=large,color=blue,shape=cylinder;size=small,color=blue,material=rubber,shape=sphere - 1\n",
      "same_color+same_shape-material=rubber,shape=cylinder;size=small,color=brown,shape=sphere - 1\n",
      "same_material+same_shape-color=brown,shape=sphere;color=blue,material=rubber,shape=cylinder - 1\n",
      "same_color+same_material-size=large,shape=cylinder;size=small,color=gray,material=metal,shape=cube - 1\n",
      "same_color+same_material-size=small,shape=cube;size=small,color=blue,shape=sphere - 1\n",
      "same_color+same_size-size=large,material=metal;color=cyan,material=metal,shape=cube - 1\n",
      "same_size+same_size-size=large,color=yellow,material=rubber;color=gray,material=metal - 1\n",
      "same_material+same_material-size=small,shape=cube;color=green,material=metal,shape=cylinder - 1\n",
      "same_shape+same_size-color=gray,material=metal;size=small,color=green,material=metal - 1\n",
      "same_material+same_shape-color=gray,shape=cylinder;color=cyan,shape=cylinder - 1\n",
      "same_shape+same_size-color=brown,material=rubber;size=small,color=cyan,material=metal,shape=cube - 1\n",
      "same_shape+same_shape-color=gray;color=cyan,shape=cylinder - 1\n",
      "same_size+same_size-size=large,color=purple,material=rubber;material=metal,shape=cube - 1\n",
      "same_material+same_size-size=small,color=cyan;size=large,color=red,material=metal - 1\n",
      "same_material+same_shape-color=cyan;size=small,color=gray - 1\n",
      "same_shape+same_size-color=purple,material=rubber;size=small,color=cyan - 1\n",
      "same_material+same_size-size=small,color=cyan;size=large,shape=cylinder - 1\n",
      "same_material+same_shape-color=gray,shape=cylinder;size=small,color=cyan,material=metal,shape=cylinder - 1\n",
      "same_shape+same_size-color=cyan,material=metal;color=purple - 1\n",
      "same_color+same_shape-material=rubber,shape=cube;size=small,shape=cube - 1\n",
      "same_color+same_size-size=large,material=metal;size=small,shape=sphere - 1\n",
      "same_shape+same_shape-color=red,material=rubber,shape=cube;size=large,material=metal,shape=cube - 1\n",
      "same_color+same_size-size=large,material=metal;size=small,color=brown,material=rubber - 1\n",
      "same_size+same_size-size=large,color=yellow;color=red,shape=cube - 1\n",
      "same_color+same_shape-material=rubber,shape=cylinder;size=small,color=yellow,material=metal,shape=cube - 1\n",
      "same_material-size=small,color=yellow,shape=sphere - 2\n",
      "same_material+same_size-size=small;size=large,color=brown,material=metal,shape=cube - 1\n",
      "same_material+same_size-size=large,color=brown;size=small,material=rubber - 1\n",
      "same_material+same_material-size=small,color=cyan,shape=cube;size=large,color=blue - 1\n",
      "same_material+same_shape-color=yellow;color=blue,shape=cylinder - 1\n",
      "same_shape+same_size-color=blue;material=rubber,shape=sphere - 1\n",
      "same_size-size=large,material=metal - 3\n",
      "same_material+same_shape-color=blue;size=large,material=metal,shape=sphere - 1\n",
      "same_shape+same_size-material=metal;size=small,color=cyan,shape=cube - 1\n",
      "same_color+same_color-material=metal,shape=cylinder;size=large,color=brown,material=metal,shape=sphere - 1\n",
      "same_color+same_shape-material=metal,shape=sphere;shape=cylinder - 1\n",
      "same_color+same_size-size=large,material=metal;size=small,color=brown,material=metal - 1\n",
      "same_shape+same_shape-color=cyan,shape=sphere;size=large,color=brown,material=metal - 1\n",
      "same_color+same_size-size=large,material=metal;material=metal,shape=cube - 1\n",
      "same_size+same_size-size=small,color=cyan;color=yellow,material=metal,shape=cube - 1\n",
      "same_color+same_material-shape=cylinder;size=large,color=gray,shape=cube - 1\n",
      "same_color+same_material-size=small,shape=cylinder;color=brown,material=rubber,shape=sphere - 1\n",
      "same_color+same_shape-material=metal,shape=cube;size=large,color=cyan,material=rubber,shape=cube - 1\n",
      "same_color+same_size-size=small,material=metal;size=large,color=cyan,material=rubber,shape=cube - 1\n",
      "same_size+same_size-color=blue;color=brown,material=metal,shape=cube - 1\n",
      "same_color+same_material-size=small,shape=cube;color=red - 1\n",
      "same_color+same_material-shape=cylinder;size=small,color=cyan,shape=cube - 1\n",
      "same_shape-color=brown,material=metal,shape=cylinder - 3\n",
      "same_material+same_size-color=purple;size=large,color=brown,material=metal,shape=cube - 1\n",
      "same_material+same_shape-color=yellow,shape=cylinder;size=large,color=yellow,shape=cube - 1\n",
      "same_shape+same_size-color=gray;size=small,color=yellow,material=metal - 1\n",
      "same_material+same_size-size=large,color=yellow;size=small,color=yellow,shape=cylinder - 1\n",
      "same_material+same_shape-color=purple,shape=cube;size=small,color=brown,shape=cylinder - 1\n",
      "same_shape+same_size-color=gray;color=yellow,material=metal,shape=cylinder - 1\n",
      "same_color+same_shape-material=rubber,shape=sphere;color=brown - 1\n",
      "same_shape-color=brown,material=metal - 4\n",
      "same_shape-color=green,shape=cube - 1\n",
      "same_color+same_material-size=small,shape=cylinder;size=large,color=green - 1\n",
      "same_shape-color=green,material=metal,shape=cube - 2\n",
      "same_material-size=large,color=red - 3\n",
      "same_material+same_material-shape=cube;size=large,color=purple - 1\n",
      "same_shape-color=purple,shape=cylinder - 1\n",
      "same_size-color=red,material=metal - 1\n",
      "same_material+same_size-color=purple;size=small,material=rubber,shape=sphere - 1\n",
      "same_material+same_shape-color=purple;color=red,material=metal - 1\n",
      "same_size+same_size-size=large,color=yellow,material=rubber;size=large,color=gray,material=rubber,shape=sphere - 1\n",
      "same_material+same_material-size=large,color=red;size=large,color=gray,shape=sphere - 1\n",
      "same_shape+same_size-color=yellow,material=rubber;size=large,color=red - 1\n",
      "same_material+same_size-size=large,color=gray;color=yellow,material=rubber,shape=cube - 1\n",
      "same_material+same_shape-color=yellow,shape=cube;size=large,color=red - 1\n",
      "same_shape-color=gray,material=rubber,shape=sphere - 3\n",
      "same_shape+same_size-color=gray,material=rubber;size=large,color=yellow,shape=cube - 1\n",
      "same_material+same_size-color=red;size=large,color=yellow,material=rubber,shape=cube - 1\n",
      "same_color+same_size-material=metal;size=large,material=rubber,shape=cylinder - 1\n",
      "same_color+same_material-size=small,shape=sphere;color=blue,material=rubber,shape=cylinder - 1\n",
      "same_color+same_material-size=large,shape=cylinder;material=metal,shape=sphere - 1\n",
      "same_shape+same_shape-color=red;size=small,color=green,material=metal,shape=cube - 1\n",
      "same_material-color=green,shape=cube - 1\n",
      "same_material+same_shape-color=blue,shape=cube;size=small,material=metal,shape=cube - 1\n",
      "same_shape+same_size-color=red,material=metal;size=small,material=metal - 1\n",
      "same_material+same_size-color=blue;size=small,shape=cube - 1\n",
      "same_material+same_shape-color=red,shape=cube;color=blue,shape=cube - 1\n",
      "same_size-material=rubber - 4\n",
      "same_shape-color=red,shape=cube - 1\n",
      "same_color+same_size-size=large,material=rubber;material=metal,shape=cylinder - 1\n",
      "same_size+same_size-color=cyan,material=metal;size=large,material=rubber,shape=sphere - 1\n",
      "same_material+same_material-color=cyan,shape=cylinder;size=large,color=brown,material=metal - 1\n",
      "same_color-material=rubber - 3\n",
      "same_shape+same_size-color=brown,material=metal;size=large,color=cyan - 1\n",
      "same_material+same_size-color=purple;size=large,color=brown,material=metal - 1\n",
      "same_shape+same_size-color=cyan;size=large,material=rubber - 1\n",
      "same_color+same_size-size=large,material=metal;color=purple - 1\n",
      "same_color+same_shape-shape=sphere;size=small,color=purple,shape=cylinder - 1\n",
      "same_color+same_material-size=large,shape=sphere;color=blue,material=metal,shape=cylinder - 1\n",
      "same_material+same_material-color=blue,shape=cylinder;shape=sphere - 1\n",
      "same_material-size=small,color=purple,shape=cylinder - 1\n",
      "same_material+same_shape-color=brown,shape=cube;size=small,color=yellow - 1\n",
      "same_material-size=small,shape=sphere - 3\n",
      "same_material+same_size-color=brown;size=large,material=metal - 1\n",
      "same_material-color=yellow,shape=sphere - 2\n",
      "same_material+same_shape-shape=sphere;size=small,material=rubber - 1\n",
      "same_shape+same_size-color=purple,material=metal;size=small,color=yellow,shape=sphere - 1\n",
      "same_size-color=yellow,material=metal - 1\n",
      "same_material-size=small,color=yellow - 1\n",
      "same_material+same_size-size=large,color=purple;material=rubber - 1\n",
      "same_color+same_shape-material=metal,shape=cylinder;color=cyan,material=metal - 1\n",
      "same_color+same_size-size=small,material=rubber;color=red,material=metal - 1\n",
      "same_color+same_shape-shape=sphere;size=large,color=red - 1\n",
      "same_shape+same_shape-color=cyan,material=rubber;color=green,material=rubber,shape=cylinder - 1\n",
      "same_size+same_size-size=small,color=brown;size=small,color=cyan,material=rubber,shape=cylinder - 1\n",
      "same_material+same_shape-color=brown;size=small,color=cyan,material=rubber,shape=cylinder - 1\n",
      "same_shape+same_size-color=cyan,material=rubber;color=green,shape=cylinder - 1\n",
      "same_material+same_size-size=small,color=brown;size=small,color=green,material=rubber,shape=cylinder - 1\n",
      "same_material+same_shape-color=cyan;color=brown,shape=cylinder - 1\n",
      "same_shape+same_size-color=cyan,material=rubber;color=green,material=rubber,shape=cylinder - 1\n",
      "same_color+same_shape-material=metal,shape=sphere;size=small,color=green - 1\n",
      "same_shape+same_shape-color=brown;size=small,color=green - 1\n",
      "same_material+same_size-size=small,color=green;size=large,material=metal,shape=sphere - 1\n",
      "same_material+same_shape-color=brown;size=large,color=green,material=rubber,shape=sphere - 1\n",
      "same_color+same_size-material=rubber;color=blue,material=metal - 1\n",
      "same_color+same_shape-material=rubber,shape=sphere;color=blue,material=metal - 1\n",
      "same_size+same_size-material=rubber;size=small,color=blue,material=metal,shape=cylinder - 1\n",
      "same_shape-color=blue,material=metal,shape=cylinder - 1\n",
      "same_shape+same_size-material=rubber;color=blue,shape=cylinder - 1\n",
      "same_color+same_size-material=rubber;size=large,shape=cube - 1\n",
      "same_color+same_shape-material=rubber;size=large,color=yellow,shape=cube - 1\n",
      "same_shape+same_shape-material=rubber,shape=cube;size=large,material=metal,shape=cube - 1\n",
      "same_color+same_size-size=small,material=metal;size=large,color=green,material=metal,shape=sphere - 1\n",
      "same_color+same_material-size=large,shape=cube;size=large,material=metal,shape=sphere - 1\n",
      "same_color+same_material-shape=sphere;size=small,color=yellow,material=metal,shape=cube - 1\n",
      "same_size-size=small,color=yellow,material=metal - 1\n",
      "same_shape+same_shape-color=red;color=cyan,material=rubber - 1\n",
      "same_color+same_shape-material=rubber,shape=sphere;size=small,color=brown,shape=cube - 1\n",
      "same_color+same_size-size=small,material=rubber;size=small,color=brown - 1\n",
      "same_size+same_size-size=large,color=purple;color=red - 1\n",
      "same_color+same_material-size=small,shape=sphere;color=red,shape=sphere - 1\n",
      "same_color+same_material-shape=cylinder;color=cyan,material=metal - 1\n",
      "same_material+same_size-color=brown;color=yellow,material=rubber - 1\n",
      "same_shape-color=brown,material=metal,shape=cube - 2\n",
      "same_material+same_material-color=blue,shape=cylinder;size=small,material=rubber - 1\n",
      "same_material+same_shape-color=red,shape=cube;color=blue,material=rubber - 1\n",
      "same_size-size=small,color=red,material=rubber - 1\n",
      "same_material+same_size-color=yellow;size=small,shape=sphere - 1\n",
      "same_shape+same_size-color=gray,material=metal;shape=sphere - 1\n",
      "same_material+same_shape-color=gray;size=small,material=rubber,shape=cube - 1\n",
      "same_shape+same_size-color=blue,material=rubber;color=gray - 1\n",
      "same_material+same_size-size=small,color=yellow;material=rubber,shape=cube - 1\n",
      "same_color+same_size-material=metal;size=large,color=brown,shape=cube - 1\n",
      "same_color+same_shape-material=metal,shape=cube;size=large,color=brown,material=rubber - 1\n",
      "same_color+same_shape-shape=cylinder;size=large,color=brown - 1\n",
      "same_color+same_size-material=metal;size=large,color=brown,material=rubber - 1\n",
      "same_size+same_size-color=red,material=rubber;size=large,color=gray,shape=cube - 1\n",
      "same_color+same_material-shape=cylinder;size=large,color=brown,material=rubber - 1\n",
      "same_color+same_material-shape=sphere;color=gray,shape=cube - 1\n",
      "same_material+same_shape-color=gray,shape=cube;size=small,color=brown,shape=cube - 1\n",
      "same_shape+same_size-material=metal;size=large,color=gray,material=rubber - 1\n",
      "same_shape+same_shape-color=brown;color=blue,material=rubber,shape=sphere - 1\n",
      "same_color+same_shape-shape=cylinder;size=large,color=brown,material=rubber - 1\n",
      "same_color+same_material-shape=cylinder;color=cyan,material=rubber,shape=sphere - 1\n",
      "same_material+same_size-color=brown;color=cyan,material=rubber,shape=sphere - 1\n",
      "same_color+same_size-size=large,material=rubber;size=small,color=yellow,material=rubber,shape=sphere - 1\n",
      "same_shape+same_shape-material=rubber,shape=sphere;size=small,color=gray,shape=sphere - 1\n",
      "same_material+same_material-size=small,color=brown,shape=cube;size=small,color=gray - 1\n",
      "same_color+same_shape-material=rubber,shape=sphere;color=gray,shape=sphere - 1\n",
      "same_color+same_material-size=large,shape=sphere;size=large,shape=cube - 1\n",
      "same_material+same_shape-color=gray;color=green,shape=cube - 1\n",
      "same_material-color=red - 1\n",
      "same_material-size=large,color=red,shape=cube - 1\n",
      "same_shape+same_size-color=red,material=metal;material=rubber - 1\n",
      "same_material+same_material-size=small,shape=cylinder;color=gray,material=metal - 1\n",
      "same_size+same_size-size=small,color=red;color=blue - 1\n",
      "same_material+same_size-color=purple;size=small,material=metal,shape=cylinder - 1\n",
      "same_material+same_shape-color=yellow;color=blue - 1\n",
      "same_shape+same_size-color=yellow;color=purple - 1\n",
      "same_size+same_size-color=cyan;material=rubber - 1\n",
      "same_color+same_material-shape=cylinder;size=small,material=rubber - 1\n",
      "same_material+same_size-color=cyan;material=rubber,shape=cube - 1\n",
      "same_shape+same_size-color=cyan;size=small,color=yellow,material=metal,shape=cube - 1\n",
      "same_color+same_size-size=small,material=rubber;size=small,color=cyan,shape=sphere - 1\n",
      "same_size+same_size-size=large,material=rubber;size=large,color=red - 1\n",
      "same_color+same_material-size=small,shape=cube;color=green - 1\n",
      "same_material+same_shape-color=blue;color=red - 1\n",
      "same_material+same_size-size=large,color=red;size=small,color=purple,material=rubber - 1\n",
      "same_material+same_shape-color=cyan,shape=sphere;color=red,shape=cube - 1\n",
      "same_color+same_size-material=metal;size=small,color=yellow,shape=cylinder - 1\n",
      "same_color+same_material-size=small,shape=cube;size=small,color=gray,material=rubber,shape=sphere - 1\n",
      "same_shape+same_size-color=gray,material=rubber;color=yellow,material=rubber,shape=cube - 1\n",
      "same_material+same_shape-color=brown,shape=cylinder;color=yellow,material=rubber,shape=cube - 1\n",
      "same_shape+same_size-color=gray;color=brown,material=rubber,shape=cylinder - 1\n",
      "same_color+same_shape-material=rubber,shape=cylinder;size=small,color=yellow - 1\n",
      "same_color+same_size-size=large,material=rubber;size=small,color=yellow,shape=sphere - 1\n",
      "same_shape+same_shape-color=gray,material=metal,shape=cylinder;color=purple,material=rubber,shape=cylinder - 1\n",
      "same_size+same_size-color=green;size=large,shape=cylinder - 1\n",
      "same_color+same_material-size=large,shape=sphere;size=small,shape=sphere - 1\n",
      "same_material+same_size-color=purple;size=large,material=metal,shape=sphere - 1\n",
      "same_color+same_material-size=large,shape=cylinder;color=gray,shape=cylinder - 1\n",
      "same_shape+same_shape-color=cyan;color=green - 1\n",
      "same_size-size=small,color=green,material=metal - 2\n",
      "same_size+same_size-size=large,color=cyan;size=large,color=brown - 1\n",
      "same_material+same_size-color=yellow;size=large,color=purple,material=metal - 1\n",
      "same_material+same_shape-color=cyan,shape=sphere;size=small,color=green - 1\n",
      "same_shape+same_size-color=cyan;size=small,color=yellow,shape=cylinder - 1\n",
      "same_material+same_size-size=small,color=green;color=purple,shape=sphere - 1\n",
      "same_shape-material=rubber,shape=cylinder - 6\n",
      "same_size+same_size-size=large,material=metal;color=blue,material=rubber - 1\n",
      "same_shape-material=metal - 4\n",
      "same_material+same_shape-color=yellow;size=large,color=gray,material=rubber,shape=sphere - 1\n",
      "same_material-size=large,color=gray,shape=sphere - 1\n",
      "same_shape+same_size-color=gray;size=large,color=blue,shape=cylinder - 1\n",
      "same_material+same_size-color=yellow;color=gray,material=rubber - 1\n",
      "same_color+same_color-size=large,material=metal,shape=cylinder;color=red,material=metal,shape=sphere - 1\n",
      "same_color+same_size-material=rubber;size=small,color=red,material=metal,shape=sphere - 1\n",
      "same_color+same_size-size=large,material=rubber;size=small,color=green,material=metal,shape=cube - 1\n",
      "same_color+same_shape-shape=cylinder;size=small,color=red,material=metal - 1\n",
      "same_color+same_material-size=small,shape=cube;color=red,material=metal,shape=sphere - 1\n",
      "same_color+same_material-shape=cylinder;size=large,color=blue,material=metal - 1\n",
      "same_material+same_shape-color=blue;size=small,color=red,material=metal,shape=sphere - 1\n",
      "same_shape+same_size-color=cyan,material=metal;color=green,shape=cube - 1\n",
      "same_material+same_size-size=small,color=red;color=cyan,material=metal - 1\n",
      "same_size+same_size-size=small,color=red,material=metal;color=green - 1\n",
      "same_material+same_shape-color=gray,shape=cylinder;color=blue,shape=cylinder - 1\n",
      "same_material+same_size-size=large,color=blue;size=small,color=purple,shape=sphere - 1\n",
      "same_material-color=purple,shape=sphere - 3\n",
      "same_material+same_shape-shape=sphere;color=blue - 1\n",
      "same_material+same_size-size=small,color=purple;size=large,color=yellow,material=rubber,shape=cube - 1\n",
      "same_color+same_size-size=small,material=rubber;size=large,material=metal,shape=cube - 1\n",
      "same_shape+same_shape-color=purple,material=metal,shape=cylinder;size=small,color=cyan - 1\n",
      "same_color+same_material-size=large,shape=sphere;size=large,color=green,material=metal,shape=cube - 1\n",
      "same_color+same_material-size=small,shape=cube;size=small,color=yellow,material=metal - 1\n",
      "same_shape+same_shape-color=blue;size=large,color=red,shape=cube - 1\n",
      "same_shape+same_size-color=gray;size=large,color=red,shape=cube - 1\n",
      "same_size-size=large,color=blue,material=metal - 1\n",
      "same_shape-color=green,material=metal - 4\n",
      "same_shape-color=gray,material=metal,shape=sphere - 1\n",
      "same_shape+same_size-color=green;size=small,color=brown,material=metal,shape=cube - 1\n",
      "same_size+same_size-size=small,color=brown;size=small,color=gray,shape=sphere - 1\n",
      "same_color+same_shape-material=rubber,shape=cylinder;size=large,color=red - 1\n",
      "same_color+same_size-size=small,material=rubber;size=large,shape=sphere - 1\n",
      "same_shape+same_shape-color=brown,material=rubber;color=red,material=metal - 1\n",
      "same_material+same_material-color=cyan,shape=cube;color=red,shape=sphere - 1\n",
      "same_color+same_shape-material=rubber,shape=sphere;color=brown,material=rubber,shape=cylinder - 1\n",
      "same_color+same_material-shape=cube;size=small,color=red - 1\n",
      "same_color+same_size-size=small,material=rubber;size=large,color=red - 2\n",
      "same_color+same_size-size=small,material=metal;color=brown,material=metal - 1\n",
      "same_material+same_material-color=brown;size=small,material=metal,shape=cylinder - 1\n",
      "same_color+same_shape-material=metal,shape=cylinder;size=large,color=brown - 1\n",
      "same_material-color=cyan,shape=sphere - 2\n",
      "same_material+same_shape-color=brown,shape=sphere;size=small,color=red,material=metal - 1\n",
      "same_color+same_size-size=large,material=rubber;size=small,color=yellow,material=metal - 1\n",
      "same_color+same_material-size=large,shape=cylinder;size=large,color=brown - 1\n",
      "same_shape+same_size-material=rubber;size=large,color=red,material=metal,shape=cube - 1\n",
      "same_material+same_size-size=large,color=red;size=large,shape=cylinder - 1\n",
      "same_material+same_shape-color=brown;size=large,color=yellow,material=metal - 1\n",
      "same_color+same_shape-shape=cylinder;size=large,color=green,material=metal,shape=sphere - 1\n",
      "same_color+same_material-size=small;size=large,material=metal,shape=cylinder - 1\n",
      "same_shape+same_size-color=green;color=purple,material=metal - 1\n",
      "same_color+same_material-shape=cylinder;size=small,color=yellow - 1\n",
      "same_shape+same_size-color=purple;size=large,color=green,material=metal,shape=sphere - 1\n",
      "same_material+same_shape-color=red,shape=cylinder;color=yellow,material=rubber,shape=cube - 1\n",
      "same_material+same_material-size=small,color=blue;color=red,material=rubber,shape=sphere - 1\n",
      "same_material+same_size-size=large,color=red;color=blue,material=rubber,shape=sphere - 1\n",
      "same_material+same_size-size=small,color=purple;color=red,material=rubber - 1\n",
      "same_material+same_shape-shape=cylinder;size=large,color=red - 1\n",
      "same_shape+same_size-color=purple;size=small,material=metal,shape=sphere - 1\n",
      "same_material+same_shape-color=red;color=gray,material=metal - 1\n",
      "same_color+same_shape-material=rubber,shape=cube;size=small,color=gray,material=rubber - 1\n",
      "same_color+same_size-material=metal;size=small,color=brown,material=rubber - 1\n",
      "same_color+same_shape-material=metal;size=small,color=brown,material=rubber,shape=sphere - 1\n",
      "same_color+same_material-size=small,shape=cylinder;size=small,color=gray,material=metal,shape=cube - 1\n",
      "same_shape-color=blue - 1\n",
      "same_material+same_size-color=brown;size=small,color=gray,shape=sphere - 1\n",
      "same_material+same_material-color=gray,shape=sphere;color=brown,material=rubber - 1\n",
      "same_size+same_size-color=blue,material=rubber;size=small,shape=cube - 1\n",
      "same_shape+same_size-color=blue;size=large,material=metal - 1\n",
      "same_material+same_size-size=small,color=brown;size=small,color=gray - 1\n",
      "same_material+same_shape-shape=sphere;size=large,color=cyan,shape=cube - 1\n",
      "same_material+same_size-size=small,color=blue;size=small,shape=cube - 1\n",
      "same_material+same_material-size=large,shape=sphere;size=large,material=rubber,shape=cylinder - 1\n",
      "same_size-size=large,color=red,material=rubber - 1\n",
      "same_material+same_size-size=large,color=red;color=purple,material=rubber,shape=cube - 1\n",
      "same_material+same_size-size=small;size=large,color=red,material=rubber,shape=sphere - 1\n",
      "same_shape+same_shape-color=purple,shape=cube;size=small,color=green,material=rubber - 1\n",
      "same_material+same_material-color=purple,shape=cube;size=small,color=brown,material=rubber,shape=cube - 1\n",
      "same_shape+same_size-color=purple;color=brown,material=rubber - 1\n",
      "same_material-size=small,color=blue,shape=cylinder - 1\n",
      "same_material+same_shape-color=green;color=purple,material=rubber - 1\n",
      "same_shape+same_size-color=brown,material=rubber;color=purple,shape=cube - 1\n",
      "same_material+same_shape-color=green,shape=cube;color=brown,material=rubber - 1\n",
      "same_shape+same_shape-color=purple,material=metal;color=yellow,shape=sphere - 1\n",
      "same_size+same_size-color=purple;color=yellow,material=rubber - 1\n",
      "same_shape+same_size-color=purple,material=metal;color=yellow,material=rubber,shape=sphere - 1\n",
      "same_material+same_shape-color=cyan,shape=sphere;color=gray,shape=cylinder - 1\n",
      "same_shape+same_size-color=yellow,material=rubber;size=large,color=purple,material=metal - 1\n",
      "same_material+same_size-color=yellow;size=small,shape=cylinder - 1\n",
      "same_color+same_material-size=large,shape=sphere;size=small,color=brown - 1\n",
      "same_size-size=large,color=brown,material=metal - 2\n",
      "same_material-size=large,color=brown,shape=cube - 2\n",
      "same_material-size=small,color=brown,shape=cube - 1\n",
      "same_shape+same_shape-color=red;color=cyan,shape=cube - 1\n",
      "same_material+same_material-size=large,color=gray;color=red,material=rubber - 1\n",
      "same_size+same_size-size=small,color=cyan;size=small,material=rubber,shape=cube - 1\n",
      "same_material+same_shape-color=cyan;color=red,material=rubber - 1\n",
      "same_shape+same_size-color=purple;size=small,material=rubber - 1\n",
      "same_material+same_size-color=yellow;color=purple,material=metal,shape=cube - 1\n",
      "same_shape+same_shape-color=cyan,shape=cylinder;color=brown,material=rubber,shape=cylinder - 1\n",
      "same_color+same_size-size=small,material=metal;color=purple,shape=sphere - 1\n",
      "same_color+same_shape-material=metal,shape=cube;color=gray,material=rubber - 1\n",
      "same_color+same_material-size=small,shape=cube;size=small,color=purple,material=rubber - 1\n",
      "same_color+same_material-size=large,shape=cylinder;size=small,material=metal,shape=cube - 1\n",
      "same_color+same_shape-material=metal,shape=cube;size=small,color=green,material=rubber,shape=cylinder - 1\n",
      "same_color+same_shape-material=rubber,shape=cube;size=large,color=red,shape=cylinder - 1\n",
      "same_color+same_material-size=large,shape=cube;material=rubber,shape=cube - 1\n",
      "same_color+same_material-size=small,shape=cube;size=large,color=red,material=metal - 1\n",
      "same_material+same_shape-color=brown,shape=sphere;size=large,shape=cylinder - 1\n",
      "same_shape+same_shape-color=blue,shape=sphere;size=small,color=purple - 1\n",
      "same_color+same_size-material=metal;size=small,color=blue - 1\n",
      "same_color+same_shape-material=metal,shape=sphere;color=cyan,shape=cube - 1\n",
      "same_color+same_material-size=large;size=small,color=gray,material=rubber,shape=cylinder - 1\n",
      "same_color+same_material-size=small,shape=cylinder;size=large,material=metal - 1\n",
      "same_shape+same_size-color=blue,material=rubber;color=cyan,material=rubber,shape=cube - 1\n",
      "same_shape-color=brown,material=rubber,shape=cube - 1\n",
      "same_material+same_shape-color=cyan;color=blue - 1\n",
      "same_shape+same_shape-color=green,material=rubber,shape=cube;size=large,color=cyan,material=rubber - 1\n",
      "same_color+same_shape-material=metal,shape=cylinder;size=large,color=cyan,material=rubber - 1\n",
      "same_size+same_size-size=large,color=yellow;color=cyan,material=rubber - 1\n",
      "same_size-color=green,material=rubber - 2\n",
      "same_material+same_size-color=yellow;color=cyan - 1\n",
      "same_shape+same_size-color=purple;size=small,material=metal,shape=cylinder - 1\n",
      "same_material+same_size-size=large,color=yellow;size=large,color=purple,material=rubber - 1\n",
      "same_size+same_size-size=small,color=purple,material=rubber;color=red - 1\n",
      "same_material-size=small,color=red,shape=cube - 1\n",
      "same_material+same_shape-color=purple,shape=cube;shape=sphere - 1\n",
      "same_material-size=small,color=red - 1\n",
      "same_shape+same_size-color=gray,material=metal;size=small,color=red,material=metal - 1\n",
      "same_material+same_size-color=purple;material=metal,shape=sphere - 1\n",
      "same_shape+same_shape-color=blue;size=large,color=green,shape=cylinder - 1\n",
      "same_material+same_shape-color=blue;size=large,color=green,shape=cylinder - 1\n",
      "same_shape+same_size-color=purple,material=metal;size=large,color=green - 1\n",
      "same_material+same_size-size=small;material=rubber - 1\n",
      "same_color+same_shape-material=metal,shape=sphere;size=small,color=brown,material=rubber - 1\n",
      "same_color+same_size-size=large,material=metal;color=gray,material=metal - 1\n",
      "same_shape+same_shape-color=purple;size=large,color=gray,material=rubber - 1\n",
      "same_material+same_material-size=large,color=gray,shape=cube;color=brown,shape=sphere - 1\n",
      "same_color+same_shape-material=rubber,shape=cylinder;size=large,material=metal,shape=sphere - 1\n",
      "same_size+same_size-size=large,color=gray;size=large,material=metal - 1\n",
      "same_color+same_shape-material=rubber,shape=cube;size=large,material=rubber - 1\n",
      "same_color+same_size-size=small,material=rubber;size=large,color=gray,material=rubber,shape=cylinder - 1\n",
      "same_color+same_size-size=large;color=purple,material=rubber,shape=cube - 1\n",
      "same_color+same_shape-shape=cylinder;size=small,color=purple,shape=cube - 1\n",
      "same_shape+same_shape-color=brown,shape=cube;size=large,color=red - 1\n",
      "same_material+same_shape-color=yellow;color=red,material=metal - 1\n",
      "same_shape+same_size-color=green,material=rubber;size=small,color=gray,shape=cylinder - 1\n",
      "same_material+same_size-color=yellow;size=small,color=green - 1\n",
      "same_material+same_shape-color=green;color=blue - 1\n",
      "same_color+same_shape-material=metal,shape=cylinder;size=small,color=blue,material=rubber,shape=sphere - 1\n",
      "same_color+same_material-size=small,shape=cylinder;size=small,color=red,material=rubber,shape=cube - 1\n",
      "same_color+same_material-size=large,shape=cube;color=blue,material=rubber,shape=cylinder - 1\n",
      "same_size+same_size-size=large,color=cyan;color=purple - 1\n",
      "same_shape+same_size-color=purple,material=rubber;size=small,color=blue,material=rubber,shape=cylinder - 1\n",
      "same_material+same_size-color=red;color=purple,shape=cube - 1\n",
      "same_color+same_shape-material=metal,shape=cylinder;size=small,shape=cube - 1\n",
      "same_color+same_size-size=small,material=metal;material=rubber,shape=cube - 1\n",
      "same_shape+same_shape-color=green;size=small,material=rubber,shape=cube - 1\n",
      "same_material+same_material-size=small,color=blue,shape=cube;size=small,color=blue,material=rubber,shape=cylinder - 1\n",
      "same_color+same_shape-material=rubber,shape=cube;color=cyan,material=metal,shape=cylinder - 1\n",
      "same_color+same_material-size=small,shape=cube;color=gray,material=rubber,shape=cylinder - 1\n",
      "same_material-size=large,color=green - 1\n",
      "same_size-size=large,color=yellow - 1\n",
      "same_color+same_size-size=large,material=metal;size=small,material=rubber,shape=cylinder - 1\n",
      "same_size+same_size-size=small,color=yellow,material=rubber;color=gray,material=metal,shape=sphere - 1\n",
      "same_material+same_shape-color=red;size=large,color=brown,material=rubber,shape=cylinder - 1\n",
      "same_color+same_material-size=small,shape=cylinder;color=yellow,material=rubber,shape=sphere - 1\n",
      "same_shape+same_size-color=red;size=small,color=brown,material=rubber,shape=cylinder - 1\n",
      "same_material+same_size-color=red;size=large,color=brown,material=rubber - 1\n",
      "same_material+same_shape-color=blue;size=large,material=rubber,shape=cylinder - 1\n",
      "same_color+same_color-size=small,shape=cube;material=metal,shape=sphere - 1\n",
      "same_color+same_shape-material=metal,shape=cube;shape=sphere - 1\n",
      "same_color+same_size-size=large,material=metal;color=purple,material=rubber,shape=cube - 1\n",
      "same_shape+same_shape-color=red,material=rubber,shape=cube;color=purple,material=rubber,shape=cube - 1\n",
      "same_material+same_material-size=large,color=purple;size=large,color=red,material=rubber - 1\n",
      "same_color+same_shape-material=metal,shape=sphere;size=large,color=purple,material=rubber,shape=cube - 1\n",
      "same_color+same_material-size=small,shape=cube;size=large,color=purple,material=rubber - 1\n",
      "same_shape+same_size-color=red,material=rubber;size=large,material=rubber,shape=cylinder - 1\n",
      "same_material+same_size-size=large,color=red;size=large,color=purple,shape=cube - 1\n",
      "same_color+same_size-material=rubber;color=red - 1\n",
      "same_shape+same_shape-color=green;size=large,color=red - 1\n",
      "same_color+same_material-size=large,shape=cube;color=purple,material=rubber - 1\n",
      "same_size-size=large,color=purple - 1\n",
      "same_size+same_size-color=yellow,material=metal;color=green,shape=cube - 1\n",
      "same_material+same_shape-color=red;size=small,color=green - 1\n",
      "same_color+same_size-size=small,material=metal;size=large,material=metal,shape=cube - 1\n",
      "same_color+same_size-size=large,material=metal;color=gray,shape=cylinder - 1\n",
      "same_color+same_material-size=small,shape=sphere;size=small,color=gray,material=metal - 1\n",
      "same_color+same_material-size=small,shape=cylinder;material=rubber,shape=sphere - 1\n",
      "same_shape+same_size-color=red,material=rubber;material=rubber,shape=cylinder - 1\n",
      "same_color+same_shape-material=metal,shape=sphere;size=large,color=cyan,material=metal - 1\n",
      "same_color+same_size-size=small,material=rubber;size=large,color=red,material=metal,shape=cylinder - 1\n",
      "same_shape+same_shape-color=purple;material=metal,shape=sphere - 1\n",
      "same_material+same_size-size=small,color=cyan;color=red,material=metal,shape=cylinder - 1\n",
      "same_shape-color=cyan,material=metal - 1\n",
      "same_material+same_shape-color=cyan,shape=sphere;color=brown,material=metal,shape=sphere - 1\n",
      "same_size-color=cyan - 2\n",
      "same_shape+same_size-material=metal;shape=cube - 1\n",
      "same_material+same_size-color=green;size=large,color=yellow,material=metal - 1\n",
      "same_size+same_size-size=large,color=gray;size=large,color=green - 1\n",
      "same_material+same_shape-color=yellow;size=large,material=rubber,shape=cube - 1\n",
      "same_shape+same_size-color=gray,material=rubber;size=large,color=yellow,material=metal - 1\n",
      "same_material+same_size-size=large,color=yellow;color=green,material=rubber - 1\n",
      "same_color+same_material-size=large,shape=cube;size=small,color=yellow - 1\n",
      "same_color+same_material-size=small,shape=sphere;size=large,color=purple,material=rubber - 1\n",
      "same_material+same_size-size=small;size=large,color=purple,material=rubber - 1\n",
      "same_color+same_shape-material=rubber,shape=cube;color=blue,material=rubber,shape=sphere - 1\n",
      "same_material+same_shape-shape=cylinder;size=large,color=blue,material=rubber - 1\n",
      "same_shape-color=purple,material=rubber,shape=sphere - 2\n",
      "same_material+same_shape-color=blue;size=small,color=gray,material=rubber - 1\n",
      "same_material-size=large,color=brown,shape=sphere - 1\n",
      "same_color+same_size-material=rubber;size=small,material=metal,shape=cube - 1\n",
      "same_shape+same_shape-color=green,shape=cylinder;size=large,color=red,shape=cylinder - 1\n",
      "same_color+same_shape-material=metal,shape=cube;color=blue - 1\n",
      "same_shape+same_size-color=blue,material=metal;size=large,shape=sphere - 1\n",
      "same_size+same_size-size=large,color=purple,material=rubber;size=large,color=red,material=metal - 1\n",
      "same_color+same_material-size=small,shape=cube;color=blue - 1\n",
      "same_color+same_material-size=small,shape=cylinder;color=red,shape=cylinder - 1\n",
      "same_shape+same_size-color=blue,material=metal;color=green,material=metal,shape=cylinder - 1\n",
      "same_color+same_size-size=large,material=metal;color=purple,material=metal,shape=cylinder - 1\n",
      "same_material+same_material-size=small,color=blue,shape=sphere;size=small,color=purple,material=metal,shape=cylinder - 1\n",
      "same_color+same_size-size=large,material=metal;size=small,color=purple,material=metal - 1\n",
      "same_material+same_size-size=small,color=purple;size=large,material=metal,shape=cube - 1\n",
      "same_material+same_shape-color=blue,shape=sphere;material=rubber,shape=cylinder - 1\n",
      "same_shape-color=purple,material=metal,shape=cylinder - 1\n",
      "same_shape+same_size-color=purple,material=rubber;size=small,color=blue - 1\n",
      "same_material+same_size-color=purple;size=large,material=rubber - 1\n",
      "same_color+same_material-size=large,shape=cylinder;color=purple - 1\n",
      "same_color+same_material-size=small,shape=sphere;color=green,shape=cylinder - 1\n",
      "same_size-color=green,material=metal - 1\n",
      "same_material+same_material-color=cyan,shape=sphere;color=red,shape=cube - 1\n",
      "same_color+same_size-size=small,material=rubber;size=large,color=red,material=rubber - 1\n",
      "same_material+same_shape-color=red;size=large,color=cyan - 1\n",
      "same_material+same_size-color=red;size=small,material=rubber - 1\n",
      "same_material+same_shape-shape=sphere;color=red,shape=cube - 1\n",
      "same_shape-color=red,material=rubber - 1\n",
      "same_material+same_material-color=blue;color=yellow,shape=cylinder - 1\n",
      "same_shape+same_shape-color=yellow;color=green,shape=cylinder - 1\n",
      "same_size+same_size-color=yellow,material=rubber;color=purple - 1\n",
      "same_shape+same_size-color=purple;color=yellow,material=rubber - 1\n",
      "same_shape+same_size-color=blue,material=rubber;shape=cube - 1\n",
      "same_material+same_size-color=purple;color=yellow,material=rubber - 1\n",
      "same_material+same_shape-color=blue;color=purple,material=rubber - 1\n",
      "same_material+same_size-size=small,color=yellow;color=blue - 1\n",
      "same_material+same_shape-color=yellow;size=large,shape=cylinder - 1\n",
      "same_color+same_size-size=large;size=small,color=purple - 1\n",
      "same_material+same_material-size=small,color=purple,shape=cube;size=small,material=metal,shape=sphere - 1\n",
      "same_shape+same_shape-color=purple;size=small,color=cyan,shape=cube - 1\n",
      "same_color+same_material-size=large,shape=cube;color=cyan,shape=cube - 1\n",
      "same_shape+same_size-color=brown;size=small,color=purple - 1\n",
      "same_material+same_material-color=cyan;size=small,color=yellow - 1\n",
      "same_shape-color=blue,shape=sphere - 1\n",
      "same_material+same_size-color=blue;size=large,material=metal,shape=cylinder - 1\n",
      "same_size-size=small,color=cyan,material=rubber - 1\n",
      "same_color+same_color-size=small,material=metal,shape=cube;material=rubber,shape=sphere - 1\n",
      "same_color+same_shape-material=rubber,shape=cube;color=yellow,shape=sphere - 1\n",
      "same_color+same_size-size=small,material=metal;size=large,material=rubber - 1\n",
      "same_color+same_size-size=large,material=rubber;size=small,material=metal - 1\n",
      "same_shape+same_shape-color=brown;size=large,color=yellow,shape=cube - 1\n",
      "same_color+same_shape-material=rubber,shape=cube;size=large,color=brown,material=metal - 1\n",
      "same_color+same_material-size=small,shape=sphere;size=small,color=yellow,shape=cube - 1\n",
      "same_shape+same_size-color=brown,material=metal;color=green,shape=sphere - 1\n",
      "same_color+same_size-size=small,material=rubber;color=yellow,shape=sphere - 1\n",
      "same_color+same_size-size=small,material=metal;size=large,color=gray,shape=sphere - 1\n",
      "same_material+same_material-size=large,color=purple;size=small,material=metal,shape=cube - 1\n",
      "same_shape+same_shape-color=cyan,shape=sphere;size=large,color=gray,material=rubber,shape=sphere - 1\n",
      "same_color+same_shape-material=metal,shape=sphere;color=purple,shape=cube - 1\n",
      "same_material+same_shape-color=cyan;color=brown,material=rubber - 1\n"
     ]
    }
   ],
   "source": [
    "from collections import defaultdict\n",
    "import json\n",
    "from typing import List\n",
    "\n",
    "from relation_generator.generate_relations import RELATIONS\n",
    "\n",
    "def get_unique_task_string(program: List[str]):\n",
    "    \"\"\"\n",
    "    Parses the program for a given question and returns a unique string that identifies the \n",
    "    babyARC task that it embodies.\n",
    "\n",
    "    This function is somewhat hacky in that it doesn't deal with the AST directly, but it\n",
    "    works for the generated babyARC template programs.\n",
    "    \"\"\"\n",
    "    inputs = []\n",
    "    object_str = []\n",
    "    for node in program:\n",
    "        # Generate a new object str every time we see a new \"scene\" (which implies\n",
    "        # a new object)\n",
    "        if node[\"type\"] == \"scene\":\n",
    "            if len(object_str) != 0:\n",
    "                inputs.append(\",\".join(object_str))\n",
    "                object_str = []\n",
    "            continue\n",
    "\n",
    "        # If we're not at a scene, then we're in the middle of an object\n",
    "        if node[\"type\"].startswith(\"filter_\"):\n",
    "            # This node filters some property of the input. Let's consider it.\n",
    "            object_str.append(node[\"type\"][7:] + \"=\" + node[\"value_inputs\"][0])\n",
    "    inputs.append(\",\".join(object_str))\n",
    "    relations = sorted([node[\"type\"] for node in program if node[\"type\"] in RELATIONS])\n",
    "    \n",
    "    return \"+\".join(relations) + \"-\" + \";\".join(inputs)\n",
    "\n",
    "\n",
    "# Load the question data\n",
    "file = \"question_generation/questions.json\"\n",
    "with open(file) as f:\n",
    "    data = json.load(f)\n",
    "question_list = data[\"questions\"]\n",
    "\n",
    "observed_question_types = dict()\n",
    "\n",
    "# Count the number of times each question type occurs\n",
    "for question in question_list:\n",
    "    template_filename = question[\"template_filename\"]\n",
    "    question_family_index = question[\"question_family_index\"]\n",
    "    program = question[\"program\"]\n",
    "    image = question[\"image\"]\n",
    "\n",
    "    task_str = get_unique_task_string(program)\n",
    "\n",
    "    if task_str not in observed_question_types:\n",
    "        observed_question_types[task_str] = {\"count\": 0, \"questions\": [], \"images\": []}\n",
    "    \n",
    "    observed_question_types[task_str][\"count\"] += 1\n",
    "    observed_question_types[task_str][\"questions\"].append(question)\n",
    "    observed_question_types[task_str][\"images\"].append(image)\n",
    "for task_str, data in observed_question_types.items():\n",
    "    print(\"{} - {}\".format(task_str, data[\"count\"]))"
   ]
  },
  {
   "cell_type": "code",
   "execution_count": 34,
   "metadata": {},
   "outputs": [],
   "source": [
    "import pandas as pd\n",
    "\n",
    "df = pd.DataFrame.from_dict(observed_question_types, orient='index')"
   ]
  },
  {
   "cell_type": "code",
   "execution_count": 42,
   "metadata": {},
   "outputs": [
    {
     "data": {
      "text/plain": [
       "['CLEVR_new_000001',\n",
       " 'CLEVR_new_000002',\n",
       " 'CLEVR_new_000002',\n",
       " 'CLEVR_new_000003']"
      ]
     },
     "execution_count": 42,
     "metadata": {},
     "output_type": "execute_result"
    }
   ],
   "source": [
    "df.sort_values(by=[\"count\"], ascending=False).images[0]"
   ]
  },
  {
   "cell_type": "code",
   "execution_count": 3,
   "metadata": {},
   "outputs": [
    {
     "data": {
      "text/plain": [
       "{'count': 5,\n",
       " 'questions': [{'split': 'new',\n",
       "   'image_filename': 'CLEVR_new_000010.png',\n",
       "   'image_index': 10,\n",
       "   'image': 'CLEVR_new_000010',\n",
       "   'question': 'What is the object with the same_size as the large purple metallic thing?',\n",
       "   'program': [{'type': 'scene',\n",
       "     'inputs': [],\n",
       "     '_output': [0, 1, 2],\n",
       "     'value_inputs': []},\n",
       "    {'type': 'filter_size',\n",
       "     'inputs': [0],\n",
       "     '_output': [0, 2],\n",
       "     'value_inputs': ['large']},\n",
       "    {'type': 'filter_color',\n",
       "     'inputs': [1],\n",
       "     '_output': [2],\n",
       "     'value_inputs': ['purple']},\n",
       "    {'type': 'filter_material',\n",
       "     'inputs': [2],\n",
       "     '_output': [2],\n",
       "     'value_inputs': ['metal']},\n",
       "    {'type': 'unique', 'inputs': [3], '_output': 2, 'value_inputs': []},\n",
       "    {'type': 'same_size', 'inputs': [4], '_output': [0], 'value_inputs': []},\n",
       "    {'type': 'unique', 'inputs': [5], '_output': 0, 'value_inputs': []}],\n",
       "   'answer': 0,\n",
       "   'template_filename': 'same_size-same_shape.json',\n",
       "   'question_family_index': 0,\n",
       "   'question_index': 96},\n",
       "  {'split': 'new',\n",
       "   'image_filename': 'CLEVR_new_000026.png',\n",
       "   'image_index': 26,\n",
       "   'image': 'CLEVR_new_000026',\n",
       "   'question': 'What is the object with the same_size as the large purple metal object?',\n",
       "   'program': [{'type': 'scene',\n",
       "     'inputs': [],\n",
       "     '_output': [0, 1],\n",
       "     'value_inputs': []},\n",
       "    {'type': 'filter_size',\n",
       "     'inputs': [0],\n",
       "     '_output': [0, 1],\n",
       "     'value_inputs': ['large']},\n",
       "    {'type': 'filter_color',\n",
       "     'inputs': [1],\n",
       "     '_output': [0],\n",
       "     'value_inputs': ['purple']},\n",
       "    {'type': 'filter_material',\n",
       "     'inputs': [2],\n",
       "     '_output': [0],\n",
       "     'value_inputs': ['metal']},\n",
       "    {'type': 'unique', 'inputs': [3], '_output': 0, 'value_inputs': []},\n",
       "    {'type': 'same_size', 'inputs': [4], '_output': [1], 'value_inputs': []},\n",
       "    {'type': 'unique', 'inputs': [5], '_output': 1, 'value_inputs': []}],\n",
       "   'answer': 1,\n",
       "   'template_filename': 'same_size-same_color.json',\n",
       "   'question_family_index': 0,\n",
       "   'question_index': 236},\n",
       "  {'split': 'new',\n",
       "   'image_filename': 'CLEVR_new_000097.png',\n",
       "   'image_index': 97,\n",
       "   'image': 'CLEVR_new_000097',\n",
       "   'question': 'What is the object with the same_size as the big purple metal thing?',\n",
       "   'program': [{'type': 'scene',\n",
       "     'inputs': [],\n",
       "     '_output': [0, 1, 2],\n",
       "     'value_inputs': []},\n",
       "    {'type': 'filter_size',\n",
       "     'inputs': [0],\n",
       "     '_output': [0, 1],\n",
       "     'value_inputs': ['large']},\n",
       "    {'type': 'filter_color',\n",
       "     'inputs': [1],\n",
       "     '_output': [1],\n",
       "     'value_inputs': ['purple']},\n",
       "    {'type': 'filter_material',\n",
       "     'inputs': [2],\n",
       "     '_output': [1],\n",
       "     'value_inputs': ['metal']},\n",
       "    {'type': 'unique', 'inputs': [3], '_output': 1, 'value_inputs': []},\n",
       "    {'type': 'same_size', 'inputs': [4], '_output': [0], 'value_inputs': []},\n",
       "    {'type': 'unique', 'inputs': [5], '_output': 0, 'value_inputs': []}],\n",
       "   'answer': 0,\n",
       "   'template_filename': 'same_size-same_shape.json',\n",
       "   'question_family_index': 0,\n",
       "   'question_index': 884},\n",
       "  {'split': 'new',\n",
       "   'image_filename': 'CLEVR_new_000174.png',\n",
       "   'image_index': 174,\n",
       "   'image': 'CLEVR_new_000174',\n",
       "   'question': 'What is the object with the same_size as the big purple metallic object?',\n",
       "   'program': [{'type': 'scene',\n",
       "     'inputs': [],\n",
       "     '_output': [0, 1, 2, 3, 4, 5],\n",
       "     'value_inputs': []},\n",
       "    {'type': 'filter_size',\n",
       "     'inputs': [0],\n",
       "     '_output': [3, 5],\n",
       "     'value_inputs': ['large']},\n",
       "    {'type': 'filter_color',\n",
       "     'inputs': [1],\n",
       "     '_output': [5],\n",
       "     'value_inputs': ['purple']},\n",
       "    {'type': 'filter_material',\n",
       "     'inputs': [2],\n",
       "     '_output': [5],\n",
       "     'value_inputs': ['metal']},\n",
       "    {'type': 'unique', 'inputs': [3], '_output': 5, 'value_inputs': []},\n",
       "    {'type': 'same_size', 'inputs': [4], '_output': [3], 'value_inputs': []},\n",
       "    {'type': 'unique', 'inputs': [5], '_output': 3, 'value_inputs': []}],\n",
       "   'answer': 3,\n",
       "   'template_filename': 'same_size-same_material.json',\n",
       "   'question_family_index': 0,\n",
       "   'question_index': 1609},\n",
       "  {'split': 'new',\n",
       "   'image_filename': 'CLEVR_new_000178.png',\n",
       "   'image_index': 178,\n",
       "   'image': 'CLEVR_new_000178',\n",
       "   'question': 'What is the object with the same_size as the large purple shiny object?',\n",
       "   'program': [{'type': 'scene',\n",
       "     'inputs': [],\n",
       "     '_output': [0, 1, 2, 3, 4],\n",
       "     'value_inputs': []},\n",
       "    {'type': 'filter_size',\n",
       "     'inputs': [0],\n",
       "     '_output': [0, 4],\n",
       "     'value_inputs': ['large']},\n",
       "    {'type': 'filter_color',\n",
       "     'inputs': [1],\n",
       "     '_output': [4],\n",
       "     'value_inputs': ['purple']},\n",
       "    {'type': 'filter_material',\n",
       "     'inputs': [2],\n",
       "     '_output': [4],\n",
       "     'value_inputs': ['metal']},\n",
       "    {'type': 'unique', 'inputs': [3], '_output': 4, 'value_inputs': []},\n",
       "    {'type': 'same_size', 'inputs': [4], '_output': [0], 'value_inputs': []},\n",
       "    {'type': 'unique', 'inputs': [5], '_output': 0, 'value_inputs': []}],\n",
       "   'answer': 0,\n",
       "   'template_filename': 'same_size-same_size.json',\n",
       "   'question_family_index': 0,\n",
       "   'question_index': 1647}],\n",
       " 'images': ['CLEVR_new_000010',\n",
       "  'CLEVR_new_000026',\n",
       "  'CLEVR_new_000097',\n",
       "  'CLEVR_new_000174',\n",
       "  'CLEVR_new_000178']}"
      ]
     },
     "execution_count": 3,
     "metadata": {},
     "output_type": "execute_result"
    }
   ],
   "source": [
    "observed_question_types[\"same_size-size=large,color=purple,material=metal\"]"
   ]
  },
  {
   "cell_type": "markdown",
   "metadata": {},
   "source": [
    "# Dataset"
   ]
  },
  {
   "cell_type": "code",
   "execution_count": 1,
   "metadata": {},
   "outputs": [],
   "source": [
    "%load_ext autoreload\n",
    "%autoreload 2"
   ]
  },
  {
   "cell_type": "code",
   "execution_count": 2,
   "metadata": {},
   "outputs": [],
   "source": [
    "from dataset import ClevrRelationDataset"
   ]
  },
  {
   "cell_type": "code",
   "execution_count": 30,
   "metadata": {},
   "outputs": [
    {
     "name": "stderr",
     "output_type": "stream",
     "text": [
      "  0%|          | 11/17558 [00:00<14:34, 20.06it/s] "
     ]
    },
    {
     "name": "stdout",
     "output_type": "stream",
     "text": [
      "0\n"
     ]
    },
    {
     "name": "stderr",
     "output_type": "stream",
     "text": [
      "  1%|          | 100/17558 [00:03<12:08, 23.95it/s]"
     ]
    },
    {
     "name": "stdout",
     "output_type": "stream",
     "text": [
      "0\n"
     ]
    },
    {
     "name": "stderr",
     "output_type": "stream",
     "text": [
      "  1%|          | 208/17558 [00:07<10:41, 27.03it/s]"
     ]
    },
    {
     "name": "stdout",
     "output_type": "stream",
     "text": [
      "0\n"
     ]
    },
    {
     "name": "stderr",
     "output_type": "stream",
     "text": [
      "  2%|▏         | 310/17558 [00:08<03:24, 84.20it/s]"
     ]
    },
    {
     "name": "stdout",
     "output_type": "stream",
     "text": [
      "0\n"
     ]
    },
    {
     "name": "stderr",
     "output_type": "stream",
     "text": [
      "  2%|▏         | 403/17558 [00:12<08:23, 34.05it/s]"
     ]
    },
    {
     "name": "stdout",
     "output_type": "stream",
     "text": [
      "0\n"
     ]
    },
    {
     "name": "stderr",
     "output_type": "stream",
     "text": [
      "  3%|▎         | 511/17558 [00:15<06:33, 43.28it/s]"
     ]
    },
    {
     "name": "stdout",
     "output_type": "stream",
     "text": [
      "1\n"
     ]
    },
    {
     "name": "stderr",
     "output_type": "stream",
     "text": [
      "  3%|▎         | 605/17558 [00:17<05:00, 56.43it/s]"
     ]
    },
    {
     "name": "stdout",
     "output_type": "stream",
     "text": [
      "1\n"
     ]
    },
    {
     "name": "stderr",
     "output_type": "stream",
     "text": [
      "  4%|▍         | 710/17558 [00:19<04:25, 63.56it/s]"
     ]
    },
    {
     "name": "stdout",
     "output_type": "stream",
     "text": [
      "1\n"
     ]
    },
    {
     "name": "stderr",
     "output_type": "stream",
     "text": [
      "  5%|▍         | 801/17558 [00:22<09:33, 29.21it/s]"
     ]
    },
    {
     "name": "stdout",
     "output_type": "stream",
     "text": [
      "2\n"
     ]
    },
    {
     "name": "stderr",
     "output_type": "stream",
     "text": [
      "  5%|▌         | 901/17558 [00:26<09:02, 30.70it/s]"
     ]
    },
    {
     "name": "stdout",
     "output_type": "stream",
     "text": [
      "4\n"
     ]
    },
    {
     "name": "stderr",
     "output_type": "stream",
     "text": [
      "  6%|▌         | 1007/17558 [00:27<03:01, 91.02it/s]"
     ]
    },
    {
     "name": "stdout",
     "output_type": "stream",
     "text": [
      "9\n"
     ]
    },
    {
     "name": "stderr",
     "output_type": "stream",
     "text": [
      "  6%|▋         | 1104/17558 [00:29<07:08, 38.42it/s]"
     ]
    },
    {
     "name": "stdout",
     "output_type": "stream",
     "text": [
      "14\n"
     ]
    },
    {
     "name": "stderr",
     "output_type": "stream",
     "text": [
      "  7%|▋         | 1217/17558 [00:33<04:45, 57.14it/s]"
     ]
    },
    {
     "name": "stdout",
     "output_type": "stream",
     "text": [
      "22\n"
     ]
    },
    {
     "name": "stderr",
     "output_type": "stream",
     "text": [
      "  7%|▋         | 1305/17558 [00:36<07:09, 37.80it/s]"
     ]
    },
    {
     "name": "stdout",
     "output_type": "stream",
     "text": [
      "26\n"
     ]
    },
    {
     "name": "stderr",
     "output_type": "stream",
     "text": [
      "  8%|▊         | 1419/17558 [00:38<03:40, 73.09it/s]"
     ]
    },
    {
     "name": "stdout",
     "output_type": "stream",
     "text": [
      "32\n"
     ]
    },
    {
     "name": "stderr",
     "output_type": "stream",
     "text": [
      "  9%|▊         | 1516/17558 [00:41<04:58, 53.77it/s]"
     ]
    },
    {
     "name": "stdout",
     "output_type": "stream",
     "text": [
      "39\n"
     ]
    },
    {
     "name": "stderr",
     "output_type": "stream",
     "text": [
      "  9%|▉         | 1611/17558 [00:44<06:28, 41.06it/s]"
     ]
    },
    {
     "name": "stdout",
     "output_type": "stream",
     "text": [
      "45\n"
     ]
    },
    {
     "name": "stderr",
     "output_type": "stream",
     "text": [
      " 10%|▉         | 1721/17558 [00:47<04:17, 61.58it/s]"
     ]
    },
    {
     "name": "stdout",
     "output_type": "stream",
     "text": [
      "51\n"
     ]
    },
    {
     "name": "stderr",
     "output_type": "stream",
     "text": [
      " 10%|█         | 1810/17558 [00:49<05:24, 48.51it/s]"
     ]
    },
    {
     "name": "stdout",
     "output_type": "stream",
     "text": [
      "55\n"
     ]
    },
    {
     "name": "stderr",
     "output_type": "stream",
     "text": [
      " 11%|█         | 1913/17558 [00:52<04:17, 60.78it/s]"
     ]
    },
    {
     "name": "stdout",
     "output_type": "stream",
     "text": [
      "59\n"
     ]
    },
    {
     "name": "stderr",
     "output_type": "stream",
     "text": [
      " 11%|█▏        | 2011/17558 [00:55<04:49, 53.66it/s]"
     ]
    },
    {
     "name": "stdout",
     "output_type": "stream",
     "text": [
      "65\n"
     ]
    },
    {
     "name": "stderr",
     "output_type": "stream",
     "text": [
      " 12%|█▏        | 2105/17558 [00:57<06:16, 41.04it/s]"
     ]
    },
    {
     "name": "stdout",
     "output_type": "stream",
     "text": [
      "69\n"
     ]
    },
    {
     "name": "stderr",
     "output_type": "stream",
     "text": [
      " 13%|█▎        | 2219/17558 [01:00<04:16, 59.82it/s]"
     ]
    },
    {
     "name": "stdout",
     "output_type": "stream",
     "text": [
      "77\n"
     ]
    },
    {
     "name": "stderr",
     "output_type": "stream",
     "text": [
      " 13%|█▎        | 2314/17558 [01:03<05:00, 50.77it/s]"
     ]
    },
    {
     "name": "stdout",
     "output_type": "stream",
     "text": [
      "83\n"
     ]
    },
    {
     "name": "stderr",
     "output_type": "stream",
     "text": [
      " 14%|█▎        | 2402/17558 [01:05<04:39, 54.18it/s]"
     ]
    },
    {
     "name": "stdout",
     "output_type": "stream",
     "text": [
      "88\n"
     ]
    },
    {
     "name": "stderr",
     "output_type": "stream",
     "text": [
      " 14%|█▍        | 2518/17558 [01:06<02:52, 87.26it/s]"
     ]
    },
    {
     "name": "stdout",
     "output_type": "stream",
     "text": [
      "93\n"
     ]
    },
    {
     "name": "stderr",
     "output_type": "stream",
     "text": [
      " 15%|█▍        | 2597/17558 [01:09<14:03, 17.73it/s] "
     ]
    },
    {
     "name": "stdout",
     "output_type": "stream",
     "text": [
      "102\n"
     ]
    },
    {
     "name": "stderr",
     "output_type": "stream",
     "text": [
      " 15%|█▌        | 2708/17558 [01:12<04:39, 53.16it/s]"
     ]
    },
    {
     "name": "stdout",
     "output_type": "stream",
     "text": [
      "105\n"
     ]
    },
    {
     "name": "stderr",
     "output_type": "stream",
     "text": [
      " 16%|█▌        | 2803/17558 [01:15<09:32, 25.76it/s]"
     ]
    },
    {
     "name": "stdout",
     "output_type": "stream",
     "text": [
      "109\n"
     ]
    },
    {
     "name": "stderr",
     "output_type": "stream",
     "text": [
      " 17%|█▋        | 2920/17558 [01:17<02:53, 84.41it/s]"
     ]
    },
    {
     "name": "stdout",
     "output_type": "stream",
     "text": [
      "113\n"
     ]
    },
    {
     "name": "stderr",
     "output_type": "stream",
     "text": [
      " 17%|█▋        | 3002/17558 [01:20<08:22, 28.96it/s]"
     ]
    },
    {
     "name": "stdout",
     "output_type": "stream",
     "text": [
      "122\n"
     ]
    },
    {
     "name": "stderr",
     "output_type": "stream",
     "text": [
      " 18%|█▊        | 3109/17558 [01:22<04:18, 55.84it/s]"
     ]
    },
    {
     "name": "stdout",
     "output_type": "stream",
     "text": [
      "125\n"
     ]
    },
    {
     "name": "stderr",
     "output_type": "stream",
     "text": [
      " 18%|█▊        | 3207/17558 [01:26<06:22, 37.54it/s]"
     ]
    },
    {
     "name": "stdout",
     "output_type": "stream",
     "text": [
      "127\n"
     ]
    },
    {
     "name": "stderr",
     "output_type": "stream",
     "text": [
      " 19%|█▉        | 3305/17558 [01:28<05:42, 41.60it/s]"
     ]
    },
    {
     "name": "stdout",
     "output_type": "stream",
     "text": [
      "136\n"
     ]
    },
    {
     "name": "stderr",
     "output_type": "stream",
     "text": [
      " 19%|█▉        | 3399/17558 [01:31<08:34, 27.51it/s]"
     ]
    },
    {
     "name": "stdout",
     "output_type": "stream",
     "text": [
      "139\n"
     ]
    },
    {
     "name": "stderr",
     "output_type": "stream",
     "text": [
      " 20%|█▉        | 3507/17558 [01:34<04:24, 53.06it/s]"
     ]
    },
    {
     "name": "stdout",
     "output_type": "stream",
     "text": [
      "140\n"
     ]
    },
    {
     "name": "stderr",
     "output_type": "stream",
     "text": [
      " 21%|██        | 3609/17558 [01:36<03:43, 62.35it/s]"
     ]
    },
    {
     "name": "stdout",
     "output_type": "stream",
     "text": [
      "141\n"
     ]
    },
    {
     "name": "stderr",
     "output_type": "stream",
     "text": [
      " 21%|██        | 3719/17558 [01:39<05:44, 40.12it/s]"
     ]
    },
    {
     "name": "stdout",
     "output_type": "stream",
     "text": [
      "148\n"
     ]
    },
    {
     "name": "stderr",
     "output_type": "stream",
     "text": [
      " 22%|██▏       | 3816/17558 [01:43<05:51, 39.11it/s]"
     ]
    },
    {
     "name": "stdout",
     "output_type": "stream",
     "text": [
      "152\n"
     ]
    },
    {
     "name": "stderr",
     "output_type": "stream",
     "text": [
      " 22%|██▏       | 3909/17558 [01:45<04:21, 52.20it/s]"
     ]
    },
    {
     "name": "stdout",
     "output_type": "stream",
     "text": [
      "157\n"
     ]
    },
    {
     "name": "stderr",
     "output_type": "stream",
     "text": [
      " 23%|██▎       | 3998/17558 [01:47<03:29, 64.61it/s]"
     ]
    },
    {
     "name": "stdout",
     "output_type": "stream",
     "text": [
      "159\n"
     ]
    },
    {
     "name": "stderr",
     "output_type": "stream",
     "text": [
      " 23%|██▎       | 4097/17558 [01:49<06:13, 36.00it/s]"
     ]
    },
    {
     "name": "stdout",
     "output_type": "stream",
     "text": [
      "163\n"
     ]
    },
    {
     "name": "stderr",
     "output_type": "stream",
     "text": [
      " 24%|██▍       | 4194/17558 [01:52<04:19, 51.49it/s]"
     ]
    },
    {
     "name": "stdout",
     "output_type": "stream",
     "text": [
      "166\n"
     ]
    },
    {
     "name": "stderr",
     "output_type": "stream",
     "text": [
      " 24%|██▍       | 4298/17558 [01:55<06:40, 33.08it/s]"
     ]
    },
    {
     "name": "stdout",
     "output_type": "stream",
     "text": [
      "170\n"
     ]
    },
    {
     "name": "stderr",
     "output_type": "stream",
     "text": [
      " 25%|██▌       | 4415/17558 [01:57<02:57, 73.87it/s]"
     ]
    },
    {
     "name": "stdout",
     "output_type": "stream",
     "text": [
      "175\n"
     ]
    },
    {
     "name": "stderr",
     "output_type": "stream",
     "text": [
      " 26%|██▌       | 4510/17558 [01:59<03:40, 59.16it/s]"
     ]
    },
    {
     "name": "stdout",
     "output_type": "stream",
     "text": [
      "177\n"
     ]
    },
    {
     "name": "stderr",
     "output_type": "stream",
     "text": [
      " 26%|██▌       | 4602/17558 [02:02<08:30, 25.37it/s]"
     ]
    },
    {
     "name": "stdout",
     "output_type": "stream",
     "text": [
      "181\n"
     ]
    },
    {
     "name": "stderr",
     "output_type": "stream",
     "text": [
      " 27%|██▋       | 4705/17558 [02:04<04:14, 50.47it/s]"
     ]
    },
    {
     "name": "stdout",
     "output_type": "stream",
     "text": [
      "186\n"
     ]
    },
    {
     "name": "stderr",
     "output_type": "stream",
     "text": [
      " 27%|██▋       | 4797/17558 [02:06<08:18, 25.60it/s]"
     ]
    },
    {
     "name": "stdout",
     "output_type": "stream",
     "text": [
      "190\n"
     ]
    },
    {
     "name": "stderr",
     "output_type": "stream",
     "text": [
      " 28%|██▊       | 4909/17558 [02:09<03:56, 53.51it/s]"
     ]
    },
    {
     "name": "stdout",
     "output_type": "stream",
     "text": [
      "192\n"
     ]
    },
    {
     "name": "stderr",
     "output_type": "stream",
     "text": [
      " 28%|██▊       | 5000/17558 [02:11<04:52, 42.97it/s]"
     ]
    },
    {
     "name": "stdout",
     "output_type": "stream",
     "text": [
      "193\n"
     ]
    },
    {
     "name": "stderr",
     "output_type": "stream",
     "text": [
      " 29%|██▉       | 5103/17558 [02:14<02:47, 74.18it/s]"
     ]
    },
    {
     "name": "stdout",
     "output_type": "stream",
     "text": [
      "197\n"
     ]
    },
    {
     "name": "stderr",
     "output_type": "stream",
     "text": [
      " 30%|██▉       | 5204/17558 [02:17<04:44, 43.35it/s]"
     ]
    },
    {
     "name": "stdout",
     "output_type": "stream",
     "text": [
      "200\n"
     ]
    },
    {
     "name": "stderr",
     "output_type": "stream",
     "text": [
      " 30%|███       | 5308/17558 [02:20<06:27, 31.64it/s]"
     ]
    },
    {
     "name": "stdout",
     "output_type": "stream",
     "text": [
      "202\n"
     ]
    },
    {
     "name": "stderr",
     "output_type": "stream",
     "text": [
      " 31%|███       | 5400/17558 [02:22<04:25, 45.82it/s]"
     ]
    },
    {
     "name": "stdout",
     "output_type": "stream",
     "text": [
      "205\n"
     ]
    },
    {
     "name": "stderr",
     "output_type": "stream",
     "text": [
      " 31%|███▏      | 5500/17558 [02:24<02:29, 80.42it/s]"
     ]
    },
    {
     "name": "stdout",
     "output_type": "stream",
     "text": [
      "208\n"
     ]
    },
    {
     "name": "stderr",
     "output_type": "stream",
     "text": [
      " 32%|███▏      | 5608/17558 [02:27<05:18, 37.47it/s]"
     ]
    },
    {
     "name": "stdout",
     "output_type": "stream",
     "text": [
      "212\n"
     ]
    },
    {
     "name": "stderr",
     "output_type": "stream",
     "text": [
      " 32%|███▏      | 5693/17558 [02:30<07:52, 25.13it/s]"
     ]
    },
    {
     "name": "stdout",
     "output_type": "stream",
     "text": [
      "216\n"
     ]
    },
    {
     "name": "stderr",
     "output_type": "stream",
     "text": [
      " 33%|███▎      | 5815/17558 [02:34<05:02, 38.86it/s]"
     ]
    },
    {
     "name": "stdout",
     "output_type": "stream",
     "text": [
      "219\n"
     ]
    },
    {
     "name": "stderr",
     "output_type": "stream",
     "text": [
      " 34%|███▎      | 5904/17558 [02:36<03:32, 54.94it/s]"
     ]
    },
    {
     "name": "stdout",
     "output_type": "stream",
     "text": [
      "222\n"
     ]
    },
    {
     "name": "stderr",
     "output_type": "stream",
     "text": [
      " 34%|███▍      | 6003/17558 [02:38<09:37, 20.02it/s]"
     ]
    },
    {
     "name": "stdout",
     "output_type": "stream",
     "text": [
      "223\n"
     ]
    },
    {
     "name": "stderr",
     "output_type": "stream",
     "text": [
      " 35%|███▍      | 6098/17558 [02:42<11:18, 16.90it/s]"
     ]
    },
    {
     "name": "stdout",
     "output_type": "stream",
     "text": [
      "226\n"
     ]
    },
    {
     "name": "stderr",
     "output_type": "stream",
     "text": [
      " 35%|███▌      | 6206/17558 [02:44<03:36, 52.35it/s]"
     ]
    },
    {
     "name": "stdout",
     "output_type": "stream",
     "text": [
      "228\n"
     ]
    },
    {
     "name": "stderr",
     "output_type": "stream",
     "text": [
      " 36%|███▌      | 6307/17558 [02:47<04:40, 40.06it/s]"
     ]
    },
    {
     "name": "stdout",
     "output_type": "stream",
     "text": [
      "232\n"
     ]
    },
    {
     "name": "stderr",
     "output_type": "stream",
     "text": [
      " 37%|███▋      | 6416/17558 [02:50<03:46, 49.10it/s]"
     ]
    },
    {
     "name": "stdout",
     "output_type": "stream",
     "text": [
      "233\n"
     ]
    },
    {
     "name": "stderr",
     "output_type": "stream",
     "text": [
      " 37%|███▋      | 6512/17558 [02:53<03:35, 51.18it/s]"
     ]
    },
    {
     "name": "stdout",
     "output_type": "stream",
     "text": [
      "233\n"
     ]
    },
    {
     "name": "stderr",
     "output_type": "stream",
     "text": [
      " 38%|███▊      | 6613/17558 [02:55<02:15, 80.92it/s]"
     ]
    },
    {
     "name": "stdout",
     "output_type": "stream",
     "text": [
      "236\n"
     ]
    },
    {
     "name": "stderr",
     "output_type": "stream",
     "text": [
      " 38%|███▊      | 6702/17558 [02:57<05:41, 31.79it/s]"
     ]
    },
    {
     "name": "stdout",
     "output_type": "stream",
     "text": [
      "236\n"
     ]
    },
    {
     "name": "stderr",
     "output_type": "stream",
     "text": [
      " 39%|███▊      | 6802/17558 [02:59<03:50, 46.70it/s]"
     ]
    },
    {
     "name": "stdout",
     "output_type": "stream",
     "text": [
      "239\n"
     ]
    },
    {
     "name": "stderr",
     "output_type": "stream",
     "text": [
      " 39%|███▉      | 6917/17558 [03:02<02:38, 66.99it/s]"
     ]
    },
    {
     "name": "stdout",
     "output_type": "stream",
     "text": [
      "241\n"
     ]
    },
    {
     "name": "stderr",
     "output_type": "stream",
     "text": [
      " 40%|███▉      | 7003/17558 [03:03<02:27, 71.42it/s]"
     ]
    },
    {
     "name": "stdout",
     "output_type": "stream",
     "text": [
      "245\n"
     ]
    },
    {
     "name": "stderr",
     "output_type": "stream",
     "text": [
      " 41%|████      | 7120/17558 [03:06<03:04, 56.45it/s]"
     ]
    },
    {
     "name": "stdout",
     "output_type": "stream",
     "text": [
      "245\n"
     ]
    },
    {
     "name": "stderr",
     "output_type": "stream",
     "text": [
      " 41%|████      | 7208/17558 [03:08<05:19, 32.39it/s]"
     ]
    },
    {
     "name": "stdout",
     "output_type": "stream",
     "text": [
      "248\n"
     ]
    },
    {
     "name": "stderr",
     "output_type": "stream",
     "text": [
      " 42%|████▏     | 7294/17558 [03:11<05:06, 33.52it/s]"
     ]
    },
    {
     "name": "stdout",
     "output_type": "stream",
     "text": [
      "248\n"
     ]
    },
    {
     "name": "stderr",
     "output_type": "stream",
     "text": [
      " 42%|████▏     | 7416/17558 [03:13<02:10, 77.77it/s]"
     ]
    },
    {
     "name": "stdout",
     "output_type": "stream",
     "text": [
      "248\n"
     ]
    },
    {
     "name": "stderr",
     "output_type": "stream",
     "text": [
      " 43%|████▎     | 7509/17558 [03:15<02:34, 65.07it/s]"
     ]
    },
    {
     "name": "stdout",
     "output_type": "stream",
     "text": [
      "253\n"
     ]
    },
    {
     "name": "stderr",
     "output_type": "stream",
     "text": [
      " 43%|████▎     | 7601/17558 [03:19<06:39, 24.89it/s]"
     ]
    },
    {
     "name": "stdout",
     "output_type": "stream",
     "text": [
      "254\n"
     ]
    },
    {
     "name": "stderr",
     "output_type": "stream",
     "text": [
      " 44%|████▍     | 7710/17558 [03:22<03:33, 46.22it/s]"
     ]
    },
    {
     "name": "stdout",
     "output_type": "stream",
     "text": [
      "254\n"
     ]
    },
    {
     "name": "stderr",
     "output_type": "stream",
     "text": [
      " 44%|████▍     | 7799/17558 [03:24<02:49, 57.68it/s]"
     ]
    },
    {
     "name": "stdout",
     "output_type": "stream",
     "text": [
      "256\n"
     ]
    },
    {
     "name": "stderr",
     "output_type": "stream",
     "text": [
      " 45%|████▌     | 7904/17558 [03:27<02:46, 57.91it/s]"
     ]
    },
    {
     "name": "stdout",
     "output_type": "stream",
     "text": [
      "258\n"
     ]
    },
    {
     "name": "stderr",
     "output_type": "stream",
     "text": [
      " 46%|████▌     | 8004/17558 [03:30<04:54, 32.47it/s]"
     ]
    },
    {
     "name": "stdout",
     "output_type": "stream",
     "text": [
      "258\n"
     ]
    },
    {
     "name": "stderr",
     "output_type": "stream",
     "text": [
      " 46%|████▌     | 8109/17558 [03:33<03:07, 50.37it/s]"
     ]
    },
    {
     "name": "stdout",
     "output_type": "stream",
     "text": [
      "261\n"
     ]
    },
    {
     "name": "stderr",
     "output_type": "stream",
     "text": [
      " 47%|████▋     | 8218/17558 [03:36<03:09, 49.18it/s]"
     ]
    },
    {
     "name": "stdout",
     "output_type": "stream",
     "text": [
      "263\n"
     ]
    },
    {
     "name": "stderr",
     "output_type": "stream",
     "text": [
      " 47%|████▋     | 8310/17558 [03:37<02:05, 73.74it/s]"
     ]
    },
    {
     "name": "stdout",
     "output_type": "stream",
     "text": [
      "263\n"
     ]
    },
    {
     "name": "stderr",
     "output_type": "stream",
     "text": [
      " 48%|████▊     | 8411/17558 [03:42<06:19, 24.09it/s]"
     ]
    },
    {
     "name": "stdout",
     "output_type": "stream",
     "text": [
      "263\n"
     ]
    },
    {
     "name": "stderr",
     "output_type": "stream",
     "text": [
      " 48%|████▊     | 8511/17558 [03:44<02:50, 53.07it/s]"
     ]
    },
    {
     "name": "stdout",
     "output_type": "stream",
     "text": [
      "263\n"
     ]
    },
    {
     "name": "stderr",
     "output_type": "stream",
     "text": [
      " 49%|████▉     | 8607/17558 [03:46<05:32, 26.95it/s]"
     ]
    },
    {
     "name": "stdout",
     "output_type": "stream",
     "text": [
      "266\n"
     ]
    },
    {
     "name": "stderr",
     "output_type": "stream",
     "text": [
      " 51%|█████     | 8906/17558 [03:55<03:58, 36.33it/s]"
     ]
    },
    {
     "name": "stdout",
     "output_type": "stream",
     "text": [
      "269\n"
     ]
    },
    {
     "name": "stderr",
     "output_type": "stream",
     "text": [
      " 51%|█████▏    | 9004/17558 [03:57<04:25, 32.28it/s]"
     ]
    },
    {
     "name": "stdout",
     "output_type": "stream",
     "text": [
      "272\n"
     ]
    },
    {
     "name": "stderr",
     "output_type": "stream",
     "text": [
      " 52%|█████▏    | 9111/17558 [04:02<05:01, 28.02it/s]"
     ]
    },
    {
     "name": "stdout",
     "output_type": "stream",
     "text": [
      "273\n"
     ]
    },
    {
     "name": "stderr",
     "output_type": "stream",
     "text": [
      " 52%|█████▏    | 9213/17558 [04:03<01:28, 94.40it/s]"
     ]
    },
    {
     "name": "stdout",
     "output_type": "stream",
     "text": [
      "273\n"
     ]
    },
    {
     "name": "stderr",
     "output_type": "stream",
     "text": [
      " 53%|█████▎    | 9303/17558 [04:05<03:14, 42.52it/s] "
     ]
    },
    {
     "name": "stdout",
     "output_type": "stream",
     "text": [
      "276\n"
     ]
    },
    {
     "name": "stderr",
     "output_type": "stream",
     "text": [
      " 54%|█████▎    | 9402/17558 [04:08<03:03, 44.34it/s]"
     ]
    },
    {
     "name": "stdout",
     "output_type": "stream",
     "text": [
      "278\n"
     ]
    },
    {
     "name": "stderr",
     "output_type": "stream",
     "text": [
      " 54%|█████▍    | 9512/17558 [04:11<02:47, 47.97it/s]"
     ]
    },
    {
     "name": "stdout",
     "output_type": "stream",
     "text": [
      "279\n"
     ]
    },
    {
     "name": "stderr",
     "output_type": "stream",
     "text": [
      " 55%|█████▍    | 9614/17558 [04:13<02:35, 51.10it/s]"
     ]
    },
    {
     "name": "stdout",
     "output_type": "stream",
     "text": [
      "280\n"
     ]
    },
    {
     "name": "stderr",
     "output_type": "stream",
     "text": [
      " 55%|█████▌    | 9715/17558 [04:15<01:58, 66.08it/s]"
     ]
    },
    {
     "name": "stdout",
     "output_type": "stream",
     "text": [
      "280\n"
     ]
    },
    {
     "name": "stderr",
     "output_type": "stream",
     "text": [
      " 56%|█████▌    | 9801/17558 [04:18<03:57, 32.63it/s]"
     ]
    },
    {
     "name": "stdout",
     "output_type": "stream",
     "text": [
      "281\n"
     ]
    },
    {
     "name": "stderr",
     "output_type": "stream",
     "text": [
      " 56%|█████▋    | 9905/17558 [04:21<03:08, 40.56it/s]"
     ]
    },
    {
     "name": "stdout",
     "output_type": "stream",
     "text": [
      "281\n"
     ]
    },
    {
     "name": "stderr",
     "output_type": "stream",
     "text": [
      " 57%|█████▋    | 10010/17558 [04:23<02:20, 53.57it/s]"
     ]
    },
    {
     "name": "stdout",
     "output_type": "stream",
     "text": [
      "282\n"
     ]
    },
    {
     "name": "stderr",
     "output_type": "stream",
     "text": [
      " 58%|█████▊    | 10119/17558 [04:25<02:16, 54.61it/s]"
     ]
    },
    {
     "name": "stdout",
     "output_type": "stream",
     "text": [
      "282\n"
     ]
    },
    {
     "name": "stderr",
     "output_type": "stream",
     "text": [
      " 58%|█████▊    | 10196/17558 [04:29<07:01, 17.47it/s]"
     ]
    },
    {
     "name": "stdout",
     "output_type": "stream",
     "text": [
      "282\n"
     ]
    },
    {
     "name": "stderr",
     "output_type": "stream",
     "text": [
      " 59%|█████▉    | 10318/17558 [04:31<01:24, 85.52it/s]"
     ]
    },
    {
     "name": "stdout",
     "output_type": "stream",
     "text": [
      "283\n"
     ]
    },
    {
     "name": "stderr",
     "output_type": "stream",
     "text": [
      " 59%|█████▉    | 10402/17558 [04:32<02:39, 44.88it/s]"
     ]
    },
    {
     "name": "stdout",
     "output_type": "stream",
     "text": [
      "286\n"
     ]
    },
    {
     "name": "stderr",
     "output_type": "stream",
     "text": [
      " 60%|█████▉    | 10497/17558 [04:36<04:08, 28.46it/s]"
     ]
    },
    {
     "name": "stdout",
     "output_type": "stream",
     "text": [
      "286\n"
     ]
    },
    {
     "name": "stderr",
     "output_type": "stream",
     "text": [
      " 60%|██████    | 10604/17558 [04:38<02:36, 44.53it/s]"
     ]
    },
    {
     "name": "stdout",
     "output_type": "stream",
     "text": [
      "287\n"
     ]
    },
    {
     "name": "stderr",
     "output_type": "stream",
     "text": [
      " 61%|██████    | 10704/17558 [04:40<01:27, 77.89it/s]"
     ]
    },
    {
     "name": "stdout",
     "output_type": "stream",
     "text": [
      "289\n"
     ]
    },
    {
     "name": "stderr",
     "output_type": "stream",
     "text": [
      " 61%|██████▏   | 10797/17558 [04:43<03:15, 34.51it/s]"
     ]
    },
    {
     "name": "stdout",
     "output_type": "stream",
     "text": [
      "291\n"
     ]
    },
    {
     "name": "stderr",
     "output_type": "stream",
     "text": [
      " 62%|██████▏   | 10905/17558 [04:48<03:50, 28.87it/s]"
     ]
    },
    {
     "name": "stdout",
     "output_type": "stream",
     "text": [
      "293\n"
     ]
    },
    {
     "name": "stderr",
     "output_type": "stream",
     "text": [
      " 63%|██████▎   | 11011/17558 [04:50<01:56, 56.16it/s]"
     ]
    },
    {
     "name": "stdout",
     "output_type": "stream",
     "text": [
      "294\n"
     ]
    },
    {
     "name": "stderr",
     "output_type": "stream",
     "text": [
      " 64%|██████▍   | 11204/17558 [04:55<02:22, 44.45it/s]"
     ]
    },
    {
     "name": "stdout",
     "output_type": "stream",
     "text": [
      "297\n"
     ]
    },
    {
     "name": "stderr",
     "output_type": "stream",
     "text": [
      " 64%|██████▍   | 11311/17558 [04:58<02:30, 41.41it/s]"
     ]
    },
    {
     "name": "stdout",
     "output_type": "stream",
     "text": [
      "298\n"
     ]
    },
    {
     "name": "stderr",
     "output_type": "stream",
     "text": [
      " 65%|██████▍   | 11402/17558 [05:00<01:54, 53.97it/s]"
     ]
    },
    {
     "name": "stdout",
     "output_type": "stream",
     "text": [
      "299\n"
     ]
    },
    {
     "name": "stderr",
     "output_type": "stream",
     "text": [
      " 65%|██████▌   | 11494/17558 [05:03<04:08, 24.39it/s]"
     ]
    },
    {
     "name": "stdout",
     "output_type": "stream",
     "text": [
      "299\n"
     ]
    },
    {
     "name": "stderr",
     "output_type": "stream",
     "text": [
      " 66%|██████▌   | 11604/17558 [05:07<03:45, 26.41it/s]"
     ]
    },
    {
     "name": "stdout",
     "output_type": "stream",
     "text": [
      "301\n"
     ]
    },
    {
     "name": "stderr",
     "output_type": "stream",
     "text": [
      " 67%|██████▋   | 11811/17558 [05:12<02:44, 34.86it/s]"
     ]
    },
    {
     "name": "stdout",
     "output_type": "stream",
     "text": [
      "303\n"
     ]
    },
    {
     "name": "stderr",
     "output_type": "stream",
     "text": [
      " 68%|██████▊   | 11909/17558 [05:15<01:50, 51.11it/s]"
     ]
    },
    {
     "name": "stdout",
     "output_type": "stream",
     "text": [
      "304\n"
     ]
    },
    {
     "name": "stderr",
     "output_type": "stream",
     "text": [
      " 68%|██████▊   | 12008/17558 [05:18<02:29, 37.11it/s]"
     ]
    },
    {
     "name": "stdout",
     "output_type": "stream",
     "text": [
      "306\n"
     ]
    },
    {
     "name": "stderr",
     "output_type": "stream",
     "text": [
      " 70%|██████▉   | 12205/17558 [05:23<01:39, 53.91it/s]"
     ]
    },
    {
     "name": "stdout",
     "output_type": "stream",
     "text": [
      "307\n"
     ]
    },
    {
     "name": "stderr",
     "output_type": "stream",
     "text": [
      " 71%|███████   | 12418/17558 [05:29<01:28, 58.14it/s]"
     ]
    },
    {
     "name": "stdout",
     "output_type": "stream",
     "text": [
      "307\n"
     ]
    },
    {
     "name": "stderr",
     "output_type": "stream",
     "text": [
      " 71%|███████   | 12505/17558 [05:30<02:07, 39.54it/s]"
     ]
    },
    {
     "name": "stdout",
     "output_type": "stream",
     "text": [
      "309\n"
     ]
    },
    {
     "name": "stderr",
     "output_type": "stream",
     "text": [
      " 72%|███████▏  | 12609/17558 [05:33<01:48, 45.47it/s]"
     ]
    },
    {
     "name": "stdout",
     "output_type": "stream",
     "text": [
      "311\n"
     ]
    },
    {
     "name": "stderr",
     "output_type": "stream",
     "text": [
      " 72%|███████▏  | 12699/17558 [05:36<03:06, 26.01it/s]"
     ]
    },
    {
     "name": "stdout",
     "output_type": "stream",
     "text": [
      "312\n"
     ]
    },
    {
     "name": "stderr",
     "output_type": "stream",
     "text": [
      " 73%|███████▎  | 12899/17558 [05:41<01:25, 54.19it/s]"
     ]
    },
    {
     "name": "stdout",
     "output_type": "stream",
     "text": [
      "314\n"
     ]
    },
    {
     "name": "stderr",
     "output_type": "stream",
     "text": [
      " 74%|███████▍  | 13000/17558 [05:45<04:09, 18.28it/s]"
     ]
    },
    {
     "name": "stdout",
     "output_type": "stream",
     "text": [
      "314\n"
     ]
    },
    {
     "name": "stderr",
     "output_type": "stream",
     "text": [
      " 75%|███████▍  | 13119/17558 [05:49<01:12, 60.84it/s]"
     ]
    },
    {
     "name": "stdout",
     "output_type": "stream",
     "text": [
      "315\n"
     ]
    },
    {
     "name": "stderr",
     "output_type": "stream",
     "text": [
      " 75%|███████▌  | 13207/17558 [05:51<01:50, 39.24it/s]"
     ]
    },
    {
     "name": "stdout",
     "output_type": "stream",
     "text": [
      "315\n"
     ]
    },
    {
     "name": "stderr",
     "output_type": "stream",
     "text": [
      " 76%|███████▌  | 13315/17558 [05:54<01:09, 60.80it/s]"
     ]
    },
    {
     "name": "stdout",
     "output_type": "stream",
     "text": [
      "315\n"
     ]
    },
    {
     "name": "stderr",
     "output_type": "stream",
     "text": [
      " 76%|███████▋  | 13393/17558 [05:56<01:41, 41.05it/s]"
     ]
    },
    {
     "name": "stdout",
     "output_type": "stream",
     "text": [
      "315\n"
     ]
    },
    {
     "name": "stderr",
     "output_type": "stream",
     "text": [
      " 77%|███████▋  | 13516/17558 [05:59<00:59, 68.29it/s]"
     ]
    },
    {
     "name": "stdout",
     "output_type": "stream",
     "text": [
      "315\n"
     ]
    },
    {
     "name": "stderr",
     "output_type": "stream",
     "text": [
      " 77%|███████▋  | 13604/17558 [06:01<02:20, 28.14it/s]"
     ]
    },
    {
     "name": "stdout",
     "output_type": "stream",
     "text": [
      "316\n"
     ]
    },
    {
     "name": "stderr",
     "output_type": "stream",
     "text": [
      " 79%|███████▊  | 13802/17558 [06:06<01:04, 58.46it/s]"
     ]
    },
    {
     "name": "stdout",
     "output_type": "stream",
     "text": [
      "316\n"
     ]
    },
    {
     "name": "stderr",
     "output_type": "stream",
     "text": [
      " 79%|███████▉  | 13904/17558 [06:08<00:51, 71.60it/s]"
     ]
    },
    {
     "name": "stdout",
     "output_type": "stream",
     "text": [
      "316\n"
     ]
    },
    {
     "name": "stderr",
     "output_type": "stream",
     "text": [
      " 80%|███████▉  | 14006/17558 [06:10<01:29, 39.61it/s]"
     ]
    },
    {
     "name": "stdout",
     "output_type": "stream",
     "text": [
      "316\n"
     ]
    },
    {
     "name": "stderr",
     "output_type": "stream",
     "text": [
      " 80%|████████  | 14106/17558 [06:15<01:40, 34.23it/s]"
     ]
    },
    {
     "name": "stdout",
     "output_type": "stream",
     "text": [
      "316\n"
     ]
    },
    {
     "name": "stderr",
     "output_type": "stream",
     "text": [
      " 81%|████████  | 14207/17558 [06:17<00:57, 58.31it/s]"
     ]
    },
    {
     "name": "stdout",
     "output_type": "stream",
     "text": [
      "316\n"
     ]
    },
    {
     "name": "stderr",
     "output_type": "stream",
     "text": [
      " 81%|████████▏ | 14309/17558 [06:20<01:04, 50.67it/s]"
     ]
    },
    {
     "name": "stdout",
     "output_type": "stream",
     "text": [
      "318\n"
     ]
    },
    {
     "name": "stderr",
     "output_type": "stream",
     "text": [
      " 83%|████████▎ | 14501/17558 [06:26<02:21, 21.68it/s]"
     ]
    },
    {
     "name": "stdout",
     "output_type": "stream",
     "text": [
      "318\n"
     ]
    },
    {
     "name": "stderr",
     "output_type": "stream",
     "text": [
      " 83%|████████▎ | 14606/17558 [06:28<01:06, 44.08it/s]"
     ]
    },
    {
     "name": "stdout",
     "output_type": "stream",
     "text": [
      "319\n"
     ]
    },
    {
     "name": "stderr",
     "output_type": "stream",
     "text": [
      " 84%|████████▎ | 14704/17558 [06:30<00:40, 70.56it/s]"
     ]
    },
    {
     "name": "stdout",
     "output_type": "stream",
     "text": [
      "319\n"
     ]
    },
    {
     "name": "stderr",
     "output_type": "stream",
     "text": [
      " 84%|████████▍ | 14810/17558 [06:32<01:30, 30.46it/s]"
     ]
    },
    {
     "name": "stdout",
     "output_type": "stream",
     "text": [
      "319\n"
     ]
    },
    {
     "name": "stderr",
     "output_type": "stream",
     "text": [
      " 85%|████████▍ | 14912/17558 [06:34<00:34, 77.00it/s]"
     ]
    },
    {
     "name": "stdout",
     "output_type": "stream",
     "text": [
      "320\n"
     ]
    },
    {
     "name": "stderr",
     "output_type": "stream",
     "text": [
      " 85%|████████▌ | 15000/17558 [06:37<01:33, 27.34it/s]"
     ]
    },
    {
     "name": "stdout",
     "output_type": "stream",
     "text": [
      "320\n"
     ]
    },
    {
     "name": "stderr",
     "output_type": "stream",
     "text": [
      " 86%|████████▌ | 15101/17558 [06:39<00:57, 42.55it/s]"
     ]
    },
    {
     "name": "stdout",
     "output_type": "stream",
     "text": [
      "320\n"
     ]
    },
    {
     "name": "stderr",
     "output_type": "stream",
     "text": [
      " 87%|████████▋ | 15212/17558 [06:43<00:50, 46.26it/s]"
     ]
    },
    {
     "name": "stdout",
     "output_type": "stream",
     "text": [
      "320\n"
     ]
    },
    {
     "name": "stderr",
     "output_type": "stream",
     "text": [
      " 87%|████████▋ | 15299/17558 [06:46<01:03, 35.65it/s]"
     ]
    },
    {
     "name": "stdout",
     "output_type": "stream",
     "text": [
      "321\n"
     ]
    },
    {
     "name": "stderr",
     "output_type": "stream",
     "text": [
      " 88%|████████▊ | 15418/17558 [06:48<00:30, 70.20it/s]"
     ]
    },
    {
     "name": "stdout",
     "output_type": "stream",
     "text": [
      "321\n"
     ]
    },
    {
     "name": "stderr",
     "output_type": "stream",
     "text": [
      " 88%|████████▊ | 15509/17558 [06:50<00:38, 52.69it/s]"
     ]
    },
    {
     "name": "stdout",
     "output_type": "stream",
     "text": [
      "321\n"
     ]
    },
    {
     "name": "stderr",
     "output_type": "stream",
     "text": [
      " 89%|████████▉ | 15596/17558 [06:53<01:43, 18.87it/s]"
     ]
    },
    {
     "name": "stdout",
     "output_type": "stream",
     "text": [
      "321\n"
     ]
    },
    {
     "name": "stderr",
     "output_type": "stream",
     "text": [
      " 89%|████████▉ | 15706/17558 [06:56<00:48, 38.10it/s]"
     ]
    },
    {
     "name": "stdout",
     "output_type": "stream",
     "text": [
      "321\n"
     ]
    },
    {
     "name": "stderr",
     "output_type": "stream",
     "text": [
      " 90%|█████████ | 15808/17558 [06:59<00:31, 54.86it/s]"
     ]
    },
    {
     "name": "stdout",
     "output_type": "stream",
     "text": [
      "322\n"
     ]
    },
    {
     "name": "stderr",
     "output_type": "stream",
     "text": [
      " 91%|█████████ | 15900/17558 [07:01<00:37, 44.66it/s]"
     ]
    },
    {
     "name": "stdout",
     "output_type": "stream",
     "text": [
      "322\n"
     ]
    },
    {
     "name": "stderr",
     "output_type": "stream",
     "text": [
      " 91%|█████████ | 16011/17558 [07:05<00:50, 30.41it/s]"
     ]
    },
    {
     "name": "stdout",
     "output_type": "stream",
     "text": [
      "322\n"
     ]
    },
    {
     "name": "stderr",
     "output_type": "stream",
     "text": [
      " 92%|█████████▏| 16099/17558 [07:07<00:22, 64.86it/s]"
     ]
    },
    {
     "name": "stdout",
     "output_type": "stream",
     "text": [
      "322\n"
     ]
    },
    {
     "name": "stderr",
     "output_type": "stream",
     "text": [
      " 92%|█████████▏| 16208/17558 [07:10<00:37, 35.78it/s]"
     ]
    },
    {
     "name": "stdout",
     "output_type": "stream",
     "text": [
      "322\n"
     ]
    },
    {
     "name": "stderr",
     "output_type": "stream",
     "text": [
      " 93%|█████████▎| 16406/17558 [07:16<00:24, 47.29it/s]"
     ]
    },
    {
     "name": "stdout",
     "output_type": "stream",
     "text": [
      "322\n"
     ]
    },
    {
     "name": "stderr",
     "output_type": "stream",
     "text": [
      " 94%|█████████▍| 16495/17558 [07:18<00:29, 36.60it/s]"
     ]
    },
    {
     "name": "stdout",
     "output_type": "stream",
     "text": [
      "322\n"
     ]
    },
    {
     "name": "stderr",
     "output_type": "stream",
     "text": [
      " 95%|█████████▍| 16614/17558 [07:22<00:17, 52.45it/s]"
     ]
    },
    {
     "name": "stdout",
     "output_type": "stream",
     "text": [
      "322\n"
     ]
    },
    {
     "name": "stderr",
     "output_type": "stream",
     "text": [
      " 95%|█████████▌| 16709/17558 [07:25<00:19, 43.13it/s]"
     ]
    },
    {
     "name": "stdout",
     "output_type": "stream",
     "text": [
      "322\n"
     ]
    },
    {
     "name": "stderr",
     "output_type": "stream",
     "text": [
      " 96%|█████████▌| 16805/17558 [07:28<00:20, 36.27it/s]"
     ]
    },
    {
     "name": "stdout",
     "output_type": "stream",
     "text": [
      "322\n"
     ]
    },
    {
     "name": "stderr",
     "output_type": "stream",
     "text": [
      " 96%|█████████▋| 16903/17558 [07:30<00:12, 52.97it/s]"
     ]
    },
    {
     "name": "stdout",
     "output_type": "stream",
     "text": [
      "322\n"
     ]
    },
    {
     "name": "stderr",
     "output_type": "stream",
     "text": [
      " 97%|█████████▋| 17003/17558 [07:32<00:12, 43.07it/s]"
     ]
    },
    {
     "name": "stdout",
     "output_type": "stream",
     "text": [
      "322\n"
     ]
    },
    {
     "name": "stderr",
     "output_type": "stream",
     "text": [
      " 97%|█████████▋| 17101/17558 [07:36<00:10, 45.57it/s]"
     ]
    },
    {
     "name": "stdout",
     "output_type": "stream",
     "text": [
      "322\n"
     ]
    },
    {
     "name": "stderr",
     "output_type": "stream",
     "text": [
      " 98%|█████████▊| 17197/17558 [07:38<00:05, 62.65it/s]"
     ]
    },
    {
     "name": "stdout",
     "output_type": "stream",
     "text": [
      "322\n"
     ]
    },
    {
     "name": "stderr",
     "output_type": "stream",
     "text": [
      " 99%|█████████▊| 17297/17558 [07:41<00:11, 22.82it/s]"
     ]
    },
    {
     "name": "stdout",
     "output_type": "stream",
     "text": [
      "322\n"
     ]
    },
    {
     "name": "stderr",
     "output_type": "stream",
     "text": [
      " 99%|█████████▉| 17409/17558 [07:44<00:02, 63.97it/s]"
     ]
    },
    {
     "name": "stdout",
     "output_type": "stream",
     "text": [
      "322\n"
     ]
    },
    {
     "name": "stderr",
     "output_type": "stream",
     "text": [
      "100%|█████████▉| 17501/17558 [07:46<00:01, 39.73it/s]"
     ]
    },
    {
     "name": "stdout",
     "output_type": "stream",
     "text": [
      "322\n"
     ]
    },
    {
     "name": "stderr",
     "output_type": "stream",
     "text": [
      "100%|██████████| 17558/17558 [07:47<00:00, 37.58it/s]"
     ]
    },
    {
     "name": "stdout",
     "output_type": "stream",
     "text": [
      "Loaded 322 tasks.\n"
     ]
    },
    {
     "name": "stderr",
     "output_type": "stream",
     "text": [
      "\n"
     ]
    }
   ],
   "source": [
    "dataset = ClevrRelationDataset(image_dir=\"/dfs/user/tailin/.results/CLEVR_relation/mpi/combined/images\", question_dir=\"/dfs/user/tailin/.results/CLEVR_relation/mpi/combined\")"
   ]
  },
  {
   "cell_type": "code",
   "execution_count": 39,
   "metadata": {},
   "outputs": [
    {
     "name": "stdout",
     "output_type": "stream",
     "text": [
      "same_color-size=small,shape=cylinder+same_material-size=large,shape=cube\n",
      "What is the object with the same_material as the large cube and the same_color as the small cylinder?\n"
     ]
    },
    {
     "data": {
      "image/png": "[encoded data removed]",
      "text/plain": [
       "<Figure size 1080x1080 with 10 Axes>"
      ]
     },
     "metadata": {
      "needs_background": "light"
     },
     "output_type": "display_data"
    }
   ],
   "source": [
    "# Visualize the dataset\n",
    "\n",
    "import matplotlib.pyplot as plt\n",
    "\n",
    "# Find a compound task\n",
    "for el in dataset:\n",
    "    if \"+\" in el[\"task_str\"]:\n",
    "        break\n",
    "else:\n",
    "    assert False\n",
    "    \n",
    "print(el[\"task_str\"])\n",
    "print(el[\"questions\"][0][\"question\"])\n",
    "\n",
    "plt.figure(figsize=(15,15)) # specifying the overall grid size\n",
    "\n",
    "for i in range(len(el[\"inputs\"])):\n",
    "    plt.subplot(len(el[\"inputs\"]),2, 2 * i + 1)\n",
    "    plt.imshow(el[\"inputs\"][i][\"image\"].permute(1, 2, 0))\n",
    "    plt.subplot(len(el[\"inputs\"]),2, 2 * i + 2)\n",
    "    plt.imshow(el[\"outputs\"][i].permute(1, 2, 0))\n",
    "\n",
    "plt.show()"
   ]
  },
  {
   "cell_type": "code",
   "execution_count": 12,
   "metadata": {},
   "outputs": [
    {
     "data": {
      "text/plain": [
       "<matplotlib.image.AxesImage at 0x7f95f04b4940>"
      ]
     },
     "execution_count": 12,
     "metadata": {},
     "output_type": "execute_result"
    },
    {
     "data": {
      "image/png": "[encoded data removed]",
      "text/plain": [
       "<Figure size 432x288 with 1 Axes>"
      ]
     },
     "metadata": {
      "needs_background": "light"
     },
     "output_type": "display_data"
    }
   ],
   "source": [
    "from PIL import Image\n",
    "plt.imshow(Image.open(\"/dfs/user/tailin/.results/CLEVR_relation/test1/0/images/CLEVR_new_000000.png\"))"
   ]
  },
  {
   "cell_type": "code",
   "execution_count": 43,
   "metadata": {},
   "outputs": [],
   "source": [
    "dataset.pickle(\"relations-dataset-322.pgz\")"
   ]
  },
  {
   "cell_type": "code",
   "execution_count": 50,
   "metadata": {},
   "outputs": [
    {
     "name": "stdout",
     "output_type": "stream",
     "text": [
      "Loaded 322 tasks.\n"
     ]
    }
   ],
   "source": [
    "dataset = ClevrRelationDataset(pickle_file=\"/dfs/user/tailin/.results/CLEVR_relation/relations-dataset-322.pgz\")"
   ]
  }
 ],
 "metadata": {
  "interpreter": {
   "hash": "3d2dacc064747ccf5a7e2031124a80593e03522bafa0847806ebfa439418c2d0"
  },
  "kernelspec": {
   "display_name": "Python 3",
   "language": "python",
   "name": "python3"
  },
  "language_info": {
   "codemirror_mode": {
    "name": "ipython",
    "version": 3
   },
   "file_extension": ".py",
   "mimetype": "text/x-python",
   "name": "python",
   "nbconvert_exporter": "python",
   "pygments_lexer": "ipython3",
   "version": "3.7.0"
  }
 },
 "nbformat": 4,
 "nbformat_minor": 4
}
