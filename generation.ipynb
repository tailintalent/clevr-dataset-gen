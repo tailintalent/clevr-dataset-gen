{
 "cells": [
  {
   "cell_type": "markdown",
   "metadata": {},
   "source": [
    "This notebook tests the generation of the CLEVR with masks dataset."
   ]
  },
  {
   "cell_type": "markdown",
   "metadata": {},
   "source": [
    "# Image generation (example)"
   ]
  },
  {
   "cell_type": "code",
   "execution_count": null,
   "metadata": {
    "scrolled": true,
    "tags": []
   },
   "outputs": [],
   "source": [
    "%cd image_generation\n",
    "!./blender/blender --background \\\n",
    "    --python render_images.py -- \\\n",
    "    --num_images 10 --use_gpu 1 --min_objects 2 --max_objects 6\n",
    "%cd .."
   ]
  },
  {
   "cell_type": "markdown",
   "metadata": {},
   "source": [
    "# Single CLEVR_scenes.json generation"
   ]
  },
  {
   "cell_type": "code",
   "execution_count": null,
   "metadata": {
    "scrolled": true,
    "tags": []
   },
   "outputs": [],
   "source": [
    "%cd image_generation\n",
    "!python collect_scenes.py --date \"$(date)\" \\\n",
    "    --input_dir /dfs/user/tailin/.results/CLEVR_relation/clevr-relation-easy-mpi-0-100000/scenes \\\n",
    "--output /dfs/user/tailin/.results/CLEVR_relation/clevr-relation-easy-mpi-0-100000/partial/CLEVR_scenes.json\n",
    "%cd .."
   ]
  },
  {
   "cell_type": "markdown",
   "metadata": {},
   "source": [
    "# Question template generation"
   ]
  },
  {
   "cell_type": "code",
   "execution_count": null,
   "metadata": {},
   "outputs": [],
   "source": [
    "!pip install pyjson5"
   ]
  },
  {
   "cell_type": "code",
   "execution_count": null,
   "metadata": {},
   "outputs": [],
   "source": [
    "%cd relation_generator\n",
    "!python generate_relations.py\n",
    "%cd .."
   ]
  },
  {
   "cell_type": "markdown",
   "metadata": {},
   "source": [
    "# Question generation"
   ]
  },
  {
   "cell_type": "code",
   "execution_count": null,
   "metadata": {
    "scrolled": true,
    "tags": []
   },
   "outputs": [],
   "source": [
    "%cd question_generation/\n",
    "!python generate_questions.py \\\n",
    "    --input_scene_file /dfs/user/tailin/.results/CLEVR_relation/mpi-0-10000/CLEVR_scenes.json \\\n",
    "    --output_questions_file ./questions.json \\\n",
    "    --template_dir babyarc_easy --max-num-objects 6\n",
    "%cd .."
   ]
  },
  {
   "cell_type": "markdown",
   "metadata": {},
   "source": [
    "# Question analysis"
   ]
  },
  {
   "cell_type": "code",
   "execution_count": null,
   "metadata": {},
   "outputs": [],
   "source": [
    "from collections import defaultdict\n",
    "import json\n",
    "from typing import List\n",
    "\n",
    "from relation_generator.generate_relations import RELATIONS\n",
    "\n",
    "def get_unique_task_string(program: List[str]):\n",
    "    \"\"\"\n",
    "    Parses the program for a given question and returns a unique string that identifies the \n",
    "    babyARC task that it embodies.\n",
    "\n",
    "    This function is somewhat hacky in that it doesn't deal with the AST directly, but it\n",
    "    works for the generated babyARC template programs.\n",
    "    \"\"\"\n",
    "    inputs = []\n",
    "    object_str = []\n",
    "    for node in program:\n",
    "        # Generate a new object str every time we see a new \"scene\" (which implies\n",
    "        # a new object)\n",
    "        if node[\"type\"] == \"scene\":\n",
    "            if len(object_str) != 0:\n",
    "                inputs.append(\",\".join(object_str))\n",
    "                object_str = []\n",
    "            continue\n",
    "\n",
    "        # If we're not at a scene, then we're in the middle of an object\n",
    "        if node[\"type\"].startswith(\"filter_\"):\n",
    "            # This node filters some property of the input. Let's consider it.\n",
    "            object_str.append(node[\"type\"][7:] + \"=\" + node[\"value_inputs\"][0])\n",
    "    inputs.append(\",\".join(object_str))\n",
    "    relations = sorted([node[\"type\"] for node in program if node[\"type\"] in RELATIONS])\n",
    "    \n",
    "    return \"+\".join(relations) + \"-\" + \";\".join(inputs)\n",
    "\n",
    "\n",
    "# Load the question data\n",
    "file = \"question_generation/questions.json\"\n",
    "with open(file) as f:\n",
    "    data = json.load(f)\n",
    "question_list = data[\"questions\"]\n",
    "\n",
    "observed_question_types = dict()\n",
    "\n",
    "# Count the number of times each question type occurs\n",
    "for question in question_list:\n",
    "    template_filename = question[\"template_filename\"]\n",
    "    question_family_index = question[\"question_family_index\"]\n",
    "    program = question[\"program\"]\n",
    "    image = question[\"image\"]\n",
    "\n",
    "    task_str = get_unique_task_string(program)\n",
    "\n",
    "    if task_str not in observed_question_types:\n",
    "        observed_question_types[task_str] = {\"count\": 0, \"questions\": [], \"images\": []}\n",
    "    \n",
    "    observed_question_types[task_str][\"count\"] += 1\n",
    "    observed_question_types[task_str][\"questions\"].append(question)\n",
    "    observed_question_types[task_str][\"images\"].append(image)\n",
    "for task_str, data in observed_question_types.items():\n",
    "    print(\"{} - {}\".format(task_str, data[\"count\"]))"
   ]
  },
  {
   "cell_type": "code",
   "execution_count": null,
   "metadata": {},
   "outputs": [],
   "source": [
    "import pandas as pd\n",
    "\n",
    "df = pd.DataFrame.from_dict(observed_question_types, orient='index')"
   ]
  },
  {
   "cell_type": "code",
   "execution_count": null,
   "metadata": {},
   "outputs": [],
   "source": [
    "df.sort_values(by=[\"count\"], ascending=False).images[0]"
   ]
  },
  {
   "cell_type": "code",
   "execution_count": null,
   "metadata": {},
   "outputs": [],
   "source": [
    "observed_question_types[\"same_size-size=large,color=purple,material=metal\"]"
   ]
  },
  {
   "cell_type": "markdown",
   "metadata": {},
   "source": [
    "# Dataset"
   ]
  },
  {
   "cell_type": "code",
   "execution_count": 1,
   "metadata": {},
   "outputs": [],
   "source": [
    "%load_ext autoreload\n",
    "%autoreload 2"
   ]
  },
  {
   "cell_type": "code",
   "execution_count": 7,
   "metadata": {},
   "outputs": [],
   "source": [
    "from dataset import ClevrRelationDataset"
   ]
  },
  {
   "cell_type": "code",
   "execution_count": null,
   "metadata": {},
   "outputs": [],
   "source": [
    "dataset = ClevrRelationDataset(image_dir=\"/dfs/user/tailin/.results/CLEVR_relation/mpi-0-10000/images\",\n",
    "                               question_dir=\"/dfs/user/tailin/.results/CLEVR_relation/mpi-0-10000\",\n",
    "                               output_type=\"full-color\")"
   ]
  },
  {
   "cell_type": "code",
   "execution_count": null,
   "metadata": {},
   "outputs": [],
   "source": [
    "dataset.save(\"/dfs/user/tailin/.results/CLEVR_relation/relations-dataset-2021-08-18-608-tasks.pt\")"
   ]
  },
  {
   "cell_type": "code",
   "execution_count": null,
   "metadata": {},
   "outputs": [],
   "source": [
    "dataset = ClevrRelationDataset(image_dir=\"/dfs/user/tailin/.results/CLEVR_relation/mpi-0-10000/images\",\n",
    "                              question_dir=\"./question_generation/\")"
   ]
  },
  {
   "cell_type": "code",
   "execution_count": null,
   "metadata": {},
   "outputs": [],
   "source": []
  },
  {
   "cell_type": "code",
   "execution_count": null,
   "metadata": {},
   "outputs": [],
   "source": [
    "# Visualize the dataset\n",
    "\n",
    "import matplotlib.pyplot as plt\n",
    "\n",
    "el = dataset[-3]\n",
    "\n",
    "# Find a compound task\n",
    "# for el in dataset:\n",
    "#     if \"+\" in el[\"task_str\"]:\n",
    "#         break\n",
    "# else:\n",
    "#     assert False\n",
    "    \n",
    "print(el[\"task_str\"])\n",
    "# print(el[\"questions\"][0][\"question\"])a\n",
    "\n",
    "plt.figure(figsize=(15,50)) # specifying the overall grid size\n",
    "\n",
    "for i in range(min(len(el[\"inputs\"]), 5)):\n",
    "    plt.subplot(len(el[\"inputs\"]),2, 2 * i + 1)\n",
    "    plt.imshow(el[\"inputs\"][i][\"image\"].permute(1, 2, 0))\n",
    "    plt.subplot(len(el[\"inputs\"]),2, 2 * i + 2)\n",
    "    plt.imshow(el[\"outputs\"][i].permute(1, 2, 0))\n",
    "\n",
    "plt.show()"
   ]
  },
  {
   "cell_type": "code",
   "execution_count": null,
   "metadata": {},
   "outputs": [],
   "source": [
    "from PIL import Image\n",
    "plt.imshow(Image.open(\"/dfs/user/tailin/.results/CLEVR_relation/test1/0/images/CLEVR_new_000000.png\"))"
   ]
  },
  {
   "cell_type": "markdown",
   "metadata": {},
   "source": [
    "# CLEVR relation \"easy\" dataset"
   ]
  },
  {
   "cell_type": "markdown",
   "metadata": {},
   "source": [
    "## Partial dataset"
   ]
  },
  {
   "cell_type": "markdown",
   "metadata": {},
   "source": [
    "### Question generation"
   ]
  },
  {
   "cell_type": "code",
   "execution_count": null,
   "metadata": {},
   "outputs": [],
   "source": [
    "%cd question_generation/\n",
    "!python generate_questions.py \\\n",
    "    --input_scene_file /dfs/user/tailin/.results/CLEVR_relation/clevr-relation-easy-mpi-0-100000/partial/CLEVR_scenes.json \\\n",
    "    --output_questions_file /dfs/user/tailin/.results/CLEVR_relation/clevr-relation-easy-mpi-100000/partial/questions.json \\\n",
    "    --template_dir babyarc_easy --max-num-objects 6\n",
    "%cd .."
   ]
  },
  {
   "cell_type": "code",
   "execution_count": null,
   "metadata": {},
   "outputs": [],
   "source": [
    "dataset = ClevrRelationDataset(image_dir=\"/dfs/user/tailin/.results/CLEVR_relation/clevr-relation-easy-mpi-0-100000/images\",\n",
    "                               question_dir=\"/dfs/user/tailin/.results/CLEVR_relation/clevr-relation-easy-mpi-0-100000/partial\",\n",
    "                               output_type=\"full-color\")"
   ]
  },
  {
   "cell_type": "markdown",
   "metadata": {},
   "source": [
    "## Full dataset"
   ]
  },
  {
   "cell_type": "markdown",
   "metadata": {},
   "source": [
    "### Single CLEVR_scenes.json generation"
   ]
  },
  {
   "cell_type": "code",
   "execution_count": null,
   "metadata": {
    "scrolled": true,
    "tags": []
   },
   "outputs": [],
   "source": [
    "%cd image_generation\n",
    "!python collect_scenes.py --date \"$(date)\" \\\n",
    "    --input_dir /dfs/user/tailin/.results/CLEVR_relation/clevr-relation-easy-mpi-0-100000/scenes \\\n",
    "--output /dfs/user/tailin/.results/CLEVR_relation/clevr-relation-easy-mpi-0-100000/full/CLEVR_scenes.json\n",
    "%cd .."
   ]
  },
  {
   "cell_type": "code",
   "execution_count": null,
   "metadata": {},
   "outputs": [],
   "source": [
    "!mkdir /dfs/user/tailin/.results/CLEVR_relation/clevr-relation-easy-mpi-0-100000/full"
   ]
  },
  {
   "cell_type": "markdown",
   "metadata": {},
   "source": [
    "### Generate questions"
   ]
  },
  {
   "cell_type": "code",
   "execution_count": null,
   "metadata": {},
   "outputs": [],
   "source": [
    "%cd question_generation/\n",
    "!python generate_questions.py \\\n",
    "    --input_scene_file /dfs/user/tailin/.results/CLEVR_relation/mpi-0-10000/CLEVR_scenes.json \\\n",
    "    --output_questions_file /dfs/user/tailin/.results/CLEVR_relation/mpi-0-10000/easy-questions/questions.json \\\n",
    "    --template_dir babyarc_easy --max-num-objects 6\n",
    "%cd .."
   ]
  },
  {
   "cell_type": "markdown",
   "metadata": {},
   "source": [
    "### Test dataset"
   ]
  },
  {
   "cell_type": "code",
   "execution_count": null,
   "metadata": {},
   "outputs": [
    {
     "name": "stderr",
     "output_type": "stream",
     "text": [
      " 74%|███████▍  | 2106/2850 [35:48<09:12,  1.35it/s]"
     ]
    }
   ],
   "source": [
    "dataset = ClevrRelationDataset(image_dir=\"/dfs/user/tailin/.results/CLEVR_relation/mpi-0-10000/images\",\n",
    "                               question_dir=\"/dfs/user/tailin/.results/CLEVR_relation/mpi-0-10000/easy-questions\",\n",
    "                               output_type=\"mask-only\", is_easy_dataset=True)"
   ]
  },
  {
   "cell_type": "code",
   "execution_count": 5,
   "metadata": {},
   "outputs": [
    {
     "ename": "NameError",
     "evalue": "name 'dataset' is not defined",
     "output_type": "error",
     "traceback": [
      "\u001b[0;31m---------------------------------------------------------------------------\u001b[0m",
      "\u001b[0;31mNameError\u001b[0m                                 Traceback (most recent call last)",
      "\u001b[0;32m<ipython-input-5-f9a056afa72b>\u001b[0m in \u001b[0;36m<module>\u001b[0;34m\u001b[0m\n\u001b[0;32m----> 1\u001b[0;31m \u001b[0mdataset\u001b[0m\u001b[0;34m.\u001b[0m\u001b[0msave\u001b[0m\u001b[0;34m(\u001b[0m\u001b[0;34m\"/dfs/user/tailin/.results/CLEVR_relation/relations-dataset-easy-2021-09-16-461-tasks.pt\"\u001b[0m\u001b[0;34m)\u001b[0m\u001b[0;34m\u001b[0m\u001b[0m\n\u001b[0m",
      "\u001b[0;31mNameError\u001b[0m: name 'dataset' is not defined"
     ]
    }
   ],
   "source": [
    "dataset.save(\"/dfs/user/tailin/.results/CLEVR_relation/relations-dataset-easy-2021-09-16-461-tasks.pt\")"
   ]
  },
  {
   "cell_type": "code",
   "execution_count": 12,
   "metadata": {},
   "outputs": [
    {
     "data": {
      "text/plain": [
       "461"
      ]
     },
     "execution_count": 12,
     "metadata": {},
     "output_type": "execute_result"
    }
   ],
   "source": [
    "len(dataset)"
   ]
  },
  {
   "cell_type": "markdown",
   "metadata": {},
   "source": [
    "# Helper functions"
   ]
  },
  {
   "cell_type": "code",
   "execution_count": 2,
   "metadata": {},
   "outputs": [
    {
     "name": "stdout",
     "output_type": "stream",
     "text": [
      "Loaded 608 tasks.\n"
     ]
    }
   ],
   "source": [
    "from dataset import create_full_dataset, create_easy_dataset\n",
    "\n",
    "train_set, val_set, test_set = create_full_dataset()\n",
    "assert len(train_set) + len(val_set) + len(test_set) == 608"
   ]
  },
  {
   "cell_type": "code",
   "execution_count": 3,
   "metadata": {},
   "outputs": [
    {
     "name": "stdout",
     "output_type": "stream",
     "text": [
      "Loaded 461 tasks.\n"
     ]
    }
   ],
   "source": [
    "train_set, val_set, test_set = create_easy_dataset()\n",
    "assert len(train_set) + len(val_set) + len(test_set) == 461"
   ]
  }
 ],
 "metadata": {
  "interpreter": {
   "hash": "bee05c86b0be2f6a036fe9b09fb1b4e7e005530012835c1d363200e0b61ad98b"
  },
  "kernelspec": {
   "display_name": "Python 3",
   "language": "python",
   "name": "python3"
  },
  "language_info": {
   "codemirror_mode": {
    "name": "ipython",
    "version": 3
   },
   "file_extension": ".py",
   "mimetype": "text/x-python",
   "name": "python",
   "nbconvert_exporter": "python",
   "pygments_lexer": "ipython3",
   "version": "3.7.0"
  }
 },
 "nbformat": 4,
 "nbformat_minor": 4
}
